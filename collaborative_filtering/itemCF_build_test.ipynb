{
 "cells": [
  {
   "cell_type": "code",
   "execution_count": 3,
   "metadata": {
    "execution": {
     "iopub.execute_input": "2023-09-30T15:36:25.257907Z",
     "iopub.status.busy": "2023-09-30T15:36:25.257451Z",
     "iopub.status.idle": "2023-09-30T15:36:58.644355Z",
     "shell.execute_reply": "2023-09-30T15:36:58.643105Z",
     "shell.execute_reply.started": "2023-09-30T15:36:25.257872Z"
    }
   },
   "outputs": [
    {
     "name": "stdout",
     "output_type": "stream",
     "text": [
      "Collecting lenskit\n",
      "  Downloading lenskit-0.14.2-py3-none-any.whl (74 kB)\n",
      "\u001b[2K     \u001b[90m━━━━━━━━━━━━━━━━━━━━━━━━━━━━━━━━━━━━━━━━\u001b[0m \u001b[32m74.0/74.0 kB\u001b[0m \u001b[31m2.3 MB/s\u001b[0m eta \u001b[36m0:00:00\u001b[0m\n",
      "\u001b[?25hCollecting pandas==1.*,>=1.0 (from lenskit)\n",
      "  Downloading pandas-1.5.3-cp310-cp310-manylinux_2_17_x86_64.manylinux2014_x86_64.whl (12.1 MB)\n",
      "\u001b[2K     \u001b[90m━━━━━━━━━━━━━━━━━━━━━━━━━━━━━━━━━━━━━━━━\u001b[0m \u001b[32m12.1/12.1 MB\u001b[0m \u001b[31m37.9 MB/s\u001b[0m eta \u001b[36m0:00:00\u001b[0m00:01\u001b[0m00:01\u001b[0m\n",
      "\u001b[?25hRequirement already satisfied: numpy>=1.17 in /opt/conda/lib/python3.10/site-packages (from lenskit) (1.23.5)\n",
      "Requirement already satisfied: scipy>=1.2 in /opt/conda/lib/python3.10/site-packages (from lenskit) (1.11.2)\n",
      "Collecting numba<0.57,>=0.51 (from lenskit)\n",
      "  Downloading numba-0.56.4-cp310-cp310-manylinux2014_x86_64.manylinux_2_17_x86_64.whl (3.5 MB)\n",
      "\u001b[2K     \u001b[90m━━━━━━━━━━━━━━━━━━━━━━━━━━━━━━━━━━━━━━━━\u001b[0m \u001b[32m3.5/3.5 MB\u001b[0m \u001b[31m56.8 MB/s\u001b[0m eta \u001b[36m0:00:00\u001b[0m:00:01\u001b[0m\n",
      "\u001b[?25hRequirement already satisfied: cffi>=1.12.2 in /opt/conda/lib/python3.10/site-packages (from lenskit) (1.15.1)\n",
      "Requirement already satisfied: psutil>=5 in /opt/conda/lib/python3.10/site-packages (from lenskit) (5.9.3)\n",
      "Collecting binpickle>=0.3.2 (from lenskit)\n",
      "  Downloading binpickle-0.3.4-py3-none-any.whl (13 kB)\n",
      "Collecting seedbank>=0.1.0 (from lenskit)\n",
      "  Downloading seedbank-0.1.3-py3-none-any.whl (8.5 kB)\n",
      "Collecting csr>=0.3.1 (from lenskit)\n",
      "  Downloading csr-0.5.1-py3-none-any.whl (25 kB)\n",
      "Requirement already satisfied: python-dateutil>=2.8.1 in /opt/conda/lib/python3.10/site-packages (from pandas==1.*,>=1.0->lenskit) (2.8.2)\n",
      "Requirement already satisfied: pytz>=2020.1 in /opt/conda/lib/python3.10/site-packages (from pandas==1.*,>=1.0->lenskit) (2023.3)\n",
      "Requirement already satisfied: msgpack>=1.0 in /opt/conda/lib/python3.10/site-packages (from binpickle>=0.3.2->lenskit) (1.0.5)\n",
      "Requirement already satisfied: pycparser in /opt/conda/lib/python3.10/site-packages (from cffi>=1.12.2->lenskit) (2.21)\n",
      "Collecting llvmlite<0.40,>=0.39.0dev0 (from numba<0.57,>=0.51->lenskit)\n",
      "  Downloading llvmlite-0.39.1-cp310-cp310-manylinux_2_17_x86_64.manylinux2014_x86_64.whl (34.6 MB)\n",
      "\u001b[2K     \u001b[90m━━━━━━━━━━━━━━━━━━━━━━━━━━━━━━━━━━━━━━━━\u001b[0m \u001b[32m34.6/34.6 MB\u001b[0m \u001b[31m4.5 MB/s\u001b[0m eta \u001b[36m0:00:00\u001b[0m00:01\u001b[0m00:01\u001b[0mm\n",
      "\u001b[?25hRequirement already satisfied: setuptools in /opt/conda/lib/python3.10/site-packages (from numba<0.57,>=0.51->lenskit) (68.0.0)\n",
      "Collecting anyconfig==0.13.* (from seedbank>=0.1.0->lenskit)\n",
      "  Downloading anyconfig-0.13.0-py2.py3-none-any.whl (87 kB)\n",
      "\u001b[2K     \u001b[90m━━━━━━━━━━━━━━━━━━━━━━━━━━━━━━━━━━━━━━━━\u001b[0m \u001b[32m87.8/87.8 kB\u001b[0m \u001b[31m6.5 MB/s\u001b[0m eta \u001b[36m0:00:00\u001b[0m\n",
      "\u001b[?25hRequirement already satisfied: six>=1.5 in /opt/conda/lib/python3.10/site-packages (from python-dateutil>=2.8.1->pandas==1.*,>=1.0->lenskit) (1.16.0)\n",
      "Installing collected packages: llvmlite, binpickle, anyconfig, seedbank, pandas, numba, csr, lenskit\n",
      "  Attempting uninstall: llvmlite\n",
      "    Found existing installation: llvmlite 0.40.1\n",
      "    Uninstalling llvmlite-0.40.1:\n",
      "      Successfully uninstalled llvmlite-0.40.1\n",
      "  Attempting uninstall: pandas\n",
      "    Found existing installation: pandas 2.0.3\n",
      "    Uninstalling pandas-2.0.3:\n",
      "      Successfully uninstalled pandas-2.0.3\n",
      "  Attempting uninstall: numba\n",
      "    Found existing installation: numba 0.57.1\n",
      "    Uninstalling numba-0.57.1:\n",
      "      Successfully uninstalled numba-0.57.1\n",
      "\u001b[31mERROR: pip's dependency resolver does not currently take into account all the packages that are installed. This behaviour is the source of the following dependency conflicts.\n",
      "beatrix-jupyterlab 2023.621.222118 requires jupyter-server~=1.16, but you have jupyter-server 2.6.0 which is incompatible.\n",
      "fitter 1.6.0 requires pandas<3.0.0,>=2.0.3, but you have pandas 1.5.3 which is incompatible.\n",
      "momepy 0.6.0 requires shapely>=2, but you have shapely 1.8.5.post1 which is incompatible.\n",
      "pymc3 3.11.5 requires numpy<1.22.2,>=1.15.0, but you have numpy 1.23.5 which is incompatible.\n",
      "pymc3 3.11.5 requires scipy<1.8.0,>=1.7.3, but you have scipy 1.11.2 which is incompatible.\n",
      "ydata-profiling 4.3.1 requires scipy<1.11,>=1.4.1, but you have scipy 1.11.2 which is incompatible.\u001b[0m\u001b[31m\n",
      "\u001b[0mSuccessfully installed anyconfig-0.13.0 binpickle-0.3.4 csr-0.5.1 lenskit-0.14.2 llvmlite-0.39.1 numba-0.56.4 pandas-1.5.3 seedbank-0.1.3\n"
     ]
    }
   ],
   "source": [
    "!pip install lenskit "
   ]
  },
  {
   "cell_type": "code",
   "execution_count": 2,
   "metadata": {
    "execution": {
     "iopub.execute_input": "2023-09-30T16:58:48.170873Z",
     "iopub.status.busy": "2023-09-30T16:58:48.170404Z",
     "iopub.status.idle": "2023-09-30T16:58:48.177621Z",
     "shell.execute_reply": "2023-09-30T16:58:48.175842Z",
     "shell.execute_reply.started": "2023-09-30T16:58:48.170840Z"
    }
   },
   "outputs": [],
   "source": [
    "import pandas as pd\n",
    "\n",
    "from lenskit.algorithms import Recommender\n",
    "from lenskit.algorithms.user_knn import UserUser\n",
    "from lenskit.algorithms.item_knn import ItemItem\n",
    "\n",
    "from sklearn.model_selection import train_test_split, KFold\n",
    "\n",
    "import numpy as np\n",
    "import statistics\n",
    "\n",
    "import pickle"
   ]
  },
  {
   "cell_type": "code",
   "execution_count": 3,
   "metadata": {
    "execution": {
     "iopub.execute_input": "2023-09-30T17:01:03.829621Z",
     "iopub.status.busy": "2023-09-30T17:01:03.829094Z",
     "iopub.status.idle": "2023-09-30T17:01:16.379320Z",
     "shell.execute_reply": "2023-09-30T17:01:16.377951Z",
     "shell.execute_reply.started": "2023-09-30T17:01:03.829559Z"
    }
   },
   "outputs": [
    {
     "ename": "FileNotFoundError",
     "evalue": "[Errno 2] No such file or directory: 'data/user_ratings.csv'",
     "output_type": "error",
     "traceback": [
      "\u001b[1;31m---------------------------------------------------------------------------\u001b[0m",
      "\u001b[1;31mFileNotFoundError\u001b[0m                         Traceback (most recent call last)",
      "Cell \u001b[1;32mIn[3], line 3\u001b[0m\n\u001b[0;32m      1\u001b[0m data_folder \u001b[38;5;241m=\u001b[39m \u001b[38;5;124m'\u001b[39m\u001b[38;5;124mdata/\u001b[39m\u001b[38;5;124m'\u001b[39m\n\u001b[1;32m----> 3\u001b[0m item_ratings_df \u001b[38;5;241m=\u001b[39m \u001b[43mpd\u001b[49m\u001b[38;5;241;43m.\u001b[39;49m\u001b[43mread_csv\u001b[49m\u001b[43m(\u001b[49m\u001b[43mdata_folder\u001b[49m\u001b[43m \u001b[49m\u001b[38;5;241;43m+\u001b[39;49m\u001b[43m \u001b[49m\u001b[38;5;124;43m'\u001b[39;49m\u001b[38;5;124;43muser_ratings.csv\u001b[39;49m\u001b[38;5;124;43m'\u001b[39;49m\u001b[43m)\u001b[49m\n\u001b[0;32m      4\u001b[0m \u001b[38;5;66;03m# item_ratings_df = pd.read_csv(data_folder + 'user_ratings_600k.csv')\u001b[39;00m\n\u001b[0;32m      5\u001b[0m \u001b[38;5;66;03m# item_ratings_df = pd.read_csv(data_folder + 'user_ratings_1.8m.csv')\u001b[39;00m\n\u001b[0;32m      6\u001b[0m item_info \u001b[38;5;241m=\u001b[39m pd\u001b[38;5;241m.\u001b[39mread_csv(data_folder \u001b[38;5;241m+\u001b[39m \u001b[38;5;124m'\u001b[39m\u001b[38;5;124mgames.csv\u001b[39m\u001b[38;5;124m'\u001b[39m)\n",
      "File \u001b[1;32mE:\\anaconda3\\lib\\site-packages\\pandas\\util\\_decorators.py:311\u001b[0m, in \u001b[0;36mdeprecate_nonkeyword_arguments.<locals>.decorate.<locals>.wrapper\u001b[1;34m(*args, **kwargs)\u001b[0m\n\u001b[0;32m    305\u001b[0m \u001b[38;5;28;01mif\u001b[39;00m \u001b[38;5;28mlen\u001b[39m(args) \u001b[38;5;241m>\u001b[39m num_allow_args:\n\u001b[0;32m    306\u001b[0m     warnings\u001b[38;5;241m.\u001b[39mwarn(\n\u001b[0;32m    307\u001b[0m         msg\u001b[38;5;241m.\u001b[39mformat(arguments\u001b[38;5;241m=\u001b[39marguments),\n\u001b[0;32m    308\u001b[0m         \u001b[38;5;167;01mFutureWarning\u001b[39;00m,\n\u001b[0;32m    309\u001b[0m         stacklevel\u001b[38;5;241m=\u001b[39mstacklevel,\n\u001b[0;32m    310\u001b[0m     )\n\u001b[1;32m--> 311\u001b[0m \u001b[38;5;28;01mreturn\u001b[39;00m func(\u001b[38;5;241m*\u001b[39margs, \u001b[38;5;241m*\u001b[39m\u001b[38;5;241m*\u001b[39mkwargs)\n",
      "File \u001b[1;32mE:\\anaconda3\\lib\\site-packages\\pandas\\io\\parsers\\readers.py:586\u001b[0m, in \u001b[0;36mread_csv\u001b[1;34m(filepath_or_buffer, sep, delimiter, header, names, index_col, usecols, squeeze, prefix, mangle_dupe_cols, dtype, engine, converters, true_values, false_values, skipinitialspace, skiprows, skipfooter, nrows, na_values, keep_default_na, na_filter, verbose, skip_blank_lines, parse_dates, infer_datetime_format, keep_date_col, date_parser, dayfirst, cache_dates, iterator, chunksize, compression, thousands, decimal, lineterminator, quotechar, quoting, doublequote, escapechar, comment, encoding, encoding_errors, dialect, error_bad_lines, warn_bad_lines, on_bad_lines, delim_whitespace, low_memory, memory_map, float_precision, storage_options)\u001b[0m\n\u001b[0;32m    571\u001b[0m kwds_defaults \u001b[38;5;241m=\u001b[39m _refine_defaults_read(\n\u001b[0;32m    572\u001b[0m     dialect,\n\u001b[0;32m    573\u001b[0m     delimiter,\n\u001b[1;32m   (...)\u001b[0m\n\u001b[0;32m    582\u001b[0m     defaults\u001b[38;5;241m=\u001b[39m{\u001b[38;5;124m\"\u001b[39m\u001b[38;5;124mdelimiter\u001b[39m\u001b[38;5;124m\"\u001b[39m: \u001b[38;5;124m\"\u001b[39m\u001b[38;5;124m,\u001b[39m\u001b[38;5;124m\"\u001b[39m},\n\u001b[0;32m    583\u001b[0m )\n\u001b[0;32m    584\u001b[0m kwds\u001b[38;5;241m.\u001b[39mupdate(kwds_defaults)\n\u001b[1;32m--> 586\u001b[0m \u001b[38;5;28;01mreturn\u001b[39;00m \u001b[43m_read\u001b[49m\u001b[43m(\u001b[49m\u001b[43mfilepath_or_buffer\u001b[49m\u001b[43m,\u001b[49m\u001b[43m \u001b[49m\u001b[43mkwds\u001b[49m\u001b[43m)\u001b[49m\n",
      "File \u001b[1;32mE:\\anaconda3\\lib\\site-packages\\pandas\\io\\parsers\\readers.py:482\u001b[0m, in \u001b[0;36m_read\u001b[1;34m(filepath_or_buffer, kwds)\u001b[0m\n\u001b[0;32m    479\u001b[0m _validate_names(kwds\u001b[38;5;241m.\u001b[39mget(\u001b[38;5;124m\"\u001b[39m\u001b[38;5;124mnames\u001b[39m\u001b[38;5;124m\"\u001b[39m, \u001b[38;5;28;01mNone\u001b[39;00m))\n\u001b[0;32m    481\u001b[0m \u001b[38;5;66;03m# Create the parser.\u001b[39;00m\n\u001b[1;32m--> 482\u001b[0m parser \u001b[38;5;241m=\u001b[39m TextFileReader(filepath_or_buffer, \u001b[38;5;241m*\u001b[39m\u001b[38;5;241m*\u001b[39mkwds)\n\u001b[0;32m    484\u001b[0m \u001b[38;5;28;01mif\u001b[39;00m chunksize \u001b[38;5;129;01mor\u001b[39;00m iterator:\n\u001b[0;32m    485\u001b[0m     \u001b[38;5;28;01mreturn\u001b[39;00m parser\n",
      "File \u001b[1;32mE:\\anaconda3\\lib\\site-packages\\pandas\\io\\parsers\\readers.py:811\u001b[0m, in \u001b[0;36mTextFileReader.__init__\u001b[1;34m(self, f, engine, **kwds)\u001b[0m\n\u001b[0;32m    808\u001b[0m \u001b[38;5;28;01mif\u001b[39;00m \u001b[38;5;124m\"\u001b[39m\u001b[38;5;124mhas_index_names\u001b[39m\u001b[38;5;124m\"\u001b[39m \u001b[38;5;129;01min\u001b[39;00m kwds:\n\u001b[0;32m    809\u001b[0m     \u001b[38;5;28mself\u001b[39m\u001b[38;5;241m.\u001b[39moptions[\u001b[38;5;124m\"\u001b[39m\u001b[38;5;124mhas_index_names\u001b[39m\u001b[38;5;124m\"\u001b[39m] \u001b[38;5;241m=\u001b[39m kwds[\u001b[38;5;124m\"\u001b[39m\u001b[38;5;124mhas_index_names\u001b[39m\u001b[38;5;124m\"\u001b[39m]\n\u001b[1;32m--> 811\u001b[0m \u001b[38;5;28mself\u001b[39m\u001b[38;5;241m.\u001b[39m_engine \u001b[38;5;241m=\u001b[39m \u001b[38;5;28;43mself\u001b[39;49m\u001b[38;5;241;43m.\u001b[39;49m\u001b[43m_make_engine\u001b[49m\u001b[43m(\u001b[49m\u001b[38;5;28;43mself\u001b[39;49m\u001b[38;5;241;43m.\u001b[39;49m\u001b[43mengine\u001b[49m\u001b[43m)\u001b[49m\n",
      "File \u001b[1;32mE:\\anaconda3\\lib\\site-packages\\pandas\\io\\parsers\\readers.py:1040\u001b[0m, in \u001b[0;36mTextFileReader._make_engine\u001b[1;34m(self, engine)\u001b[0m\n\u001b[0;32m   1036\u001b[0m     \u001b[38;5;28;01mraise\u001b[39;00m \u001b[38;5;167;01mValueError\u001b[39;00m(\n\u001b[0;32m   1037\u001b[0m         \u001b[38;5;124mf\u001b[39m\u001b[38;5;124m\"\u001b[39m\u001b[38;5;124mUnknown engine: \u001b[39m\u001b[38;5;132;01m{\u001b[39;00mengine\u001b[38;5;132;01m}\u001b[39;00m\u001b[38;5;124m (valid options are \u001b[39m\u001b[38;5;132;01m{\u001b[39;00mmapping\u001b[38;5;241m.\u001b[39mkeys()\u001b[38;5;132;01m}\u001b[39;00m\u001b[38;5;124m)\u001b[39m\u001b[38;5;124m\"\u001b[39m\n\u001b[0;32m   1038\u001b[0m     )\n\u001b[0;32m   1039\u001b[0m \u001b[38;5;66;03m# error: Too many arguments for \"ParserBase\"\u001b[39;00m\n\u001b[1;32m-> 1040\u001b[0m \u001b[38;5;28;01mreturn\u001b[39;00m mapping[engine](\u001b[38;5;28mself\u001b[39m\u001b[38;5;241m.\u001b[39mf, \u001b[38;5;241m*\u001b[39m\u001b[38;5;241m*\u001b[39m\u001b[38;5;28mself\u001b[39m\u001b[38;5;241m.\u001b[39moptions)\n",
      "File \u001b[1;32mE:\\anaconda3\\lib\\site-packages\\pandas\\io\\parsers\\c_parser_wrapper.py:51\u001b[0m, in \u001b[0;36mCParserWrapper.__init__\u001b[1;34m(self, src, **kwds)\u001b[0m\n\u001b[0;32m     48\u001b[0m kwds[\u001b[38;5;124m\"\u001b[39m\u001b[38;5;124musecols\u001b[39m\u001b[38;5;124m\"\u001b[39m] \u001b[38;5;241m=\u001b[39m \u001b[38;5;28mself\u001b[39m\u001b[38;5;241m.\u001b[39musecols\n\u001b[0;32m     50\u001b[0m \u001b[38;5;66;03m# open handles\u001b[39;00m\n\u001b[1;32m---> 51\u001b[0m \u001b[38;5;28;43mself\u001b[39;49m\u001b[38;5;241;43m.\u001b[39;49m\u001b[43m_open_handles\u001b[49m\u001b[43m(\u001b[49m\u001b[43msrc\u001b[49m\u001b[43m,\u001b[49m\u001b[43m \u001b[49m\u001b[43mkwds\u001b[49m\u001b[43m)\u001b[49m\n\u001b[0;32m     52\u001b[0m \u001b[38;5;28;01massert\u001b[39;00m \u001b[38;5;28mself\u001b[39m\u001b[38;5;241m.\u001b[39mhandles \u001b[38;5;129;01mis\u001b[39;00m \u001b[38;5;129;01mnot\u001b[39;00m \u001b[38;5;28;01mNone\u001b[39;00m\n\u001b[0;32m     54\u001b[0m \u001b[38;5;66;03m# Have to pass int, would break tests using TextReader directly otherwise :(\u001b[39;00m\n",
      "File \u001b[1;32mE:\\anaconda3\\lib\\site-packages\\pandas\\io\\parsers\\base_parser.py:222\u001b[0m, in \u001b[0;36mParserBase._open_handles\u001b[1;34m(self, src, kwds)\u001b[0m\n\u001b[0;32m    218\u001b[0m \u001b[38;5;28;01mdef\u001b[39;00m \u001b[38;5;21m_open_handles\u001b[39m(\u001b[38;5;28mself\u001b[39m, src: FilePathOrBuffer, kwds: \u001b[38;5;28mdict\u001b[39m[\u001b[38;5;28mstr\u001b[39m, Any]) \u001b[38;5;241m-\u001b[39m\u001b[38;5;241m>\u001b[39m \u001b[38;5;28;01mNone\u001b[39;00m:\n\u001b[0;32m    219\u001b[0m \u001b[38;5;250m    \u001b[39m\u001b[38;5;124;03m\"\"\"\u001b[39;00m\n\u001b[0;32m    220\u001b[0m \u001b[38;5;124;03m    Let the readers open IOHandles after they are done with their potential raises.\u001b[39;00m\n\u001b[0;32m    221\u001b[0m \u001b[38;5;124;03m    \"\"\"\u001b[39;00m\n\u001b[1;32m--> 222\u001b[0m     \u001b[38;5;28mself\u001b[39m\u001b[38;5;241m.\u001b[39mhandles \u001b[38;5;241m=\u001b[39m \u001b[43mget_handle\u001b[49m\u001b[43m(\u001b[49m\n\u001b[0;32m    223\u001b[0m \u001b[43m        \u001b[49m\u001b[43msrc\u001b[49m\u001b[43m,\u001b[49m\n\u001b[0;32m    224\u001b[0m \u001b[43m        \u001b[49m\u001b[38;5;124;43m\"\u001b[39;49m\u001b[38;5;124;43mr\u001b[39;49m\u001b[38;5;124;43m\"\u001b[39;49m\u001b[43m,\u001b[49m\n\u001b[0;32m    225\u001b[0m \u001b[43m        \u001b[49m\u001b[43mencoding\u001b[49m\u001b[38;5;241;43m=\u001b[39;49m\u001b[43mkwds\u001b[49m\u001b[38;5;241;43m.\u001b[39;49m\u001b[43mget\u001b[49m\u001b[43m(\u001b[49m\u001b[38;5;124;43m\"\u001b[39;49m\u001b[38;5;124;43mencoding\u001b[39;49m\u001b[38;5;124;43m\"\u001b[39;49m\u001b[43m,\u001b[49m\u001b[43m \u001b[49m\u001b[38;5;28;43;01mNone\u001b[39;49;00m\u001b[43m)\u001b[49m\u001b[43m,\u001b[49m\n\u001b[0;32m    226\u001b[0m \u001b[43m        \u001b[49m\u001b[43mcompression\u001b[49m\u001b[38;5;241;43m=\u001b[39;49m\u001b[43mkwds\u001b[49m\u001b[38;5;241;43m.\u001b[39;49m\u001b[43mget\u001b[49m\u001b[43m(\u001b[49m\u001b[38;5;124;43m\"\u001b[39;49m\u001b[38;5;124;43mcompression\u001b[39;49m\u001b[38;5;124;43m\"\u001b[39;49m\u001b[43m,\u001b[49m\u001b[43m \u001b[49m\u001b[38;5;28;43;01mNone\u001b[39;49;00m\u001b[43m)\u001b[49m\u001b[43m,\u001b[49m\n\u001b[0;32m    227\u001b[0m \u001b[43m        \u001b[49m\u001b[43mmemory_map\u001b[49m\u001b[38;5;241;43m=\u001b[39;49m\u001b[43mkwds\u001b[49m\u001b[38;5;241;43m.\u001b[39;49m\u001b[43mget\u001b[49m\u001b[43m(\u001b[49m\u001b[38;5;124;43m\"\u001b[39;49m\u001b[38;5;124;43mmemory_map\u001b[39;49m\u001b[38;5;124;43m\"\u001b[39;49m\u001b[43m,\u001b[49m\u001b[43m \u001b[49m\u001b[38;5;28;43;01mFalse\u001b[39;49;00m\u001b[43m)\u001b[49m\u001b[43m,\u001b[49m\n\u001b[0;32m    228\u001b[0m \u001b[43m        \u001b[49m\u001b[43mstorage_options\u001b[49m\u001b[38;5;241;43m=\u001b[39;49m\u001b[43mkwds\u001b[49m\u001b[38;5;241;43m.\u001b[39;49m\u001b[43mget\u001b[49m\u001b[43m(\u001b[49m\u001b[38;5;124;43m\"\u001b[39;49m\u001b[38;5;124;43mstorage_options\u001b[39;49m\u001b[38;5;124;43m\"\u001b[39;49m\u001b[43m,\u001b[49m\u001b[43m \u001b[49m\u001b[38;5;28;43;01mNone\u001b[39;49;00m\u001b[43m)\u001b[49m\u001b[43m,\u001b[49m\n\u001b[0;32m    229\u001b[0m \u001b[43m        \u001b[49m\u001b[43merrors\u001b[49m\u001b[38;5;241;43m=\u001b[39;49m\u001b[43mkwds\u001b[49m\u001b[38;5;241;43m.\u001b[39;49m\u001b[43mget\u001b[49m\u001b[43m(\u001b[49m\u001b[38;5;124;43m\"\u001b[39;49m\u001b[38;5;124;43mencoding_errors\u001b[39;49m\u001b[38;5;124;43m\"\u001b[39;49m\u001b[43m,\u001b[49m\u001b[43m \u001b[49m\u001b[38;5;124;43m\"\u001b[39;49m\u001b[38;5;124;43mstrict\u001b[39;49m\u001b[38;5;124;43m\"\u001b[39;49m\u001b[43m)\u001b[49m\u001b[43m,\u001b[49m\n\u001b[0;32m    230\u001b[0m \u001b[43m    \u001b[49m\u001b[43m)\u001b[49m\n",
      "File \u001b[1;32mE:\\anaconda3\\lib\\site-packages\\pandas\\io\\common.py:702\u001b[0m, in \u001b[0;36mget_handle\u001b[1;34m(path_or_buf, mode, encoding, compression, memory_map, is_text, errors, storage_options)\u001b[0m\n\u001b[0;32m    697\u001b[0m \u001b[38;5;28;01melif\u001b[39;00m \u001b[38;5;28misinstance\u001b[39m(handle, \u001b[38;5;28mstr\u001b[39m):\n\u001b[0;32m    698\u001b[0m     \u001b[38;5;66;03m# Check whether the filename is to be opened in binary mode.\u001b[39;00m\n\u001b[0;32m    699\u001b[0m     \u001b[38;5;66;03m# Binary mode does not support 'encoding' and 'newline'.\u001b[39;00m\n\u001b[0;32m    700\u001b[0m     \u001b[38;5;28;01mif\u001b[39;00m ioargs\u001b[38;5;241m.\u001b[39mencoding \u001b[38;5;129;01mand\u001b[39;00m \u001b[38;5;124m\"\u001b[39m\u001b[38;5;124mb\u001b[39m\u001b[38;5;124m\"\u001b[39m \u001b[38;5;129;01mnot\u001b[39;00m \u001b[38;5;129;01min\u001b[39;00m ioargs\u001b[38;5;241m.\u001b[39mmode:\n\u001b[0;32m    701\u001b[0m         \u001b[38;5;66;03m# Encoding\u001b[39;00m\n\u001b[1;32m--> 702\u001b[0m         handle \u001b[38;5;241m=\u001b[39m \u001b[38;5;28;43mopen\u001b[39;49m\u001b[43m(\u001b[49m\n\u001b[0;32m    703\u001b[0m \u001b[43m            \u001b[49m\u001b[43mhandle\u001b[49m\u001b[43m,\u001b[49m\n\u001b[0;32m    704\u001b[0m \u001b[43m            \u001b[49m\u001b[43mioargs\u001b[49m\u001b[38;5;241;43m.\u001b[39;49m\u001b[43mmode\u001b[49m\u001b[43m,\u001b[49m\n\u001b[0;32m    705\u001b[0m \u001b[43m            \u001b[49m\u001b[43mencoding\u001b[49m\u001b[38;5;241;43m=\u001b[39;49m\u001b[43mioargs\u001b[49m\u001b[38;5;241;43m.\u001b[39;49m\u001b[43mencoding\u001b[49m\u001b[43m,\u001b[49m\n\u001b[0;32m    706\u001b[0m \u001b[43m            \u001b[49m\u001b[43merrors\u001b[49m\u001b[38;5;241;43m=\u001b[39;49m\u001b[43merrors\u001b[49m\u001b[43m,\u001b[49m\n\u001b[0;32m    707\u001b[0m \u001b[43m            \u001b[49m\u001b[43mnewline\u001b[49m\u001b[38;5;241;43m=\u001b[39;49m\u001b[38;5;124;43m\"\u001b[39;49m\u001b[38;5;124;43m\"\u001b[39;49m\u001b[43m,\u001b[49m\n\u001b[0;32m    708\u001b[0m \u001b[43m        \u001b[49m\u001b[43m)\u001b[49m\n\u001b[0;32m    709\u001b[0m     \u001b[38;5;28;01melse\u001b[39;00m:\n\u001b[0;32m    710\u001b[0m         \u001b[38;5;66;03m# Binary mode\u001b[39;00m\n\u001b[0;32m    711\u001b[0m         handle \u001b[38;5;241m=\u001b[39m \u001b[38;5;28mopen\u001b[39m(handle, ioargs\u001b[38;5;241m.\u001b[39mmode)\n",
      "\u001b[1;31mFileNotFoundError\u001b[0m: [Errno 2] No such file or directory: 'data/user_ratings.csv'"
     ]
    }
   ],
   "source": [
    "data_folder = 'data/'\n",
    "\n",
    "item_ratings_df = pd.read_csv(data_folder + 'user_ratings.csv')\n",
    "# item_ratings_df = pd.read_csv(data_folder + 'user_ratings_600k.csv')\n",
    "# item_ratings_df = pd.read_csv(data_folder + 'user_ratings_1.8m.csv')\n",
    "item_info = pd.read_csv(data_folder + 'games.csv')\n",
    "item_mecahnics = pd.read_csv(data_folder + 'mechanics.csv')\n",
    "item_subcategories = pd.read_csv(data_folder + 'subcategories.csv')\n",
    "item_themes = pd.read_csv(data_folder + 'themes.csv')"
   ]
  },
  {
   "cell_type": "code",
   "execution_count": null,
   "metadata": {
    "execution": {
     "iopub.execute_input": "2023-09-30T16:42:14.195729Z",
     "iopub.status.busy": "2023-09-30T16:42:14.195230Z",
     "iopub.status.idle": "2023-09-30T16:44:50.914727Z",
     "shell.execute_reply": "2023-09-30T16:44:50.913702Z",
     "shell.execute_reply.started": "2023-09-30T16:42:14.195682Z"
    }
   },
   "outputs": [],
   "source": [
    "# item_ratings_df = item_ratings_df.groupby('Username', group_keys=False).apply(lambda x: x.sample(frac=0.1))"
   ]
  },
  {
   "cell_type": "code",
   "execution_count": null,
   "metadata": {
    "execution": {
     "iopub.execute_input": "2023-09-30T17:01:16.381356Z",
     "iopub.status.busy": "2023-09-30T17:01:16.381045Z",
     "iopub.status.idle": "2023-09-30T17:01:17.112952Z",
     "shell.execute_reply": "2023-09-30T17:01:17.111695Z",
     "shell.execute_reply.started": "2023-09-30T17:01:16.381331Z"
    }
   },
   "outputs": [],
   "source": [
    "item_ratings_df = item_ratings_df.rename(columns={\n",
    "    'BGGId':'item',\n",
    "    'Rating':'rating',\n",
    "    'Username':'user'\n",
    "})"
   ]
  },
  {
   "cell_type": "code",
   "execution_count": null,
   "metadata": {
    "execution": {
     "iopub.execute_input": "2023-09-30T17:01:17.781856Z",
     "iopub.status.busy": "2023-09-30T17:01:17.781486Z",
     "iopub.status.idle": "2023-09-30T17:01:28.142813Z",
     "shell.execute_reply": "2023-09-30T17:01:28.141702Z",
     "shell.execute_reply.started": "2023-09-30T17:01:17.781822Z"
    }
   },
   "outputs": [],
   "source": [
    "user_rating_count = item_ratings_df.groupby('user').count()\n",
    "user_rating_count"
   ]
  },
  {
   "cell_type": "code",
   "execution_count": null,
   "metadata": {
    "execution": {
     "iopub.execute_input": "2023-09-30T17:01:32.563248Z",
     "iopub.status.busy": "2023-09-30T17:01:32.561569Z",
     "iopub.status.idle": "2023-09-30T17:01:32.594344Z",
     "shell.execute_reply": "2023-09-30T17:01:32.593123Z",
     "shell.execute_reply.started": "2023-09-30T17:01:32.563179Z"
    }
   },
   "outputs": [],
   "source": [
    "min_rating_count = 10\n",
    "user_rating_count = user_rating_count[user_rating_count['rating'] >= min_rating_count]"
   ]
  },
  {
   "cell_type": "code",
   "execution_count": null,
   "metadata": {
    "execution": {
     "iopub.execute_input": "2023-09-30T17:01:32.965783Z",
     "iopub.status.busy": "2023-09-30T17:01:32.964386Z",
     "iopub.status.idle": "2023-09-30T17:01:33.037928Z",
     "shell.execute_reply": "2023-09-30T17:01:33.036885Z",
     "shell.execute_reply.started": "2023-09-30T17:01:32.965732Z"
    }
   },
   "outputs": [],
   "source": [
    "user_list_filtered = list(user_rating_count.index)"
   ]
  },
  {
   "cell_type": "code",
   "execution_count": null,
   "metadata": {
    "execution": {
     "iopub.execute_input": "2023-09-30T17:01:35.639076Z",
     "iopub.status.busy": "2023-09-30T17:01:35.638260Z",
     "iopub.status.idle": "2023-09-30T17:01:43.984363Z",
     "shell.execute_reply": "2023-09-30T17:01:43.983360Z",
     "shell.execute_reply.started": "2023-09-30T17:01:35.639030Z"
    }
   },
   "outputs": [],
   "source": [
    "item_ratings_df_filtered = item_ratings_df[item_ratings_df['user'].isin(user_list_filtered)]"
   ]
  },
  {
   "cell_type": "code",
   "execution_count": null,
   "metadata": {},
   "outputs": [],
   "source": [
    "item_ratings_df_filtered = item_ratings_df_filtered.drop_duplicates(subset = ['item', 'user'])"
   ]
  },
  {
   "cell_type": "code",
   "execution_count": null,
   "metadata": {
    "execution": {
     "iopub.execute_input": "2023-09-30T17:01:43.986770Z",
     "iopub.status.busy": "2023-09-30T17:01:43.986052Z",
     "iopub.status.idle": "2023-09-30T17:01:44.000138Z",
     "shell.execute_reply": "2023-09-30T17:01:43.998666Z",
     "shell.execute_reply.started": "2023-09-30T17:01:43.986739Z"
    }
   },
   "outputs": [],
   "source": [
    "item_ratings_df_filtered"
   ]
  },
  {
   "cell_type": "markdown",
   "metadata": {},
   "source": [
    "### Build"
   ]
  },
  {
   "cell_type": "code",
   "execution_count": 16,
   "metadata": {
    "execution": {
     "iopub.execute_input": "2023-09-30T17:01:44.002542Z",
     "iopub.status.busy": "2023-09-30T17:01:44.002010Z",
     "iopub.status.idle": "2023-09-30T17:01:44.015465Z",
     "shell.execute_reply": "2023-09-30T17:01:44.014276Z",
     "shell.execute_reply.started": "2023-09-30T17:01:44.002501Z"
    }
   },
   "outputs": [],
   "source": [
    "num_recs = 10  # Number of recommendations to generate\n",
    "item_item = ItemItem(15, min_nbrs=3)  # Minimum (3) and maximum (15) number of neighbors to consider\n",
    "recsys_itemitem = Recommender.adapt(item_item)"
   ]
  },
  {
   "cell_type": "code",
   "execution_count": 17,
   "metadata": {
    "execution": {
     "iopub.execute_input": "2023-09-30T17:01:44.018928Z",
     "iopub.status.busy": "2023-09-30T17:01:44.018386Z",
     "iopub.status.idle": "2023-09-30T17:10:03.542572Z",
     "shell.execute_reply": "2023-09-30T17:10:03.541305Z",
     "shell.execute_reply.started": "2023-09-30T17:01:44.018885Z"
    }
   },
   "outputs": [
    {
     "name": "stderr",
     "output_type": "stream",
     "text": [
      "could not load LIBBLAS: Could not find module 'libblas' (or one of its dependencies). Try using the full path with constructor syntax.\n"
     ]
    },
    {
     "data": {
      "text/plain": [
       "<lenskit.algorithms.ranking.TopN at 0x207815e89d0>"
      ]
     },
     "execution_count": 17,
     "metadata": {},
     "output_type": "execute_result"
    }
   ],
   "source": [
    "recsys_itemitem.fit(item_ratings_df_filtered)"
   ]
  },
  {
   "cell_type": "code",
   "execution_count": 18,
   "metadata": {
    "execution": {
     "iopub.execute_input": "2023-09-30T17:10:03.546406Z",
     "iopub.status.busy": "2023-09-30T17:10:03.544916Z",
     "iopub.status.idle": "2023-09-30T17:10:03.774517Z",
     "shell.execute_reply": "2023-09-30T17:10:03.773297Z",
     "shell.execute_reply.started": "2023-09-30T17:10:03.546349Z"
    }
   },
   "outputs": [
    {
     "data": {
      "text/html": [
       "<div>\n",
       "<style scoped>\n",
       "    .dataframe tbody tr th:only-of-type {\n",
       "        vertical-align: middle;\n",
       "    }\n",
       "\n",
       "    .dataframe tbody tr th {\n",
       "        vertical-align: top;\n",
       "    }\n",
       "\n",
       "    .dataframe thead th {\n",
       "        text-align: right;\n",
       "    }\n",
       "</style>\n",
       "<table border=\"1\" class=\"dataframe\">\n",
       "  <thead>\n",
       "    <tr style=\"text-align: right;\">\n",
       "      <th></th>\n",
       "      <th>item</th>\n",
       "      <th>score</th>\n",
       "    </tr>\n",
       "  </thead>\n",
       "  <tbody>\n",
       "    <tr>\n",
       "      <th>0</th>\n",
       "      <td>324856</td>\n",
       "      <td>9.887308</td>\n",
       "    </tr>\n",
       "    <tr>\n",
       "      <th>1</th>\n",
       "      <td>275777</td>\n",
       "      <td>9.796029</td>\n",
       "    </tr>\n",
       "    <tr>\n",
       "      <th>2</th>\n",
       "      <td>342942</td>\n",
       "      <td>9.738921</td>\n",
       "    </tr>\n",
       "    <tr>\n",
       "      <th>3</th>\n",
       "      <td>249277</td>\n",
       "      <td>9.662868</td>\n",
       "    </tr>\n",
       "    <tr>\n",
       "      <th>4</th>\n",
       "      <td>345976</td>\n",
       "      <td>9.613461</td>\n",
       "    </tr>\n",
       "    <tr>\n",
       "      <th>5</th>\n",
       "      <td>341169</td>\n",
       "      <td>9.598640</td>\n",
       "    </tr>\n",
       "    <tr>\n",
       "      <th>6</th>\n",
       "      <td>329082</td>\n",
       "      <td>9.449887</td>\n",
       "    </tr>\n",
       "    <tr>\n",
       "      <th>7</th>\n",
       "      <td>313776</td>\n",
       "      <td>9.335643</td>\n",
       "    </tr>\n",
       "    <tr>\n",
       "      <th>8</th>\n",
       "      <td>165694</td>\n",
       "      <td>9.299688</td>\n",
       "    </tr>\n",
       "    <tr>\n",
       "      <th>9</th>\n",
       "      <td>284121</td>\n",
       "      <td>9.289144</td>\n",
       "    </tr>\n",
       "  </tbody>\n",
       "</table>\n",
       "</div>"
      ],
      "text/plain": [
       "     item     score\n",
       "0  324856  9.887308\n",
       "1  275777  9.796029\n",
       "2  342942  9.738921\n",
       "3  249277  9.662868\n",
       "4  345976  9.613461\n",
       "5  341169  9.598640\n",
       "6  329082  9.449887\n",
       "7  313776  9.335643\n",
       "8  165694  9.299688\n",
       "9  284121  9.289144"
      ]
     },
     "execution_count": 18,
     "metadata": {},
     "output_type": "execute_result"
    }
   ],
   "source": [
    " recsys_itemitem.recommend('zzzzzane', 10)"
   ]
  },
  {
   "cell_type": "code",
   "execution_count": 19,
   "metadata": {
    "execution": {
     "iopub.execute_input": "2023-09-30T16:45:28.705192Z",
     "iopub.status.busy": "2023-09-30T16:45:28.704820Z",
     "iopub.status.idle": "2023-09-30T16:45:28.721573Z",
     "shell.execute_reply": "2023-09-30T16:45:28.720430Z",
     "shell.execute_reply.started": "2023-09-30T16:45:28.705160Z"
    }
   },
   "outputs": [
    {
     "data": {
      "text/plain": [
       "item\n",
       "145888    5.996881\n",
       "226522    8.294573\n",
       "dtype: float64"
      ]
     },
     "execution_count": 19,
     "metadata": {},
     "output_type": "execute_result"
    }
   ],
   "source": [
    "recsys_itemitem.predict_for_user('zzzzzane', [145888, 226522])"
   ]
  },
  {
   "cell_type": "markdown",
   "metadata": {},
   "source": [
    "### Test"
   ]
  },
  {
   "cell_type": "code",
   "execution_count": 63,
   "metadata": {
    "execution": {
     "iopub.execute_input": "2023-09-30T17:28:21.037366Z",
     "iopub.status.busy": "2023-09-30T17:28:21.036887Z",
     "iopub.status.idle": "2023-09-30T17:28:21.043766Z",
     "shell.execute_reply": "2023-09-30T17:28:21.042401Z",
     "shell.execute_reply.started": "2023-09-30T17:28:21.037334Z"
    }
   },
   "outputs": [],
   "source": [
    "from sklearn.model_selection import KFold, train_test_split\n",
    "from sklearn.metrics import mean_squared_error, mean_absolute_error"
   ]
  },
  {
   "cell_type": "code",
   "execution_count": 64,
   "metadata": {
    "execution": {
     "iopub.execute_input": "2023-09-30T17:28:22.365895Z",
     "iopub.status.busy": "2023-09-30T17:28:22.365385Z",
     "iopub.status.idle": "2023-09-30T17:28:22.372683Z",
     "shell.execute_reply": "2023-09-30T17:28:22.371216Z",
     "shell.execute_reply.started": "2023-09-30T17:28:22.365855Z"
    }
   },
   "outputs": [],
   "source": [
    "kf = KFold(n_splits=5, shuffle=True)"
   ]
  },
  {
   "cell_type": "code",
   "execution_count": 65,
   "metadata": {
    "execution": {
     "iopub.execute_input": "2023-09-30T17:28:29.175907Z",
     "iopub.status.busy": "2023-09-30T17:28:29.174179Z",
     "iopub.status.idle": "2023-09-30T17:28:29.183530Z",
     "shell.execute_reply": "2023-09-30T17:28:29.182275Z",
     "shell.execute_reply.started": "2023-09-30T17:28:29.175854Z"
    }
   },
   "outputs": [],
   "source": [
    "def predict(model, test_dataframe):\n",
    "    real_ratings = []\n",
    "    predicted_ratings = []\n",
    "    \n",
    "    users = test_dataframe['user'].unique()\n",
    "    \n",
    "    for user in users:\n",
    "        current_frame = test_dataframe[test_dataframe['user'] == user]\n",
    "        \n",
    "        items = list(current_frame['item'])\n",
    "        ratings = list(current_frame['rating'])\n",
    "        predictions = list(model.predict_for_user(user, items))\n",
    "        \n",
    "        real_ratings += ratings\n",
    "        predicted_ratings += predictions\n",
    "    \n",
    "    return real_ratings, predicted_ratings"
   ]
  },
  {
   "cell_type": "code",
   "execution_count": 67,
   "metadata": {
    "execution": {
     "iopub.execute_input": "2023-09-30T17:37:06.054837Z",
     "iopub.status.busy": "2023-09-30T17:37:06.054264Z",
     "iopub.status.idle": "2023-09-30T18:34:56.896843Z",
     "shell.execute_reply": "2023-09-30T18:34:56.895977Z",
     "shell.execute_reply.started": "2023-09-30T17:37:06.054798Z"
    }
   },
   "outputs": [
    {
     "name": "stdout",
     "output_type": "stream",
     "text": [
      "Doing fold no: 1\n",
      "Dataframes created\n",
      "Model is fitted\n",
      "nan values: 1\n",
      "non-nan values: 3674\n",
      "Doing fold no: 2\n",
      "Dataframes created\n",
      "Model is fitted\n",
      "nan values: 0\n",
      "non-nan values: 3675\n",
      "Doing fold no: 3\n",
      "Dataframes created\n",
      "Model is fitted\n",
      "nan values: 0\n",
      "non-nan values: 3675\n",
      "Doing fold no: 4\n",
      "Dataframes created\n",
      "Model is fitted\n",
      "nan values: 0\n",
      "non-nan values: 3675\n",
      "Doing fold no: 5\n",
      "Dataframes created\n",
      "Model is fitted\n",
      "nan values: 0\n",
      "non-nan values: 3675\n"
     ]
    },
    {
     "data": {
      "text/plain": [
       "{'avg_mae': 0.849650260667979,\n",
       " 'stdv_mae': 0.005147369534018413,\n",
       " 'avg_rmse': 1.139501925417811,\n",
       " 'stdv_rmse': 0.013279363421001696,\n",
       " 'avg_nans': 0.2,\n",
       " 'avg_non_nans': 3674.8}"
      ]
     },
     "metadata": {},
     "output_type": "display_data"
    }
   ],
   "source": [
    "mae_list = list()\n",
    "rmse_list = list()\n",
    "nans_list = list()\n",
    "non_nans_list = list()\n",
    "\n",
    "count = 1\n",
    "\n",
    "for train_index, test_index in kf.split(item_ratings_df_filtered):\n",
    "    print(f'Doing fold no: {count}')\n",
    "    count += 1\n",
    "    \n",
    "    train_df = item_ratings_df_filtered.iloc[train_index]\n",
    "    test_df = item_ratings_df_filtered.iloc[test_index]\n",
    "    test_df = test_df.sample(frac = 0.001)\n",
    "    \n",
    "    train_df = train_df.drop_duplicates(subset = ['item', 'user'])\n",
    "    test_df = test_df.drop_duplicates(subset = ['item', 'user'])\n",
    "    \n",
    "    print('Dataframes created')\n",
    "    \n",
    "    item_item = ItemItem(10, min_nbrs=3)\n",
    "    recsys = Recommender.adapt(item_item)\n",
    "    recsys.fit(train_df)\n",
    "    print('Model is fitted')\n",
    "    \n",
    "    real_ratings, predicted_ratings = predict(recsys, test_df)\n",
    "    \n",
    "    y_test = real_ratings\n",
    "    y_pred = predicted_ratings\n",
    "    \n",
    "    y_test_not_nan = list()\n",
    "    y_pred_not_nan = list()\n",
    "    \n",
    "    nans = 0\n",
    "    non_nans = 0\n",
    "    \n",
    "    for i in range(len(y_pred)):\n",
    "        num = y_pred[i]\n",
    "        \n",
    "        if np.isnan(num):\n",
    "            nans += 1\n",
    "        else:\n",
    "            non_nans += 1\n",
    "            y_test_not_nan.append(y_test[i])\n",
    "            y_pred_not_nan.append(num)\n",
    "            \n",
    "    print(f'nan values: {nans}')\n",
    "    print(f'non-nan values: {non_nans}')\n",
    "    \n",
    "    mae = mean_absolute_error(y_test_not_nan, y_pred_not_nan)\n",
    "    rmse = mean_squared_error(y_test_not_nan, y_pred_not_nan, squared = False)\n",
    "    \n",
    "    mae_list.append(mae)\n",
    "    rmse_list.append(rmse)\n",
    "    nans_list.append(nans)\n",
    "    non_nans_list.append(non_nans)\n",
    "    \n",
    "# Compute average results and standard deviations\n",
    "results = {\n",
    "    'avg_mae' : statistics.mean(mae_list),\n",
    "    'stdv_mae' : statistics.stdev(mae_list),\n",
    "    'avg_rmse' : statistics.mean(rmse_list),\n",
    "    'stdv_rmse' : statistics.stdev(rmse_list),\n",
    "    'avg_nans': statistics.mean(nans_list),\n",
    "    'avg_non_nans' : statistics.mean(non_nans_list)\n",
    "}\n",
    "\n",
    "display(results)"
   ]
  },
  {
   "cell_type": "markdown",
   "metadata": {},
   "source": [
    "{'avg_mae': 0.849650260667979,\\\n",
    " 'stdv_mae': 0.005147369534018413,\\\n",
    " 'avg_rmse': 1.139501925417811,\\\n",
    " 'stdv_rmse': 0.013279363421001696,\\\n",
    " 'avg_nans': 0.2,\\\n",
    " 'avg_non_nans': 3674.8}"
   ]
  },
  {
   "cell_type": "markdown",
   "metadata": {},
   "source": [
    "### Build explainable Item-based CF"
   ]
  },
  {
   "cell_type": "code",
   "execution_count": 4,
   "metadata": {},
   "outputs": [
    {
     "ename": "NameError",
     "evalue": "name 'item_info' is not defined",
     "output_type": "error",
     "traceback": [
      "\u001b[1;31m---------------------------------------------------------------------------\u001b[0m",
      "\u001b[1;31mNameError\u001b[0m                                 Traceback (most recent call last)",
      "Cell \u001b[1;32mIn[4], line 1\u001b[0m\n\u001b[1;32m----> 1\u001b[0m id_to_game \u001b[38;5;241m=\u001b[39m \u001b[43mitem_info\u001b[49m\u001b[38;5;241m.\u001b[39mset_index(\u001b[38;5;124m'\u001b[39m\u001b[38;5;124mBGGId\u001b[39m\u001b[38;5;124m'\u001b[39m)[\u001b[38;5;124m'\u001b[39m\u001b[38;5;124mName\u001b[39m\u001b[38;5;124m'\u001b[39m]\u001b[38;5;241m.\u001b[39mto_dict()\n",
      "\u001b[1;31mNameError\u001b[0m: name 'item_info' is not defined"
     ]
    }
   ],
   "source": [
    "id_to_game = item_info.set_index('BGGId')['Name'].to_dict()"
   ]
  },
  {
   "cell_type": "code",
   "execution_count": 5,
   "metadata": {},
   "outputs": [],
   "source": [
    "# data = {\n",
    "#     'item': [101, 102, 103, 104, 105],  # Repeating items for demonstration\n",
    "#     'rating': [4, 5, 3, 4, 5],  # Repeating ratings for demonstration\n",
    "#     'user': [201, 202, 203, 204, 205]  # Repeating users for demonstration\n",
    "# }\n",
    "\n",
    "# # Create a DataFrame\n",
    "# fake_dataset = pd.DataFrame(data)"
   ]
  },
  {
   "cell_type": "code",
   "execution_count": 6,
   "metadata": {},
   "outputs": [
    {
     "ename": "NameError",
     "evalue": "name 'item_ratings_df_filtered' is not defined",
     "output_type": "error",
     "traceback": [
      "\u001b[1;31m---------------------------------------------------------------------------\u001b[0m",
      "\u001b[1;31mNameError\u001b[0m                                 Traceback (most recent call last)",
      "Cell \u001b[1;32mIn[6], line 1\u001b[0m\n\u001b[1;32m----> 1\u001b[0m item_ratings_df_filtered \u001b[38;5;241m=\u001b[39m \u001b[43mitem_ratings_df_filtered\u001b[49m\u001b[38;5;241m.\u001b[39mdrop_duplicates(subset\u001b[38;5;241m=\u001b[39m[\u001b[38;5;124m'\u001b[39m\u001b[38;5;124muser\u001b[39m\u001b[38;5;124m'\u001b[39m, \u001b[38;5;124m'\u001b[39m\u001b[38;5;124mitem\u001b[39m\u001b[38;5;124m'\u001b[39m], keep\u001b[38;5;241m=\u001b[39m\u001b[38;5;28;01mFalse\u001b[39;00m)\n\u001b[0;32m      2\u001b[0m item_ratings_df_filtered\n",
      "\u001b[1;31mNameError\u001b[0m: name 'item_ratings_df_filtered' is not defined"
     ]
    }
   ],
   "source": [
    "item_ratings_df_filtered = item_ratings_df_filtered.drop_duplicates(subset=['user', 'item'], keep=False)\n",
    "item_ratings_df_filtered"
   ]
  },
  {
   "cell_type": "code",
   "execution_count": 7,
   "metadata": {},
   "outputs": [],
   "source": [
    "# item_ratings_df_filtered = item_ratings_df_filtered.sample(frac=0.01)"
   ]
  },
  {
   "cell_type": "code",
   "execution_count": 15,
   "metadata": {},
   "outputs": [],
   "source": [
    "users = item_ratings_df_filtered['user'].unique()"
   ]
  },
  {
   "cell_type": "code",
   "execution_count": 16,
   "metadata": {
    "execution": {
     "iopub.execute_input": "2023-09-30T17:01:44.002542Z",
     "iopub.status.busy": "2023-09-30T17:01:44.002010Z",
     "iopub.status.idle": "2023-09-30T17:01:44.015465Z",
     "shell.execute_reply": "2023-09-30T17:01:44.014276Z",
     "shell.execute_reply.started": "2023-09-30T17:01:44.002501Z"
    }
   },
   "outputs": [],
   "source": [
    "item_item = ItemItem(15, min_nbrs=3)  # Minimum (3) and maximum (15) number of neighbors to consider\n",
    "recsys_itemitem = Recommender.adapt(item_item)"
   ]
  },
  {
   "cell_type": "code",
   "execution_count": 17,
   "metadata": {
    "execution": {
     "iopub.execute_input": "2023-09-30T17:01:44.018928Z",
     "iopub.status.busy": "2023-09-30T17:01:44.018386Z",
     "iopub.status.idle": "2023-09-30T17:10:03.542572Z",
     "shell.execute_reply": "2023-09-30T17:10:03.541305Z",
     "shell.execute_reply.started": "2023-09-30T17:01:44.018885Z"
    }
   },
   "outputs": [
    {
     "name": "stderr",
     "output_type": "stream",
     "text": [
      "could not load LIBBLAS: Could not find module 'libblas' (or one of its dependencies). Try using the full path with constructor syntax.\n"
     ]
    },
    {
     "data": {
      "text/plain": [
       "<lenskit.algorithms.ranking.TopN at 0x27dbf1f8790>"
      ]
     },
     "execution_count": 17,
     "metadata": {},
     "output_type": "execute_result"
    }
   ],
   "source": [
    "recsys_itemitem.fit(item_ratings_df_filtered)"
   ]
  },
  {
   "cell_type": "code",
   "execution_count": 18,
   "metadata": {},
   "outputs": [
    {
     "data": {
      "text/plain": [
       "<CSR 21925x21925 (198881084 nnz) {\n",
       "  rowptrs=[        0     16920     30477 ... 198872138 198880861 198881084]\n",
       "  colinds=[ 8823  8425  2684 ... 17227 15578 13319]\n",
       "  values=[1.16596048e-01 1.10199626e-01 1.08212602e-01 ... 1.27073815e-05\n",
       " 6.38543095e-06 3.86370483e-06]\n",
       "  dtype=float64\n",
       "}>"
      ]
     },
     "execution_count": 18,
     "metadata": {},
     "output_type": "execute_result"
    }
   ],
   "source": [
    "sim_matrix = item_item.sim_matrix_\n",
    "sim_matrix"
   ]
  },
  {
   "cell_type": "code",
   "execution_count": 19,
   "metadata": {},
   "outputs": [],
   "source": [
    "sim_matrix = sim_matrix.to_scipy()"
   ]
  },
  {
   "cell_type": "code",
   "execution_count": 20,
   "metadata": {},
   "outputs": [],
   "source": [
    "sim_matrix = sim_matrix.todense()"
   ]
  },
  {
   "cell_type": "code",
   "execution_count": 21,
   "metadata": {},
   "outputs": [],
   "source": [
    "sim_matrix = np.array(sim_matrix)"
   ]
  },
  {
   "cell_type": "code",
   "execution_count": 22,
   "metadata": {},
   "outputs": [],
   "source": [
    "item_index = item_item.item_index_"
   ]
  },
  {
   "cell_type": "code",
   "execution_count": 23,
   "metadata": {},
   "outputs": [],
   "source": [
    "def get_most_similar_items(matrix, item, k, indexer):\n",
    "    \n",
    "    if np.isin(item, indexer):\n",
    "        location = indexer.get_loc(item)\n",
    "    \n",
    "        arr = matrix[location]\n",
    "        \n",
    "        indices_of_k_largest = np.argsort(arr)[-k:][::-1]\n",
    "        values_of_k_largest = arr[indices_of_k_largest]\n",
    "\n",
    "        return indexer[indices_of_k_largest].tolist(), list(values_of_k_largest)\n",
    "    else:\n",
    "        return None"
   ]
  },
  {
   "cell_type": "code",
   "execution_count": 24,
   "metadata": {},
   "outputs": [
    {
     "data": {
      "text/plain": [
       "([1927, 74], [0.13583230204098787, 0.1280701897274132])"
      ]
     },
     "execution_count": 24,
     "metadata": {},
     "output_type": "execute_result"
    }
   ],
   "source": [
    "a = get_most_similar_items(sim_matrix, 50381, 2, item_index)\n",
    "a"
   ]
  },
  {
   "cell_type": "code",
   "execution_count": 25,
   "metadata": {},
   "outputs": [],
   "source": [
    "def recommend_for_user(user_item_df, matrix, k, indexer, user_id, threshold):\n",
    "    current_df = user_item_df[user_item_df['user'] == user_id]\n",
    "    current_df = current_df.sort_values('rating', ascending = False)\n",
    "    \n",
    "    for i in range(current_df.shape[0]):\n",
    "        current_item = current_df.iloc[i]['item']\n",
    "        rating = current_df.iloc[i]['rating']\n",
    "        if rating >= threshold:\n",
    "            recommendation = get_most_similar_items(matrix, current_item, k, indexer)\n",
    "            return f\"Players Who Liked \\'{id_to_game[current_item]}\\' Also Tried\", current_item, recommendation\n",
    "    \n",
    "    return None"
   ]
  },
  {
   "cell_type": "code",
   "execution_count": 26,
   "metadata": {},
   "outputs": [
    {
     "data": {
      "text/plain": [
       "(\"Players Who Liked 'CATAN 3D Collector's Edition' Also Tried\",\n",
       " 17419,\n",
       " ([3972, 60153, 2338, 1897, 189],\n",
       "  [0.13527547521496658,\n",
       "   0.108278623162513,\n",
       "   0.0884736537493744,\n",
       "   0.0823121737970011,\n",
       "   0.08150283601981548]))"
      ]
     },
     "execution_count": 26,
     "metadata": {},
     "output_type": "execute_result"
    }
   ],
   "source": [
    "user_id = 'PPMP'\n",
    "threshold = 8\n",
    "\n",
    "a = recommend_for_user(item_ratings_df_filtered, sim_matrix, 5, item_index, user_id, threshold)\n",
    "a"
   ]
  },
  {
   "cell_type": "markdown",
   "metadata": {},
   "source": [
    "### Grouped item-based CF"
   ]
  },
  {
   "cell_type": "code",
   "execution_count": 1,
   "metadata": {},
   "outputs": [
    {
     "ename": "NameError",
     "evalue": "name 'item_ratings_df_filtered' is not defined",
     "output_type": "error",
     "traceback": [
      "\u001b[1;31m---------------------------------------------------------------------------\u001b[0m",
      "\u001b[1;31mNameError\u001b[0m                                 Traceback (most recent call last)",
      "Cell \u001b[1;32mIn[1], line 1\u001b[0m\n\u001b[1;32m----> 1\u001b[0m \u001b[43mitem_ratings_df_filtered\u001b[49m\n",
      "\u001b[1;31mNameError\u001b[0m: name 'item_ratings_df_filtered' is not defined"
     ]
    }
   ],
   "source": [
    "item_ratings_df_filtered"
   ]
  },
  {
   "cell_type": "code",
   "execution_count": 28,
   "metadata": {},
   "outputs": [],
   "source": [
    "filename = 'clusters_ids.npy'\n",
    "clusters_ids = np.load(filename, allow_pickle=True)"
   ]
  },
  {
   "cell_type": "code",
   "execution_count": 36,
   "metadata": {},
   "outputs": [],
   "source": [
    "# filename = 'clusters_rand_ids.npy'\n",
    "# clusters_ids = np.load(filename, allow_pickle=True)"
   ]
  },
  {
   "cell_type": "markdown",
   "metadata": {},
   "source": [
    "\\# of users that liked an item -> predicted item ratings (No misery + Additive) / (No misery + Most Pleasure)"
   ]
  },
  {
   "cell_type": "code",
   "execution_count": 55,
   "metadata": {},
   "outputs": [],
   "source": [
    "from sklearn.metrics import ndcg_score"
   ]
  },
  {
   "cell_type": "code",
   "execution_count": 63,
   "metadata": {},
   "outputs": [],
   "source": [
    "k = 5\n",
    "all_best_recommendations = []\n",
    "all_predicted_ratings = []\n",
    "\n",
    "ndcg_list = []\n",
    "\n",
    "for current_group in clusters_ids:\n",
    "    \n",
    "    items_list = []\n",
    "    best_scores = []\n",
    "\n",
    "    for user in current_group:\n",
    "        recs = recsys_itemitem.recommend(user, 5)\n",
    "        \n",
    "        items = list(recs['item'])\n",
    "        scores = list(recs['score'])\n",
    "        \n",
    "        items_list += items\n",
    "        best_scores.append(scores)\n",
    "    \n",
    "    items_list = list(np.unique(items_list)) \n",
    "    \n",
    "    predicted_ratings = []\n",
    "    \n",
    "    for user in current_group:\n",
    "        predicted_ratings.append(list(recsys_itemitem.predict_for_user(user, items_list).values))\n",
    "    \n",
    "    lower_threshold = 5\n",
    "    transposed_rating = np.transpose(predicted_ratings)\n",
    "    filtered_items_list = []\n",
    "    \n",
    "    for i in range(len(transposed_rating)):\n",
    "        if min(transposed_rating[i]) >= lower_threshold:\n",
    "            filtered_items_list.append(items_list[i])\n",
    "        \n",
    "    new_predicted_ratings = []\n",
    "    for user in current_group:\n",
    "        new_predicted_ratings.append(list(recsys_itemitem.predict_for_user(user, filtered_items_list).values))\n",
    "    \n",
    "    transposed_rating = np.transpose(new_predicted_ratings)\n",
    "    transposed_agg = []\n",
    "    for ratings in transposed_rating:\n",
    "#         transposed_agg.append(np.sum(ratings))\n",
    "        transposed_agg.append(np.max(ratings))\n",
    "    \n",
    "    agg_to_item = dict(zip(transposed_agg, filtered_items_list))\n",
    "    agg_to_item = dict(sorted(agg_to_item.items(), key=lambda x: x[0], reverse=True))\n",
    "    agg_to_item = dict(list(agg_to_item.items())[:5])\n",
    "    \n",
    "    final_items = list(agg_to_item.values())\n",
    "    predicted_ratings_list = []\n",
    "    \n",
    "    for user in current_group:\n",
    "        predicted_ratings_list.append(list(recsys_itemitem.predict_for_user(user, final_items).values))\n",
    "    \n",
    "    \n",
    "    current_ndcg = ndcg_score(best_scores, predicted_ratings_list)\n",
    "    ndcg_list.append(current_ndcg)"
   ]
  },
  {
   "cell_type": "code",
   "execution_count": 64,
   "metadata": {},
   "outputs": [
    {
     "data": {
      "text/plain": [
       "0.9966201795572952"
      ]
     },
     "execution_count": 64,
     "metadata": {},
     "output_type": "execute_result"
    }
   ],
   "source": [
    "np.mean(ndcg_list)"
   ]
  },
  {
   "cell_type": "markdown",
   "metadata": {},
   "source": [
    "Addition\\\n",
    "sim: 0.9968280467337415\\\n",
    "\\\n",
    "MP\\\n",
    "sim: 0.9966201795572952"
   ]
  }
 ],
 "metadata": {
  "kernelspec": {
   "display_name": "Python 3 (ipykernel)",
   "language": "python",
   "name": "python3"
  },
  "language_info": {
   "codemirror_mode": {
    "name": "ipython",
    "version": 3
   },
   "file_extension": ".py",
   "mimetype": "text/x-python",
   "name": "python",
   "nbconvert_exporter": "python",
   "pygments_lexer": "ipython3",
   "version": "3.9.7"
  }
 },
 "nbformat": 4,
 "nbformat_minor": 4
}
