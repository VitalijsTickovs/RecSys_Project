{
 "cells": [
  {
   "cell_type": "code",
   "execution_count": 3,
   "id": "cfcc6604",
   "metadata": {
    "scrolled": false
   },
   "outputs": [],
   "source": [
    "# !pip install lenskit"
   ]
  },
  {
   "cell_type": "code",
   "execution_count": 1,
   "id": "7de99a34",
   "metadata": {},
   "outputs": [],
   "source": [
    "import pandas as pd\n",
    "\n",
    "from lenskit.algorithms import Recommender\n",
    "from lenskit.algorithms.user_knn import UserUser\n",
    "from lenskit.algorithms.item_knn import ItemItem\n",
    "\n",
    "from sklearn.model_selection import train_test_split, KFold\n",
    "\n",
    "import numpy as np\n",
    "import statistics"
   ]
  },
  {
   "cell_type": "code",
   "execution_count": 2,
   "id": "c90a4fbd",
   "metadata": {},
   "outputs": [],
   "source": [
    "data_folder = '../data/'\n",
    "\n",
    "item_ratings_df = pd.read_csv(data_folder + 'user_ratings.csv')\n",
    "# item_ratings_df = pd.read_csv(data_folder + 'user_ratings_600k.csv')\n",
    "# item_ratings_df = pd.read_csv(data_folder + 'user_ratings_1.8m.csv')\n",
    "item_info = pd.read_csv(data_folder + 'games.csv')\n",
    "item_mecahnics = pd.read_csv(data_folder + 'mechanics.csv')\n",
    "item_subcategories = pd.read_csv(data_folder + 'subcategories.csv')\n",
    "item_themes = pd.read_csv(data_folder + 'themes.csv')"
   ]
  },
  {
   "cell_type": "code",
   "execution_count": 3,
   "id": "fd58447a",
   "metadata": {},
   "outputs": [],
   "source": [
    "item_ratings_df = item_ratings_df.rename(columns={\n",
    "    'BGGId':'item',\n",
    "    'Rating':'rating',\n",
    "    'Username':'user'\n",
    "})"
   ]
  },
  {
   "cell_type": "code",
   "execution_count": 4,
   "id": "26d653da",
   "metadata": {},
   "outputs": [
    {
     "data": {
      "text/html": [
       "<div>\n",
       "<style scoped>\n",
       "    .dataframe tbody tr th:only-of-type {\n",
       "        vertical-align: middle;\n",
       "    }\n",
       "\n",
       "    .dataframe tbody tr th {\n",
       "        vertical-align: top;\n",
       "    }\n",
       "\n",
       "    .dataframe thead th {\n",
       "        text-align: right;\n",
       "    }\n",
       "</style>\n",
       "<table border=\"1\" class=\"dataframe\">\n",
       "  <thead>\n",
       "    <tr style=\"text-align: right;\">\n",
       "      <th></th>\n",
       "      <th>item</th>\n",
       "      <th>rating</th>\n",
       "      <th>user</th>\n",
       "    </tr>\n",
       "  </thead>\n",
       "  <tbody>\n",
       "    <tr>\n",
       "      <th>0</th>\n",
       "      <td>213788</td>\n",
       "      <td>8.0</td>\n",
       "      <td>Tonydorrf</td>\n",
       "    </tr>\n",
       "    <tr>\n",
       "      <th>1</th>\n",
       "      <td>213788</td>\n",
       "      <td>8.0</td>\n",
       "      <td>tachyon14k</td>\n",
       "    </tr>\n",
       "    <tr>\n",
       "      <th>2</th>\n",
       "      <td>213788</td>\n",
       "      <td>8.0</td>\n",
       "      <td>Ungotter</td>\n",
       "    </tr>\n",
       "    <tr>\n",
       "      <th>3</th>\n",
       "      <td>213788</td>\n",
       "      <td>8.0</td>\n",
       "      <td>brainlocki3</td>\n",
       "    </tr>\n",
       "    <tr>\n",
       "      <th>4</th>\n",
       "      <td>213788</td>\n",
       "      <td>8.0</td>\n",
       "      <td>PPMP</td>\n",
       "    </tr>\n",
       "    <tr>\n",
       "      <th>...</th>\n",
       "      <td>...</td>\n",
       "      <td>...</td>\n",
       "      <td>...</td>\n",
       "    </tr>\n",
       "    <tr>\n",
       "      <th>18942210</th>\n",
       "      <td>165521</td>\n",
       "      <td>3.0</td>\n",
       "      <td>rseater</td>\n",
       "    </tr>\n",
       "    <tr>\n",
       "      <th>18942211</th>\n",
       "      <td>165521</td>\n",
       "      <td>3.0</td>\n",
       "      <td>Bluefox86</td>\n",
       "    </tr>\n",
       "    <tr>\n",
       "      <th>18942212</th>\n",
       "      <td>165521</td>\n",
       "      <td>3.0</td>\n",
       "      <td>serginator</td>\n",
       "    </tr>\n",
       "    <tr>\n",
       "      <th>18942213</th>\n",
       "      <td>193488</td>\n",
       "      <td>1.0</td>\n",
       "      <td>CaptainCattan</td>\n",
       "    </tr>\n",
       "    <tr>\n",
       "      <th>18942214</th>\n",
       "      <td>193488</td>\n",
       "      <td>1.0</td>\n",
       "      <td>trodat123</td>\n",
       "    </tr>\n",
       "  </tbody>\n",
       "</table>\n",
       "<p>18942215 rows × 3 columns</p>\n",
       "</div>"
      ],
      "text/plain": [
       "            item  rating           user\n",
       "0         213788     8.0      Tonydorrf\n",
       "1         213788     8.0     tachyon14k\n",
       "2         213788     8.0       Ungotter\n",
       "3         213788     8.0    brainlocki3\n",
       "4         213788     8.0           PPMP\n",
       "...          ...     ...            ...\n",
       "18942210  165521     3.0        rseater\n",
       "18942211  165521     3.0      Bluefox86\n",
       "18942212  165521     3.0     serginator\n",
       "18942213  193488     1.0  CaptainCattan\n",
       "18942214  193488     1.0      trodat123\n",
       "\n",
       "[18942215 rows x 3 columns]"
      ]
     },
     "execution_count": 4,
     "metadata": {},
     "output_type": "execute_result"
    }
   ],
   "source": [
    "item_ratings_df"
   ]
  },
  {
   "cell_type": "code",
   "execution_count": 5,
   "id": "787c0d6d",
   "metadata": {},
   "outputs": [
    {
     "data": {
      "text/html": [
       "<div>\n",
       "<style scoped>\n",
       "    .dataframe tbody tr th:only-of-type {\n",
       "        vertical-align: middle;\n",
       "    }\n",
       "\n",
       "    .dataframe tbody tr th {\n",
       "        vertical-align: top;\n",
       "    }\n",
       "\n",
       "    .dataframe thead th {\n",
       "        text-align: right;\n",
       "    }\n",
       "</style>\n",
       "<table border=\"1\" class=\"dataframe\">\n",
       "  <thead>\n",
       "    <tr style=\"text-align: right;\">\n",
       "      <th></th>\n",
       "      <th>item</th>\n",
       "      <th>rating</th>\n",
       "    </tr>\n",
       "    <tr>\n",
       "      <th>user</th>\n",
       "      <th></th>\n",
       "      <th></th>\n",
       "    </tr>\n",
       "  </thead>\n",
       "  <tbody>\n",
       "    <tr>\n",
       "      <th>Fu_Koios</th>\n",
       "      <td>2</td>\n",
       "      <td>2</td>\n",
       "    </tr>\n",
       "    <tr>\n",
       "      <th>beastvol</th>\n",
       "      <td>9</td>\n",
       "      <td>9</td>\n",
       "    </tr>\n",
       "    <tr>\n",
       "      <th>mycroft</th>\n",
       "      <td>14</td>\n",
       "      <td>14</td>\n",
       "    </tr>\n",
       "    <tr>\n",
       "      <th>woh</th>\n",
       "      <td>5</td>\n",
       "      <td>5</td>\n",
       "    </tr>\n",
       "    <tr>\n",
       "      <th>(mostly) harmless</th>\n",
       "      <td>1</td>\n",
       "      <td>1</td>\n",
       "    </tr>\n",
       "    <tr>\n",
       "      <th>...</th>\n",
       "      <td>...</td>\n",
       "      <td>...</td>\n",
       "    </tr>\n",
       "    <tr>\n",
       "      <th>zzzuzu</th>\n",
       "      <td>39</td>\n",
       "      <td>39</td>\n",
       "    </tr>\n",
       "    <tr>\n",
       "      <th>zzzvone</th>\n",
       "      <td>21</td>\n",
       "      <td>21</td>\n",
       "    </tr>\n",
       "    <tr>\n",
       "      <th>zzzxxxyyy</th>\n",
       "      <td>36</td>\n",
       "      <td>36</td>\n",
       "    </tr>\n",
       "    <tr>\n",
       "      <th>zzzzzane</th>\n",
       "      <td>154</td>\n",
       "      <td>154</td>\n",
       "    </tr>\n",
       "    <tr>\n",
       "      <th>Æleksandr Þræð</th>\n",
       "      <td>12</td>\n",
       "      <td>12</td>\n",
       "    </tr>\n",
       "  </tbody>\n",
       "</table>\n",
       "<p>411374 rows × 2 columns</p>\n",
       "</div>"
      ],
      "text/plain": [
       "                   item  rating\n",
       "user                           \n",
       " Fu_Koios             2       2\n",
       " beastvol             9       9\n",
       " mycroft             14      14\n",
       " woh                  5       5\n",
       "(mostly) harmless     1       1\n",
       "...                 ...     ...\n",
       "zzzuzu               39      39\n",
       "zzzvone              21      21\n",
       "zzzxxxyyy            36      36\n",
       "zzzzzane            154     154\n",
       "Æleksandr Þræð       12      12\n",
       "\n",
       "[411374 rows x 2 columns]"
      ]
     },
     "execution_count": 5,
     "metadata": {},
     "output_type": "execute_result"
    }
   ],
   "source": [
    "user_rating_count = item_ratings_df.groupby('user').count()\n",
    "user_rating_count"
   ]
  },
  {
   "cell_type": "code",
   "execution_count": 6,
   "id": "edbda74f",
   "metadata": {},
   "outputs": [],
   "source": [
    "min_rating_count = 10\n",
    "user_rating_count = user_rating_count[user_rating_count['rating'] >= min_rating_count]"
   ]
  },
  {
   "cell_type": "code",
   "execution_count": 7,
   "id": "0f0cc3eb",
   "metadata": {},
   "outputs": [],
   "source": [
    "user_list_filtered = list(user_rating_count.index)"
   ]
  },
  {
   "cell_type": "code",
   "execution_count": 8,
   "id": "9476fcf1",
   "metadata": {},
   "outputs": [
    {
     "data": {
      "text/plain": [
       "411375"
      ]
     },
     "execution_count": 8,
     "metadata": {},
     "output_type": "execute_result"
    }
   ],
   "source": [
    "len(item_ratings_df['user'].unique())"
   ]
  },
  {
   "cell_type": "code",
   "execution_count": 9,
   "id": "19320a98",
   "metadata": {},
   "outputs": [
    {
     "data": {
      "text/plain": [
       "224604"
      ]
     },
     "execution_count": 9,
     "metadata": {},
     "output_type": "execute_result"
    }
   ],
   "source": [
    "len(user_list_filtered)"
   ]
  },
  {
   "cell_type": "code",
   "execution_count": 10,
   "id": "cec40a8b",
   "metadata": {},
   "outputs": [],
   "source": [
    "item_ratings_df_filtered = item_ratings_df[item_ratings_df['user'].isin(user_list_filtered)]"
   ]
  },
  {
   "cell_type": "code",
   "execution_count": 11,
   "id": "a471839d",
   "metadata": {},
   "outputs": [
    {
     "data": {
      "text/plain": [
       "224604"
      ]
     },
     "execution_count": 11,
     "metadata": {},
     "output_type": "execute_result"
    }
   ],
   "source": [
    "len(item_ratings_df_filtered['user'].unique())"
   ]
  },
  {
   "cell_type": "code",
   "execution_count": 12,
   "id": "b2eeabd2",
   "metadata": {},
   "outputs": [],
   "source": [
    "# item_ratings_df_filtered.drop(columns = ['Unnamed: 0'], inplace = True)"
   ]
  },
  {
   "cell_type": "code",
   "execution_count": 13,
   "id": "20c81ae4",
   "metadata": {},
   "outputs": [
    {
     "data": {
      "text/html": [
       "<div>\n",
       "<style scoped>\n",
       "    .dataframe tbody tr th:only-of-type {\n",
       "        vertical-align: middle;\n",
       "    }\n",
       "\n",
       "    .dataframe tbody tr th {\n",
       "        vertical-align: top;\n",
       "    }\n",
       "\n",
       "    .dataframe thead th {\n",
       "        text-align: right;\n",
       "    }\n",
       "</style>\n",
       "<table border=\"1\" class=\"dataframe\">\n",
       "  <thead>\n",
       "    <tr style=\"text-align: right;\">\n",
       "      <th></th>\n",
       "      <th>item</th>\n",
       "      <th>rating</th>\n",
       "      <th>user</th>\n",
       "    </tr>\n",
       "  </thead>\n",
       "  <tbody>\n",
       "    <tr>\n",
       "      <th>0</th>\n",
       "      <td>213788</td>\n",
       "      <td>8.0</td>\n",
       "      <td>Tonydorrf</td>\n",
       "    </tr>\n",
       "    <tr>\n",
       "      <th>1</th>\n",
       "      <td>213788</td>\n",
       "      <td>8.0</td>\n",
       "      <td>tachyon14k</td>\n",
       "    </tr>\n",
       "    <tr>\n",
       "      <th>2</th>\n",
       "      <td>213788</td>\n",
       "      <td>8.0</td>\n",
       "      <td>Ungotter</td>\n",
       "    </tr>\n",
       "    <tr>\n",
       "      <th>3</th>\n",
       "      <td>213788</td>\n",
       "      <td>8.0</td>\n",
       "      <td>brainlocki3</td>\n",
       "    </tr>\n",
       "    <tr>\n",
       "      <th>4</th>\n",
       "      <td>213788</td>\n",
       "      <td>8.0</td>\n",
       "      <td>PPMP</td>\n",
       "    </tr>\n",
       "    <tr>\n",
       "      <th>...</th>\n",
       "      <td>...</td>\n",
       "      <td>...</td>\n",
       "      <td>...</td>\n",
       "    </tr>\n",
       "    <tr>\n",
       "      <th>18942210</th>\n",
       "      <td>165521</td>\n",
       "      <td>3.0</td>\n",
       "      <td>rseater</td>\n",
       "    </tr>\n",
       "    <tr>\n",
       "      <th>18942211</th>\n",
       "      <td>165521</td>\n",
       "      <td>3.0</td>\n",
       "      <td>Bluefox86</td>\n",
       "    </tr>\n",
       "    <tr>\n",
       "      <th>18942212</th>\n",
       "      <td>165521</td>\n",
       "      <td>3.0</td>\n",
       "      <td>serginator</td>\n",
       "    </tr>\n",
       "    <tr>\n",
       "      <th>18942213</th>\n",
       "      <td>193488</td>\n",
       "      <td>1.0</td>\n",
       "      <td>CaptainCattan</td>\n",
       "    </tr>\n",
       "    <tr>\n",
       "      <th>18942214</th>\n",
       "      <td>193488</td>\n",
       "      <td>1.0</td>\n",
       "      <td>trodat123</td>\n",
       "    </tr>\n",
       "  </tbody>\n",
       "</table>\n",
       "<p>18372987 rows × 3 columns</p>\n",
       "</div>"
      ],
      "text/plain": [
       "            item  rating           user\n",
       "0         213788     8.0      Tonydorrf\n",
       "1         213788     8.0     tachyon14k\n",
       "2         213788     8.0       Ungotter\n",
       "3         213788     8.0    brainlocki3\n",
       "4         213788     8.0           PPMP\n",
       "...          ...     ...            ...\n",
       "18942210  165521     3.0        rseater\n",
       "18942211  165521     3.0      Bluefox86\n",
       "18942212  165521     3.0     serginator\n",
       "18942213  193488     1.0  CaptainCattan\n",
       "18942214  193488     1.0      trodat123\n",
       "\n",
       "[18372987 rows x 3 columns]"
      ]
     },
     "execution_count": 13,
     "metadata": {},
     "output_type": "execute_result"
    }
   ],
   "source": [
    "item_ratings_df_filtered"
   ]
  },
  {
   "cell_type": "markdown",
   "id": "fb120c6c",
   "metadata": {},
   "source": [
    "### Build User CF"
   ]
  },
  {
   "cell_type": "code",
   "execution_count": 22,
   "id": "1956bae4",
   "metadata": {},
   "outputs": [
    {
     "name": "stderr",
     "output_type": "stream",
     "text": [
      "could not load LIBBLAS: Could not find module 'libblas' (or one of its dependencies). Try using the full path with constructor syntax.\n"
     ]
    },
    {
     "data": {
      "text/plain": [
       "<lenskit.algorithms.ranking.TopN at 0x2450e9045b0>"
      ]
     },
     "execution_count": 22,
     "metadata": {},
     "output_type": "execute_result"
    }
   ],
   "source": [
    "num_recs = 10  # Number of recommendations to generate\n",
    "user_user = UserUser(15, min_nbrs=3)  # Minimum (3) and maximum (15) number of neighbors to consider\n",
    "recsys = Recommender.adapt(user_user)\n",
    "recsys.fit(item_ratings_df_filtered)"
   ]
  },
  {
   "cell_type": "code",
   "execution_count": 24,
   "id": "c6e7cce8",
   "metadata": {},
   "outputs": [
    {
     "data": {
      "text/html": [
       "<div>\n",
       "<style scoped>\n",
       "    .dataframe tbody tr th:only-of-type {\n",
       "        vertical-align: middle;\n",
       "    }\n",
       "\n",
       "    .dataframe tbody tr th {\n",
       "        vertical-align: top;\n",
       "    }\n",
       "\n",
       "    .dataframe thead th {\n",
       "        text-align: right;\n",
       "    }\n",
       "</style>\n",
       "<table border=\"1\" class=\"dataframe\">\n",
       "  <thead>\n",
       "    <tr style=\"text-align: right;\">\n",
       "      <th></th>\n",
       "      <th>item</th>\n",
       "      <th>score</th>\n",
       "    </tr>\n",
       "  </thead>\n",
       "  <tbody>\n",
       "    <tr>\n",
       "      <th>0</th>\n",
       "      <td>31790</td>\n",
       "      <td>8.515042</td>\n",
       "    </tr>\n",
       "    <tr>\n",
       "      <th>1</th>\n",
       "      <td>1035</td>\n",
       "      <td>8.472967</td>\n",
       "    </tr>\n",
       "    <tr>\n",
       "      <th>2</th>\n",
       "      <td>23418</td>\n",
       "      <td>8.434086</td>\n",
       "    </tr>\n",
       "    <tr>\n",
       "      <th>3</th>\n",
       "      <td>18098</td>\n",
       "      <td>8.184158</td>\n",
       "    </tr>\n",
       "    <tr>\n",
       "      <th>4</th>\n",
       "      <td>129556</td>\n",
       "      <td>7.915450</td>\n",
       "    </tr>\n",
       "    <tr>\n",
       "      <th>5</th>\n",
       "      <td>60153</td>\n",
       "      <td>7.827937</td>\n",
       "    </tr>\n",
       "    <tr>\n",
       "      <th>6</th>\n",
       "      <td>278292</td>\n",
       "      <td>7.727529</td>\n",
       "    </tr>\n",
       "    <tr>\n",
       "      <th>7</th>\n",
       "      <td>421</td>\n",
       "      <td>7.692950</td>\n",
       "    </tr>\n",
       "    <tr>\n",
       "      <th>8</th>\n",
       "      <td>342942</td>\n",
       "      <td>7.691776</td>\n",
       "    </tr>\n",
       "    <tr>\n",
       "      <th>9</th>\n",
       "      <td>225244</td>\n",
       "      <td>7.688135</td>\n",
       "    </tr>\n",
       "  </tbody>\n",
       "</table>\n",
       "</div>"
      ],
      "text/plain": [
       "     item     score\n",
       "0   31790  8.515042\n",
       "1    1035  8.472967\n",
       "2   23418  8.434086\n",
       "3   18098  8.184158\n",
       "4  129556  7.915450\n",
       "5   60153  7.827937\n",
       "6  278292  7.727529\n",
       "7     421  7.692950\n",
       "8  342942  7.691776\n",
       "9  225244  7.688135"
      ]
     },
     "execution_count": 24,
     "metadata": {},
     "output_type": "execute_result"
    }
   ],
   "source": [
    "recsys.recommend('zzzabiss', 10)"
   ]
  },
  {
   "cell_type": "markdown",
   "id": "edaf30e5",
   "metadata": {},
   "source": [
    "#### Test User CF"
   ]
  },
  {
   "cell_type": "code",
   "execution_count": 88,
   "id": "50cf53fb",
   "metadata": {},
   "outputs": [],
   "source": [
    "# from sklearn.model_selection import StratifiedKFold\n",
    "from sklearn.model_selection import KFold, train_test_split\n",
    "from sklearn.metrics import mean_squared_error, mean_absolute_error"
   ]
  },
  {
   "cell_type": "code",
   "execution_count": null,
   "id": "fedde44e",
   "metadata": {},
   "outputs": [],
   "source": [
    "item_ratings_df_filtered"
   ]
  },
  {
   "cell_type": "code",
   "execution_count": null,
   "id": "09e44a87",
   "metadata": {},
   "outputs": [],
   "source": [
    "kf = KFold(n_splits=5, shuffle=True)"
   ]
  },
  {
   "cell_type": "code",
   "execution_count": 107,
   "id": "11499aa7",
   "metadata": {},
   "outputs": [
    {
     "name": "stdout",
     "output_type": "stream",
     "text": [
      "Doing fold no: 1\n",
      "Dataframes created\n",
      "Model is fitted\n",
      "nan values: 167\n",
      "non-nan values: 3508\n",
      "Doing fold no: 2\n",
      "Dataframes created\n",
      "Model is fitted\n",
      "nan values: 145\n",
      "non-nan values: 3530\n",
      "Doing fold no: 3\n",
      "Dataframes created\n",
      "Model is fitted\n",
      "nan values: 162\n",
      "non-nan values: 3513\n",
      "Doing fold no: 4\n",
      "Dataframes created\n",
      "Model is fitted\n",
      "nan values: 138\n",
      "non-nan values: 3537\n",
      "Doing fold no: 5\n",
      "Dataframes created\n",
      "Model is fitted\n",
      "nan values: 130\n",
      "non-nan values: 3545\n"
     ]
    },
    {
     "data": {
      "text/plain": [
       "{'avg_mae': 2.4439147110217045,\n",
       " 'stdv_mae': 0.03579011749643922,\n",
       " 'avg_rmse': 2.9253392472317494,\n",
       " 'stdv_rmse': 0.04126334411082854,\n",
       " 'avg_nans': 148.4,\n",
       " 'avg_non_nans': 3526.6}"
      ]
     },
     "metadata": {},
     "output_type": "display_data"
    }
   ],
   "source": [
    "mae_list = list()\n",
    "rmse_list = list()\n",
    "nans_list = list()\n",
    "non_nans_list = list()\n",
    "\n",
    "count = 1\n",
    "\n",
    "for train_index, test_index in kf.split(item_ratings_df_filtered):\n",
    "    print(f'Doing fold no: {count}')\n",
    "    count += 1\n",
    "    \n",
    "    train_df = item_ratings_df_filtered.iloc[train_index]\n",
    "    test_df = item_ratings_df_filtered.iloc[test_index]\n",
    "    print('Dataframes created')\n",
    "    \n",
    "    user_user = UserUser(10, min_nbrs=3)\n",
    "    recsys = Recommender.adapt(user_user)\n",
    "    recsys.fit(train_df)\n",
    "    print('Model is fitted')\n",
    "    \n",
    "    predicted = recsys.predict(test_df.sample(frac = 0.001))\n",
    "    \n",
    "    y_test = list(test_df['rating'])\n",
    "    y_pred = list(predicted)\n",
    "    \n",
    "    y_test_not_nan = list()\n",
    "    y_pred_not_nan = list()\n",
    "    \n",
    "    nans = 0\n",
    "    non_nans = 0\n",
    "    \n",
    "    for i in range(len(y_pred)):\n",
    "        num = y_pred[i]\n",
    "        \n",
    "        if np.isnan(num):\n",
    "            nans += 1\n",
    "        else:\n",
    "            non_nans += 1\n",
    "            y_test_not_nan.append(y_test[i])\n",
    "            y_pred_not_nan.append(num)\n",
    "            \n",
    "    print(f'nan values: {nans}')\n",
    "    print(f'non-nan values: {non_nans}')\n",
    "    \n",
    "    mae = mean_absolute_error(y_test_not_nan, y_pred_not_nan)\n",
    "    rmse = mean_squared_error(y_test_not_nan, y_pred_not_nan, squared = False)\n",
    "    \n",
    "    mae_list.append(mae)\n",
    "    rmse_list.append(rmse)\n",
    "    nans_list.append(nans)\n",
    "    non_nans_list.append(non_nans)\n",
    "    \n",
    "# Compute average results and standard deviations\n",
    "results = {\n",
    "    'avg_mae' : statistics.mean(mae_list),\n",
    "    'stdv_mae' : statistics.stdev(mae_list),\n",
    "    'avg_rmse' : statistics.mean(rmse_list),\n",
    "    'stdv_rmse' : statistics.stdev(rmse_list),\n",
    "    'avg_nans': statistics.mean(nans_list),\n",
    "    'avg_non_nans' : statistics.mean(non_nans_list)\n",
    "}\n",
    "\n",
    "display(results)"
   ]
  },
  {
   "cell_type": "markdown",
   "id": "7b515dbf",
   "metadata": {},
   "source": [
    "test_df.sample(frac = 0.001)\\\n",
    "user_user = UserUser(10, min_nbrs=3)\\\n",
    "\n",
    "{'avg_mae': 2.4439147110217045,\\\n",
    " 'stdv_mae': 0.03579011749643922,\\\n",
    " 'avg_rmse': 2.9253392472317494,\\\n",
    " 'stdv_rmse': 0.04126334411082854,\\\n",
    " 'avg_nans': 148.4,\\\n",
    " 'avg_non_nans': 3526.6}"
   ]
  }
 ],
 "metadata": {
  "kernelspec": {
   "display_name": "Python 3 (ipykernel)",
   "language": "python",
   "name": "python3"
  },
  "language_info": {
   "codemirror_mode": {
    "name": "ipython",
    "version": 3
   },
   "file_extension": ".py",
   "mimetype": "text/x-python",
   "name": "python",
   "nbconvert_exporter": "python",
   "pygments_lexer": "ipython3",
   "version": "3.9.7"
  }
 },
 "nbformat": 4,
 "nbformat_minor": 5
}
