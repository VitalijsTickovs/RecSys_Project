{
 "cells": [
  {
   "cell_type": "markdown",
   "id": "cfcc6604",
   "metadata": {
    "scrolled": false
   },
   "source": [
    "# Content-based Filtering Group Explanations"
   ]
  },
  {
   "cell_type": "code",
   "execution_count": 52,
   "id": "7de99a34",
   "metadata": {},
   "outputs": [],
   "source": [
    "import pandas as pd\n",
    "import numpy as np\n",
    "import time\n",
    "import math\n",
    "from math import sqrt\n",
    "import random\n",
    "import matplotlib.pyplot as plt\n",
    "import seaborn as sns\n",
    "import plotly.express as px\n",
    "from scipy.stats import pearsonr\n",
    "from scipy.sparse import csr_matrix\n",
    "from xgboost import XGBRegressor\n",
    "import pickle\n",
    "from itertools import chain\n",
    "\n",
    "from sklearn.manifold import TSNE\n",
    "from sklearn.model_selection import train_test_split\n",
    "from sklearn.svm import SVR\n",
    "from sklearn.preprocessing import StandardScaler\n",
    "from sklearn.metrics import mean_squared_error\n",
    "from sklearn.metrics import mean_absolute_error\n",
    "from sklearn.tree import DecisionTreeRegressor\n",
    "from sklearn import tree\n",
    "random.seed(42)"
   ]
  },
  {
   "cell_type": "code",
   "execution_count": 2,
   "id": "c90a4fbd",
   "metadata": {},
   "outputs": [],
   "source": [
    "# load data\n",
    "data_folder = '../data/'\n",
    "user_item_ratings_reduced = pd.read_csv(f'{data_folder}user_ratings_reduced.csv')\n",
    "user_item_ratings_reduced = user_item_ratings_reduced.drop(columns=[\"Unnamed: 0\"])\n",
    "item_ratings_df = pd.read_csv(data_folder + 'user_ratings.csv')\n",
    "item_info = pd.read_csv(data_folder + 'games.csv')\n",
    "item_mecahnics = pd.read_csv(data_folder + 'mechanics.csv')\n",
    "item_subcategories = pd.read_csv(data_folder + 'subcategories.csv')\n",
    "item_themes = pd.read_csv(data_folder + 'themes.csv')"
   ]
  },
  {
   "cell_type": "code",
   "execution_count": 14,
   "id": "9e3d0ee1",
   "metadata": {},
   "outputs": [],
   "source": [
    "# load groups\n",
    "filename = '../group_data/clusters_ids.npy'\n",
    "groups = np.load(filename, allow_pickle=True)"
   ]
  },
  {
   "cell_type": "code",
   "execution_count": 3,
   "id": "eb6077c8",
   "metadata": {},
   "outputs": [],
   "source": [
    "# user_item_ratings_reduced['rating'] = user_item_ratings_reduced['rating'].round(0).astype(int)"
   ]
  },
  {
   "cell_type": "code",
   "execution_count": 5,
   "id": "787c0d6d",
   "metadata": {},
   "outputs": [],
   "source": [
    "user_item_rating_count = user_item_ratings_reduced.groupby('user').count()"
   ]
  },
  {
   "cell_type": "code",
   "execution_count": 6,
   "id": "edbda74f",
   "metadata": {},
   "outputs": [],
   "source": [
    "min_rating_count = 10\n",
    "user_rating_count = user_item_rating_count[user_item_rating_count['rating'] >= min_rating_count]\n",
    "user_list_filtered = list(user_rating_count.index)\n",
    "user_item_ratings_filtered = user_item_ratings_reduced[user_item_ratings_reduced['user'].isin(user_list_filtered)]"
   ]
  },
  {
   "cell_type": "markdown",
   "id": "a3cf9602",
   "metadata": {},
   "source": [
    "### Preprocessing"
   ]
  },
  {
   "cell_type": "code",
   "execution_count": 7,
   "id": "00578f2e",
   "metadata": {},
   "outputs": [],
   "source": [
    "# item_ratings_df = pd.read_csv(data_folder + 'user_ratings.csv')\n",
    "# item_info = pd.read_csv(data_folder + 'games.csv')\n",
    "# item_mecahnics = pd.read_csv(data_folder + 'mechanics.csv')\n",
    "# item_subcategories = pd.read_csv(data_folder + 'subcategories.csv')\n",
    "# item_themes = pd.read_csv(data_folder + 'themes.csv')"
   ]
  },
  {
   "cell_type": "code",
   "execution_count": 8,
   "id": "2ac8504c",
   "metadata": {},
   "outputs": [],
   "source": [
    "item_info.rename(columns={'BGGId':'item'},inplace=True)\n",
    "# get comeplete user-catalog data\n",
    "user_item_complete = pd.merge(user_item_ratings_filtered, item_info, on='item', how='inner')\n",
    "# item_info.info() \n",
    "# item_info[['GoodPlayers', 'Family', 'ImagePath']].head()\n",
    "non_numerical_features = ['user','Name','Description', 'item', 'GoodPlayers', 'Family', 'ImagePath']"
   ]
  },
  {
   "cell_type": "code",
   "execution_count": 9,
   "id": "9f744423",
   "metadata": {},
   "outputs": [],
   "source": [
    "# find a median rating for each user\n",
    "median_rating = user_item_complete.groupby('user')['rating'].median().rename('median_rating').reset_index()\n",
    "user_item_complete = pd.merge(user_item_complete, median_rating, on='user', how='inner')"
   ]
  },
  {
   "cell_type": "markdown",
   "id": "123d4756",
   "metadata": {},
   "source": [
    "User-Item matrix has size (1_228_331, 51) after selecting users with >= `min_rating_count`\n",
    "\n",
    "User-Item matrix has size (771_551, 51) after selecting items for users with rating higher than their mean rating"
   ]
  },
  {
   "cell_type": "code",
   "execution_count": 11,
   "id": "bf63c1ca",
   "metadata": {},
   "outputs": [],
   "source": [
    "def get_all_items_for_user(username, complete_df):\n",
    "    return complete_df[complete_df['user']==username].drop(columns=['user'])  "
   ]
  },
  {
   "cell_type": "code",
   "execution_count": 37,
   "id": "5d227674",
   "metadata": {},
   "outputs": [],
   "source": [
    "def get_all_items_for_group(group_ids, complete_df):\n",
    "    return complete_df[complete_df['user'].isin(group_ids)]"
   ]
  },
  {
   "cell_type": "code",
   "execution_count": 13,
   "id": "973195e6",
   "metadata": {},
   "outputs": [],
   "source": [
    "def add_avg_group_rating(selected_items, group, complete):\n",
    "    selected_items.reset_index(drop=True, inplace=True)\n",
    "    selected_items['avg_group_rating'] = 0\n",
    "    group_users = group['user'].unique()\n",
    "    for index,item in selected_items.iterrows():\n",
    "        item_in_group = complete[(complete['user'].isin(group_users))&(complete['item']==item['item'])]\n",
    "        average_group_rating = item_in_group['rating'].mean()\n",
    "        item['avg_group_rating'] = average_group_rating\n",
    "        selected_items.iloc[index,:] = item\n",
    "        \n",
    "    return selected_items\n",
    "        "
   ]
  },
  {
   "cell_type": "code",
   "execution_count": 22,
   "id": "384a9510",
   "metadata": {},
   "outputs": [],
   "source": [
    "def save(obj):\n",
    "    def get_variable_name(var):\n",
    "        # Iterate over the global variables\n",
    "        for name, value in globals().items():\n",
    "            if value is var:\n",
    "                return name\n",
    "        return None\n",
    "    name = get_variable_name(obj)\n",
    "    with open(\"saved/\"+name+\".pkl\", \"wb\") as f: # \"wb\" because we want to write in binary mode\n",
    "        pickle.dump(obj, f)\n",
    "        \n",
    "def load_obj(path):\n",
    "    with open(path, 'rb') as f:\n",
    "        return pickle.load(f)"
   ]
  },
  {
   "cell_type": "code",
   "execution_count": 15,
   "id": "25b1dc85",
   "metadata": {},
   "outputs": [],
   "source": [
    "group0 = groups[0]\n",
    "g0_items = get_all_items_for_group(group0, user_item_complete)\n",
    "g0_items.shape"
   ]
  },
  {
   "cell_type": "code",
   "execution_count": 19,
   "id": "8d29d440",
   "metadata": {},
   "outputs": [],
   "source": [
    "from cb_features import cb_features\n",
    "final_item_features = ['item','user','rating']+cb_features"
   ]
  },
  {
   "cell_type": "code",
   "execution_count": 20,
   "id": "72770590",
   "metadata": {},
   "outputs": [],
   "source": [
    "mechanics_features = ['mechanic_' + i if not i == 'BGGId' else i for i in item_mecahnics.columns]\n",
    "subcategory_features = ['subcategory_' + i if not i == 'BGGId' else i for i in item_subcategories.columns]\n",
    "theme_features = ['theme_' + i.split('_')[-1] if not i == 'BGGId' else i for i in item_themes.columns]\n",
    "\n",
    "item_mecahnics.columns = mechanics_features\n",
    "item_subcategories.columns = subcategory_features\n",
    "item_themes.columns = theme_features\n",
    "\n",
    "item_catalog = pd.merge(item_mecahnics, item_subcategories, on='BGGId', how='outer')\n",
    "item_catalog = pd.merge(item_catalog, item_themes, on='BGGId', how='outer')"
   ]
  },
  {
   "cell_type": "code",
   "execution_count": 21,
   "id": "4f029286",
   "metadata": {},
   "outputs": [],
   "source": [
    "user_item_selected = user_item_complete[final_item_features]\n",
    "user_item_all_features = pd.merge(user_item_selected, item_catalog, left_on='item', right_on='BGGId', how='left')"
   ]
  },
  {
   "cell_type": "code",
   "execution_count": 40,
   "id": "b80aba0f",
   "metadata": {},
   "outputs": [],
   "source": [
    "user_item_all_features['ComAgeRec'].fillna(value=user_item_all_features['ComAgeRec'].mean(), inplace=True)"
   ]
  },
  {
   "cell_type": "code",
   "execution_count": 22,
   "id": "2d18e0f4",
   "metadata": {},
   "outputs": [
    {
     "data": {
      "text/plain": [
       "Index(['user'], dtype='object')"
      ]
     },
     "execution_count": 22,
     "metadata": {},
     "output_type": "execute_result"
    }
   ],
   "source": [
    "user_item_all_features.select_dtypes(include=['object']).columns"
   ]
  },
  {
   "cell_type": "code",
   "execution_count": 55,
   "id": "ea7ccf5a",
   "metadata": {},
   "outputs": [],
   "source": [
    "all_user_names = user_item_all_features.user.unique()"
   ]
  },
  {
   "cell_type": "code",
   "execution_count": 33,
   "id": "48997977",
   "metadata": {},
   "outputs": [],
   "source": [
    "def generate_Xy_for_group(group_ids, complete_df):\n",
    "    scaler = StandardScaler()\n",
    "    group_rated_items = get_all_items_for_group(group_ids,complete_df)\n",
    "    index_x = group_rated_items.index\n",
    "    X = group_rated_items.drop(columns=['user','rating', 'item'])\n",
    "    normalized_matrix = scaler.fit_transform(X)\n",
    "    X =  pd.DataFrame(normalized_matrix, columns=X.columns, index=index_x)\n",
    "    y = group_rated_items['rating']\n",
    "    return X,y"
   ]
  },
  {
   "cell_type": "code",
   "execution_count": 41,
   "id": "80aaf9ee",
   "metadata": {},
   "outputs": [],
   "source": [
    "X,y = generate_Xy_for_group(group0,user_item_all_features[final_item_features])\n",
    "train_X, test_X, train_y, test_y = train_test_split(X,y,test_size=0.2, random_state=42)"
   ]
  },
  {
   "cell_type": "code",
   "execution_count": 42,
   "id": "927d2bdd",
   "metadata": {},
   "outputs": [
    {
     "data": {
      "text/html": [
       "<style>#sk-container-id-1 {color: black;background-color: white;}#sk-container-id-1 pre{padding: 0;}#sk-container-id-1 div.sk-toggleable {background-color: white;}#sk-container-id-1 label.sk-toggleable__label {cursor: pointer;display: block;width: 100%;margin-bottom: 0;padding: 0.3em;box-sizing: border-box;text-align: center;}#sk-container-id-1 label.sk-toggleable__label-arrow:before {content: \"▸\";float: left;margin-right: 0.25em;color: #696969;}#sk-container-id-1 label.sk-toggleable__label-arrow:hover:before {color: black;}#sk-container-id-1 div.sk-estimator:hover label.sk-toggleable__label-arrow:before {color: black;}#sk-container-id-1 div.sk-toggleable__content {max-height: 0;max-width: 0;overflow: hidden;text-align: left;background-color: #f0f8ff;}#sk-container-id-1 div.sk-toggleable__content pre {margin: 0.2em;color: black;border-radius: 0.25em;background-color: #f0f8ff;}#sk-container-id-1 input.sk-toggleable__control:checked~div.sk-toggleable__content {max-height: 200px;max-width: 100%;overflow: auto;}#sk-container-id-1 input.sk-toggleable__control:checked~label.sk-toggleable__label-arrow:before {content: \"▾\";}#sk-container-id-1 div.sk-estimator input.sk-toggleable__control:checked~label.sk-toggleable__label {background-color: #d4ebff;}#sk-container-id-1 div.sk-label input.sk-toggleable__control:checked~label.sk-toggleable__label {background-color: #d4ebff;}#sk-container-id-1 input.sk-hidden--visually {border: 0;clip: rect(1px 1px 1px 1px);clip: rect(1px, 1px, 1px, 1px);height: 1px;margin: -1px;overflow: hidden;padding: 0;position: absolute;width: 1px;}#sk-container-id-1 div.sk-estimator {font-family: monospace;background-color: #f0f8ff;border: 1px dotted black;border-radius: 0.25em;box-sizing: border-box;margin-bottom: 0.5em;}#sk-container-id-1 div.sk-estimator:hover {background-color: #d4ebff;}#sk-container-id-1 div.sk-parallel-item::after {content: \"\";width: 100%;border-bottom: 1px solid gray;flex-grow: 1;}#sk-container-id-1 div.sk-label:hover label.sk-toggleable__label {background-color: #d4ebff;}#sk-container-id-1 div.sk-serial::before {content: \"\";position: absolute;border-left: 1px solid gray;box-sizing: border-box;top: 0;bottom: 0;left: 50%;z-index: 0;}#sk-container-id-1 div.sk-serial {display: flex;flex-direction: column;align-items: center;background-color: white;padding-right: 0.2em;padding-left: 0.2em;position: relative;}#sk-container-id-1 div.sk-item {position: relative;z-index: 1;}#sk-container-id-1 div.sk-parallel {display: flex;align-items: stretch;justify-content: center;background-color: white;position: relative;}#sk-container-id-1 div.sk-item::before, #sk-container-id-1 div.sk-parallel-item::before {content: \"\";position: absolute;border-left: 1px solid gray;box-sizing: border-box;top: 0;bottom: 0;left: 50%;z-index: -1;}#sk-container-id-1 div.sk-parallel-item {display: flex;flex-direction: column;z-index: 1;position: relative;background-color: white;}#sk-container-id-1 div.sk-parallel-item:first-child::after {align-self: flex-end;width: 50%;}#sk-container-id-1 div.sk-parallel-item:last-child::after {align-self: flex-start;width: 50%;}#sk-container-id-1 div.sk-parallel-item:only-child::after {width: 0;}#sk-container-id-1 div.sk-dashed-wrapped {border: 1px dashed gray;margin: 0 0.4em 0.5em 0.4em;box-sizing: border-box;padding-bottom: 0.4em;background-color: white;}#sk-container-id-1 div.sk-label label {font-family: monospace;font-weight: bold;display: inline-block;line-height: 1.2em;}#sk-container-id-1 div.sk-label-container {text-align: center;}#sk-container-id-1 div.sk-container {/* jupyter's `normalize.less` sets `[hidden] { display: none; }` but bootstrap.min.css set `[hidden] { display: none !important; }` so we also need the `!important` here to be able to override the default hidden behavior on the sphinx rendered scikit-learn.org. See: https://github.com/scikit-learn/scikit-learn/issues/21755 */display: inline-block !important;position: relative;}#sk-container-id-1 div.sk-text-repr-fallback {display: none;}</style><div id=\"sk-container-id-1\" class=\"sk-top-container\"><div class=\"sk-text-repr-fallback\"><pre>SVR(kernel=&#x27;linear&#x27;)</pre><b>In a Jupyter environment, please rerun this cell to show the HTML representation or trust the notebook. <br />On GitHub, the HTML representation is unable to render, please try loading this page with nbviewer.org.</b></div><div class=\"sk-container\" hidden><div class=\"sk-item\"><div class=\"sk-estimator sk-toggleable\"><input class=\"sk-toggleable__control sk-hidden--visually\" id=\"sk-estimator-id-1\" type=\"checkbox\" checked><label for=\"sk-estimator-id-1\" class=\"sk-toggleable__label sk-toggleable__label-arrow\">SVR</label><div class=\"sk-toggleable__content\"><pre>SVR(kernel=&#x27;linear&#x27;)</pre></div></div></div></div></div>"
      ],
      "text/plain": [
       "SVR(kernel='linear')"
      ]
     },
     "execution_count": 42,
     "metadata": {},
     "output_type": "execute_result"
    }
   ],
   "source": [
    "svr = SVR(kernel='linear')\n",
    "svr.fit(train_X, train_y)"
   ]
  },
  {
   "cell_type": "code",
   "execution_count": 43,
   "id": "efd19191",
   "metadata": {},
   "outputs": [],
   "source": [
    "predicted_y = svr.predict(test_X)"
   ]
  },
  {
   "cell_type": "code",
   "execution_count": 44,
   "id": "d80c1460",
   "metadata": {},
   "outputs": [],
   "source": [
    "item_rating = test_y.to_frame().copy()\n",
    "item_rating['predicted'] = predicted_y"
   ]
  },
  {
   "cell_type": "markdown",
   "id": "e8949da6",
   "metadata": {},
   "source": [
    "## Evaluation"
   ]
  },
  {
   "cell_type": "code",
   "execution_count": 113,
   "id": "8ba2513b",
   "metadata": {},
   "outputs": [],
   "source": [
    "def get_random_group(all_groups,n=10):\n",
    "    index_range = [*range(0,len(all_groups))]\n",
    "    n = min(n, len(index_range))\n",
    "    if n == len(index_range):\n",
    "        print('take all the groups shuffled')\n",
    "\n",
    "    nbr = random.sample(index_range, n)\n",
    "    groups_for_test = []\n",
    "    for i in nbr:\n",
    "        groups_for_test.append(all_groups[i])\n",
    "    return groups_for_test"
   ]
  },
  {
   "cell_type": "code",
   "execution_count": 86,
   "id": "c2e4373d",
   "metadata": {},
   "outputs": [
    {
     "name": "stdout",
     "output_type": "stream",
     "text": [
      "take all the groups shuffled\n",
      "[0, 1, 2, 3, 4, 5, 6, 7, 8, 9, 10, 11, 12, 13, 14, 15, 16, 17, 18, 19, 20, 21, 22, 23, 24, 25, 26, 27, 28, 29, 30, 31, 32, 33, 34, 35, 36, 37, 38, 39, 40, 41, 42, 43, 44, 45, 46, 47, 48, 49, 50, 51, 52, 53, 54, 55, 56, 57, 58, 59, 60, 61, 62, 63, 64, 65]\n"
     ]
    }
   ],
   "source": [
    "num_groups_test = 10\n",
    "groups_for_test =  get_random_group(groups, 100)"
   ]
  },
  {
   "cell_type": "code",
   "execution_count": 87,
   "id": "3dd230f8",
   "metadata": {},
   "outputs": [
    {
     "data": {
      "text/plain": [
       "1.5047059545374433"
      ]
     },
     "execution_count": 87,
     "metadata": {},
     "output_type": "execute_result"
    }
   ],
   "source": [
    "# RMSE\n",
    "((item_rating['rating']-item_rating['predicted'])**2).mean(0)**0.5"
   ]
  },
  {
   "cell_type": "code",
   "execution_count": 88,
   "id": "024c94b7",
   "metadata": {},
   "outputs": [
    {
     "data": {
      "text/plain": [
       "1.1899608701982072"
      ]
     },
     "execution_count": 88,
     "metadata": {},
     "output_type": "execute_result"
    }
   ],
   "source": [
    "# MAE\n",
    "(abs(item_rating['rating']-item_rating['predicted'])).mean(0)"
   ]
  },
  {
   "cell_type": "code",
   "execution_count": 89,
   "id": "2174a957",
   "metadata": {},
   "outputs": [],
   "source": [
    "def evaluate_groups(groups, user_item_all_features, regressor):\n",
    "    RMSEs = []\n",
    "    MAEs = []\n",
    "    for group in groups:\n",
    "        print(group)\n",
    "        X,y = generate_Xy_for_group(group,user_item_all_features)\n",
    "        train_X, test_X, train_y, test_y = train_test_split(X,y, test_size=0.2, random_state=42)\n",
    "        \n",
    "        regressor.fit(train_X, train_y)\n",
    "        predicted_y = regressor.predict(test_X)\n",
    "        \n",
    "        item_ratings = test_y.to_frame().copy()\n",
    "        item_ratings['predicted'] = predicted_y\n",
    "        \n",
    "        RMSEs.append(((item_ratings['rating']-item_ratings['predicted'])**2).mean(0)**0.5)\n",
    "        MAEs.append((abs(item_ratings['rating']-item_ratings['predicted'])).mean(0))\n",
    "        \n",
    "    return RMSEs, MAEs"
   ]
  },
  {
   "cell_type": "code",
   "execution_count": 91,
   "id": "e81ac0a1",
   "metadata": {},
   "outputs": [
    {
     "name": "stdout",
     "output_type": "stream",
     "text": [
      "['Bernhard N.', 'kathuna']\n",
      "['Larry Chong', 'OGRussHood', 'Thunkd', 'XSNRG', '_tk_']\n",
      "['Baartoszz', 'Daramere', 'Dharquen', 'Funfairist', 'HilkMAN']\n",
      "['Govin', 'Lord Heisemberg', 'Michael Becker', 'Mr Mjeh', 'chriswray84']\n",
      "['Gylas', 'dooz']\n",
      "['ChrB', 'UFo11', 'dafair', 'iMisut', 'joelbear']\n",
      "['Geeken', 'Hubajube', 'Kweevnidny', 'Octavian', 'Orski']\n",
      "['Banker', 'Cinful', 'Downblaw', 'JesseW', 'Joe Miner']\n",
      "['Boromir1983', 'FC Dynamo Turbine', 'RhodesN7', 'StevenBedell', 'Yacoff']\n",
      "['Comrade_Sarayev', 'Rococo_Zephyr', 'Torquin', 'exo20811', 'fuzzyfife']\n",
      "['JAskier', 'ct5150', 'frogmind']\n",
      "['Earl of Dukes', 'Toph', 'ZeeGarcia', 'cdefrisco', 'jjrbedford']\n",
      "['Ender667', 'Jim_P', 'Sarsi', 'steinhauser', 'unshod']\n",
      "['Hristo Filipov', 'nnf1']\n",
      "['Cyberian', 'DDPage', 'Happymrdave', 'StormKnight', 'arsior']\n",
      "['AnttiT', 'BlueTorch', 'Butterfly0038', 'Deinos', 'DiSta']\n",
      "['Bixby', 'CharlieWonka', 'cowhollow', 'shreyank', 'vincivader']\n",
      "['IceScrat', 'Phoenixgeek', 'calvo', 'ijohsua', 'raile']\n",
      "['Grildensnork', 'Wentu', 'ooogene', 'tdelme']\n",
      "['Camponotus', 'Sir Benabus', 'futurescaper', 'roberious']\n",
      "['Boltana', 'Janasik', 'da pyrate', 'steadzy', 'toshi3000']\n",
      "['Frikiguias', 'avlawn', 'noisycrow', 'pitonowie']\n",
      "['Badger on the move', 'Beuckie115', 'BlueDane', 'Griselda', 'Hirian']\n",
      "['Neil Thomson', 'TaliaIsabelle', 'Tomol', 'ansi', 'jamessinden']\n",
      "['BudsBalkan', 'C5_Blake', 'David Ells', 'Drusander', 'Eyron161']\n",
      "['Dugy', 'Mixo', 'Phelonius', 'gufotriste']\n",
      "['airydisk', 'glookose', 'texasgeoker']\n",
      "['549sd', 'Kevin_Whitmore', 'jtakagi']\n",
      "['AmandaDesignsGames', 'Atticus1313', 'Auzette', 'Captain Needa', 'Damlog']\n",
      "['BurnBabyBurn', 'bigchief', 'musicalanarchy']\n",
      "['PrivateMeggido', 'UltraLord', 'moramis']\n",
      "['Surya', 'tiggers']\n",
      "['Errante', 'HappyHexagon', 'Thesp']\n",
      "['Qualm', 'SpieleHolger', 'ddash', 'dlminsac', 'pecan']\n",
      "['Attila', 'Betote', 'JimF', 'KubaP', 'Largovos']\n",
      "['ProZD', 'wedgeex']\n",
      "['Andy Parsons', 'Tyndal', 'himokl', 'joeeoj010']\n",
      "['Geese', 'Glamorous Mucus', 'Karmic_devil', 'Master Thomas', 'Nightmare']\n",
      "['starfix', 'xanthie']\n",
      "['Abso', 'BadPritt', 'Berghman', 'Born-of-Ashes', 'CHRISDH']\n",
      "['Christine Biancheria', 'jgoyes', 'lacxox', 'plysbjorn']\n",
      "['Apparatus', 'Bookywankenobi', 'Neo_1', 'SeanXor', 'SteveK2']\n",
      "['PeterHendee', 'wkover']\n",
      "['CandaceW', 'Celtic', 'Mario Pawlowski', 'bazik123', 'dakerr']\n",
      "['MeepleMaven', 'PzVIE']\n",
      "['Bankler', 'Joep83', 'Krazey', 'RoadHouse', 'Ternal2']\n",
      "['ErisQuilty', 'Gibmaatsuki', 'Keleno', 'Luke the Flaming', 'MarcusK']\n",
      "['RonCarlson01', 'garrylloyd']\n",
      "['Eric Ridley', 'leoshaw']\n",
      "['Sven Stratmann', 'aaronseeber', 'akapastorguy', 'edwardchow', 'sjonnie']\n",
      "['Bobby4th', 'Torsten', 'fizzle', 'zizishaoye']\n",
      "['DougOrleans', 'Legomancer', 'Maja Dorn', 'Michiel', 'MikeBwithoutadot']\n",
      "['Ajax', 'Bigshowfan', 'Destrio', 'Hopalong', 'JonBen']\n",
      "['Alan How', 'KRWoods1', 'Pozman', 'Thrylos', 'averagerating']\n",
      "['Chris Sjoholm', 'Doccabet', 'Dolphineke', 'JamesT', 'JonBob']\n",
      "['JohnBandettini', 'Peter The Rat', 'Roberto74', 'cbazler', 'wellevorkanagawa']\n",
      "['Doomfarer', 'Zuxi']\n",
      "['Florian Sohns', 'Kaelistus', 'MindSwap', 'Missu', 'Pandorzecza']\n",
      "['Bagherra', 'Carwine-Al', 'Dongemon', 'dogberry', 'eduart']\n",
      "['Arkeo', 'taahaag']\n",
      "['AmassGames', 'Aratar', 'Der Ubermolch', 'EYE of NiGHT', 'Geert Vinaskov']\n",
      "['LucyJo', 'dimarco70', 'tool']\n",
      "['Gregarius', 'b0ardgamer', 'dexdouglas', 'jgm72']\n",
      "['Olafslomp', 'dontylw', 'pboivin', 'thoia']\n",
      "['Arnott', 'Benjaminviking', 'Brakus', 'BunkerBill', 'DeltaDemon']\n",
      "['Scortez', 'cactusse', 'steve perkins']\n"
     ]
    }
   ],
   "source": [
    "regressor = SVR(kernel='linear')\n",
    "RMSEs, MAEs = evaluate_groups(groups_for_test, user_item_all_features[final_item_features], regressor)"
   ]
  },
  {
   "cell_type": "code",
   "execution_count": 92,
   "id": "c6d00b20",
   "metadata": {},
   "outputs": [],
   "source": [
    "avg_RMSE = np.mean(RMSEs)\n",
    "avg_MAE = np.mean(MAEs)"
   ]
  },
  {
   "cell_type": "code",
   "execution_count": 93,
   "id": "48dfc036",
   "metadata": {},
   "outputs": [
    {
     "name": "stdout",
     "output_type": "stream",
     "text": [
      "RMSE: 1.36  | MAE: 1.04\n"
     ]
    }
   ],
   "source": [
    "print('RMSE:',round(avg_RMSE,2), ' | MAE:',round(avg_MAE,2))"
   ]
  },
  {
   "cell_type": "code",
   "execution_count": 94,
   "id": "1dd80206",
   "metadata": {},
   "outputs": [
    {
     "name": "stdout",
     "output_type": "stream",
     "text": [
      "['Bernhard N.', 'kathuna']\n",
      "['Larry Chong', 'OGRussHood', 'Thunkd', 'XSNRG', '_tk_']\n",
      "['Baartoszz', 'Daramere', 'Dharquen', 'Funfairist', 'HilkMAN']\n",
      "['Govin', 'Lord Heisemberg', 'Michael Becker', 'Mr Mjeh', 'chriswray84']\n",
      "['Gylas', 'dooz']\n",
      "['ChrB', 'UFo11', 'dafair', 'iMisut', 'joelbear']\n",
      "['Geeken', 'Hubajube', 'Kweevnidny', 'Octavian', 'Orski']\n",
      "['Banker', 'Cinful', 'Downblaw', 'JesseW', 'Joe Miner']\n",
      "['Boromir1983', 'FC Dynamo Turbine', 'RhodesN7', 'StevenBedell', 'Yacoff']\n",
      "['Comrade_Sarayev', 'Rococo_Zephyr', 'Torquin', 'exo20811', 'fuzzyfife']\n",
      "['JAskier', 'ct5150', 'frogmind']\n",
      "['Earl of Dukes', 'Toph', 'ZeeGarcia', 'cdefrisco', 'jjrbedford']\n",
      "['Ender667', 'Jim_P', 'Sarsi', 'steinhauser', 'unshod']\n",
      "['Hristo Filipov', 'nnf1']\n",
      "['Cyberian', 'DDPage', 'Happymrdave', 'StormKnight', 'arsior']\n",
      "['AnttiT', 'BlueTorch', 'Butterfly0038', 'Deinos', 'DiSta']\n",
      "['Bixby', 'CharlieWonka', 'cowhollow', 'shreyank', 'vincivader']\n",
      "['IceScrat', 'Phoenixgeek', 'calvo', 'ijohsua', 'raile']\n",
      "['Grildensnork', 'Wentu', 'ooogene', 'tdelme']\n",
      "['Camponotus', 'Sir Benabus', 'futurescaper', 'roberious']\n",
      "['Boltana', 'Janasik', 'da pyrate', 'steadzy', 'toshi3000']\n",
      "['Frikiguias', 'avlawn', 'noisycrow', 'pitonowie']\n",
      "['Badger on the move', 'Beuckie115', 'BlueDane', 'Griselda', 'Hirian']\n",
      "['Neil Thomson', 'TaliaIsabelle', 'Tomol', 'ansi', 'jamessinden']\n",
      "['BudsBalkan', 'C5_Blake', 'David Ells', 'Drusander', 'Eyron161']\n",
      "['Dugy', 'Mixo', 'Phelonius', 'gufotriste']\n",
      "['airydisk', 'glookose', 'texasgeoker']\n",
      "['549sd', 'Kevin_Whitmore', 'jtakagi']\n",
      "['AmandaDesignsGames', 'Atticus1313', 'Auzette', 'Captain Needa', 'Damlog']\n",
      "['BurnBabyBurn', 'bigchief', 'musicalanarchy']\n",
      "['PrivateMeggido', 'UltraLord', 'moramis']\n",
      "['Surya', 'tiggers']\n",
      "['Errante', 'HappyHexagon', 'Thesp']\n",
      "['Qualm', 'SpieleHolger', 'ddash', 'dlminsac', 'pecan']\n",
      "['Attila', 'Betote', 'JimF', 'KubaP', 'Largovos']\n",
      "['ProZD', 'wedgeex']\n",
      "['Andy Parsons', 'Tyndal', 'himokl', 'joeeoj010']\n",
      "['Geese', 'Glamorous Mucus', 'Karmic_devil', 'Master Thomas', 'Nightmare']\n",
      "['starfix', 'xanthie']\n",
      "['Abso', 'BadPritt', 'Berghman', 'Born-of-Ashes', 'CHRISDH']\n",
      "['Christine Biancheria', 'jgoyes', 'lacxox', 'plysbjorn']\n",
      "['Apparatus', 'Bookywankenobi', 'Neo_1', 'SeanXor', 'SteveK2']\n",
      "['PeterHendee', 'wkover']\n",
      "['CandaceW', 'Celtic', 'Mario Pawlowski', 'bazik123', 'dakerr']\n",
      "['MeepleMaven', 'PzVIE']\n",
      "['Bankler', 'Joep83', 'Krazey', 'RoadHouse', 'Ternal2']\n",
      "['ErisQuilty', 'Gibmaatsuki', 'Keleno', 'Luke the Flaming', 'MarcusK']\n",
      "['RonCarlson01', 'garrylloyd']\n",
      "['Eric Ridley', 'leoshaw']\n",
      "['Sven Stratmann', 'aaronseeber', 'akapastorguy', 'edwardchow', 'sjonnie']\n",
      "['Bobby4th', 'Torsten', 'fizzle', 'zizishaoye']\n",
      "['DougOrleans', 'Legomancer', 'Maja Dorn', 'Michiel', 'MikeBwithoutadot']\n",
      "['Ajax', 'Bigshowfan', 'Destrio', 'Hopalong', 'JonBen']\n",
      "['Alan How', 'KRWoods1', 'Pozman', 'Thrylos', 'averagerating']\n",
      "['Chris Sjoholm', 'Doccabet', 'Dolphineke', 'JamesT', 'JonBob']\n",
      "['JohnBandettini', 'Peter The Rat', 'Roberto74', 'cbazler', 'wellevorkanagawa']\n",
      "['Doomfarer', 'Zuxi']\n",
      "['Florian Sohns', 'Kaelistus', 'MindSwap', 'Missu', 'Pandorzecza']\n",
      "['Bagherra', 'Carwine-Al', 'Dongemon', 'dogberry', 'eduart']\n",
      "['Arkeo', 'taahaag']\n",
      "['AmassGames', 'Aratar', 'Der Ubermolch', 'EYE of NiGHT', 'Geert Vinaskov']\n",
      "['LucyJo', 'dimarco70', 'tool']\n",
      "['Gregarius', 'b0ardgamer', 'dexdouglas', 'jgm72']\n",
      "['Olafslomp', 'dontylw', 'pboivin', 'thoia']\n",
      "['Arnott', 'Benjaminviking', 'Brakus', 'BunkerBill', 'DeltaDemon']\n",
      "['Scortez', 'cactusse', 'steve perkins']\n"
     ]
    }
   ],
   "source": [
    "regressor = DecisionTreeRegressor()\n",
    "RMSEs, MAEs = evaluate_groups(groups_for_test, user_item_all_features[final_item_features], regressor)"
   ]
  },
  {
   "cell_type": "code",
   "execution_count": 95,
   "id": "b0153da2",
   "metadata": {},
   "outputs": [
    {
     "name": "stdout",
     "output_type": "stream",
     "text": [
      "RMSE: 1.81  | MAE: 1.37\n"
     ]
    }
   ],
   "source": [
    "avg_RMSE = np.mean(RMSEs)\n",
    "avg_MAE = np.mean(MAEs)\n",
    "print('RMSE:',round(avg_RMSE,2), ' | MAE:',round(avg_MAE,2))"
   ]
  },
  {
   "cell_type": "code",
   "execution_count": 96,
   "id": "c9edfa8c",
   "metadata": {},
   "outputs": [
    {
     "name": "stdout",
     "output_type": "stream",
     "text": [
      "['Bernhard N.', 'kathuna']\n",
      "['Larry Chong', 'OGRussHood', 'Thunkd', 'XSNRG', '_tk_']\n",
      "['Baartoszz', 'Daramere', 'Dharquen', 'Funfairist', 'HilkMAN']\n",
      "['Govin', 'Lord Heisemberg', 'Michael Becker', 'Mr Mjeh', 'chriswray84']\n",
      "['Gylas', 'dooz']\n",
      "['ChrB', 'UFo11', 'dafair', 'iMisut', 'joelbear']\n",
      "['Geeken', 'Hubajube', 'Kweevnidny', 'Octavian', 'Orski']\n",
      "['Banker', 'Cinful', 'Downblaw', 'JesseW', 'Joe Miner']\n",
      "['Boromir1983', 'FC Dynamo Turbine', 'RhodesN7', 'StevenBedell', 'Yacoff']\n",
      "['Comrade_Sarayev', 'Rococo_Zephyr', 'Torquin', 'exo20811', 'fuzzyfife']\n",
      "['JAskier', 'ct5150', 'frogmind']\n",
      "['Earl of Dukes', 'Toph', 'ZeeGarcia', 'cdefrisco', 'jjrbedford']\n",
      "['Ender667', 'Jim_P', 'Sarsi', 'steinhauser', 'unshod']\n",
      "['Hristo Filipov', 'nnf1']\n",
      "['Cyberian', 'DDPage', 'Happymrdave', 'StormKnight', 'arsior']\n",
      "['AnttiT', 'BlueTorch', 'Butterfly0038', 'Deinos', 'DiSta']\n",
      "['Bixby', 'CharlieWonka', 'cowhollow', 'shreyank', 'vincivader']\n",
      "['IceScrat', 'Phoenixgeek', 'calvo', 'ijohsua', 'raile']\n",
      "['Grildensnork', 'Wentu', 'ooogene', 'tdelme']\n",
      "['Camponotus', 'Sir Benabus', 'futurescaper', 'roberious']\n",
      "['Boltana', 'Janasik', 'da pyrate', 'steadzy', 'toshi3000']\n",
      "['Frikiguias', 'avlawn', 'noisycrow', 'pitonowie']\n",
      "['Badger on the move', 'Beuckie115', 'BlueDane', 'Griselda', 'Hirian']\n",
      "['Neil Thomson', 'TaliaIsabelle', 'Tomol', 'ansi', 'jamessinden']\n",
      "['BudsBalkan', 'C5_Blake', 'David Ells', 'Drusander', 'Eyron161']\n",
      "['Dugy', 'Mixo', 'Phelonius', 'gufotriste']\n",
      "['airydisk', 'glookose', 'texasgeoker']\n",
      "['549sd', 'Kevin_Whitmore', 'jtakagi']\n",
      "['AmandaDesignsGames', 'Atticus1313', 'Auzette', 'Captain Needa', 'Damlog']\n",
      "['BurnBabyBurn', 'bigchief', 'musicalanarchy']\n",
      "['PrivateMeggido', 'UltraLord', 'moramis']\n",
      "['Surya', 'tiggers']\n",
      "['Errante', 'HappyHexagon', 'Thesp']\n",
      "['Qualm', 'SpieleHolger', 'ddash', 'dlminsac', 'pecan']\n",
      "['Attila', 'Betote', 'JimF', 'KubaP', 'Largovos']\n",
      "['ProZD', 'wedgeex']\n",
      "['Andy Parsons', 'Tyndal', 'himokl', 'joeeoj010']\n",
      "['Geese', 'Glamorous Mucus', 'Karmic_devil', 'Master Thomas', 'Nightmare']\n",
      "['starfix', 'xanthie']\n",
      "['Abso', 'BadPritt', 'Berghman', 'Born-of-Ashes', 'CHRISDH']\n",
      "['Christine Biancheria', 'jgoyes', 'lacxox', 'plysbjorn']\n",
      "['Apparatus', 'Bookywankenobi', 'Neo_1', 'SeanXor', 'SteveK2']\n",
      "['PeterHendee', 'wkover']\n",
      "['CandaceW', 'Celtic', 'Mario Pawlowski', 'bazik123', 'dakerr']\n",
      "['MeepleMaven', 'PzVIE']\n",
      "['Bankler', 'Joep83', 'Krazey', 'RoadHouse', 'Ternal2']\n",
      "['ErisQuilty', 'Gibmaatsuki', 'Keleno', 'Luke the Flaming', 'MarcusK']\n",
      "['RonCarlson01', 'garrylloyd']\n",
      "['Eric Ridley', 'leoshaw']\n",
      "['Sven Stratmann', 'aaronseeber', 'akapastorguy', 'edwardchow', 'sjonnie']\n",
      "['Bobby4th', 'Torsten', 'fizzle', 'zizishaoye']\n",
      "['DougOrleans', 'Legomancer', 'Maja Dorn', 'Michiel', 'MikeBwithoutadot']\n",
      "['Ajax', 'Bigshowfan', 'Destrio', 'Hopalong', 'JonBen']\n",
      "['Alan How', 'KRWoods1', 'Pozman', 'Thrylos', 'averagerating']\n",
      "['Chris Sjoholm', 'Doccabet', 'Dolphineke', 'JamesT', 'JonBob']\n",
      "['JohnBandettini', 'Peter The Rat', 'Roberto74', 'cbazler', 'wellevorkanagawa']\n",
      "['Doomfarer', 'Zuxi']\n",
      "['Florian Sohns', 'Kaelistus', 'MindSwap', 'Missu', 'Pandorzecza']\n",
      "['Bagherra', 'Carwine-Al', 'Dongemon', 'dogberry', 'eduart']\n",
      "['Arkeo', 'taahaag']\n",
      "['AmassGames', 'Aratar', 'Der Ubermolch', 'EYE of NiGHT', 'Geert Vinaskov']\n",
      "['LucyJo', 'dimarco70', 'tool']\n",
      "['Gregarius', 'b0ardgamer', 'dexdouglas', 'jgm72']\n",
      "['Olafslomp', 'dontylw', 'pboivin', 'thoia']\n",
      "['Arnott', 'Benjaminviking', 'Brakus', 'BunkerBill', 'DeltaDemon']\n",
      "['Scortez', 'cactusse', 'steve perkins']\n"
     ]
    }
   ],
   "source": [
    "regressor = XGBRegressor()\n",
    "RMSEs, MAEs = evaluate_groups(groups_for_test, user_item_all_features[final_item_features], regressor)"
   ]
  },
  {
   "cell_type": "code",
   "execution_count": 97,
   "id": "9b60eb8d",
   "metadata": {},
   "outputs": [
    {
     "name": "stdout",
     "output_type": "stream",
     "text": [
      "RMSE: 1.49  | MAE: 1.14\n"
     ]
    }
   ],
   "source": [
    "avg_RMSE = np.mean(RMSEs)\n",
    "avg_MAE = np.mean(MAEs)\n",
    "print('RMSE:',round(avg_RMSE,2), ' | MAE:',round(avg_MAE,2))"
   ]
  },
  {
   "cell_type": "markdown",
   "id": "a97529b7",
   "metadata": {},
   "source": [
    "# Generating Explanations"
   ]
  },
  {
   "cell_type": "code",
   "execution_count": 101,
   "id": "c9df559a",
   "metadata": {},
   "outputs": [
    {
     "name": "stdout",
     "output_type": "stream",
     "text": [
      "[0, 1, 2, 3, 4, 5, 6, 7, 8, 9, 10, 11, 12, 13, 14, 15, 16, 17, 18, 19, 20, 21, 22, 23, 24, 25, 26, 27, 28, 29, 30, 31, 32, 33, 34, 35, 36, 37, 38, 39, 40, 41, 42, 43, 44, 45, 46, 47, 48, 49, 50, 51, 52, 53, 54, 55, 56, 57, 58, 59, 60, 61, 62, 63, 64, 65]\n"
     ]
    },
    {
     "data": {
      "text/plain": [
       "['starfix', 'xanthie']"
      ]
     },
     "execution_count": 101,
     "metadata": {},
     "output_type": "execute_result"
    }
   ],
   "source": [
    "random_user = get_random_group(groups,1)[0]\n",
    "random_user"
   ]
  },
  {
   "cell_type": "code",
   "execution_count": 102,
   "id": "25f55668",
   "metadata": {},
   "outputs": [],
   "source": [
    "tree_regressor = DecisionTreeRegressor(random_state=42)"
   ]
  },
  {
   "cell_type": "code",
   "execution_count": 103,
   "id": "23a8b699",
   "metadata": {},
   "outputs": [],
   "source": [
    "X, y = generate_Xy_for_group(random_user, user_item_all_features[final_item_features])\n",
    "\n",
    "train_X, test_X, train_y, test_y = train_test_split(X,y, test_size=0.2, random_state=42)\n",
    "tree_regressor.fit(train_X, train_y)\n",
    "predicted_y = tree_regressor.predict(test_X)\n",
    "\n",
    "item_ratings = test_y.to_frame().copy()\n",
    "item_ratings['predicted'] = predicted_y\n",
    "        \n",
    "RMSE = ((item_ratings['rating']-item_ratings['predicted'])**2).mean(0)**0.5\n",
    "MAE = (abs(item_ratings['rating']-item_ratings['predicted'])).mean(0)"
   ]
  },
  {
   "cell_type": "code",
   "execution_count": 104,
   "id": "a5b3876f",
   "metadata": {},
   "outputs": [],
   "source": [
    "interacted_items = user_item_complete[user_item_complete.index.isin(X.index)]"
   ]
  },
  {
   "cell_type": "code",
   "execution_count": 105,
   "id": "039111d3",
   "metadata": {},
   "outputs": [],
   "source": [
    "test_items = user_item_complete[user_item_complete.index.isin(test_X.index)]"
   ]
  },
  {
   "cell_type": "code",
   "execution_count": 106,
   "id": "998d974c",
   "metadata": {},
   "outputs": [],
   "source": [
    "# text_representation = tree.export_text(tree_regressor)\n",
    "# print(text_representation)"
   ]
  },
  {
   "cell_type": "code",
   "execution_count": 107,
   "id": "d807931e",
   "metadata": {},
   "outputs": [
    {
     "data": {
      "image/png": "[encoded data removed]",
      "text/plain": [
       "<Figure size 1440x720 with 1 Axes>"
      ]
     },
     "metadata": {
      "needs_background": "light"
     },
     "output_type": "display_data"
    }
   ],
   "source": [
    "# Plot the decision tree\n",
    "plt.figure(figsize=(20,10))\n",
    "tree.plot_tree(tree_regressor, filled=True, feature_names=X.columns,node_ids=True)\n",
    "plt.show()"
   ]
  },
  {
   "cell_type": "code",
   "execution_count": 108,
   "id": "dfc992b7",
   "metadata": {},
   "outputs": [
    {
     "name": "stderr",
     "output_type": "stream",
     "text": [
      "/Library/Frameworks/Python.framework/Versions/3.10/lib/python3.10/site-packages/sklearn/base.py:439: UserWarning: X does not have valid feature names, but DecisionTreeRegressor was fitted with feature names\n",
      "  warnings.warn(\n"
     ]
    },
    {
     "data": {
      "text/plain": [
       "['Rank:strategygames',\n",
       " 'Rank:strategygames',\n",
       " 'GameWeight',\n",
       " 'Rank:strategygames',\n",
       " 'GameWeight',\n",
       " 'NumWeightVotes',\n",
       " 'NumWeightVotes',\n",
       " 'NumOwned',\n",
       " 'NumWant',\n",
       " 'NumWant',\n",
       " 'NumWant',\n",
       " 'NumOwned',\n",
       " 'NumWeightVotes']"
      ]
     },
     "execution_count": 108,
     "metadata": {},
     "output_type": "execute_result"
    }
   ],
   "source": [
    "# calculate feature importances for a prediction\n",
    "\n",
    "# select features used to create a prediction\n",
    "decision_path = tree_regressor.decision_path([test_X.iloc[0,:]])\n",
    "node_indices = decision_path.indices\n",
    "feature_indices = tree_regressor.tree_.feature\n",
    "feature_names = test_X.columns  # Replace with your actual feature names\n",
    "used_features = [feature_names[i] for i in feature_indices[node_indices] if i > 0]\n",
    "used_features"
   ]
  },
  {
   "cell_type": "code",
   "execution_count": 109,
   "id": "904cfd5c",
   "metadata": {},
   "outputs": [],
   "source": [
    "def get_features_sorted(selected_featurenames, feature_names, feature_importances):\n",
    "    # Create a list of tuples (feature_name, feature_importance)\n",
    "    feature_importance_tuples = list(zip(feature_names, feature_importances))\n",
    "    \n",
    "    # Sort the list of tuples by feature importance in descending order\n",
    "    sorted_features = sorted(feature_importance_tuples, key=lambda x: x[1], reverse=True)\n",
    "    sorted_features = [s for s in sorted_features if s[0] in selected_featurenames]\n",
    "    return sorted_features"
   ]
  },
  {
   "cell_type": "code",
   "execution_count": 110,
   "id": "e3c5165e",
   "metadata": {},
   "outputs": [
    {
     "data": {
      "text/plain": [
       "[('Rank:strategygames', 0.22124535793076835),\n",
       " ('NumWant', 0.12743288120309065),\n",
       " ('GameWeight', 0.10809581338540336),\n",
       " ('NumWeightVotes', 0.09617649661010012),\n",
       " ('NumOwned', 0.045799927896641744)]"
      ]
     },
     "execution_count": 110,
     "metadata": {},
     "output_type": "execute_result"
    }
   ],
   "source": [
    "get_features_sorted(used_features, test_X.columns, tree_regressor.feature_importances_)"
   ]
  },
  {
   "cell_type": "code",
   "execution_count": 111,
   "id": "2923eab2",
   "metadata": {},
   "outputs": [
    {
     "name": "stdout",
     "output_type": "stream",
     "text": [
      "decision node 0 : X_test[0,17]\n",
      "decision node 1 : X_test[1,17]\n",
      "decision node 9 : X_test[9,5]\n",
      "decision node 10 : X_test[10,17]\n",
      "decision node 12 : X_test[12,5]\n",
      "decision node 13 : X_test[13,14]\n",
      "decision node 14 : X_test[14,14]\n",
      "decision node 15 : X_test[15,12]\n",
      "decision node 29 : X_test[29,13]\n",
      "decision node 30 : X_test[30,13]\n",
      "decision node 38 : X_test[38,13]\n",
      "decision node 42 : X_test[42,12]\n",
      "decision node 43 : X_test[43,14]\n"
     ]
    },
    {
     "name": "stderr",
     "output_type": "stream",
     "text": [
      "/Library/Frameworks/Python.framework/Versions/3.10/lib/python3.10/site-packages/sklearn/base.py:439: UserWarning: X does not have valid feature names, but DecisionTreeRegressor was fitted with feature names\n",
      "  warnings.warn(\n"
     ]
    }
   ],
   "source": [
    "node_indicator = decision_path\n",
    "leaf_id = tree_regressor.apply([test_X.iloc[0,:]])\n",
    "for node_id in node_indices:\n",
    "    # continue to the next node if it is a leaf node\n",
    "    # if leaf_id[sample_id] == node_id:\n",
    "    #     continue\n",
    "    if node_id==leaf_id:\n",
    "        continue\n",
    "    \n",
    "    print(\n",
    "        \"decision node {node} : X_test[{sample},{feature}]\".format(\n",
    "            node=node_id,\n",
    "            sample=node_id,\n",
    "            feature=feature_indices[node_id],\n",
    "        )\n",
    "    )\n"
   ]
  },
  {
   "cell_type": "markdown",
   "id": "bb126994",
   "metadata": {},
   "source": [
    "### Showcase"
   ]
  },
  {
   "cell_type": "code",
   "execution_count": 114,
   "id": "e003bacd",
   "metadata": {},
   "outputs": [
    {
     "name": "stdout",
     "output_type": "stream",
     "text": [
      "Group: ['Geese', 'Glamorous Mucus', 'Karmic_devil', 'Master Thomas', 'Nightmare'] | Number of interactions: 683\n"
     ]
    }
   ],
   "source": [
    "sc_group = get_random_group(groups,1)[0]\n",
    "X, y = generate_Xy_for_group(sc_group, user_item_all_features[final_item_features])\n",
    "print(f\"Group: {sc_group} | Number of interactions: {X.shape[0]}\")"
   ]
  },
  {
   "cell_type": "code",
   "execution_count": 115,
   "id": "b746330d",
   "metadata": {},
   "outputs": [],
   "source": [
    "# train a tree\n",
    "train_X, test_X, train_y, test_y = train_test_split(X,y, test_size=0.2, random_state=42)\n",
    "tree_regressor.fit(train_X, train_y)\n",
    "predicted_y = tree_regressor.predict(test_X)\n",
    "\n",
    "item_ratings = test_y.to_frame().copy()\n",
    "item_ratings['predicted'] = predicted_y\n",
    "        \n",
    "RMSE = ((item_ratings['rating']-item_ratings['predicted'])**2).mean(0)**0.5\n",
    "MAE = (abs(item_ratings['rating']-item_ratings['predicted'])).mean(0)\n",
    "\n",
    "interacted_items = user_item_complete[user_item_complete.index.isin(X.index)]\n",
    "test_items = user_item_complete[user_item_complete.index.isin(test_X.index)]\n",
    "important_features = ['Name']+final_item_features"
   ]
  },
  {
   "cell_type": "code",
   "execution_count": 116,
   "id": "a2b8142a",
   "metadata": {},
   "outputs": [],
   "source": [
    "def explain_prediction(item_data, test_X, tree_reg, k=3):\n",
    "    \"\"\" will explain the recommendation using top k important features for the particular item\"\"\"\n",
    "    item_id = item_data.name\n",
    "    item_Name = item_data.Name\n",
    "    test_ids = test_X.index\n",
    "    if item_id not in test_ids:\n",
    "        return \"No such item in the test set\"\n",
    "    \n",
    "    decision_path = tree_regressor.decision_path([test_X.loc[item_id,:]])\n",
    "    node_indices = decision_path.indices\n",
    "    feature_indices = tree_regressor.tree_.feature\n",
    "    feature_names = test_X.columns \n",
    "    #print(feature_names)\n",
    "    used_features = [feature_names[i] for i in feature_indices[node_indices] if i > 0]\n",
    "    # print(used_features)\n",
    "    selected_features = get_features_sorted(used_features, feature_names, tree_regressor.feature_importances_)\n",
    "    # print(selected_features)\n",
    "    \n",
    "    explaining_fs = []\n",
    "    for f in selected_features:\n",
    "        explaining_fs.append(f[0])\n",
    "    \n",
    "    #print(selected_features)\n",
    "    k = min(len(explaining_fs), k)\n",
    "        \n",
    "    if len(explaining_fs):\n",
    "        # return f\"The game '{item_Name}' is recommended to you because you like games in the following categories: {', '.join(explaining_fs)}\"\n",
    "        return explaining_fs[:k], item_Name"
   ]
  },
  {
   "cell_type": "code",
   "execution_count": 117,
   "id": "6164ba07",
   "metadata": {},
   "outputs": [
    {
     "name": "stderr",
     "output_type": "stream",
     "text": [
      "/Library/Frameworks/Python.framework/Versions/3.10/lib/python3.10/site-packages/sklearn/base.py:439: UserWarning: X does not have valid feature names, but DecisionTreeRegressor was fitted with feature names\n",
      "  warnings.warn(\n"
     ]
    },
    {
     "data": {
      "text/plain": [
       "(['Rank:boardgame', 'GameWeight', 'NumWeightVotes'], 'Imperios Milenarios')"
      ]
     },
     "execution_count": 117,
     "metadata": {},
     "output_type": "execute_result"
    }
   ],
   "source": [
    "item = test_items[important_features].sample(1).iloc[0]\n",
    "exp_fs,gname = explain_prediction(item, test_X, tree_regressor, k=3)\n",
    "exp_fs,gname"
   ]
  },
  {
   "cell_type": "code",
   "execution_count": 1,
   "id": "78eab8ea",
   "metadata": {},
   "outputs": [],
   "source": [
    "from explanations import cat_fs, num_fs, rank_fs, other_fs, connectors\n",
    "\n",
    "def write_explanation(explanation_fs, game_name):\n",
    "    print(f'INPUT: Features: {explanation_fs}, game: [{game_name}]')\n",
    "    rank_exp = 'we noticed that you like board games ranked high in the '\n",
    "    num_exp = 'we found that you like board games which'\n",
    "    cat_exp = 'we observed that you like board games in '\n",
    "    other_exp = 'we spotted that you put a lot of emphasis on '\n",
    "    connector = ''\n",
    "    count = 0\n",
    "    \n",
    "    explanation = f'The game {game_name} is recommended to you because '\n",
    "    \n",
    "    # rank explanation\n",
    "    rank_active_exps = [rank_fs[f] for f in explanation_fs if f in rank_fs.keys()]\n",
    "    if len(rank_active_exps) > 1:\n",
    "        explanation += rank_exp + ', '.join(rank_active_exps) + ' rankings.\\n'\n",
    "        count += 1\n",
    "    elif len(rank_active_exps) == 1:\n",
    "        explanation += rank_exp + rank_active_exps[0] + ' ranking.\\n'\n",
    "        count += 1\n",
    "        \n",
    "    # count explanation\n",
    "    num_active_exps = [num_fs[f] for f in explanation_fs if f in num_fs.keys()]\n",
    "    if len(num_active_exps) > 1:\n",
    "        explanation += connectors[count] + num_exp + ', '.join(num_active_exps) + ' .\\n'\n",
    "        count += 1\n",
    "    elif len(num_active_exps) == 1:\n",
    "        explanation += connectors[count] + num_exp + num_active_exps[0] + ' .\\n'\n",
    "        count += 1\n",
    "        \n",
    "    # category explanations\n",
    "    cat_active_exps = [cat_fs[f] for f in explanation_fs if f in cat_fs.keys()]\n",
    "    if len(cat_active_exps) > 1:\n",
    "        explanation += connectors[count] + cat_exp + ', '.join(cat_active_exps) + ' categories.\\n'\n",
    "        count += 1\n",
    "    elif len(cat_active_exps) == 1:\n",
    "        explanation += connectors[count] + cat_exp + cat_active_exps[0] + ' category.\\n'\n",
    "        count += 1\n",
    "    \n",
    "    other_active_exps = [other_fs[f] for f in explanation_fs if f in other_fs.keys()]\n",
    "    if len(other_active_exps) > 1:\n",
    "        explanation += connectors[count] + other_exp  + ', '.join(other_active_exps) + ' when selecting games.\\n'\n",
    "    elif len(other_active_exps) == 1:\n",
    "        explanation += connectors[count] + other_exp + other_active_exps[0] + ' when selecting games.\\n'\n",
    "        \n",
    "    return explanation    "
   ]
  },
  {
   "cell_type": "code",
   "execution_count": 2,
   "id": "3e061489",
   "metadata": {},
   "outputs": [
    {
     "ename": "NameError",
     "evalue": "name 'exp_fs' is not defined",
     "output_type": "error",
     "traceback": [
      "\u001b[0;31m---------------------------------------------------------------------------\u001b[0m",
      "\u001b[0;31mNameError\u001b[0m                                 Traceback (most recent call last)",
      "\u001b[1;32m/Users/egor_demin/Documents/Uni_Info/Recommender Systems/RecSys_Project/content-based_filtering/group-content-based-filtering-explanations.ipynb Cell 60\u001b[0m line \u001b[0;36m<cell line: 1>\u001b[0;34m()\u001b[0m\n\u001b[0;32m----> <a href='vscode-notebook-cell:/Users/egor_demin/Documents/Uni_Info/Recommender%20Systems/RecSys_Project/content-based_filtering/group-content-based-filtering-explanations.ipynb#Y113sZmlsZQ%3D%3D?line=0'>1</a>\u001b[0m \u001b[39mprint\u001b[39m(write_explanation(exp_fs, gname))\n",
      "\u001b[0;31mNameError\u001b[0m: name 'exp_fs' is not defined"
     ]
    }
   ],
   "source": [
    "print(write_explanation(exp_fs, gname))"
   ]
  },
  {
   "cell_type": "markdown",
   "id": "1333f560",
   "metadata": {},
   "source": [
    "Example: \n",
    "```\n",
    "INPUT: Features: ['Rank:boardgame', 'GameWeight', 'NumWeightVotes'], game: [Imperios Milenarios]\n",
    "The game Imperios Milenarios is recommended to you because we noticed that you like board games ranked high in the general ranking.\n",
    "Also, we spotted that you put a lot of emphasis on easiness/difficulty of a game when selecting games.\n",
    "```"
   ]
  },
  {
   "cell_type": "markdown",
   "id": "4108d838",
   "metadata": {},
   "source": []
  }
 ],
 "metadata": {
  "kernelspec": {
   "display_name": "Python 3 (ipykernel)",
   "language": "python",
   "name": "python3"
  },
  "language_info": {
   "codemirror_mode": {
    "name": "ipython",
    "version": 3
   },
   "file_extension": ".py",
   "mimetype": "text/x-python",
   "name": "python",
   "nbconvert_exporter": "python",
   "pygments_lexer": "ipython3",
   "version": "3.10.0"
  }
 },
 "nbformat": 4,
 "nbformat_minor": 5
}
