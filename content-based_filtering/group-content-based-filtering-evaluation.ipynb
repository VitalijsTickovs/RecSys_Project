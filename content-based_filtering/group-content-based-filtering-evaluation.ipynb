{
 "cells": [
  {
   "cell_type": "markdown",
   "id": "cfcc6604",
   "metadata": {
    "scrolled": false
   },
   "source": [
    "### Implementation of Group Content-based Filtering"
   ]
  },
  {
   "cell_type": "code",
   "execution_count": 1,
   "id": "7de99a34",
   "metadata": {
    "ExecuteTime": {
     "start_time": "2023-10-11T15:34:28.326335Z",
     "end_time": "2023-10-11T15:34:29.150027Z"
    }
   },
   "outputs": [],
   "source": [
    "import pandas as pd\n",
    "import numpy as np\n",
    "import random\n",
    "import matplotlib.pyplot as plt\n",
    "from scipy.stats import pearsonr\n",
    "import pickle\n",
    "\n",
    "from sklearn.model_selection import train_test_split\n",
    "from sklearn.svm import SVR\n",
    "from sklearn.preprocessing import StandardScaler\n",
    "from sklearn.tree import DecisionTreeRegressor\n",
    "random.seed(42)\n"
   ]
  },
  {
   "cell_type": "code",
   "execution_count": 2,
   "id": "c90a4fbd",
   "metadata": {
    "ExecuteTime": {
     "start_time": "2023-10-11T15:34:29.151588Z",
     "end_time": "2023-10-11T15:34:34.516979Z"
    }
   },
   "outputs": [],
   "source": [
    "data_folder = '../Dataset/'\n",
    "user_item_ratings_reduced = pd.read_csv(f'{data_folder}user_ratings_reduced.csv')\n",
    "user_item_ratings_reduced = user_item_ratings_reduced.drop(columns=[\"Unnamed: 0\"])\n",
    "item_ratings_df = pd.read_csv(data_folder + 'user_ratings.csv')\n",
    "item_info = pd.read_csv(data_folder + 'games.csv')\n",
    "item_mecahnics = pd.read_csv(data_folder + 'mechanics.csv')\n",
    "item_subcategories = pd.read_csv(data_folder + 'subcategories.csv')\n",
    "item_themes = pd.read_csv(data_folder + 'themes.csv')"
   ]
  },
  {
   "cell_type": "code",
   "execution_count": 3,
   "outputs": [],
   "source": [
    "# user_item_ratings_reduced['rating'] = user_item_ratings_reduced['rating'].round(0).astype(int)"
   ],
   "metadata": {
    "collapsed": false,
    "ExecuteTime": {
     "start_time": "2023-10-11T15:34:34.515908Z",
     "end_time": "2023-10-11T15:34:34.518247Z"
    }
   }
  },
  {
   "cell_type": "code",
   "execution_count": 4,
   "id": "787c0d6d",
   "metadata": {
    "ExecuteTime": {
     "start_time": "2023-10-11T15:34:34.554093Z",
     "end_time": "2023-10-11T15:34:34.650327Z"
    }
   },
   "outputs": [],
   "source": [
    "user_item_rating_count = user_item_ratings_reduced.groupby('user').count()"
   ]
  },
  {
   "cell_type": "code",
   "execution_count": 5,
   "id": "edbda74f",
   "metadata": {
    "ExecuteTime": {
     "start_time": "2023-10-11T15:34:34.651547Z",
     "end_time": "2023-10-11T15:34:34.714421Z"
    }
   },
   "outputs": [],
   "source": [
    "min_rating_count = 10\n",
    "user_rating_count = user_item_rating_count[user_item_rating_count['rating'] >= min_rating_count]\n",
    "user_list_filtered = list(user_rating_count.index)\n",
    "user_item_ratings_filtered = user_item_ratings_reduced[user_item_ratings_reduced['user'].isin(user_list_filtered)]"
   ]
  },
  {
   "cell_type": "code",
   "execution_count": 6,
   "id": "47e19bb9",
   "metadata": {
    "ExecuteTime": {
     "start_time": "2023-10-11T15:34:34.716880Z",
     "end_time": "2023-10-11T15:34:34.723029Z"
    }
   },
   "outputs": [
    {
     "data": {
      "text/plain": "     item  rating      user\n1  203416     8.0  -=Yod@=-\n2  271896     8.0  -=Yod@=-\n3   38054     6.0  -=Yod@=-\n4  312267     5.0  -=Yod@=-\n5   68448     9.0  -=Yod@=-",
      "text/html": "<div>\n<style scoped>\n    .dataframe tbody tr th:only-of-type {\n        vertical-align: middle;\n    }\n\n    .dataframe tbody tr th {\n        vertical-align: top;\n    }\n\n    .dataframe thead th {\n        text-align: right;\n    }\n</style>\n<table border=\"1\" class=\"dataframe\">\n  <thead>\n    <tr style=\"text-align: right;\">\n      <th></th>\n      <th>item</th>\n      <th>rating</th>\n      <th>user</th>\n    </tr>\n  </thead>\n  <tbody>\n    <tr>\n      <th>1</th>\n      <td>203416</td>\n      <td>8.0</td>\n      <td>-=Yod@=-</td>\n    </tr>\n    <tr>\n      <th>2</th>\n      <td>271896</td>\n      <td>8.0</td>\n      <td>-=Yod@=-</td>\n    </tr>\n    <tr>\n      <th>3</th>\n      <td>38054</td>\n      <td>6.0</td>\n      <td>-=Yod@=-</td>\n    </tr>\n    <tr>\n      <th>4</th>\n      <td>312267</td>\n      <td>5.0</td>\n      <td>-=Yod@=-</td>\n    </tr>\n    <tr>\n      <th>5</th>\n      <td>68448</td>\n      <td>9.0</td>\n      <td>-=Yod@=-</td>\n    </tr>\n  </tbody>\n</table>\n</div>"
     },
     "execution_count": 6,
     "metadata": {},
     "output_type": "execute_result"
    }
   ],
   "source": [
    "user_item_ratings_filtered.head()"
   ]
  },
  {
   "cell_type": "markdown",
   "id": "a3cf9602",
   "metadata": {},
   "source": [
    "### Preprocessing"
   ]
  },
  {
   "cell_type": "code",
   "execution_count": 7,
   "id": "2ac8504c",
   "metadata": {
    "ExecuteTime": {
     "start_time": "2023-10-11T15:34:34.725581Z",
     "end_time": "2023-10-11T15:34:35.411679Z"
    }
   },
   "outputs": [],
   "source": [
    "item_info.rename(columns={'BGGId':'item'},inplace=True)\n",
    "# get comeplete user-catalog data\n",
    "user_item_complete = pd.merge(user_item_ratings_filtered, item_info, on='item', how='inner')\n",
    "# item_info.info() \n",
    "# item_info[['GoodPlayers', 'Family', 'ImagePath']].head()\n",
    "non_numerical_features = ['user','Name','Description', 'item', 'GoodPlayers', 'Family', 'ImagePath']"
   ]
  },
  {
   "cell_type": "code",
   "execution_count": 8,
   "id": "f4d06d3d",
   "metadata": {
    "ExecuteTime": {
     "start_time": "2023-10-11T15:34:35.405190Z",
     "end_time": "2023-10-11T15:34:35.412128Z"
    }
   },
   "outputs": [
    {
     "data": {
      "text/plain": "Index(['item', 'rating', 'user', 'Name', 'Description', 'YearPublished',\n       'GameWeight', 'AvgRating', 'BayesAvgRating', 'StdDev', 'MinPlayers',\n       'MaxPlayers', 'ComAgeRec', 'LanguageEase', 'BestPlayers', 'GoodPlayers',\n       'NumOwned', 'NumWant', 'NumWish', 'NumWeightVotes', 'MfgPlaytime',\n       'ComMinPlaytime', 'ComMaxPlaytime', 'MfgAgeRec', 'NumUserRatings',\n       'NumComments', 'NumAlternates', 'NumExpansions', 'NumImplementations',\n       'IsReimplementation', 'Family', 'Kickstarted', 'ImagePath',\n       'Rank:boardgame', 'Rank:strategygames', 'Rank:abstracts',\n       'Rank:familygames', 'Rank:thematic', 'Rank:cgs', 'Rank:wargames',\n       'Rank:partygames', 'Rank:childrensgames', 'Cat:Thematic',\n       'Cat:Strategy', 'Cat:War', 'Cat:Family', 'Cat:CGS', 'Cat:Abstract',\n       'Cat:Party', 'Cat:Childrens'],\n      dtype='object')"
     },
     "execution_count": 8,
     "metadata": {},
     "output_type": "execute_result"
    }
   ],
   "source": []
  },
  {
   "cell_type": "code",
   "execution_count": 9,
   "id": "9f744423",
   "metadata": {
    "ExecuteTime": {
     "start_time": "2023-10-11T15:34:35.427541Z",
     "end_time": "2023-10-11T15:34:37.027984Z"
    }
   },
   "outputs": [],
   "source": [
    "# find a median rating for each user\n",
    "median_rating = user_item_complete.groupby('user')['rating'].median().rename('median_rating').reset_index()\n",
    "user_item_complete = pd.merge(user_item_complete, median_rating, on='user', how='inner')"
   ]
  },
  {
   "cell_type": "code",
   "execution_count": 10,
   "id": "060e8953",
   "metadata": {
    "ExecuteTime": {
     "start_time": "2023-10-11T15:34:37.028969Z",
     "end_time": "2023-10-11T15:34:37.032177Z"
    }
   },
   "outputs": [
    {
     "data": {
      "text/plain": "(1228331, 51)"
     },
     "execution_count": 10,
     "metadata": {},
     "output_type": "execute_result"
    }
   ],
   "source": [
    "user_item_complete.shape"
   ]
  },
  {
   "cell_type": "markdown",
   "id": "123d4756",
   "metadata": {},
   "source": [
    "User-Item matrix has size (1_228_331, 51) after selecting users with >= `min_rating_count`\n",
    "\n",
    "User-Item matrix has size (771_551, 51) after selecting items for users with rating higher than their mean rating"
   ]
  },
  {
   "cell_type": "code",
   "execution_count": 11,
   "id": "c10861d6",
   "metadata": {
    "ExecuteTime": {
     "start_time": "2023-10-11T15:34:37.034361Z",
     "end_time": "2023-10-11T15:34:37.841129Z"
    }
   },
   "outputs": [
    {
     "name": "stderr",
     "output_type": "stream",
     "text": [
      "/var/folders/hc/hnq3mts53txg3k7xbmj90z_80000gn/T/ipykernel_79155/156716285.py:4: SettingWithCopyWarning: \n",
      "A value is trying to be set on a copy of a slice from a DataFrame\n",
      "\n",
      "See the caveats in the documentation: https://pandas.pydata.org/pandas-docs/stable/user_guide/indexing.html#returning-a-view-versus-a-copy\n",
      "  user_item_favourite['ComAgeRec'].fillna(user_item_favourite['ComAgeRec'].mean(), inplace=True)\n",
      "/var/folders/hc/hnq3mts53txg3k7xbmj90z_80000gn/T/ipykernel_79155/156716285.py:5: SettingWithCopyWarning: \n",
      "A value is trying to be set on a copy of a slice from a DataFrame\n",
      "\n",
      "See the caveats in the documentation: https://pandas.pydata.org/pandas-docs/stable/user_guide/indexing.html#returning-a-view-versus-a-copy\n",
      "  user_item_favourite['LanguageEase'].fillna(user_item_favourite['LanguageEase'].mean(), inplace=True)\n",
      "/var/folders/hc/hnq3mts53txg3k7xbmj90z_80000gn/T/ipykernel_79155/156716285.py:10: SettingWithCopyWarning: \n",
      "A value is trying to be set on a copy of a slice from a DataFrame\n",
      "\n",
      "See the caveats in the documentation: https://pandas.pydata.org/pandas-docs/stable/user_guide/indexing.html#returning-a-view-versus-a-copy\n",
      "  user_item_favourite.drop(columns=non_numerical_features, inplace=True)\n"
     ]
    }
   ],
   "source": [
    "# creating user represenations\n",
    "user_item_favourite = user_item_complete[user_item_complete['rating']>=user_item_complete['median_rating']]\n",
    "\n",
    "user_item_favourite['ComAgeRec'].fillna(user_item_favourite['ComAgeRec'].mean(), inplace=True)\n",
    "user_item_favourite['LanguageEase'].fillna(user_item_favourite['LanguageEase'].mean(), inplace=True)\n",
    "\n",
    "user_representation = user_item_favourite.groupby('user').median('rating').reset_index()\n",
    "user_representation_wnames = user_representation['user']\n",
    "user_representation.drop(columns=['user'], inplace=True)\n",
    "user_item_favourite.drop(columns=non_numerical_features, inplace=True)"
   ]
  },
  {
   "cell_type": "code",
   "execution_count": 12,
   "id": "c7c8e715",
   "metadata": {
    "ExecuteTime": {
     "start_time": "2023-10-11T15:34:37.842018Z",
     "end_time": "2023-10-11T15:34:37.843940Z"
    }
   },
   "outputs": [
    {
     "data": {
      "text/plain": "(51149, 45)"
     },
     "execution_count": 12,
     "metadata": {},
     "output_type": "execute_result"
    }
   ],
   "source": [
    "user_representation.shape"
   ]
  },
  {
   "cell_type": "markdown",
   "id": "a7c4f119",
   "metadata": {},
   "source": [
    "### Analysis of user preference clusters\n",
    " > based on TSNE clusterings of users with similar preferences, several groups of users were investigated to check if there are differences in prederences between clusters. The analysis showed that all the groups have approximately similar preferences. Hence, no need to create different features per user group"
   ]
  },
  {
   "cell_type": "code",
   "execution_count": 13,
   "id": "bf63c1ca",
   "metadata": {
    "ExecuteTime": {
     "start_time": "2023-10-11T15:34:37.844899Z",
     "end_time": "2023-10-11T15:34:37.846324Z"
    }
   },
   "outputs": [],
   "source": [
    "def get_all_items_for_user(username, complete_df):\n",
    "    return complete_df[complete_df['user']==username].drop(columns=['user'])"
   ]
  },
  {
   "cell_type": "code",
   "execution_count": 14,
   "id": "973195e6",
   "metadata": {
    "ExecuteTime": {
     "start_time": "2023-10-11T15:34:37.850015Z",
     "end_time": "2023-10-11T15:34:37.851289Z"
    }
   },
   "outputs": [],
   "source": [
    "def add_avg_group_rating(selected_items, group, complete):\n",
    "    selected_items.reset_index(drop=True, inplace=True)\n",
    "    selected_items['avg_group_rating'] = 0\n",
    "    group_users = group['user'].unique()\n",
    "    for index,item in selected_items.iterrows():\n",
    "        item_in_group = complete[(complete['user'].isin(group_users))&(complete['item']==item['item'])]\n",
    "        average_group_rating = item_in_group['rating'].mean()\n",
    "        item['avg_group_rating'] = average_group_rating\n",
    "        selected_items.iloc[index,:] = item\n",
    "        \n",
    "    return selected_items\n"
   ]
  },
  {
   "cell_type": "code",
   "execution_count": 15,
   "id": "6fd36746",
   "metadata": {
    "ExecuteTime": {
     "start_time": "2023-10-11T15:34:37.853156Z",
     "end_time": "2023-10-11T15:36:34.496383Z"
    }
   },
   "outputs": [
    {
     "name": "stderr",
     "output_type": "stream",
     "text": [
      "/var/folders/hc/hnq3mts53txg3k7xbmj90z_80000gn/T/ipykernel_79155/2979002713.py:9: FutureWarning: Setting an item of incompatible dtype is deprecated and will raise in a future error of pandas. Value '7.4199098428453265' has dtype incompatible with int64, please explicitly cast to a compatible dtype first.\n",
      "  selected_items.iloc[index,:] = item\n"
     ]
    }
   ],
   "source": [
    "all_users = pd.merge(user_representation, user_representation_wnames,left_index=True, right_index=True, how='left')\n",
    "all_items = add_avg_group_rating(user_item_complete.sample(frac=0.005, random_state=42), all_users, user_item_complete)"
   ]
  },
  {
   "cell_type": "code",
   "execution_count": 16,
   "id": "384a9510",
   "metadata": {
    "ExecuteTime": {
     "start_time": "2023-10-11T15:36:34.497541Z",
     "end_time": "2023-10-11T15:36:34.499099Z"
    }
   },
   "outputs": [],
   "source": [
    "def save(obj):\n",
    "    def get_variable_name(var):\n",
    "        # Iterate over the global variables\n",
    "        for name, value in globals().items():\n",
    "            if value is var:\n",
    "                return name\n",
    "        return None\n",
    "    name = get_variable_name(obj)\n",
    "    with open(name+\".pkl\", \"wb\") as f: # \"wb\" because we want to write in binary mode\n",
    "        pickle.dump(obj, f)\n",
    "        \n",
    "def open(path):\n",
    "    return pickle.loads(path)"
   ]
  },
  {
   "cell_type": "code",
   "execution_count": 17,
   "id": "07328e4a",
   "metadata": {
    "ExecuteTime": {
     "start_time": "2023-10-11T15:36:34.500809Z",
     "end_time": "2023-10-11T15:36:34.502168Z"
    }
   },
   "outputs": [],
   "source": [
    "def test_stat_significance(feature_name, selected_items):\n",
    "    \"\"\" test whether an item feature has statistically significant \n",
    "        correlation (Pearson) with a group rating\n",
    "    \"\"\"\n",
    "\n",
    "    feature = selected_items[feature_name].dropna()\n",
    "    ratings = selected_items['avg_group_rating'].reindex(feature.index).values\n",
    "    feature = feature.values\n",
    "    \n",
    "    r, p = pearsonr(ratings, feature)\n",
    "    \n",
    "    significant = False\n",
    "    if p < 0.05:\n",
    "        significant = True\n",
    "\n",
    "    # print(f'feature {feature_name} has p-value {round(p,2)}, significant: {significant}, correlation: {round(r,2)}')\n",
    "    return r, significant\n"
   ]
  },
  {
   "cell_type": "code",
   "execution_count": 18,
   "id": "a973b94d",
   "metadata": {
    "ExecuteTime": {
     "start_time": "2023-10-11T15:36:34.503474Z",
     "end_time": "2023-10-11T15:36:34.504817Z"
    }
   },
   "outputs": [],
   "source": [
    "def find_group_features(group_items, complete):\n",
    "    features = group_items.columns\n",
    "    group_features = []\n",
    "    for feature_name in features:\n",
    "        if feature_name in non_numerical_features:\n",
    "            continue\n",
    "        \n",
    "        correlation, significant = test_stat_significance(feature_name, group_items)\n",
    "        \n",
    "        if significant and abs(correlation) > 0.10:\n",
    "            group_features.append(feature_name)\n",
    "    return group_features"
   ]
  },
  {
   "cell_type": "code",
   "execution_count": 19,
   "id": "f7791867",
   "metadata": {
    "ExecuteTime": {
     "start_time": "2023-10-11T15:36:34.505624Z",
     "end_time": "2023-10-11T15:36:34.533849Z"
    }
   },
   "outputs": [
    {
     "name": "stderr",
     "output_type": "stream",
     "text": [
      "/opt/homebrew/lib/python3.11/site-packages/scipy/stats/_stats_py.py:4424: ConstantInputWarning: An input array is constant; the correlation coefficient is not defined.\n",
      "  warnings.warn(stats.ConstantInputWarning(msg))\n"
     ]
    }
   ],
   "source": [
    "sign_user_preferences = set(find_group_features(all_items, user_item_complete))"
   ]
  },
  {
   "cell_type": "code",
   "execution_count": 20,
   "id": "4dc4338a",
   "metadata": {
    "ExecuteTime": {
     "start_time": "2023-10-11T15:36:34.530105Z",
     "end_time": "2023-10-11T15:36:34.533926Z"
    }
   },
   "outputs": [],
   "source": [
    "rating_features = ['AvgRating', 'BayesAvgRating', 'StdDev', 'avg_group_rating', 'median_rating']"
   ]
  },
  {
   "cell_type": "markdown",
   "id": "7580b7c2",
   "metadata": {},
   "source": [
    "### Item Features for Content-Based Filtering\n",
    "- the features which have correlation with an average rating more than 0.15 in absolute values\n",
    "- are not rating features\n",
    "- are statistically significant\n",
    "\n",
    "\n",
    "The features (19) were received:\n",
    "```\n",
    " 'Rank:boardgame',\n",
    " 'Rank:strategygames',\n",
    " 'Rank:childrensgames',\n",
    " 'Rank:partygames',\n",
    "\n",
    " 'NumWant',\n",
    " 'NumWish',\n",
    " 'NumUserRatings',\n",
    " 'NumOwned',\n",
    " 'NumWeightVotes',\n",
    "\n",
    " 'BestPlayers',\n",
    " 'GameWeight',\n",
    " 'ComAgeRec',\n",
    " 'Kickstarted',\n",
    " 'MinPlayers',\n",
    " 'LanguageEase',\n",
    " 'MfgAgeRec'\n",
    "\n",
    " 'Cat:Party',\n",
    " 'Cat:Childrens',\n",
    " 'Cat:Strategy',\n",
    " ```\n",
    "\n",
    "Based on the analysis of the correlation of similar features from the list, the following were discarded:\n",
    "\n",
    " `'NumWish', 'NumWeightVotes'`"
   ]
  },
  {
   "cell_type": "code",
   "execution_count": 21,
   "id": "8d29d440",
   "metadata": {
    "ExecuteTime": {
     "start_time": "2023-10-11T15:36:34.533018Z",
     "end_time": "2023-10-11T15:36:34.536293Z"
    }
   },
   "outputs": [],
   "source": [
    "final_item_features = [f for f in (list(sign_user_preferences) + ['item','user']) if f not in rating_features + ['NumWish','NumWeightVotes']]"
   ]
  },
  {
   "cell_type": "code",
   "execution_count": 22,
   "id": "72770590",
   "metadata": {
    "ExecuteTime": {
     "start_time": "2023-10-11T15:36:34.537297Z",
     "end_time": "2023-10-11T15:36:34.627123Z"
    }
   },
   "outputs": [],
   "source": [
    "mechanics_features = ['mechanic_' + i if not i == 'BGGId' else i for i in item_mecahnics.columns]\n",
    "subcategory_features = ['subcategory_' + i if not i == 'BGGId' else i for i in item_subcategories.columns]\n",
    "theme_features = ['theme_' + i.split('_')[-1] if not i == 'BGGId' else i for i in item_themes.columns]\n",
    "\n",
    "item_mecahnics.columns = mechanics_features\n",
    "item_subcategories.columns = subcategory_features\n",
    "item_themes.columns = theme_features\n",
    "\n",
    "item_catalog = pd.merge(item_mecahnics, item_subcategories, on='BGGId', how='outer')\n",
    "item_catalog = pd.merge(item_catalog, item_themes, on='BGGId', how='outer')"
   ]
  },
  {
   "cell_type": "code",
   "execution_count": 23,
   "id": "4f029286",
   "metadata": {
    "ExecuteTime": {
     "start_time": "2023-10-11T15:36:34.629384Z",
     "end_time": "2023-10-11T15:36:40.175774Z"
    }
   },
   "outputs": [],
   "source": [
    "user_item_selected = user_item_complete[final_item_features]\n",
    "user_item_all_features = pd.merge(user_item_selected, item_catalog, left_on='item', right_on='BGGId', how='left')"
   ]
  },
  {
   "cell_type": "code",
   "execution_count": 24,
   "id": "2d18e0f4",
   "metadata": {
    "ExecuteTime": {
     "start_time": "2023-10-11T15:36:40.174767Z",
     "end_time": "2023-10-11T15:36:40.194204Z"
    }
   },
   "outputs": [
    {
     "data": {
      "text/plain": "Index(['user'], dtype='object')"
     },
     "execution_count": 24,
     "metadata": {},
     "output_type": "execute_result"
    }
   ],
   "source": [
    "user_item_all_features.select_dtypes(include=['object']).columns"
   ]
  },
  {
   "cell_type": "code",
   "execution_count": 25,
   "id": "ea7ccf5a",
   "metadata": {
    "ExecuteTime": {
     "start_time": "2023-10-11T15:36:40.223761Z",
     "end_time": "2023-10-11T15:36:40.244731Z"
    }
   },
   "outputs": [],
   "source": [
    "all_user_names = user_item_all_features.user.unique()"
   ]
  },
  {
   "cell_type": "code",
   "execution_count": 26,
   "outputs": [
    {
     "data": {
      "text/plain": "         NumOwned  MfgAgeRec  NumExpansions  ComMaxPlaytime  MfgPlaytime  \\\n227086        521          8              0              45           45   \n333010        521          8              0              45           45   \n442881        521          8              0              45           45   \n808612        521          8              0              45           45   \n1046734       521          8              0              45           45   \n1174991       521          8              0              45           45   \n\n         Cat:Strategy  GameWeight  rating  NumWant  ComAgeRec  ...  \\\n227086              0       1.875     5.0        8        NaN  ...   \n333010              0       1.875     8.0        8        NaN  ...   \n442881              0       1.875     7.0        8        NaN  ...   \n808612              0       1.875     6.0        8        NaN  ...   \n1046734             0       1.875     6.0        8        NaN  ...   \n1174991             0       1.875     8.0        8        NaN  ...   \n\n         Rank:strategygames  Rank:childrensgames  BestPlayers  Kickstarted  \\\n227086                21926                21926            0            0   \n333010                21926                21926            0            0   \n442881                21926                21926            0            0   \n808612                21926                21926            0            0   \n1046734               21926                21926            0            0   \n1174991               21926                21926            0            0   \n\n         NumUserRatings  LanguageEase  ComMinPlaytime  MinPlayers  item  \\\n227086              175           NaN              45           3  5467   \n333010              175           NaN              45           3  5467   \n442881              175           NaN              45           3  5467   \n808612              175           NaN              45           3  5467   \n1046734             175           NaN              45           3  5467   \n1174991             175           NaN              45           3  5467   \n\n                     user  \n227086      BoardGameDude  \n333010            Aquafan  \n442881       KlausScharpf  \n808612        Disneyphile  \n1046734         Snowy0505  \n1174991  caffeinatedgamer  \n\n[6 rows x 25 columns]",
      "text/html": "<div>\n<style scoped>\n    .dataframe tbody tr th:only-of-type {\n        vertical-align: middle;\n    }\n\n    .dataframe tbody tr th {\n        vertical-align: top;\n    }\n\n    .dataframe thead th {\n        text-align: right;\n    }\n</style>\n<table border=\"1\" class=\"dataframe\">\n  <thead>\n    <tr style=\"text-align: right;\">\n      <th></th>\n      <th>NumOwned</th>\n      <th>MfgAgeRec</th>\n      <th>NumExpansions</th>\n      <th>ComMaxPlaytime</th>\n      <th>MfgPlaytime</th>\n      <th>Cat:Strategy</th>\n      <th>GameWeight</th>\n      <th>rating</th>\n      <th>NumWant</th>\n      <th>ComAgeRec</th>\n      <th>...</th>\n      <th>Rank:strategygames</th>\n      <th>Rank:childrensgames</th>\n      <th>BestPlayers</th>\n      <th>Kickstarted</th>\n      <th>NumUserRatings</th>\n      <th>LanguageEase</th>\n      <th>ComMinPlaytime</th>\n      <th>MinPlayers</th>\n      <th>item</th>\n      <th>user</th>\n    </tr>\n  </thead>\n  <tbody>\n    <tr>\n      <th>227086</th>\n      <td>521</td>\n      <td>8</td>\n      <td>0</td>\n      <td>45</td>\n      <td>45</td>\n      <td>0</td>\n      <td>1.875</td>\n      <td>5.0</td>\n      <td>8</td>\n      <td>NaN</td>\n      <td>...</td>\n      <td>21926</td>\n      <td>21926</td>\n      <td>0</td>\n      <td>0</td>\n      <td>175</td>\n      <td>NaN</td>\n      <td>45</td>\n      <td>3</td>\n      <td>5467</td>\n      <td>BoardGameDude</td>\n    </tr>\n    <tr>\n      <th>333010</th>\n      <td>521</td>\n      <td>8</td>\n      <td>0</td>\n      <td>45</td>\n      <td>45</td>\n      <td>0</td>\n      <td>1.875</td>\n      <td>8.0</td>\n      <td>8</td>\n      <td>NaN</td>\n      <td>...</td>\n      <td>21926</td>\n      <td>21926</td>\n      <td>0</td>\n      <td>0</td>\n      <td>175</td>\n      <td>NaN</td>\n      <td>45</td>\n      <td>3</td>\n      <td>5467</td>\n      <td>Aquafan</td>\n    </tr>\n    <tr>\n      <th>442881</th>\n      <td>521</td>\n      <td>8</td>\n      <td>0</td>\n      <td>45</td>\n      <td>45</td>\n      <td>0</td>\n      <td>1.875</td>\n      <td>7.0</td>\n      <td>8</td>\n      <td>NaN</td>\n      <td>...</td>\n      <td>21926</td>\n      <td>21926</td>\n      <td>0</td>\n      <td>0</td>\n      <td>175</td>\n      <td>NaN</td>\n      <td>45</td>\n      <td>3</td>\n      <td>5467</td>\n      <td>KlausScharpf</td>\n    </tr>\n    <tr>\n      <th>808612</th>\n      <td>521</td>\n      <td>8</td>\n      <td>0</td>\n      <td>45</td>\n      <td>45</td>\n      <td>0</td>\n      <td>1.875</td>\n      <td>6.0</td>\n      <td>8</td>\n      <td>NaN</td>\n      <td>...</td>\n      <td>21926</td>\n      <td>21926</td>\n      <td>0</td>\n      <td>0</td>\n      <td>175</td>\n      <td>NaN</td>\n      <td>45</td>\n      <td>3</td>\n      <td>5467</td>\n      <td>Disneyphile</td>\n    </tr>\n    <tr>\n      <th>1046734</th>\n      <td>521</td>\n      <td>8</td>\n      <td>0</td>\n      <td>45</td>\n      <td>45</td>\n      <td>0</td>\n      <td>1.875</td>\n      <td>6.0</td>\n      <td>8</td>\n      <td>NaN</td>\n      <td>...</td>\n      <td>21926</td>\n      <td>21926</td>\n      <td>0</td>\n      <td>0</td>\n      <td>175</td>\n      <td>NaN</td>\n      <td>45</td>\n      <td>3</td>\n      <td>5467</td>\n      <td>Snowy0505</td>\n    </tr>\n    <tr>\n      <th>1174991</th>\n      <td>521</td>\n      <td>8</td>\n      <td>0</td>\n      <td>45</td>\n      <td>45</td>\n      <td>0</td>\n      <td>1.875</td>\n      <td>8.0</td>\n      <td>8</td>\n      <td>NaN</td>\n      <td>...</td>\n      <td>21926</td>\n      <td>21926</td>\n      <td>0</td>\n      <td>0</td>\n      <td>175</td>\n      <td>NaN</td>\n      <td>45</td>\n      <td>3</td>\n      <td>5467</td>\n      <td>caffeinatedgamer</td>\n    </tr>\n  </tbody>\n</table>\n<p>6 rows × 25 columns</p>\n</div>"
     },
     "execution_count": 26,
     "metadata": {},
     "output_type": "execute_result"
    }
   ],
   "source": [
    "user_item_all_features[final_item_features][user_item_all_features['item']==5467]"
   ],
   "metadata": {
    "collapsed": false,
    "ExecuteTime": {
     "start_time": "2023-10-11T15:36:40.246552Z",
     "end_time": "2023-10-11T15:36:40.335930Z"
    }
   }
  },
  {
   "cell_type": "code",
   "execution_count": 27,
   "id": "48997977",
   "metadata": {
    "ExecuteTime": {
     "start_time": "2023-10-11T15:36:40.332110Z",
     "end_time": "2023-10-11T15:36:40.336011Z"
    }
   },
   "outputs": [],
   "source": [
    "def generate_Xy_for_user(username, complete_df):\n",
    "    scaler = StandardScaler()\n",
    "    user_rated_items = complete_df[complete_df['user']==username]\n",
    "    index_x = user_rated_items.index\n",
    "    X = user_rated_items.drop(columns=['user','rating', 'item'])\n",
    "    normalized_matrix = scaler.fit_transform(X)\n",
    "    X =  pd.DataFrame(normalized_matrix, columns=X.columns, index=index_x)\n",
    "    y = user_rated_items['rating']\n",
    "    return X,y"
   ]
  },
  {
   "cell_type": "code",
   "execution_count": 28,
   "id": "80aaf9ee",
   "metadata": {
    "ExecuteTime": {
     "start_time": "2023-10-11T15:36:40.334602Z",
     "end_time": "2023-10-11T15:36:40.338061Z"
    }
   },
   "outputs": [],
   "source": [
    "# X,y = generate_Xy_for_user(all_user_names[0],user_item_all_features[final_item_features])\n",
    "# train_X, test_X, train_y, test_y = train_test_split(X,y,test_size=0.2, random_state=42)"
   ]
  },
  {
   "cell_type": "code",
   "execution_count": 29,
   "id": "927d2bdd",
   "metadata": {
    "ExecuteTime": {
     "start_time": "2023-10-11T15:36:40.337301Z",
     "end_time": "2023-10-11T15:36:40.340009Z"
    }
   },
   "outputs": [],
   "source": [
    "# svr = SVR(kernel='linear')\n",
    "# svr.fit(train_X, train_y)"
   ]
  },
  {
   "cell_type": "code",
   "execution_count": 30,
   "id": "efd19191",
   "metadata": {
    "ExecuteTime": {
     "start_time": "2023-10-11T15:36:40.339053Z",
     "end_time": "2023-10-11T15:36:40.340120Z"
    }
   },
   "outputs": [],
   "source": [
    "# predicted_y = svr.predict(test_X)"
   ]
  },
  {
   "cell_type": "code",
   "execution_count": 31,
   "id": "d80c1460",
   "metadata": {
    "ExecuteTime": {
     "start_time": "2023-10-11T15:36:40.341213Z",
     "end_time": "2023-10-11T15:36:40.342580Z"
    }
   },
   "outputs": [],
   "source": [
    "# item_rating = test_y.to_frame().copy()\n",
    "# item_rating['predicted'] = predicted_y"
   ]
  },
  {
   "cell_type": "markdown",
   "id": "e8949da6",
   "metadata": {},
   "source": [
    "### Evaluation"
   ]
  },
  {
   "cell_type": "code",
   "execution_count": 32,
   "id": "c2e4373d",
   "metadata": {
    "ExecuteTime": {
     "start_time": "2023-10-11T15:36:40.342924Z",
     "end_time": "2023-10-11T15:36:40.344591Z"
    }
   },
   "outputs": [],
   "source": [
    "# num_users_test = 1\n",
    "# users_for_test = random.sample(list(all_user_names), num_users_test)"
   ]
  },
  {
   "cell_type": "code",
   "execution_count": 33,
   "id": "3dd230f8",
   "metadata": {
    "ExecuteTime": {
     "start_time": "2023-10-11T15:36:40.345212Z",
     "end_time": "2023-10-11T15:36:40.353084Z"
    }
   },
   "outputs": [],
   "source": [
    "# ((item_rating['rating']-item_rating['predicted'])**2).mean(0)**0.5"
   ]
  },
  {
   "cell_type": "code",
   "execution_count": 34,
   "id": "024c94b7",
   "metadata": {
    "ExecuteTime": {
     "start_time": "2023-10-11T15:36:40.347118Z",
     "end_time": "2023-10-11T15:36:40.353246Z"
    }
   },
   "outputs": [],
   "source": [
    "# (abs(item_rating['rating']-item_rating['predicted'])).mean(0)"
   ]
  },
  {
   "cell_type": "code",
   "execution_count": 35,
   "id": "2174a957",
   "metadata": {
    "ExecuteTime": {
     "start_time": "2023-10-11T15:36:40.349189Z",
     "end_time": "2023-10-11T15:36:40.353275Z"
    }
   },
   "outputs": [],
   "source": [
    "# def evaluate_users(users, user_item_all_features, regressor):\n",
    "#     RMSEs = []\n",
    "#     MAEs = []\n",
    "#     for user in users:\n",
    "#         X,y = generate_Xy_for_user(user,user_item_all_features)\n",
    "#         train_X, test_X, train_y, test_y = train_test_split(X,y, test_size=0.2, random_state=42)\n",
    "#\n",
    "#         regressor.fit(train_X, train_y)\n",
    "#         predicted_y = regressor.predict(test_X)\n",
    "#\n",
    "#         item_ratings = test_y.to_frame().copy()\n",
    "#         item_ratings['predicted'] = predicted_y\n",
    "#\n",
    "#         RMSEs.append(((item_ratings['rating']-item_ratings['predicted'])**2).mean(0)**0.5)\n",
    "#         MAEs.append((abs(item_ratings['rating']-item_ratings['predicted'])).mean(0))\n",
    "#\n",
    "#     return RMSEs, MAEs"
   ]
  },
  {
   "cell_type": "code",
   "execution_count": 36,
   "id": "38d86f8b",
   "metadata": {
    "ExecuteTime": {
     "start_time": "2023-10-11T15:36:40.351031Z",
     "end_time": "2023-10-11T15:36:40.353309Z"
    }
   },
   "outputs": [],
   "source": [
    "# user_item_all_features['ComAgeRec'].fillna(value=user_item_all_features['ComAgeRec'].mean(), inplace=True)\n",
    "# user_item_all_features['LanguageEase'].fillna(value=user_item_all_features['LanguageEase'].mean(), inplace=True)"
   ]
  },
  {
   "cell_type": "code",
   "execution_count": 37,
   "id": "e81ac0a1",
   "metadata": {
    "ExecuteTime": {
     "start_time": "2023-10-11T15:36:40.353492Z",
     "end_time": "2023-10-11T15:36:40.355243Z"
    }
   },
   "outputs": [],
   "source": [
    "# regressor = SVR(kernel='linear')\n",
    "# RMSEs, MAEs = evaluate_users(users_for_test, user_item_all_features[final_item_features], regressor)"
   ]
  },
  {
   "cell_type": "code",
   "execution_count": 38,
   "id": "c6d00b20",
   "metadata": {
    "ExecuteTime": {
     "start_time": "2023-10-11T15:36:40.355371Z",
     "end_time": "2023-10-11T15:36:40.357118Z"
    }
   },
   "outputs": [],
   "source": [
    "# avg_RMSE = np.mean(RMSEs)\n",
    "# avg_MAE = np.mean(MAEs)"
   ]
  },
  {
   "cell_type": "code",
   "execution_count": 39,
   "id": "48dfc036",
   "metadata": {
    "ExecuteTime": {
     "start_time": "2023-10-11T15:36:40.357176Z",
     "end_time": "2023-10-11T15:36:40.371212Z"
    }
   },
   "outputs": [],
   "source": [
    "# print('RMSE:',round(avg_RMSE,2), ' | MAE:',round(avg_MAE,2))"
   ]
  },
  {
   "cell_type": "code",
   "execution_count": 40,
   "id": "1dd80206",
   "metadata": {
    "ExecuteTime": {
     "start_time": "2023-10-11T15:36:40.359012Z",
     "end_time": "2023-10-11T15:36:40.371521Z"
    }
   },
   "outputs": [],
   "source": [
    "# regressor = DecisionTreeRegressor()\n",
    "# RMSEs, MAEs = evaluate_users(users_for_test, user_item_all_features[final_item_features], regressor)"
   ]
  },
  {
   "cell_type": "code",
   "execution_count": 41,
   "id": "b0153da2",
   "metadata": {
    "ExecuteTime": {
     "start_time": "2023-10-11T15:36:40.365621Z",
     "end_time": "2023-10-11T15:36:40.397050Z"
    }
   },
   "outputs": [],
   "source": [
    "# avg_RMSE = np.mean(RMSEs)\n",
    "# avg_MAE = np.mean(MAEs)\n",
    "# print('RMSE:',round(avg_RMSE,2), ' | MAE:',round(avg_MAE,2))"
   ]
  },
  {
   "cell_type": "code",
   "execution_count": 42,
   "id": "c9edfa8c",
   "metadata": {
    "ExecuteTime": {
     "start_time": "2023-10-11T15:36:40.367210Z",
     "end_time": "2023-10-11T15:36:40.397188Z"
    }
   },
   "outputs": [],
   "source": [
    "# regressor = XGBRegressor()\n",
    "# RMSEs, MAEs = evaluate_users(users_for_test, user_item_all_features[final_item_features], regressor)"
   ]
  },
  {
   "cell_type": "code",
   "execution_count": 43,
   "id": "9b60eb8d",
   "metadata": {
    "ExecuteTime": {
     "start_time": "2023-10-11T15:36:40.369252Z",
     "end_time": "2023-10-11T15:36:40.397220Z"
    }
   },
   "outputs": [],
   "source": [
    "# avg_RMSE = np.mean(RMSEs)\n",
    "# avg_MAE = np.mean(MAEs)\n",
    "# print('RMSE:',round(avg_RMSE,2), ' | MAE:',round(avg_MAE,2))"
   ]
  },
  {
   "cell_type": "code",
   "execution_count": 44,
   "outputs": [],
   "source": [
    "# all_user_names"
   ],
   "metadata": {
    "collapsed": false,
    "ExecuteTime": {
     "start_time": "2023-10-11T15:36:40.370952Z",
     "end_time": "2023-10-11T15:36:40.397250Z"
    }
   }
  },
  {
   "cell_type": "code",
   "execution_count": 45,
   "outputs": [],
   "source": [
    "# user_item_all_features[final_item_features]"
   ],
   "metadata": {
    "collapsed": false,
    "ExecuteTime": {
     "start_time": "2023-10-11T15:36:40.373203Z",
     "end_time": "2023-10-11T15:36:40.397276Z"
    }
   }
  },
  {
   "cell_type": "code",
   "execution_count": 46,
   "outputs": [],
   "source": [
    "# test_X.iloc[0]"
   ],
   "metadata": {
    "collapsed": false,
    "ExecuteTime": {
     "start_time": "2023-10-11T15:36:40.374916Z",
     "end_time": "2023-10-11T15:36:40.397305Z"
    }
   }
  },
  {
   "cell_type": "code",
   "execution_count": 47,
   "outputs": [],
   "source": [
    "# user_item_ratings_filtered.shape"
   ],
   "metadata": {
    "collapsed": false,
    "ExecuteTime": {
     "start_time": "2023-10-11T15:36:40.377204Z",
     "end_time": "2023-10-11T15:36:40.397330Z"
    }
   }
  },
  {
   "cell_type": "markdown",
   "source": [
    "# Group Recommender System\n",
    "\n",
    "## Dividing users in to groups\n",
    "Groups are made by looking at the most similar users\n",
    "The features are aggregated by addition strategy"
   ],
   "metadata": {
    "collapsed": false
   }
  },
  {
   "cell_type": "code",
   "execution_count": 48,
   "outputs": [
    {
     "data": {
      "text/plain": "     item  rating      user\n1  203416     8.0  -=Yod@=-\n2  271896     8.0  -=Yod@=-\n3   38054     6.0  -=Yod@=-\n4  312267     5.0  -=Yod@=-\n5   68448     9.0  -=Yod@=-",
      "text/html": "<div>\n<style scoped>\n    .dataframe tbody tr th:only-of-type {\n        vertical-align: middle;\n    }\n\n    .dataframe tbody tr th {\n        vertical-align: top;\n    }\n\n    .dataframe thead th {\n        text-align: right;\n    }\n</style>\n<table border=\"1\" class=\"dataframe\">\n  <thead>\n    <tr style=\"text-align: right;\">\n      <th></th>\n      <th>item</th>\n      <th>rating</th>\n      <th>user</th>\n    </tr>\n  </thead>\n  <tbody>\n    <tr>\n      <th>1</th>\n      <td>203416</td>\n      <td>8.0</td>\n      <td>-=Yod@=-</td>\n    </tr>\n    <tr>\n      <th>2</th>\n      <td>271896</td>\n      <td>8.0</td>\n      <td>-=Yod@=-</td>\n    </tr>\n    <tr>\n      <th>3</th>\n      <td>38054</td>\n      <td>6.0</td>\n      <td>-=Yod@=-</td>\n    </tr>\n    <tr>\n      <th>4</th>\n      <td>312267</td>\n      <td>5.0</td>\n      <td>-=Yod@=-</td>\n    </tr>\n    <tr>\n      <th>5</th>\n      <td>68448</td>\n      <td>9.0</td>\n      <td>-=Yod@=-</td>\n    </tr>\n  </tbody>\n</table>\n</div>"
     },
     "execution_count": 48,
     "metadata": {},
     "output_type": "execute_result"
    }
   ],
   "source": [
    "user_item_ratings_filtered.head()"
   ],
   "metadata": {
    "collapsed": false,
    "ExecuteTime": {
     "start_time": "2023-10-11T15:36:40.381097Z",
     "end_time": "2023-10-11T15:36:40.437885Z"
    }
   }
  },
  {
   "cell_type": "code",
   "execution_count": 49,
   "outputs": [],
   "source": [
    "# from synthetic_groups_generation.groups_generators import GroupsGenerator\n",
    "#\n",
    "# user_matrix = user_item_ratings_filtered.pivot_table(columns='item', index='user', values='rating')\n",
    "# user_matrix= user_matrix.iloc[:10000]\n",
    "# user_id_set = set(user_matrix.index.values)\n",
    "# user_id_indexes = user_matrix.index\n",
    "# user_matrix = user_matrix.fillna(0)"
   ],
   "metadata": {
    "collapsed": false,
    "ExecuteTime": {
     "start_time": "2023-10-11T15:36:40.383715Z",
     "end_time": "2023-10-11T15:37:13.235042Z"
    }
   }
  },
  {
   "cell_type": "code",
   "execution_count": 50,
   "outputs": [],
   "source": [
    "# user_matrix.to_csv(\"user_matrix.csv\")"
   ],
   "metadata": {
    "collapsed": false,
    "ExecuteTime": {
     "start_time": "2023-10-11T15:37:13.231839Z",
     "end_time": "2023-10-11T15:37:13.240342Z"
    }
   }
  },
  {
   "cell_type": "code",
   "execution_count": 51,
   "outputs": [],
   "source": [
    "# user_matrix = pd.read_csv(\"user_matrix.csv\")"
   ],
   "metadata": {
    "collapsed": false,
    "ExecuteTime": {
     "start_time": "2023-10-11T15:37:13.232512Z",
     "end_time": "2023-10-11T15:37:13.240432Z"
    }
   }
  },
  {
   "cell_type": "code",
   "execution_count": 52,
   "outputs": [],
   "source": [
    "# numpy_array = user_matrix.to_numpy()\n",
    "# sim_matrix = np.corrcoef(numpy_array[:][1:])"
   ],
   "metadata": {
    "collapsed": false,
    "ExecuteTime": {
     "start_time": "2023-10-11T15:37:13.234263Z",
     "end_time": "2023-10-11T15:37:29.356402Z"
    }
   }
  },
  {
   "cell_type": "code",
   "execution_count": 53,
   "outputs": [],
   "source": [
    "# %matplotlib inline\n",
    "# import matplotlib.pyplot as plt\n",
    "# plt.hist(sim_matrix.flatten())\n",
    "# plt.yscale(\"log\")\n",
    "# plt.xlabel(\"Pearson's Correlation Coeficient\")"
   ],
   "metadata": {
    "collapsed": false,
    "ExecuteTime": {
     "start_time": "2023-10-11T15:37:29.357128Z",
     "end_time": "2023-10-11T15:37:29.360795Z"
    }
   }
  },
  {
   "cell_type": "code",
   "execution_count": 54,
   "outputs": [
    {
     "name": "stdout",
     "output_type": "stream",
     "text": [
      "250\n"
     ]
    },
    {
     "data": {
      "text/plain": "     group_size group_similarity  \\\n0             4          similar   \n1             4          similar   \n2             4          similar   \n3             4          similar   \n4             4          similar   \n..          ...              ...   \n245           4          similar   \n246           4          similar   \n247           4          similar   \n248           4          similar   \n249           4          similar   \n\n                                         group_members  avg_similarity  \n0    [FruitTreeee, AKWA_VQ, Erast_i_ewejka, AlexMor...        0.207525  \n1     [Elchotizogrande, Darkhorse27, Donie, Eladamri2]        0.196199  \n2              [Cekkins, Bogusgig, Frootshoot, DaCaRo]        0.198449  \n3    [ElodrionEldaris, Gibbon27, Elec7Rick, BGAtheC...        0.224315  \n4    [GammaSpidey, GodsSonIsFun, Awakening, HeavyGear]        0.275823  \n..                                                 ...             ...  \n245    [Butsudoka, GammaSpidey, Cordwangle, HeavyGear]        0.254688  \n246   [Elvgren, IWasLeft2Die, Beardricj, Beran Kolcho]        0.234502  \n247       [CarlosXiangqi, Durbanite, GameCat3, BiLong]        0.283232  \n248             [BigdaddyTR, CyberG4, DaryleG, Echo13]        0.215581  \n249    [Gaertner3031, Geekking789, Atmomann, Elveebee]        0.266256  \n\n[250 rows x 4 columns]",
      "text/html": "<div>\n<style scoped>\n    .dataframe tbody tr th:only-of-type {\n        vertical-align: middle;\n    }\n\n    .dataframe tbody tr th {\n        vertical-align: top;\n    }\n\n    .dataframe thead th {\n        text-align: right;\n    }\n</style>\n<table border=\"1\" class=\"dataframe\">\n  <thead>\n    <tr style=\"text-align: right;\">\n      <th></th>\n      <th>group_size</th>\n      <th>group_similarity</th>\n      <th>group_members</th>\n      <th>avg_similarity</th>\n    </tr>\n  </thead>\n  <tbody>\n    <tr>\n      <th>0</th>\n      <td>4</td>\n      <td>similar</td>\n      <td>[FruitTreeee, AKWA_VQ, Erast_i_ewejka, AlexMor...</td>\n      <td>0.207525</td>\n    </tr>\n    <tr>\n      <th>1</th>\n      <td>4</td>\n      <td>similar</td>\n      <td>[Elchotizogrande, Darkhorse27, Donie, Eladamri2]</td>\n      <td>0.196199</td>\n    </tr>\n    <tr>\n      <th>2</th>\n      <td>4</td>\n      <td>similar</td>\n      <td>[Cekkins, Bogusgig, Frootshoot, DaCaRo]</td>\n      <td>0.198449</td>\n    </tr>\n    <tr>\n      <th>3</th>\n      <td>4</td>\n      <td>similar</td>\n      <td>[ElodrionEldaris, Gibbon27, Elec7Rick, BGAtheC...</td>\n      <td>0.224315</td>\n    </tr>\n    <tr>\n      <th>4</th>\n      <td>4</td>\n      <td>similar</td>\n      <td>[GammaSpidey, GodsSonIsFun, Awakening, HeavyGear]</td>\n      <td>0.275823</td>\n    </tr>\n    <tr>\n      <th>...</th>\n      <td>...</td>\n      <td>...</td>\n      <td>...</td>\n      <td>...</td>\n    </tr>\n    <tr>\n      <th>245</th>\n      <td>4</td>\n      <td>similar</td>\n      <td>[Butsudoka, GammaSpidey, Cordwangle, HeavyGear]</td>\n      <td>0.254688</td>\n    </tr>\n    <tr>\n      <th>246</th>\n      <td>4</td>\n      <td>similar</td>\n      <td>[Elvgren, IWasLeft2Die, Beardricj, Beran Kolcho]</td>\n      <td>0.234502</td>\n    </tr>\n    <tr>\n      <th>247</th>\n      <td>4</td>\n      <td>similar</td>\n      <td>[CarlosXiangqi, Durbanite, GameCat3, BiLong]</td>\n      <td>0.283232</td>\n    </tr>\n    <tr>\n      <th>248</th>\n      <td>4</td>\n      <td>similar</td>\n      <td>[BigdaddyTR, CyberG4, DaryleG, Echo13]</td>\n      <td>0.215581</td>\n    </tr>\n    <tr>\n      <th>249</th>\n      <td>4</td>\n      <td>similar</td>\n      <td>[Gaertner3031, Geekking789, Atmomann, Elveebee]</td>\n      <td>0.266256</td>\n    </tr>\n  </tbody>\n</table>\n<p>250 rows × 4 columns</p>\n</div>"
     },
     "metadata": {},
     "output_type": "display_data"
    }
   ],
   "source": [
    "# grpGenerator = GroupsGenerator.getGroupsGenerator(\"SIMILAR\")\n",
    "# current_list = grpGenerator.generateGroups(user_id_indexes, sorted(user_id_set), sim_matrix, [4], 250)\n",
    "#\n",
    "# display(pd.DataFrame.from_records(current_list))\n",
    "# groups = pd.DataFrame.from_records(current_list)"
   ],
   "metadata": {
    "collapsed": false,
    "ExecuteTime": {
     "start_time": "2023-10-11T15:37:29.366014Z",
     "end_time": "2023-10-11T15:37:30.273544Z"
    }
   }
  },
  {
   "cell_type": "code",
   "execution_count": 55,
   "outputs": [
    {
     "name": "stderr",
     "output_type": "stream",
     "text": [
      "/var/folders/hc/hnq3mts53txg3k7xbmj90z_80000gn/T/ipykernel_79155/720062415.py:13: FutureWarning: The behavior of DataFrame concatenation with empty or all-NA entries is deprecated. In a future version, this will no longer exclude empty or all-NA columns when determining the result dtypes. To retain the old behavior, exclude the relevant entries before the concat operation.\n",
      "  group_ratings= pd.concat([group_ratings,selected_users_rating], axis=0)\n",
      "/var/folders/hc/hnq3mts53txg3k7xbmj90z_80000gn/T/ipykernel_79155/720062415.py:25: FutureWarning: The behavior of DataFrame concatenation with empty or all-NA entries is deprecated. In a future version, this will no longer exclude empty or all-NA columns when determining the result dtypes. To retain the old behavior, exclude the relevant entries before the concat operation.\n",
      "  groups_ratings = pd.concat([groups_ratings, group_ratings], axis=0)\n",
      "/var/folders/hc/hnq3mts53txg3k7xbmj90z_80000gn/T/ipykernel_79155/720062415.py:13: FutureWarning: The behavior of DataFrame concatenation with empty or all-NA entries is deprecated. In a future version, this will no longer exclude empty or all-NA columns when determining the result dtypes. To retain the old behavior, exclude the relevant entries before the concat operation.\n",
      "  group_ratings= pd.concat([group_ratings,selected_users_rating], axis=0)\n",
      "/var/folders/hc/hnq3mts53txg3k7xbmj90z_80000gn/T/ipykernel_79155/720062415.py:13: FutureWarning: The behavior of DataFrame concatenation with empty or all-NA entries is deprecated. In a future version, this will no longer exclude empty or all-NA columns when determining the result dtypes. To retain the old behavior, exclude the relevant entries before the concat operation.\n",
      "  group_ratings= pd.concat([group_ratings,selected_users_rating], axis=0)\n",
      "/var/folders/hc/hnq3mts53txg3k7xbmj90z_80000gn/T/ipykernel_79155/720062415.py:13: FutureWarning: The behavior of DataFrame concatenation with empty or all-NA entries is deprecated. In a future version, this will no longer exclude empty or all-NA columns when determining the result dtypes. To retain the old behavior, exclude the relevant entries before the concat operation.\n",
      "  group_ratings= pd.concat([group_ratings,selected_users_rating], axis=0)\n",
      "/var/folders/hc/hnq3mts53txg3k7xbmj90z_80000gn/T/ipykernel_79155/720062415.py:13: FutureWarning: The behavior of DataFrame concatenation with empty or all-NA entries is deprecated. In a future version, this will no longer exclude empty or all-NA columns when determining the result dtypes. To retain the old behavior, exclude the relevant entries before the concat operation.\n",
      "  group_ratings= pd.concat([group_ratings,selected_users_rating], axis=0)\n",
      "/var/folders/hc/hnq3mts53txg3k7xbmj90z_80000gn/T/ipykernel_79155/720062415.py:13: FutureWarning: The behavior of DataFrame concatenation with empty or all-NA entries is deprecated. In a future version, this will no longer exclude empty or all-NA columns when determining the result dtypes. To retain the old behavior, exclude the relevant entries before the concat operation.\n",
      "  group_ratings= pd.concat([group_ratings,selected_users_rating], axis=0)\n",
      "/var/folders/hc/hnq3mts53txg3k7xbmj90z_80000gn/T/ipykernel_79155/720062415.py:13: FutureWarning: The behavior of DataFrame concatenation with empty or all-NA entries is deprecated. In a future version, this will no longer exclude empty or all-NA columns when determining the result dtypes. To retain the old behavior, exclude the relevant entries before the concat operation.\n",
      "  group_ratings= pd.concat([group_ratings,selected_users_rating], axis=0)\n",
      "/var/folders/hc/hnq3mts53txg3k7xbmj90z_80000gn/T/ipykernel_79155/720062415.py:13: FutureWarning: The behavior of DataFrame concatenation with empty or all-NA entries is deprecated. In a future version, this will no longer exclude empty or all-NA columns when determining the result dtypes. To retain the old behavior, exclude the relevant entries before the concat operation.\n",
      "  group_ratings= pd.concat([group_ratings,selected_users_rating], axis=0)\n",
      "/var/folders/hc/hnq3mts53txg3k7xbmj90z_80000gn/T/ipykernel_79155/720062415.py:13: FutureWarning: The behavior of DataFrame concatenation with empty or all-NA entries is deprecated. In a future version, this will no longer exclude empty or all-NA columns when determining the result dtypes. To retain the old behavior, exclude the relevant entries before the concat operation.\n",
      "  group_ratings= pd.concat([group_ratings,selected_users_rating], axis=0)\n",
      "/var/folders/hc/hnq3mts53txg3k7xbmj90z_80000gn/T/ipykernel_79155/720062415.py:13: FutureWarning: The behavior of DataFrame concatenation with empty or all-NA entries is deprecated. In a future version, this will no longer exclude empty or all-NA columns when determining the result dtypes. To retain the old behavior, exclude the relevant entries before the concat operation.\n",
      "  group_ratings= pd.concat([group_ratings,selected_users_rating], axis=0)\n",
      "/var/folders/hc/hnq3mts53txg3k7xbmj90z_80000gn/T/ipykernel_79155/720062415.py:13: FutureWarning: The behavior of DataFrame concatenation with empty or all-NA entries is deprecated. In a future version, this will no longer exclude empty or all-NA columns when determining the result dtypes. To retain the old behavior, exclude the relevant entries before the concat operation.\n",
      "  group_ratings= pd.concat([group_ratings,selected_users_rating], axis=0)\n",
      "/var/folders/hc/hnq3mts53txg3k7xbmj90z_80000gn/T/ipykernel_79155/720062415.py:13: FutureWarning: The behavior of DataFrame concatenation with empty or all-NA entries is deprecated. In a future version, this will no longer exclude empty or all-NA columns when determining the result dtypes. To retain the old behavior, exclude the relevant entries before the concat operation.\n",
      "  group_ratings= pd.concat([group_ratings,selected_users_rating], axis=0)\n",
      "/var/folders/hc/hnq3mts53txg3k7xbmj90z_80000gn/T/ipykernel_79155/720062415.py:13: FutureWarning: The behavior of DataFrame concatenation with empty or all-NA entries is deprecated. In a future version, this will no longer exclude empty or all-NA columns when determining the result dtypes. To retain the old behavior, exclude the relevant entries before the concat operation.\n",
      "  group_ratings= pd.concat([group_ratings,selected_users_rating], axis=0)\n",
      "/var/folders/hc/hnq3mts53txg3k7xbmj90z_80000gn/T/ipykernel_79155/720062415.py:13: FutureWarning: The behavior of DataFrame concatenation with empty or all-NA entries is deprecated. In a future version, this will no longer exclude empty or all-NA columns when determining the result dtypes. To retain the old behavior, exclude the relevant entries before the concat operation.\n",
      "  group_ratings= pd.concat([group_ratings,selected_users_rating], axis=0)\n",
      "/var/folders/hc/hnq3mts53txg3k7xbmj90z_80000gn/T/ipykernel_79155/720062415.py:13: FutureWarning: The behavior of DataFrame concatenation with empty or all-NA entries is deprecated. In a future version, this will no longer exclude empty or all-NA columns when determining the result dtypes. To retain the old behavior, exclude the relevant entries before the concat operation.\n",
      "  group_ratings= pd.concat([group_ratings,selected_users_rating], axis=0)\n",
      "/var/folders/hc/hnq3mts53txg3k7xbmj90z_80000gn/T/ipykernel_79155/720062415.py:13: FutureWarning: The behavior of DataFrame concatenation with empty or all-NA entries is deprecated. In a future version, this will no longer exclude empty or all-NA columns when determining the result dtypes. To retain the old behavior, exclude the relevant entries before the concat operation.\n",
      "  group_ratings= pd.concat([group_ratings,selected_users_rating], axis=0)\n",
      "/var/folders/hc/hnq3mts53txg3k7xbmj90z_80000gn/T/ipykernel_79155/720062415.py:13: FutureWarning: The behavior of DataFrame concatenation with empty or all-NA entries is deprecated. In a future version, this will no longer exclude empty or all-NA columns when determining the result dtypes. To retain the old behavior, exclude the relevant entries before the concat operation.\n",
      "  group_ratings= pd.concat([group_ratings,selected_users_rating], axis=0)\n",
      "/var/folders/hc/hnq3mts53txg3k7xbmj90z_80000gn/T/ipykernel_79155/720062415.py:13: FutureWarning: The behavior of DataFrame concatenation with empty or all-NA entries is deprecated. In a future version, this will no longer exclude empty or all-NA columns when determining the result dtypes. To retain the old behavior, exclude the relevant entries before the concat operation.\n",
      "  group_ratings= pd.concat([group_ratings,selected_users_rating], axis=0)\n",
      "/var/folders/hc/hnq3mts53txg3k7xbmj90z_80000gn/T/ipykernel_79155/720062415.py:13: FutureWarning: The behavior of DataFrame concatenation with empty or all-NA entries is deprecated. In a future version, this will no longer exclude empty or all-NA columns when determining the result dtypes. To retain the old behavior, exclude the relevant entries before the concat operation.\n",
      "  group_ratings= pd.concat([group_ratings,selected_users_rating], axis=0)\n",
      "/var/folders/hc/hnq3mts53txg3k7xbmj90z_80000gn/T/ipykernel_79155/720062415.py:13: FutureWarning: The behavior of DataFrame concatenation with empty or all-NA entries is deprecated. In a future version, this will no longer exclude empty or all-NA columns when determining the result dtypes. To retain the old behavior, exclude the relevant entries before the concat operation.\n",
      "  group_ratings= pd.concat([group_ratings,selected_users_rating], axis=0)\n",
      "/var/folders/hc/hnq3mts53txg3k7xbmj90z_80000gn/T/ipykernel_79155/720062415.py:13: FutureWarning: The behavior of DataFrame concatenation with empty or all-NA entries is deprecated. In a future version, this will no longer exclude empty or all-NA columns when determining the result dtypes. To retain the old behavior, exclude the relevant entries before the concat operation.\n",
      "  group_ratings= pd.concat([group_ratings,selected_users_rating], axis=0)\n",
      "/var/folders/hc/hnq3mts53txg3k7xbmj90z_80000gn/T/ipykernel_79155/720062415.py:13: FutureWarning: The behavior of DataFrame concatenation with empty or all-NA entries is deprecated. In a future version, this will no longer exclude empty or all-NA columns when determining the result dtypes. To retain the old behavior, exclude the relevant entries before the concat operation.\n",
      "  group_ratings= pd.concat([group_ratings,selected_users_rating], axis=0)\n",
      "/var/folders/hc/hnq3mts53txg3k7xbmj90z_80000gn/T/ipykernel_79155/720062415.py:13: FutureWarning: The behavior of DataFrame concatenation with empty or all-NA entries is deprecated. In a future version, this will no longer exclude empty or all-NA columns when determining the result dtypes. To retain the old behavior, exclude the relevant entries before the concat operation.\n",
      "  group_ratings= pd.concat([group_ratings,selected_users_rating], axis=0)\n",
      "/var/folders/hc/hnq3mts53txg3k7xbmj90z_80000gn/T/ipykernel_79155/720062415.py:13: FutureWarning: The behavior of DataFrame concatenation with empty or all-NA entries is deprecated. In a future version, this will no longer exclude empty or all-NA columns when determining the result dtypes. To retain the old behavior, exclude the relevant entries before the concat operation.\n",
      "  group_ratings= pd.concat([group_ratings,selected_users_rating], axis=0)\n",
      "/var/folders/hc/hnq3mts53txg3k7xbmj90z_80000gn/T/ipykernel_79155/720062415.py:13: FutureWarning: The behavior of DataFrame concatenation with empty or all-NA entries is deprecated. In a future version, this will no longer exclude empty or all-NA columns when determining the result dtypes. To retain the old behavior, exclude the relevant entries before the concat operation.\n",
      "  group_ratings= pd.concat([group_ratings,selected_users_rating], axis=0)\n",
      "/var/folders/hc/hnq3mts53txg3k7xbmj90z_80000gn/T/ipykernel_79155/720062415.py:13: FutureWarning: The behavior of DataFrame concatenation with empty or all-NA entries is deprecated. In a future version, this will no longer exclude empty or all-NA columns when determining the result dtypes. To retain the old behavior, exclude the relevant entries before the concat operation.\n",
      "  group_ratings= pd.concat([group_ratings,selected_users_rating], axis=0)\n",
      "/var/folders/hc/hnq3mts53txg3k7xbmj90z_80000gn/T/ipykernel_79155/720062415.py:13: FutureWarning: The behavior of DataFrame concatenation with empty or all-NA entries is deprecated. In a future version, this will no longer exclude empty or all-NA columns when determining the result dtypes. To retain the old behavior, exclude the relevant entries before the concat operation.\n",
      "  group_ratings= pd.concat([group_ratings,selected_users_rating], axis=0)\n",
      "/var/folders/hc/hnq3mts53txg3k7xbmj90z_80000gn/T/ipykernel_79155/720062415.py:13: FutureWarning: The behavior of DataFrame concatenation with empty or all-NA entries is deprecated. In a future version, this will no longer exclude empty or all-NA columns when determining the result dtypes. To retain the old behavior, exclude the relevant entries before the concat operation.\n",
      "  group_ratings= pd.concat([group_ratings,selected_users_rating], axis=0)\n",
      "/var/folders/hc/hnq3mts53txg3k7xbmj90z_80000gn/T/ipykernel_79155/720062415.py:13: FutureWarning: The behavior of DataFrame concatenation with empty or all-NA entries is deprecated. In a future version, this will no longer exclude empty or all-NA columns when determining the result dtypes. To retain the old behavior, exclude the relevant entries before the concat operation.\n",
      "  group_ratings= pd.concat([group_ratings,selected_users_rating], axis=0)\n",
      "/var/folders/hc/hnq3mts53txg3k7xbmj90z_80000gn/T/ipykernel_79155/720062415.py:13: FutureWarning: The behavior of DataFrame concatenation with empty or all-NA entries is deprecated. In a future version, this will no longer exclude empty or all-NA columns when determining the result dtypes. To retain the old behavior, exclude the relevant entries before the concat operation.\n",
      "  group_ratings= pd.concat([group_ratings,selected_users_rating], axis=0)\n",
      "/var/folders/hc/hnq3mts53txg3k7xbmj90z_80000gn/T/ipykernel_79155/720062415.py:13: FutureWarning: The behavior of DataFrame concatenation with empty or all-NA entries is deprecated. In a future version, this will no longer exclude empty or all-NA columns when determining the result dtypes. To retain the old behavior, exclude the relevant entries before the concat operation.\n",
      "  group_ratings= pd.concat([group_ratings,selected_users_rating], axis=0)\n",
      "/var/folders/hc/hnq3mts53txg3k7xbmj90z_80000gn/T/ipykernel_79155/720062415.py:13: FutureWarning: The behavior of DataFrame concatenation with empty or all-NA entries is deprecated. In a future version, this will no longer exclude empty or all-NA columns when determining the result dtypes. To retain the old behavior, exclude the relevant entries before the concat operation.\n",
      "  group_ratings= pd.concat([group_ratings,selected_users_rating], axis=0)\n",
      "/var/folders/hc/hnq3mts53txg3k7xbmj90z_80000gn/T/ipykernel_79155/720062415.py:13: FutureWarning: The behavior of DataFrame concatenation with empty or all-NA entries is deprecated. In a future version, this will no longer exclude empty or all-NA columns when determining the result dtypes. To retain the old behavior, exclude the relevant entries before the concat operation.\n",
      "  group_ratings= pd.concat([group_ratings,selected_users_rating], axis=0)\n",
      "/var/folders/hc/hnq3mts53txg3k7xbmj90z_80000gn/T/ipykernel_79155/720062415.py:13: FutureWarning: The behavior of DataFrame concatenation with empty or all-NA entries is deprecated. In a future version, this will no longer exclude empty or all-NA columns when determining the result dtypes. To retain the old behavior, exclude the relevant entries before the concat operation.\n",
      "  group_ratings= pd.concat([group_ratings,selected_users_rating], axis=0)\n",
      "/var/folders/hc/hnq3mts53txg3k7xbmj90z_80000gn/T/ipykernel_79155/720062415.py:13: FutureWarning: The behavior of DataFrame concatenation with empty or all-NA entries is deprecated. In a future version, this will no longer exclude empty or all-NA columns when determining the result dtypes. To retain the old behavior, exclude the relevant entries before the concat operation.\n",
      "  group_ratings= pd.concat([group_ratings,selected_users_rating], axis=0)\n",
      "/var/folders/hc/hnq3mts53txg3k7xbmj90z_80000gn/T/ipykernel_79155/720062415.py:13: FutureWarning: The behavior of DataFrame concatenation with empty or all-NA entries is deprecated. In a future version, this will no longer exclude empty or all-NA columns when determining the result dtypes. To retain the old behavior, exclude the relevant entries before the concat operation.\n",
      "  group_ratings= pd.concat([group_ratings,selected_users_rating], axis=0)\n",
      "/var/folders/hc/hnq3mts53txg3k7xbmj90z_80000gn/T/ipykernel_79155/720062415.py:13: FutureWarning: The behavior of DataFrame concatenation with empty or all-NA entries is deprecated. In a future version, this will no longer exclude empty or all-NA columns when determining the result dtypes. To retain the old behavior, exclude the relevant entries before the concat operation.\n",
      "  group_ratings= pd.concat([group_ratings,selected_users_rating], axis=0)\n",
      "/var/folders/hc/hnq3mts53txg3k7xbmj90z_80000gn/T/ipykernel_79155/720062415.py:13: FutureWarning: The behavior of DataFrame concatenation with empty or all-NA entries is deprecated. In a future version, this will no longer exclude empty or all-NA columns when determining the result dtypes. To retain the old behavior, exclude the relevant entries before the concat operation.\n",
      "  group_ratings= pd.concat([group_ratings,selected_users_rating], axis=0)\n",
      "/var/folders/hc/hnq3mts53txg3k7xbmj90z_80000gn/T/ipykernel_79155/720062415.py:13: FutureWarning: The behavior of DataFrame concatenation with empty or all-NA entries is deprecated. In a future version, this will no longer exclude empty or all-NA columns when determining the result dtypes. To retain the old behavior, exclude the relevant entries before the concat operation.\n",
      "  group_ratings= pd.concat([group_ratings,selected_users_rating], axis=0)\n",
      "/var/folders/hc/hnq3mts53txg3k7xbmj90z_80000gn/T/ipykernel_79155/720062415.py:13: FutureWarning: The behavior of DataFrame concatenation with empty or all-NA entries is deprecated. In a future version, this will no longer exclude empty or all-NA columns when determining the result dtypes. To retain the old behavior, exclude the relevant entries before the concat operation.\n",
      "  group_ratings= pd.concat([group_ratings,selected_users_rating], axis=0)\n",
      "/var/folders/hc/hnq3mts53txg3k7xbmj90z_80000gn/T/ipykernel_79155/720062415.py:13: FutureWarning: The behavior of DataFrame concatenation with empty or all-NA entries is deprecated. In a future version, this will no longer exclude empty or all-NA columns when determining the result dtypes. To retain the old behavior, exclude the relevant entries before the concat operation.\n",
      "  group_ratings= pd.concat([group_ratings,selected_users_rating], axis=0)\n",
      "/var/folders/hc/hnq3mts53txg3k7xbmj90z_80000gn/T/ipykernel_79155/720062415.py:13: FutureWarning: The behavior of DataFrame concatenation with empty or all-NA entries is deprecated. In a future version, this will no longer exclude empty or all-NA columns when determining the result dtypes. To retain the old behavior, exclude the relevant entries before the concat operation.\n",
      "  group_ratings= pd.concat([group_ratings,selected_users_rating], axis=0)\n",
      "/var/folders/hc/hnq3mts53txg3k7xbmj90z_80000gn/T/ipykernel_79155/720062415.py:13: FutureWarning: The behavior of DataFrame concatenation with empty or all-NA entries is deprecated. In a future version, this will no longer exclude empty or all-NA columns when determining the result dtypes. To retain the old behavior, exclude the relevant entries before the concat operation.\n",
      "  group_ratings= pd.concat([group_ratings,selected_users_rating], axis=0)\n",
      "/var/folders/hc/hnq3mts53txg3k7xbmj90z_80000gn/T/ipykernel_79155/720062415.py:13: FutureWarning: The behavior of DataFrame concatenation with empty or all-NA entries is deprecated. In a future version, this will no longer exclude empty or all-NA columns when determining the result dtypes. To retain the old behavior, exclude the relevant entries before the concat operation.\n",
      "  group_ratings= pd.concat([group_ratings,selected_users_rating], axis=0)\n",
      "/var/folders/hc/hnq3mts53txg3k7xbmj90z_80000gn/T/ipykernel_79155/720062415.py:13: FutureWarning: The behavior of DataFrame concatenation with empty or all-NA entries is deprecated. In a future version, this will no longer exclude empty or all-NA columns when determining the result dtypes. To retain the old behavior, exclude the relevant entries before the concat operation.\n",
      "  group_ratings= pd.concat([group_ratings,selected_users_rating], axis=0)\n",
      "/var/folders/hc/hnq3mts53txg3k7xbmj90z_80000gn/T/ipykernel_79155/720062415.py:13: FutureWarning: The behavior of DataFrame concatenation with empty or all-NA entries is deprecated. In a future version, this will no longer exclude empty or all-NA columns when determining the result dtypes. To retain the old behavior, exclude the relevant entries before the concat operation.\n",
      "  group_ratings= pd.concat([group_ratings,selected_users_rating], axis=0)\n",
      "/var/folders/hc/hnq3mts53txg3k7xbmj90z_80000gn/T/ipykernel_79155/720062415.py:13: FutureWarning: The behavior of DataFrame concatenation with empty or all-NA entries is deprecated. In a future version, this will no longer exclude empty or all-NA columns when determining the result dtypes. To retain the old behavior, exclude the relevant entries before the concat operation.\n",
      "  group_ratings= pd.concat([group_ratings,selected_users_rating], axis=0)\n",
      "/var/folders/hc/hnq3mts53txg3k7xbmj90z_80000gn/T/ipykernel_79155/720062415.py:13: FutureWarning: The behavior of DataFrame concatenation with empty or all-NA entries is deprecated. In a future version, this will no longer exclude empty or all-NA columns when determining the result dtypes. To retain the old behavior, exclude the relevant entries before the concat operation.\n",
      "  group_ratings= pd.concat([group_ratings,selected_users_rating], axis=0)\n",
      "/var/folders/hc/hnq3mts53txg3k7xbmj90z_80000gn/T/ipykernel_79155/720062415.py:13: FutureWarning: The behavior of DataFrame concatenation with empty or all-NA entries is deprecated. In a future version, this will no longer exclude empty or all-NA columns when determining the result dtypes. To retain the old behavior, exclude the relevant entries before the concat operation.\n",
      "  group_ratings= pd.concat([group_ratings,selected_users_rating], axis=0)\n",
      "/var/folders/hc/hnq3mts53txg3k7xbmj90z_80000gn/T/ipykernel_79155/720062415.py:13: FutureWarning: The behavior of DataFrame concatenation with empty or all-NA entries is deprecated. In a future version, this will no longer exclude empty or all-NA columns when determining the result dtypes. To retain the old behavior, exclude the relevant entries before the concat operation.\n",
      "  group_ratings= pd.concat([group_ratings,selected_users_rating], axis=0)\n",
      "/var/folders/hc/hnq3mts53txg3k7xbmj90z_80000gn/T/ipykernel_79155/720062415.py:13: FutureWarning: The behavior of DataFrame concatenation with empty or all-NA entries is deprecated. In a future version, this will no longer exclude empty or all-NA columns when determining the result dtypes. To retain the old behavior, exclude the relevant entries before the concat operation.\n",
      "  group_ratings= pd.concat([group_ratings,selected_users_rating], axis=0)\n",
      "/var/folders/hc/hnq3mts53txg3k7xbmj90z_80000gn/T/ipykernel_79155/720062415.py:13: FutureWarning: The behavior of DataFrame concatenation with empty or all-NA entries is deprecated. In a future version, this will no longer exclude empty or all-NA columns when determining the result dtypes. To retain the old behavior, exclude the relevant entries before the concat operation.\n",
      "  group_ratings= pd.concat([group_ratings,selected_users_rating], axis=0)\n",
      "/var/folders/hc/hnq3mts53txg3k7xbmj90z_80000gn/T/ipykernel_79155/720062415.py:13: FutureWarning: The behavior of DataFrame concatenation with empty or all-NA entries is deprecated. In a future version, this will no longer exclude empty or all-NA columns when determining the result dtypes. To retain the old behavior, exclude the relevant entries before the concat operation.\n",
      "  group_ratings= pd.concat([group_ratings,selected_users_rating], axis=0)\n",
      "/var/folders/hc/hnq3mts53txg3k7xbmj90z_80000gn/T/ipykernel_79155/720062415.py:13: FutureWarning: The behavior of DataFrame concatenation with empty or all-NA entries is deprecated. In a future version, this will no longer exclude empty or all-NA columns when determining the result dtypes. To retain the old behavior, exclude the relevant entries before the concat operation.\n",
      "  group_ratings= pd.concat([group_ratings,selected_users_rating], axis=0)\n",
      "/var/folders/hc/hnq3mts53txg3k7xbmj90z_80000gn/T/ipykernel_79155/720062415.py:13: FutureWarning: The behavior of DataFrame concatenation with empty or all-NA entries is deprecated. In a future version, this will no longer exclude empty or all-NA columns when determining the result dtypes. To retain the old behavior, exclude the relevant entries before the concat operation.\n",
      "  group_ratings= pd.concat([group_ratings,selected_users_rating], axis=0)\n",
      "/var/folders/hc/hnq3mts53txg3k7xbmj90z_80000gn/T/ipykernel_79155/720062415.py:13: FutureWarning: The behavior of DataFrame concatenation with empty or all-NA entries is deprecated. In a future version, this will no longer exclude empty or all-NA columns when determining the result dtypes. To retain the old behavior, exclude the relevant entries before the concat operation.\n",
      "  group_ratings= pd.concat([group_ratings,selected_users_rating], axis=0)\n",
      "/var/folders/hc/hnq3mts53txg3k7xbmj90z_80000gn/T/ipykernel_79155/720062415.py:13: FutureWarning: The behavior of DataFrame concatenation with empty or all-NA entries is deprecated. In a future version, this will no longer exclude empty or all-NA columns when determining the result dtypes. To retain the old behavior, exclude the relevant entries before the concat operation.\n",
      "  group_ratings= pd.concat([group_ratings,selected_users_rating], axis=0)\n",
      "/var/folders/hc/hnq3mts53txg3k7xbmj90z_80000gn/T/ipykernel_79155/720062415.py:13: FutureWarning: The behavior of DataFrame concatenation with empty or all-NA entries is deprecated. In a future version, this will no longer exclude empty or all-NA columns when determining the result dtypes. To retain the old behavior, exclude the relevant entries before the concat operation.\n",
      "  group_ratings= pd.concat([group_ratings,selected_users_rating], axis=0)\n",
      "/var/folders/hc/hnq3mts53txg3k7xbmj90z_80000gn/T/ipykernel_79155/720062415.py:13: FutureWarning: The behavior of DataFrame concatenation with empty or all-NA entries is deprecated. In a future version, this will no longer exclude empty or all-NA columns when determining the result dtypes. To retain the old behavior, exclude the relevant entries before the concat operation.\n",
      "  group_ratings= pd.concat([group_ratings,selected_users_rating], axis=0)\n",
      "/var/folders/hc/hnq3mts53txg3k7xbmj90z_80000gn/T/ipykernel_79155/720062415.py:13: FutureWarning: The behavior of DataFrame concatenation with empty or all-NA entries is deprecated. In a future version, this will no longer exclude empty or all-NA columns when determining the result dtypes. To retain the old behavior, exclude the relevant entries before the concat operation.\n",
      "  group_ratings= pd.concat([group_ratings,selected_users_rating], axis=0)\n",
      "/var/folders/hc/hnq3mts53txg3k7xbmj90z_80000gn/T/ipykernel_79155/720062415.py:13: FutureWarning: The behavior of DataFrame concatenation with empty or all-NA entries is deprecated. In a future version, this will no longer exclude empty or all-NA columns when determining the result dtypes. To retain the old behavior, exclude the relevant entries before the concat operation.\n",
      "  group_ratings= pd.concat([group_ratings,selected_users_rating], axis=0)\n",
      "/var/folders/hc/hnq3mts53txg3k7xbmj90z_80000gn/T/ipykernel_79155/720062415.py:13: FutureWarning: The behavior of DataFrame concatenation with empty or all-NA entries is deprecated. In a future version, this will no longer exclude empty or all-NA columns when determining the result dtypes. To retain the old behavior, exclude the relevant entries before the concat operation.\n",
      "  group_ratings= pd.concat([group_ratings,selected_users_rating], axis=0)\n",
      "/var/folders/hc/hnq3mts53txg3k7xbmj90z_80000gn/T/ipykernel_79155/720062415.py:13: FutureWarning: The behavior of DataFrame concatenation with empty or all-NA entries is deprecated. In a future version, this will no longer exclude empty or all-NA columns when determining the result dtypes. To retain the old behavior, exclude the relevant entries before the concat operation.\n",
      "  group_ratings= pd.concat([group_ratings,selected_users_rating], axis=0)\n",
      "/var/folders/hc/hnq3mts53txg3k7xbmj90z_80000gn/T/ipykernel_79155/720062415.py:13: FutureWarning: The behavior of DataFrame concatenation with empty or all-NA entries is deprecated. In a future version, this will no longer exclude empty or all-NA columns when determining the result dtypes. To retain the old behavior, exclude the relevant entries before the concat operation.\n",
      "  group_ratings= pd.concat([group_ratings,selected_users_rating], axis=0)\n",
      "/var/folders/hc/hnq3mts53txg3k7xbmj90z_80000gn/T/ipykernel_79155/720062415.py:13: FutureWarning: The behavior of DataFrame concatenation with empty or all-NA entries is deprecated. In a future version, this will no longer exclude empty or all-NA columns when determining the result dtypes. To retain the old behavior, exclude the relevant entries before the concat operation.\n",
      "  group_ratings= pd.concat([group_ratings,selected_users_rating], axis=0)\n",
      "/var/folders/hc/hnq3mts53txg3k7xbmj90z_80000gn/T/ipykernel_79155/720062415.py:13: FutureWarning: The behavior of DataFrame concatenation with empty or all-NA entries is deprecated. In a future version, this will no longer exclude empty or all-NA columns when determining the result dtypes. To retain the old behavior, exclude the relevant entries before the concat operation.\n",
      "  group_ratings= pd.concat([group_ratings,selected_users_rating], axis=0)\n",
      "/var/folders/hc/hnq3mts53txg3k7xbmj90z_80000gn/T/ipykernel_79155/720062415.py:13: FutureWarning: The behavior of DataFrame concatenation with empty or all-NA entries is deprecated. In a future version, this will no longer exclude empty or all-NA columns when determining the result dtypes. To retain the old behavior, exclude the relevant entries before the concat operation.\n",
      "  group_ratings= pd.concat([group_ratings,selected_users_rating], axis=0)\n",
      "/var/folders/hc/hnq3mts53txg3k7xbmj90z_80000gn/T/ipykernel_79155/720062415.py:13: FutureWarning: The behavior of DataFrame concatenation with empty or all-NA entries is deprecated. In a future version, this will no longer exclude empty or all-NA columns when determining the result dtypes. To retain the old behavior, exclude the relevant entries before the concat operation.\n",
      "  group_ratings= pd.concat([group_ratings,selected_users_rating], axis=0)\n",
      "/var/folders/hc/hnq3mts53txg3k7xbmj90z_80000gn/T/ipykernel_79155/720062415.py:13: FutureWarning: The behavior of DataFrame concatenation with empty or all-NA entries is deprecated. In a future version, this will no longer exclude empty or all-NA columns when determining the result dtypes. To retain the old behavior, exclude the relevant entries before the concat operation.\n",
      "  group_ratings= pd.concat([group_ratings,selected_users_rating], axis=0)\n",
      "/var/folders/hc/hnq3mts53txg3k7xbmj90z_80000gn/T/ipykernel_79155/720062415.py:13: FutureWarning: The behavior of DataFrame concatenation with empty or all-NA entries is deprecated. In a future version, this will no longer exclude empty or all-NA columns when determining the result dtypes. To retain the old behavior, exclude the relevant entries before the concat operation.\n",
      "  group_ratings= pd.concat([group_ratings,selected_users_rating], axis=0)\n",
      "/var/folders/hc/hnq3mts53txg3k7xbmj90z_80000gn/T/ipykernel_79155/720062415.py:13: FutureWarning: The behavior of DataFrame concatenation with empty or all-NA entries is deprecated. In a future version, this will no longer exclude empty or all-NA columns when determining the result dtypes. To retain the old behavior, exclude the relevant entries before the concat operation.\n",
      "  group_ratings= pd.concat([group_ratings,selected_users_rating], axis=0)\n",
      "/var/folders/hc/hnq3mts53txg3k7xbmj90z_80000gn/T/ipykernel_79155/720062415.py:13: FutureWarning: The behavior of DataFrame concatenation with empty or all-NA entries is deprecated. In a future version, this will no longer exclude empty or all-NA columns when determining the result dtypes. To retain the old behavior, exclude the relevant entries before the concat operation.\n",
      "  group_ratings= pd.concat([group_ratings,selected_users_rating], axis=0)\n",
      "/var/folders/hc/hnq3mts53txg3k7xbmj90z_80000gn/T/ipykernel_79155/720062415.py:13: FutureWarning: The behavior of DataFrame concatenation with empty or all-NA entries is deprecated. In a future version, this will no longer exclude empty or all-NA columns when determining the result dtypes. To retain the old behavior, exclude the relevant entries before the concat operation.\n",
      "  group_ratings= pd.concat([group_ratings,selected_users_rating], axis=0)\n",
      "/var/folders/hc/hnq3mts53txg3k7xbmj90z_80000gn/T/ipykernel_79155/720062415.py:13: FutureWarning: The behavior of DataFrame concatenation with empty or all-NA entries is deprecated. In a future version, this will no longer exclude empty or all-NA columns when determining the result dtypes. To retain the old behavior, exclude the relevant entries before the concat operation.\n",
      "  group_ratings= pd.concat([group_ratings,selected_users_rating], axis=0)\n",
      "/var/folders/hc/hnq3mts53txg3k7xbmj90z_80000gn/T/ipykernel_79155/720062415.py:13: FutureWarning: The behavior of DataFrame concatenation with empty or all-NA entries is deprecated. In a future version, this will no longer exclude empty or all-NA columns when determining the result dtypes. To retain the old behavior, exclude the relevant entries before the concat operation.\n",
      "  group_ratings= pd.concat([group_ratings,selected_users_rating], axis=0)\n",
      "/var/folders/hc/hnq3mts53txg3k7xbmj90z_80000gn/T/ipykernel_79155/720062415.py:13: FutureWarning: The behavior of DataFrame concatenation with empty or all-NA entries is deprecated. In a future version, this will no longer exclude empty or all-NA columns when determining the result dtypes. To retain the old behavior, exclude the relevant entries before the concat operation.\n",
      "  group_ratings= pd.concat([group_ratings,selected_users_rating], axis=0)\n",
      "/var/folders/hc/hnq3mts53txg3k7xbmj90z_80000gn/T/ipykernel_79155/720062415.py:13: FutureWarning: The behavior of DataFrame concatenation with empty or all-NA entries is deprecated. In a future version, this will no longer exclude empty or all-NA columns when determining the result dtypes. To retain the old behavior, exclude the relevant entries before the concat operation.\n",
      "  group_ratings= pd.concat([group_ratings,selected_users_rating], axis=0)\n",
      "/var/folders/hc/hnq3mts53txg3k7xbmj90z_80000gn/T/ipykernel_79155/720062415.py:13: FutureWarning: The behavior of DataFrame concatenation with empty or all-NA entries is deprecated. In a future version, this will no longer exclude empty or all-NA columns when determining the result dtypes. To retain the old behavior, exclude the relevant entries before the concat operation.\n",
      "  group_ratings= pd.concat([group_ratings,selected_users_rating], axis=0)\n",
      "/var/folders/hc/hnq3mts53txg3k7xbmj90z_80000gn/T/ipykernel_79155/720062415.py:13: FutureWarning: The behavior of DataFrame concatenation with empty or all-NA entries is deprecated. In a future version, this will no longer exclude empty or all-NA columns when determining the result dtypes. To retain the old behavior, exclude the relevant entries before the concat operation.\n",
      "  group_ratings= pd.concat([group_ratings,selected_users_rating], axis=0)\n",
      "/var/folders/hc/hnq3mts53txg3k7xbmj90z_80000gn/T/ipykernel_79155/720062415.py:13: FutureWarning: The behavior of DataFrame concatenation with empty or all-NA entries is deprecated. In a future version, this will no longer exclude empty or all-NA columns when determining the result dtypes. To retain the old behavior, exclude the relevant entries before the concat operation.\n",
      "  group_ratings= pd.concat([group_ratings,selected_users_rating], axis=0)\n",
      "/var/folders/hc/hnq3mts53txg3k7xbmj90z_80000gn/T/ipykernel_79155/720062415.py:13: FutureWarning: The behavior of DataFrame concatenation with empty or all-NA entries is deprecated. In a future version, this will no longer exclude empty or all-NA columns when determining the result dtypes. To retain the old behavior, exclude the relevant entries before the concat operation.\n",
      "  group_ratings= pd.concat([group_ratings,selected_users_rating], axis=0)\n",
      "/var/folders/hc/hnq3mts53txg3k7xbmj90z_80000gn/T/ipykernel_79155/720062415.py:13: FutureWarning: The behavior of DataFrame concatenation with empty or all-NA entries is deprecated. In a future version, this will no longer exclude empty or all-NA columns when determining the result dtypes. To retain the old behavior, exclude the relevant entries before the concat operation.\n",
      "  group_ratings= pd.concat([group_ratings,selected_users_rating], axis=0)\n",
      "/var/folders/hc/hnq3mts53txg3k7xbmj90z_80000gn/T/ipykernel_79155/720062415.py:13: FutureWarning: The behavior of DataFrame concatenation with empty or all-NA entries is deprecated. In a future version, this will no longer exclude empty or all-NA columns when determining the result dtypes. To retain the old behavior, exclude the relevant entries before the concat operation.\n",
      "  group_ratings= pd.concat([group_ratings,selected_users_rating], axis=0)\n",
      "/var/folders/hc/hnq3mts53txg3k7xbmj90z_80000gn/T/ipykernel_79155/720062415.py:13: FutureWarning: The behavior of DataFrame concatenation with empty or all-NA entries is deprecated. In a future version, this will no longer exclude empty or all-NA columns when determining the result dtypes. To retain the old behavior, exclude the relevant entries before the concat operation.\n",
      "  group_ratings= pd.concat([group_ratings,selected_users_rating], axis=0)\n",
      "/var/folders/hc/hnq3mts53txg3k7xbmj90z_80000gn/T/ipykernel_79155/720062415.py:13: FutureWarning: The behavior of DataFrame concatenation with empty or all-NA entries is deprecated. In a future version, this will no longer exclude empty or all-NA columns when determining the result dtypes. To retain the old behavior, exclude the relevant entries before the concat operation.\n",
      "  group_ratings= pd.concat([group_ratings,selected_users_rating], axis=0)\n",
      "/var/folders/hc/hnq3mts53txg3k7xbmj90z_80000gn/T/ipykernel_79155/720062415.py:13: FutureWarning: The behavior of DataFrame concatenation with empty or all-NA entries is deprecated. In a future version, this will no longer exclude empty or all-NA columns when determining the result dtypes. To retain the old behavior, exclude the relevant entries before the concat operation.\n",
      "  group_ratings= pd.concat([group_ratings,selected_users_rating], axis=0)\n",
      "/var/folders/hc/hnq3mts53txg3k7xbmj90z_80000gn/T/ipykernel_79155/720062415.py:13: FutureWarning: The behavior of DataFrame concatenation with empty or all-NA entries is deprecated. In a future version, this will no longer exclude empty or all-NA columns when determining the result dtypes. To retain the old behavior, exclude the relevant entries before the concat operation.\n",
      "  group_ratings= pd.concat([group_ratings,selected_users_rating], axis=0)\n",
      "/var/folders/hc/hnq3mts53txg3k7xbmj90z_80000gn/T/ipykernel_79155/720062415.py:13: FutureWarning: The behavior of DataFrame concatenation with empty or all-NA entries is deprecated. In a future version, this will no longer exclude empty or all-NA columns when determining the result dtypes. To retain the old behavior, exclude the relevant entries before the concat operation.\n",
      "  group_ratings= pd.concat([group_ratings,selected_users_rating], axis=0)\n",
      "/var/folders/hc/hnq3mts53txg3k7xbmj90z_80000gn/T/ipykernel_79155/720062415.py:13: FutureWarning: The behavior of DataFrame concatenation with empty or all-NA entries is deprecated. In a future version, this will no longer exclude empty or all-NA columns when determining the result dtypes. To retain the old behavior, exclude the relevant entries before the concat operation.\n",
      "  group_ratings= pd.concat([group_ratings,selected_users_rating], axis=0)\n",
      "/var/folders/hc/hnq3mts53txg3k7xbmj90z_80000gn/T/ipykernel_79155/720062415.py:13: FutureWarning: The behavior of DataFrame concatenation with empty or all-NA entries is deprecated. In a future version, this will no longer exclude empty or all-NA columns when determining the result dtypes. To retain the old behavior, exclude the relevant entries before the concat operation.\n",
      "  group_ratings= pd.concat([group_ratings,selected_users_rating], axis=0)\n",
      "/var/folders/hc/hnq3mts53txg3k7xbmj90z_80000gn/T/ipykernel_79155/720062415.py:13: FutureWarning: The behavior of DataFrame concatenation with empty or all-NA entries is deprecated. In a future version, this will no longer exclude empty or all-NA columns when determining the result dtypes. To retain the old behavior, exclude the relevant entries before the concat operation.\n",
      "  group_ratings= pd.concat([group_ratings,selected_users_rating], axis=0)\n",
      "/var/folders/hc/hnq3mts53txg3k7xbmj90z_80000gn/T/ipykernel_79155/720062415.py:13: FutureWarning: The behavior of DataFrame concatenation with empty or all-NA entries is deprecated. In a future version, this will no longer exclude empty or all-NA columns when determining the result dtypes. To retain the old behavior, exclude the relevant entries before the concat operation.\n",
      "  group_ratings= pd.concat([group_ratings,selected_users_rating], axis=0)\n",
      "/var/folders/hc/hnq3mts53txg3k7xbmj90z_80000gn/T/ipykernel_79155/720062415.py:13: FutureWarning: The behavior of DataFrame concatenation with empty or all-NA entries is deprecated. In a future version, this will no longer exclude empty or all-NA columns when determining the result dtypes. To retain the old behavior, exclude the relevant entries before the concat operation.\n",
      "  group_ratings= pd.concat([group_ratings,selected_users_rating], axis=0)\n",
      "/var/folders/hc/hnq3mts53txg3k7xbmj90z_80000gn/T/ipykernel_79155/720062415.py:13: FutureWarning: The behavior of DataFrame concatenation with empty or all-NA entries is deprecated. In a future version, this will no longer exclude empty or all-NA columns when determining the result dtypes. To retain the old behavior, exclude the relevant entries before the concat operation.\n",
      "  group_ratings= pd.concat([group_ratings,selected_users_rating], axis=0)\n",
      "/var/folders/hc/hnq3mts53txg3k7xbmj90z_80000gn/T/ipykernel_79155/720062415.py:13: FutureWarning: The behavior of DataFrame concatenation with empty or all-NA entries is deprecated. In a future version, this will no longer exclude empty or all-NA columns when determining the result dtypes. To retain the old behavior, exclude the relevant entries before the concat operation.\n",
      "  group_ratings= pd.concat([group_ratings,selected_users_rating], axis=0)\n",
      "/var/folders/hc/hnq3mts53txg3k7xbmj90z_80000gn/T/ipykernel_79155/720062415.py:13: FutureWarning: The behavior of DataFrame concatenation with empty or all-NA entries is deprecated. In a future version, this will no longer exclude empty or all-NA columns when determining the result dtypes. To retain the old behavior, exclude the relevant entries before the concat operation.\n",
      "  group_ratings= pd.concat([group_ratings,selected_users_rating], axis=0)\n",
      "/var/folders/hc/hnq3mts53txg3k7xbmj90z_80000gn/T/ipykernel_79155/720062415.py:13: FutureWarning: The behavior of DataFrame concatenation with empty or all-NA entries is deprecated. In a future version, this will no longer exclude empty or all-NA columns when determining the result dtypes. To retain the old behavior, exclude the relevant entries before the concat operation.\n",
      "  group_ratings= pd.concat([group_ratings,selected_users_rating], axis=0)\n",
      "/var/folders/hc/hnq3mts53txg3k7xbmj90z_80000gn/T/ipykernel_79155/720062415.py:13: FutureWarning: The behavior of DataFrame concatenation with empty or all-NA entries is deprecated. In a future version, this will no longer exclude empty or all-NA columns when determining the result dtypes. To retain the old behavior, exclude the relevant entries before the concat operation.\n",
      "  group_ratings= pd.concat([group_ratings,selected_users_rating], axis=0)\n",
      "/var/folders/hc/hnq3mts53txg3k7xbmj90z_80000gn/T/ipykernel_79155/720062415.py:13: FutureWarning: The behavior of DataFrame concatenation with empty or all-NA entries is deprecated. In a future version, this will no longer exclude empty or all-NA columns when determining the result dtypes. To retain the old behavior, exclude the relevant entries before the concat operation.\n",
      "  group_ratings= pd.concat([group_ratings,selected_users_rating], axis=0)\n",
      "/var/folders/hc/hnq3mts53txg3k7xbmj90z_80000gn/T/ipykernel_79155/720062415.py:13: FutureWarning: The behavior of DataFrame concatenation with empty or all-NA entries is deprecated. In a future version, this will no longer exclude empty or all-NA columns when determining the result dtypes. To retain the old behavior, exclude the relevant entries before the concat operation.\n",
      "  group_ratings= pd.concat([group_ratings,selected_users_rating], axis=0)\n",
      "/var/folders/hc/hnq3mts53txg3k7xbmj90z_80000gn/T/ipykernel_79155/720062415.py:13: FutureWarning: The behavior of DataFrame concatenation with empty or all-NA entries is deprecated. In a future version, this will no longer exclude empty or all-NA columns when determining the result dtypes. To retain the old behavior, exclude the relevant entries before the concat operation.\n",
      "  group_ratings= pd.concat([group_ratings,selected_users_rating], axis=0)\n",
      "/var/folders/hc/hnq3mts53txg3k7xbmj90z_80000gn/T/ipykernel_79155/720062415.py:13: FutureWarning: The behavior of DataFrame concatenation with empty or all-NA entries is deprecated. In a future version, this will no longer exclude empty or all-NA columns when determining the result dtypes. To retain the old behavior, exclude the relevant entries before the concat operation.\n",
      "  group_ratings= pd.concat([group_ratings,selected_users_rating], axis=0)\n",
      "/var/folders/hc/hnq3mts53txg3k7xbmj90z_80000gn/T/ipykernel_79155/720062415.py:13: FutureWarning: The behavior of DataFrame concatenation with empty or all-NA entries is deprecated. In a future version, this will no longer exclude empty or all-NA columns when determining the result dtypes. To retain the old behavior, exclude the relevant entries before the concat operation.\n",
      "  group_ratings= pd.concat([group_ratings,selected_users_rating], axis=0)\n",
      "/var/folders/hc/hnq3mts53txg3k7xbmj90z_80000gn/T/ipykernel_79155/720062415.py:13: FutureWarning: The behavior of DataFrame concatenation with empty or all-NA entries is deprecated. In a future version, this will no longer exclude empty or all-NA columns when determining the result dtypes. To retain the old behavior, exclude the relevant entries before the concat operation.\n",
      "  group_ratings= pd.concat([group_ratings,selected_users_rating], axis=0)\n",
      "/var/folders/hc/hnq3mts53txg3k7xbmj90z_80000gn/T/ipykernel_79155/720062415.py:13: FutureWarning: The behavior of DataFrame concatenation with empty or all-NA entries is deprecated. In a future version, this will no longer exclude empty or all-NA columns when determining the result dtypes. To retain the old behavior, exclude the relevant entries before the concat operation.\n",
      "  group_ratings= pd.concat([group_ratings,selected_users_rating], axis=0)\n",
      "/var/folders/hc/hnq3mts53txg3k7xbmj90z_80000gn/T/ipykernel_79155/720062415.py:13: FutureWarning: The behavior of DataFrame concatenation with empty or all-NA entries is deprecated. In a future version, this will no longer exclude empty or all-NA columns when determining the result dtypes. To retain the old behavior, exclude the relevant entries before the concat operation.\n",
      "  group_ratings= pd.concat([group_ratings,selected_users_rating], axis=0)\n",
      "/var/folders/hc/hnq3mts53txg3k7xbmj90z_80000gn/T/ipykernel_79155/720062415.py:13: FutureWarning: The behavior of DataFrame concatenation with empty or all-NA entries is deprecated. In a future version, this will no longer exclude empty or all-NA columns when determining the result dtypes. To retain the old behavior, exclude the relevant entries before the concat operation.\n",
      "  group_ratings= pd.concat([group_ratings,selected_users_rating], axis=0)\n",
      "/var/folders/hc/hnq3mts53txg3k7xbmj90z_80000gn/T/ipykernel_79155/720062415.py:13: FutureWarning: The behavior of DataFrame concatenation with empty or all-NA entries is deprecated. In a future version, this will no longer exclude empty or all-NA columns when determining the result dtypes. To retain the old behavior, exclude the relevant entries before the concat operation.\n",
      "  group_ratings= pd.concat([group_ratings,selected_users_rating], axis=0)\n",
      "/var/folders/hc/hnq3mts53txg3k7xbmj90z_80000gn/T/ipykernel_79155/720062415.py:13: FutureWarning: The behavior of DataFrame concatenation with empty or all-NA entries is deprecated. In a future version, this will no longer exclude empty or all-NA columns when determining the result dtypes. To retain the old behavior, exclude the relevant entries before the concat operation.\n",
      "  group_ratings= pd.concat([group_ratings,selected_users_rating], axis=0)\n",
      "/var/folders/hc/hnq3mts53txg3k7xbmj90z_80000gn/T/ipykernel_79155/720062415.py:13: FutureWarning: The behavior of DataFrame concatenation with empty or all-NA entries is deprecated. In a future version, this will no longer exclude empty or all-NA columns when determining the result dtypes. To retain the old behavior, exclude the relevant entries before the concat operation.\n",
      "  group_ratings= pd.concat([group_ratings,selected_users_rating], axis=0)\n",
      "/var/folders/hc/hnq3mts53txg3k7xbmj90z_80000gn/T/ipykernel_79155/720062415.py:13: FutureWarning: The behavior of DataFrame concatenation with empty or all-NA entries is deprecated. In a future version, this will no longer exclude empty or all-NA columns when determining the result dtypes. To retain the old behavior, exclude the relevant entries before the concat operation.\n",
      "  group_ratings= pd.concat([group_ratings,selected_users_rating], axis=0)\n",
      "/var/folders/hc/hnq3mts53txg3k7xbmj90z_80000gn/T/ipykernel_79155/720062415.py:13: FutureWarning: The behavior of DataFrame concatenation with empty or all-NA entries is deprecated. In a future version, this will no longer exclude empty or all-NA columns when determining the result dtypes. To retain the old behavior, exclude the relevant entries before the concat operation.\n",
      "  group_ratings= pd.concat([group_ratings,selected_users_rating], axis=0)\n",
      "/var/folders/hc/hnq3mts53txg3k7xbmj90z_80000gn/T/ipykernel_79155/720062415.py:13: FutureWarning: The behavior of DataFrame concatenation with empty or all-NA entries is deprecated. In a future version, this will no longer exclude empty or all-NA columns when determining the result dtypes. To retain the old behavior, exclude the relevant entries before the concat operation.\n",
      "  group_ratings= pd.concat([group_ratings,selected_users_rating], axis=0)\n",
      "/var/folders/hc/hnq3mts53txg3k7xbmj90z_80000gn/T/ipykernel_79155/720062415.py:13: FutureWarning: The behavior of DataFrame concatenation with empty or all-NA entries is deprecated. In a future version, this will no longer exclude empty or all-NA columns when determining the result dtypes. To retain the old behavior, exclude the relevant entries before the concat operation.\n",
      "  group_ratings= pd.concat([group_ratings,selected_users_rating], axis=0)\n",
      "/var/folders/hc/hnq3mts53txg3k7xbmj90z_80000gn/T/ipykernel_79155/720062415.py:13: FutureWarning: The behavior of DataFrame concatenation with empty or all-NA entries is deprecated. In a future version, this will no longer exclude empty or all-NA columns when determining the result dtypes. To retain the old behavior, exclude the relevant entries before the concat operation.\n",
      "  group_ratings= pd.concat([group_ratings,selected_users_rating], axis=0)\n",
      "/var/folders/hc/hnq3mts53txg3k7xbmj90z_80000gn/T/ipykernel_79155/720062415.py:13: FutureWarning: The behavior of DataFrame concatenation with empty or all-NA entries is deprecated. In a future version, this will no longer exclude empty or all-NA columns when determining the result dtypes. To retain the old behavior, exclude the relevant entries before the concat operation.\n",
      "  group_ratings= pd.concat([group_ratings,selected_users_rating], axis=0)\n",
      "/var/folders/hc/hnq3mts53txg3k7xbmj90z_80000gn/T/ipykernel_79155/720062415.py:13: FutureWarning: The behavior of DataFrame concatenation with empty or all-NA entries is deprecated. In a future version, this will no longer exclude empty or all-NA columns when determining the result dtypes. To retain the old behavior, exclude the relevant entries before the concat operation.\n",
      "  group_ratings= pd.concat([group_ratings,selected_users_rating], axis=0)\n",
      "/var/folders/hc/hnq3mts53txg3k7xbmj90z_80000gn/T/ipykernel_79155/720062415.py:13: FutureWarning: The behavior of DataFrame concatenation with empty or all-NA entries is deprecated. In a future version, this will no longer exclude empty or all-NA columns when determining the result dtypes. To retain the old behavior, exclude the relevant entries before the concat operation.\n",
      "  group_ratings= pd.concat([group_ratings,selected_users_rating], axis=0)\n",
      "/var/folders/hc/hnq3mts53txg3k7xbmj90z_80000gn/T/ipykernel_79155/720062415.py:13: FutureWarning: The behavior of DataFrame concatenation with empty or all-NA entries is deprecated. In a future version, this will no longer exclude empty or all-NA columns when determining the result dtypes. To retain the old behavior, exclude the relevant entries before the concat operation.\n",
      "  group_ratings= pd.concat([group_ratings,selected_users_rating], axis=0)\n",
      "/var/folders/hc/hnq3mts53txg3k7xbmj90z_80000gn/T/ipykernel_79155/720062415.py:13: FutureWarning: The behavior of DataFrame concatenation with empty or all-NA entries is deprecated. In a future version, this will no longer exclude empty or all-NA columns when determining the result dtypes. To retain the old behavior, exclude the relevant entries before the concat operation.\n",
      "  group_ratings= pd.concat([group_ratings,selected_users_rating], axis=0)\n",
      "/var/folders/hc/hnq3mts53txg3k7xbmj90z_80000gn/T/ipykernel_79155/720062415.py:13: FutureWarning: The behavior of DataFrame concatenation with empty or all-NA entries is deprecated. In a future version, this will no longer exclude empty or all-NA columns when determining the result dtypes. To retain the old behavior, exclude the relevant entries before the concat operation.\n",
      "  group_ratings= pd.concat([group_ratings,selected_users_rating], axis=0)\n",
      "/var/folders/hc/hnq3mts53txg3k7xbmj90z_80000gn/T/ipykernel_79155/720062415.py:13: FutureWarning: The behavior of DataFrame concatenation with empty or all-NA entries is deprecated. In a future version, this will no longer exclude empty or all-NA columns when determining the result dtypes. To retain the old behavior, exclude the relevant entries before the concat operation.\n",
      "  group_ratings= pd.concat([group_ratings,selected_users_rating], axis=0)\n",
      "/var/folders/hc/hnq3mts53txg3k7xbmj90z_80000gn/T/ipykernel_79155/720062415.py:13: FutureWarning: The behavior of DataFrame concatenation with empty or all-NA entries is deprecated. In a future version, this will no longer exclude empty or all-NA columns when determining the result dtypes. To retain the old behavior, exclude the relevant entries before the concat operation.\n",
      "  group_ratings= pd.concat([group_ratings,selected_users_rating], axis=0)\n",
      "/var/folders/hc/hnq3mts53txg3k7xbmj90z_80000gn/T/ipykernel_79155/720062415.py:13: FutureWarning: The behavior of DataFrame concatenation with empty or all-NA entries is deprecated. In a future version, this will no longer exclude empty or all-NA columns when determining the result dtypes. To retain the old behavior, exclude the relevant entries before the concat operation.\n",
      "  group_ratings= pd.concat([group_ratings,selected_users_rating], axis=0)\n",
      "/var/folders/hc/hnq3mts53txg3k7xbmj90z_80000gn/T/ipykernel_79155/720062415.py:13: FutureWarning: The behavior of DataFrame concatenation with empty or all-NA entries is deprecated. In a future version, this will no longer exclude empty or all-NA columns when determining the result dtypes. To retain the old behavior, exclude the relevant entries before the concat operation.\n",
      "  group_ratings= pd.concat([group_ratings,selected_users_rating], axis=0)\n",
      "/var/folders/hc/hnq3mts53txg3k7xbmj90z_80000gn/T/ipykernel_79155/720062415.py:13: FutureWarning: The behavior of DataFrame concatenation with empty or all-NA entries is deprecated. In a future version, this will no longer exclude empty or all-NA columns when determining the result dtypes. To retain the old behavior, exclude the relevant entries before the concat operation.\n",
      "  group_ratings= pd.concat([group_ratings,selected_users_rating], axis=0)\n",
      "/var/folders/hc/hnq3mts53txg3k7xbmj90z_80000gn/T/ipykernel_79155/720062415.py:13: FutureWarning: The behavior of DataFrame concatenation with empty or all-NA entries is deprecated. In a future version, this will no longer exclude empty or all-NA columns when determining the result dtypes. To retain the old behavior, exclude the relevant entries before the concat operation.\n",
      "  group_ratings= pd.concat([group_ratings,selected_users_rating], axis=0)\n",
      "/var/folders/hc/hnq3mts53txg3k7xbmj90z_80000gn/T/ipykernel_79155/720062415.py:13: FutureWarning: The behavior of DataFrame concatenation with empty or all-NA entries is deprecated. In a future version, this will no longer exclude empty or all-NA columns when determining the result dtypes. To retain the old behavior, exclude the relevant entries before the concat operation.\n",
      "  group_ratings= pd.concat([group_ratings,selected_users_rating], axis=0)\n",
      "/var/folders/hc/hnq3mts53txg3k7xbmj90z_80000gn/T/ipykernel_79155/720062415.py:13: FutureWarning: The behavior of DataFrame concatenation with empty or all-NA entries is deprecated. In a future version, this will no longer exclude empty or all-NA columns when determining the result dtypes. To retain the old behavior, exclude the relevant entries before the concat operation.\n",
      "  group_ratings= pd.concat([group_ratings,selected_users_rating], axis=0)\n",
      "/var/folders/hc/hnq3mts53txg3k7xbmj90z_80000gn/T/ipykernel_79155/720062415.py:13: FutureWarning: The behavior of DataFrame concatenation with empty or all-NA entries is deprecated. In a future version, this will no longer exclude empty or all-NA columns when determining the result dtypes. To retain the old behavior, exclude the relevant entries before the concat operation.\n",
      "  group_ratings= pd.concat([group_ratings,selected_users_rating], axis=0)\n",
      "/var/folders/hc/hnq3mts53txg3k7xbmj90z_80000gn/T/ipykernel_79155/720062415.py:13: FutureWarning: The behavior of DataFrame concatenation with empty or all-NA entries is deprecated. In a future version, this will no longer exclude empty or all-NA columns when determining the result dtypes. To retain the old behavior, exclude the relevant entries before the concat operation.\n",
      "  group_ratings= pd.concat([group_ratings,selected_users_rating], axis=0)\n",
      "/var/folders/hc/hnq3mts53txg3k7xbmj90z_80000gn/T/ipykernel_79155/720062415.py:13: FutureWarning: The behavior of DataFrame concatenation with empty or all-NA entries is deprecated. In a future version, this will no longer exclude empty or all-NA columns when determining the result dtypes. To retain the old behavior, exclude the relevant entries before the concat operation.\n",
      "  group_ratings= pd.concat([group_ratings,selected_users_rating], axis=0)\n",
      "/var/folders/hc/hnq3mts53txg3k7xbmj90z_80000gn/T/ipykernel_79155/720062415.py:13: FutureWarning: The behavior of DataFrame concatenation with empty or all-NA entries is deprecated. In a future version, this will no longer exclude empty or all-NA columns when determining the result dtypes. To retain the old behavior, exclude the relevant entries before the concat operation.\n",
      "  group_ratings= pd.concat([group_ratings,selected_users_rating], axis=0)\n",
      "/var/folders/hc/hnq3mts53txg3k7xbmj90z_80000gn/T/ipykernel_79155/720062415.py:13: FutureWarning: The behavior of DataFrame concatenation with empty or all-NA entries is deprecated. In a future version, this will no longer exclude empty or all-NA columns when determining the result dtypes. To retain the old behavior, exclude the relevant entries before the concat operation.\n",
      "  group_ratings= pd.concat([group_ratings,selected_users_rating], axis=0)\n",
      "/var/folders/hc/hnq3mts53txg3k7xbmj90z_80000gn/T/ipykernel_79155/720062415.py:13: FutureWarning: The behavior of DataFrame concatenation with empty or all-NA entries is deprecated. In a future version, this will no longer exclude empty or all-NA columns when determining the result dtypes. To retain the old behavior, exclude the relevant entries before the concat operation.\n",
      "  group_ratings= pd.concat([group_ratings,selected_users_rating], axis=0)\n",
      "/var/folders/hc/hnq3mts53txg3k7xbmj90z_80000gn/T/ipykernel_79155/720062415.py:13: FutureWarning: The behavior of DataFrame concatenation with empty or all-NA entries is deprecated. In a future version, this will no longer exclude empty or all-NA columns when determining the result dtypes. To retain the old behavior, exclude the relevant entries before the concat operation.\n",
      "  group_ratings= pd.concat([group_ratings,selected_users_rating], axis=0)\n",
      "/var/folders/hc/hnq3mts53txg3k7xbmj90z_80000gn/T/ipykernel_79155/720062415.py:13: FutureWarning: The behavior of DataFrame concatenation with empty or all-NA entries is deprecated. In a future version, this will no longer exclude empty or all-NA columns when determining the result dtypes. To retain the old behavior, exclude the relevant entries before the concat operation.\n",
      "  group_ratings= pd.concat([group_ratings,selected_users_rating], axis=0)\n",
      "/var/folders/hc/hnq3mts53txg3k7xbmj90z_80000gn/T/ipykernel_79155/720062415.py:13: FutureWarning: The behavior of DataFrame concatenation with empty or all-NA entries is deprecated. In a future version, this will no longer exclude empty or all-NA columns when determining the result dtypes. To retain the old behavior, exclude the relevant entries before the concat operation.\n",
      "  group_ratings= pd.concat([group_ratings,selected_users_rating], axis=0)\n",
      "/var/folders/hc/hnq3mts53txg3k7xbmj90z_80000gn/T/ipykernel_79155/720062415.py:13: FutureWarning: The behavior of DataFrame concatenation with empty or all-NA entries is deprecated. In a future version, this will no longer exclude empty or all-NA columns when determining the result dtypes. To retain the old behavior, exclude the relevant entries before the concat operation.\n",
      "  group_ratings= pd.concat([group_ratings,selected_users_rating], axis=0)\n",
      "/var/folders/hc/hnq3mts53txg3k7xbmj90z_80000gn/T/ipykernel_79155/720062415.py:13: FutureWarning: The behavior of DataFrame concatenation with empty or all-NA entries is deprecated. In a future version, this will no longer exclude empty or all-NA columns when determining the result dtypes. To retain the old behavior, exclude the relevant entries before the concat operation.\n",
      "  group_ratings= pd.concat([group_ratings,selected_users_rating], axis=0)\n",
      "/var/folders/hc/hnq3mts53txg3k7xbmj90z_80000gn/T/ipykernel_79155/720062415.py:13: FutureWarning: The behavior of DataFrame concatenation with empty or all-NA entries is deprecated. In a future version, this will no longer exclude empty or all-NA columns when determining the result dtypes. To retain the old behavior, exclude the relevant entries before the concat operation.\n",
      "  group_ratings= pd.concat([group_ratings,selected_users_rating], axis=0)\n",
      "/var/folders/hc/hnq3mts53txg3k7xbmj90z_80000gn/T/ipykernel_79155/720062415.py:13: FutureWarning: The behavior of DataFrame concatenation with empty or all-NA entries is deprecated. In a future version, this will no longer exclude empty or all-NA columns when determining the result dtypes. To retain the old behavior, exclude the relevant entries before the concat operation.\n",
      "  group_ratings= pd.concat([group_ratings,selected_users_rating], axis=0)\n",
      "/var/folders/hc/hnq3mts53txg3k7xbmj90z_80000gn/T/ipykernel_79155/720062415.py:13: FutureWarning: The behavior of DataFrame concatenation with empty or all-NA entries is deprecated. In a future version, this will no longer exclude empty or all-NA columns when determining the result dtypes. To retain the old behavior, exclude the relevant entries before the concat operation.\n",
      "  group_ratings= pd.concat([group_ratings,selected_users_rating], axis=0)\n",
      "/var/folders/hc/hnq3mts53txg3k7xbmj90z_80000gn/T/ipykernel_79155/720062415.py:13: FutureWarning: The behavior of DataFrame concatenation with empty or all-NA entries is deprecated. In a future version, this will no longer exclude empty or all-NA columns when determining the result dtypes. To retain the old behavior, exclude the relevant entries before the concat operation.\n",
      "  group_ratings= pd.concat([group_ratings,selected_users_rating], axis=0)\n",
      "/var/folders/hc/hnq3mts53txg3k7xbmj90z_80000gn/T/ipykernel_79155/720062415.py:13: FutureWarning: The behavior of DataFrame concatenation with empty or all-NA entries is deprecated. In a future version, this will no longer exclude empty or all-NA columns when determining the result dtypes. To retain the old behavior, exclude the relevant entries before the concat operation.\n",
      "  group_ratings= pd.concat([group_ratings,selected_users_rating], axis=0)\n",
      "/var/folders/hc/hnq3mts53txg3k7xbmj90z_80000gn/T/ipykernel_79155/720062415.py:13: FutureWarning: The behavior of DataFrame concatenation with empty or all-NA entries is deprecated. In a future version, this will no longer exclude empty or all-NA columns when determining the result dtypes. To retain the old behavior, exclude the relevant entries before the concat operation.\n",
      "  group_ratings= pd.concat([group_ratings,selected_users_rating], axis=0)\n",
      "/var/folders/hc/hnq3mts53txg3k7xbmj90z_80000gn/T/ipykernel_79155/720062415.py:13: FutureWarning: The behavior of DataFrame concatenation with empty or all-NA entries is deprecated. In a future version, this will no longer exclude empty or all-NA columns when determining the result dtypes. To retain the old behavior, exclude the relevant entries before the concat operation.\n",
      "  group_ratings= pd.concat([group_ratings,selected_users_rating], axis=0)\n",
      "/var/folders/hc/hnq3mts53txg3k7xbmj90z_80000gn/T/ipykernel_79155/720062415.py:13: FutureWarning: The behavior of DataFrame concatenation with empty or all-NA entries is deprecated. In a future version, this will no longer exclude empty or all-NA columns when determining the result dtypes. To retain the old behavior, exclude the relevant entries before the concat operation.\n",
      "  group_ratings= pd.concat([group_ratings,selected_users_rating], axis=0)\n",
      "/var/folders/hc/hnq3mts53txg3k7xbmj90z_80000gn/T/ipykernel_79155/720062415.py:13: FutureWarning: The behavior of DataFrame concatenation with empty or all-NA entries is deprecated. In a future version, this will no longer exclude empty or all-NA columns when determining the result dtypes. To retain the old behavior, exclude the relevant entries before the concat operation.\n",
      "  group_ratings= pd.concat([group_ratings,selected_users_rating], axis=0)\n",
      "/var/folders/hc/hnq3mts53txg3k7xbmj90z_80000gn/T/ipykernel_79155/720062415.py:13: FutureWarning: The behavior of DataFrame concatenation with empty or all-NA entries is deprecated. In a future version, this will no longer exclude empty or all-NA columns when determining the result dtypes. To retain the old behavior, exclude the relevant entries before the concat operation.\n",
      "  group_ratings= pd.concat([group_ratings,selected_users_rating], axis=0)\n",
      "/var/folders/hc/hnq3mts53txg3k7xbmj90z_80000gn/T/ipykernel_79155/720062415.py:13: FutureWarning: The behavior of DataFrame concatenation with empty or all-NA entries is deprecated. In a future version, this will no longer exclude empty or all-NA columns when determining the result dtypes. To retain the old behavior, exclude the relevant entries before the concat operation.\n",
      "  group_ratings= pd.concat([group_ratings,selected_users_rating], axis=0)\n",
      "/var/folders/hc/hnq3mts53txg3k7xbmj90z_80000gn/T/ipykernel_79155/720062415.py:13: FutureWarning: The behavior of DataFrame concatenation with empty or all-NA entries is deprecated. In a future version, this will no longer exclude empty or all-NA columns when determining the result dtypes. To retain the old behavior, exclude the relevant entries before the concat operation.\n",
      "  group_ratings= pd.concat([group_ratings,selected_users_rating], axis=0)\n",
      "/var/folders/hc/hnq3mts53txg3k7xbmj90z_80000gn/T/ipykernel_79155/720062415.py:13: FutureWarning: The behavior of DataFrame concatenation with empty or all-NA entries is deprecated. In a future version, this will no longer exclude empty or all-NA columns when determining the result dtypes. To retain the old behavior, exclude the relevant entries before the concat operation.\n",
      "  group_ratings= pd.concat([group_ratings,selected_users_rating], axis=0)\n",
      "/var/folders/hc/hnq3mts53txg3k7xbmj90z_80000gn/T/ipykernel_79155/720062415.py:13: FutureWarning: The behavior of DataFrame concatenation with empty or all-NA entries is deprecated. In a future version, this will no longer exclude empty or all-NA columns when determining the result dtypes. To retain the old behavior, exclude the relevant entries before the concat operation.\n",
      "  group_ratings= pd.concat([group_ratings,selected_users_rating], axis=0)\n",
      "/var/folders/hc/hnq3mts53txg3k7xbmj90z_80000gn/T/ipykernel_79155/720062415.py:13: FutureWarning: The behavior of DataFrame concatenation with empty or all-NA entries is deprecated. In a future version, this will no longer exclude empty or all-NA columns when determining the result dtypes. To retain the old behavior, exclude the relevant entries before the concat operation.\n",
      "  group_ratings= pd.concat([group_ratings,selected_users_rating], axis=0)\n",
      "/var/folders/hc/hnq3mts53txg3k7xbmj90z_80000gn/T/ipykernel_79155/720062415.py:13: FutureWarning: The behavior of DataFrame concatenation with empty or all-NA entries is deprecated. In a future version, this will no longer exclude empty or all-NA columns when determining the result dtypes. To retain the old behavior, exclude the relevant entries before the concat operation.\n",
      "  group_ratings= pd.concat([group_ratings,selected_users_rating], axis=0)\n",
      "/var/folders/hc/hnq3mts53txg3k7xbmj90z_80000gn/T/ipykernel_79155/720062415.py:13: FutureWarning: The behavior of DataFrame concatenation with empty or all-NA entries is deprecated. In a future version, this will no longer exclude empty or all-NA columns when determining the result dtypes. To retain the old behavior, exclude the relevant entries before the concat operation.\n",
      "  group_ratings= pd.concat([group_ratings,selected_users_rating], axis=0)\n",
      "/var/folders/hc/hnq3mts53txg3k7xbmj90z_80000gn/T/ipykernel_79155/720062415.py:13: FutureWarning: The behavior of DataFrame concatenation with empty or all-NA entries is deprecated. In a future version, this will no longer exclude empty or all-NA columns when determining the result dtypes. To retain the old behavior, exclude the relevant entries before the concat operation.\n",
      "  group_ratings= pd.concat([group_ratings,selected_users_rating], axis=0)\n",
      "/var/folders/hc/hnq3mts53txg3k7xbmj90z_80000gn/T/ipykernel_79155/720062415.py:13: FutureWarning: The behavior of DataFrame concatenation with empty or all-NA entries is deprecated. In a future version, this will no longer exclude empty or all-NA columns when determining the result dtypes. To retain the old behavior, exclude the relevant entries before the concat operation.\n",
      "  group_ratings= pd.concat([group_ratings,selected_users_rating], axis=0)\n",
      "/var/folders/hc/hnq3mts53txg3k7xbmj90z_80000gn/T/ipykernel_79155/720062415.py:13: FutureWarning: The behavior of DataFrame concatenation with empty or all-NA entries is deprecated. In a future version, this will no longer exclude empty or all-NA columns when determining the result dtypes. To retain the old behavior, exclude the relevant entries before the concat operation.\n",
      "  group_ratings= pd.concat([group_ratings,selected_users_rating], axis=0)\n",
      "/var/folders/hc/hnq3mts53txg3k7xbmj90z_80000gn/T/ipykernel_79155/720062415.py:13: FutureWarning: The behavior of DataFrame concatenation with empty or all-NA entries is deprecated. In a future version, this will no longer exclude empty or all-NA columns when determining the result dtypes. To retain the old behavior, exclude the relevant entries before the concat operation.\n",
      "  group_ratings= pd.concat([group_ratings,selected_users_rating], axis=0)\n",
      "/var/folders/hc/hnq3mts53txg3k7xbmj90z_80000gn/T/ipykernel_79155/720062415.py:13: FutureWarning: The behavior of DataFrame concatenation with empty or all-NA entries is deprecated. In a future version, this will no longer exclude empty or all-NA columns when determining the result dtypes. To retain the old behavior, exclude the relevant entries before the concat operation.\n",
      "  group_ratings= pd.concat([group_ratings,selected_users_rating], axis=0)\n",
      "/var/folders/hc/hnq3mts53txg3k7xbmj90z_80000gn/T/ipykernel_79155/720062415.py:13: FutureWarning: The behavior of DataFrame concatenation with empty or all-NA entries is deprecated. In a future version, this will no longer exclude empty or all-NA columns when determining the result dtypes. To retain the old behavior, exclude the relevant entries before the concat operation.\n",
      "  group_ratings= pd.concat([group_ratings,selected_users_rating], axis=0)\n",
      "/var/folders/hc/hnq3mts53txg3k7xbmj90z_80000gn/T/ipykernel_79155/720062415.py:13: FutureWarning: The behavior of DataFrame concatenation with empty or all-NA entries is deprecated. In a future version, this will no longer exclude empty or all-NA columns when determining the result dtypes. To retain the old behavior, exclude the relevant entries before the concat operation.\n",
      "  group_ratings= pd.concat([group_ratings,selected_users_rating], axis=0)\n",
      "/var/folders/hc/hnq3mts53txg3k7xbmj90z_80000gn/T/ipykernel_79155/720062415.py:13: FutureWarning: The behavior of DataFrame concatenation with empty or all-NA entries is deprecated. In a future version, this will no longer exclude empty or all-NA columns when determining the result dtypes. To retain the old behavior, exclude the relevant entries before the concat operation.\n",
      "  group_ratings= pd.concat([group_ratings,selected_users_rating], axis=0)\n",
      "/var/folders/hc/hnq3mts53txg3k7xbmj90z_80000gn/T/ipykernel_79155/720062415.py:13: FutureWarning: The behavior of DataFrame concatenation with empty or all-NA entries is deprecated. In a future version, this will no longer exclude empty or all-NA columns when determining the result dtypes. To retain the old behavior, exclude the relevant entries before the concat operation.\n",
      "  group_ratings= pd.concat([group_ratings,selected_users_rating], axis=0)\n",
      "/var/folders/hc/hnq3mts53txg3k7xbmj90z_80000gn/T/ipykernel_79155/720062415.py:13: FutureWarning: The behavior of DataFrame concatenation with empty or all-NA entries is deprecated. In a future version, this will no longer exclude empty or all-NA columns when determining the result dtypes. To retain the old behavior, exclude the relevant entries before the concat operation.\n",
      "  group_ratings= pd.concat([group_ratings,selected_users_rating], axis=0)\n",
      "/var/folders/hc/hnq3mts53txg3k7xbmj90z_80000gn/T/ipykernel_79155/720062415.py:13: FutureWarning: The behavior of DataFrame concatenation with empty or all-NA entries is deprecated. In a future version, this will no longer exclude empty or all-NA columns when determining the result dtypes. To retain the old behavior, exclude the relevant entries before the concat operation.\n",
      "  group_ratings= pd.concat([group_ratings,selected_users_rating], axis=0)\n",
      "/var/folders/hc/hnq3mts53txg3k7xbmj90z_80000gn/T/ipykernel_79155/720062415.py:13: FutureWarning: The behavior of DataFrame concatenation with empty or all-NA entries is deprecated. In a future version, this will no longer exclude empty or all-NA columns when determining the result dtypes. To retain the old behavior, exclude the relevant entries before the concat operation.\n",
      "  group_ratings= pd.concat([group_ratings,selected_users_rating], axis=0)\n",
      "/var/folders/hc/hnq3mts53txg3k7xbmj90z_80000gn/T/ipykernel_79155/720062415.py:13: FutureWarning: The behavior of DataFrame concatenation with empty or all-NA entries is deprecated. In a future version, this will no longer exclude empty or all-NA columns when determining the result dtypes. To retain the old behavior, exclude the relevant entries before the concat operation.\n",
      "  group_ratings= pd.concat([group_ratings,selected_users_rating], axis=0)\n",
      "/var/folders/hc/hnq3mts53txg3k7xbmj90z_80000gn/T/ipykernel_79155/720062415.py:13: FutureWarning: The behavior of DataFrame concatenation with empty or all-NA entries is deprecated. In a future version, this will no longer exclude empty or all-NA columns when determining the result dtypes. To retain the old behavior, exclude the relevant entries before the concat operation.\n",
      "  group_ratings= pd.concat([group_ratings,selected_users_rating], axis=0)\n",
      "/var/folders/hc/hnq3mts53txg3k7xbmj90z_80000gn/T/ipykernel_79155/720062415.py:13: FutureWarning: The behavior of DataFrame concatenation with empty or all-NA entries is deprecated. In a future version, this will no longer exclude empty or all-NA columns when determining the result dtypes. To retain the old behavior, exclude the relevant entries before the concat operation.\n",
      "  group_ratings= pd.concat([group_ratings,selected_users_rating], axis=0)\n",
      "/var/folders/hc/hnq3mts53txg3k7xbmj90z_80000gn/T/ipykernel_79155/720062415.py:13: FutureWarning: The behavior of DataFrame concatenation with empty or all-NA entries is deprecated. In a future version, this will no longer exclude empty or all-NA columns when determining the result dtypes. To retain the old behavior, exclude the relevant entries before the concat operation.\n",
      "  group_ratings= pd.concat([group_ratings,selected_users_rating], axis=0)\n",
      "/var/folders/hc/hnq3mts53txg3k7xbmj90z_80000gn/T/ipykernel_79155/720062415.py:13: FutureWarning: The behavior of DataFrame concatenation with empty or all-NA entries is deprecated. In a future version, this will no longer exclude empty or all-NA columns when determining the result dtypes. To retain the old behavior, exclude the relevant entries before the concat operation.\n",
      "  group_ratings= pd.concat([group_ratings,selected_users_rating], axis=0)\n",
      "/var/folders/hc/hnq3mts53txg3k7xbmj90z_80000gn/T/ipykernel_79155/720062415.py:13: FutureWarning: The behavior of DataFrame concatenation with empty or all-NA entries is deprecated. In a future version, this will no longer exclude empty or all-NA columns when determining the result dtypes. To retain the old behavior, exclude the relevant entries before the concat operation.\n",
      "  group_ratings= pd.concat([group_ratings,selected_users_rating], axis=0)\n",
      "/var/folders/hc/hnq3mts53txg3k7xbmj90z_80000gn/T/ipykernel_79155/720062415.py:13: FutureWarning: The behavior of DataFrame concatenation with empty or all-NA entries is deprecated. In a future version, this will no longer exclude empty or all-NA columns when determining the result dtypes. To retain the old behavior, exclude the relevant entries before the concat operation.\n",
      "  group_ratings= pd.concat([group_ratings,selected_users_rating], axis=0)\n",
      "/var/folders/hc/hnq3mts53txg3k7xbmj90z_80000gn/T/ipykernel_79155/720062415.py:13: FutureWarning: The behavior of DataFrame concatenation with empty or all-NA entries is deprecated. In a future version, this will no longer exclude empty or all-NA columns when determining the result dtypes. To retain the old behavior, exclude the relevant entries before the concat operation.\n",
      "  group_ratings= pd.concat([group_ratings,selected_users_rating], axis=0)\n",
      "/var/folders/hc/hnq3mts53txg3k7xbmj90z_80000gn/T/ipykernel_79155/720062415.py:13: FutureWarning: The behavior of DataFrame concatenation with empty or all-NA entries is deprecated. In a future version, this will no longer exclude empty or all-NA columns when determining the result dtypes. To retain the old behavior, exclude the relevant entries before the concat operation.\n",
      "  group_ratings= pd.concat([group_ratings,selected_users_rating], axis=0)\n",
      "/var/folders/hc/hnq3mts53txg3k7xbmj90z_80000gn/T/ipykernel_79155/720062415.py:13: FutureWarning: The behavior of DataFrame concatenation with empty or all-NA entries is deprecated. In a future version, this will no longer exclude empty or all-NA columns when determining the result dtypes. To retain the old behavior, exclude the relevant entries before the concat operation.\n",
      "  group_ratings= pd.concat([group_ratings,selected_users_rating], axis=0)\n",
      "/var/folders/hc/hnq3mts53txg3k7xbmj90z_80000gn/T/ipykernel_79155/720062415.py:13: FutureWarning: The behavior of DataFrame concatenation with empty or all-NA entries is deprecated. In a future version, this will no longer exclude empty or all-NA columns when determining the result dtypes. To retain the old behavior, exclude the relevant entries before the concat operation.\n",
      "  group_ratings= pd.concat([group_ratings,selected_users_rating], axis=0)\n",
      "/var/folders/hc/hnq3mts53txg3k7xbmj90z_80000gn/T/ipykernel_79155/720062415.py:13: FutureWarning: The behavior of DataFrame concatenation with empty or all-NA entries is deprecated. In a future version, this will no longer exclude empty or all-NA columns when determining the result dtypes. To retain the old behavior, exclude the relevant entries before the concat operation.\n",
      "  group_ratings= pd.concat([group_ratings,selected_users_rating], axis=0)\n",
      "/var/folders/hc/hnq3mts53txg3k7xbmj90z_80000gn/T/ipykernel_79155/720062415.py:13: FutureWarning: The behavior of DataFrame concatenation with empty or all-NA entries is deprecated. In a future version, this will no longer exclude empty or all-NA columns when determining the result dtypes. To retain the old behavior, exclude the relevant entries before the concat operation.\n",
      "  group_ratings= pd.concat([group_ratings,selected_users_rating], axis=0)\n",
      "/var/folders/hc/hnq3mts53txg3k7xbmj90z_80000gn/T/ipykernel_79155/720062415.py:13: FutureWarning: The behavior of DataFrame concatenation with empty or all-NA entries is deprecated. In a future version, this will no longer exclude empty or all-NA columns when determining the result dtypes. To retain the old behavior, exclude the relevant entries before the concat operation.\n",
      "  group_ratings= pd.concat([group_ratings,selected_users_rating], axis=0)\n",
      "/var/folders/hc/hnq3mts53txg3k7xbmj90z_80000gn/T/ipykernel_79155/720062415.py:13: FutureWarning: The behavior of DataFrame concatenation with empty or all-NA entries is deprecated. In a future version, this will no longer exclude empty or all-NA columns when determining the result dtypes. To retain the old behavior, exclude the relevant entries before the concat operation.\n",
      "  group_ratings= pd.concat([group_ratings,selected_users_rating], axis=0)\n",
      "/var/folders/hc/hnq3mts53txg3k7xbmj90z_80000gn/T/ipykernel_79155/720062415.py:13: FutureWarning: The behavior of DataFrame concatenation with empty or all-NA entries is deprecated. In a future version, this will no longer exclude empty or all-NA columns when determining the result dtypes. To retain the old behavior, exclude the relevant entries before the concat operation.\n",
      "  group_ratings= pd.concat([group_ratings,selected_users_rating], axis=0)\n",
      "/var/folders/hc/hnq3mts53txg3k7xbmj90z_80000gn/T/ipykernel_79155/720062415.py:13: FutureWarning: The behavior of DataFrame concatenation with empty or all-NA entries is deprecated. In a future version, this will no longer exclude empty or all-NA columns when determining the result dtypes. To retain the old behavior, exclude the relevant entries before the concat operation.\n",
      "  group_ratings= pd.concat([group_ratings,selected_users_rating], axis=0)\n",
      "/var/folders/hc/hnq3mts53txg3k7xbmj90z_80000gn/T/ipykernel_79155/720062415.py:13: FutureWarning: The behavior of DataFrame concatenation with empty or all-NA entries is deprecated. In a future version, this will no longer exclude empty or all-NA columns when determining the result dtypes. To retain the old behavior, exclude the relevant entries before the concat operation.\n",
      "  group_ratings= pd.concat([group_ratings,selected_users_rating], axis=0)\n",
      "/var/folders/hc/hnq3mts53txg3k7xbmj90z_80000gn/T/ipykernel_79155/720062415.py:13: FutureWarning: The behavior of DataFrame concatenation with empty or all-NA entries is deprecated. In a future version, this will no longer exclude empty or all-NA columns when determining the result dtypes. To retain the old behavior, exclude the relevant entries before the concat operation.\n",
      "  group_ratings= pd.concat([group_ratings,selected_users_rating], axis=0)\n",
      "/var/folders/hc/hnq3mts53txg3k7xbmj90z_80000gn/T/ipykernel_79155/720062415.py:13: FutureWarning: The behavior of DataFrame concatenation with empty or all-NA entries is deprecated. In a future version, this will no longer exclude empty or all-NA columns when determining the result dtypes. To retain the old behavior, exclude the relevant entries before the concat operation.\n",
      "  group_ratings= pd.concat([group_ratings,selected_users_rating], axis=0)\n",
      "/var/folders/hc/hnq3mts53txg3k7xbmj90z_80000gn/T/ipykernel_79155/720062415.py:13: FutureWarning: The behavior of DataFrame concatenation with empty or all-NA entries is deprecated. In a future version, this will no longer exclude empty or all-NA columns when determining the result dtypes. To retain the old behavior, exclude the relevant entries before the concat operation.\n",
      "  group_ratings= pd.concat([group_ratings,selected_users_rating], axis=0)\n",
      "/var/folders/hc/hnq3mts53txg3k7xbmj90z_80000gn/T/ipykernel_79155/720062415.py:13: FutureWarning: The behavior of DataFrame concatenation with empty or all-NA entries is deprecated. In a future version, this will no longer exclude empty or all-NA columns when determining the result dtypes. To retain the old behavior, exclude the relevant entries before the concat operation.\n",
      "  group_ratings= pd.concat([group_ratings,selected_users_rating], axis=0)\n",
      "/var/folders/hc/hnq3mts53txg3k7xbmj90z_80000gn/T/ipykernel_79155/720062415.py:13: FutureWarning: The behavior of DataFrame concatenation with empty or all-NA entries is deprecated. In a future version, this will no longer exclude empty or all-NA columns when determining the result dtypes. To retain the old behavior, exclude the relevant entries before the concat operation.\n",
      "  group_ratings= pd.concat([group_ratings,selected_users_rating], axis=0)\n",
      "/var/folders/hc/hnq3mts53txg3k7xbmj90z_80000gn/T/ipykernel_79155/720062415.py:13: FutureWarning: The behavior of DataFrame concatenation with empty or all-NA entries is deprecated. In a future version, this will no longer exclude empty or all-NA columns when determining the result dtypes. To retain the old behavior, exclude the relevant entries before the concat operation.\n",
      "  group_ratings= pd.concat([group_ratings,selected_users_rating], axis=0)\n",
      "/var/folders/hc/hnq3mts53txg3k7xbmj90z_80000gn/T/ipykernel_79155/720062415.py:13: FutureWarning: The behavior of DataFrame concatenation with empty or all-NA entries is deprecated. In a future version, this will no longer exclude empty or all-NA columns when determining the result dtypes. To retain the old behavior, exclude the relevant entries before the concat operation.\n",
      "  group_ratings= pd.concat([group_ratings,selected_users_rating], axis=0)\n",
      "/var/folders/hc/hnq3mts53txg3k7xbmj90z_80000gn/T/ipykernel_79155/720062415.py:13: FutureWarning: The behavior of DataFrame concatenation with empty or all-NA entries is deprecated. In a future version, this will no longer exclude empty or all-NA columns when determining the result dtypes. To retain the old behavior, exclude the relevant entries before the concat operation.\n",
      "  group_ratings= pd.concat([group_ratings,selected_users_rating], axis=0)\n",
      "/var/folders/hc/hnq3mts53txg3k7xbmj90z_80000gn/T/ipykernel_79155/720062415.py:13: FutureWarning: The behavior of DataFrame concatenation with empty or all-NA entries is deprecated. In a future version, this will no longer exclude empty or all-NA columns when determining the result dtypes. To retain the old behavior, exclude the relevant entries before the concat operation.\n",
      "  group_ratings= pd.concat([group_ratings,selected_users_rating], axis=0)\n",
      "/var/folders/hc/hnq3mts53txg3k7xbmj90z_80000gn/T/ipykernel_79155/720062415.py:13: FutureWarning: The behavior of DataFrame concatenation with empty or all-NA entries is deprecated. In a future version, this will no longer exclude empty or all-NA columns when determining the result dtypes. To retain the old behavior, exclude the relevant entries before the concat operation.\n",
      "  group_ratings= pd.concat([group_ratings,selected_users_rating], axis=0)\n",
      "/var/folders/hc/hnq3mts53txg3k7xbmj90z_80000gn/T/ipykernel_79155/720062415.py:13: FutureWarning: The behavior of DataFrame concatenation with empty or all-NA entries is deprecated. In a future version, this will no longer exclude empty or all-NA columns when determining the result dtypes. To retain the old behavior, exclude the relevant entries before the concat operation.\n",
      "  group_ratings= pd.concat([group_ratings,selected_users_rating], axis=0)\n",
      "/var/folders/hc/hnq3mts53txg3k7xbmj90z_80000gn/T/ipykernel_79155/720062415.py:13: FutureWarning: The behavior of DataFrame concatenation with empty or all-NA entries is deprecated. In a future version, this will no longer exclude empty or all-NA columns when determining the result dtypes. To retain the old behavior, exclude the relevant entries before the concat operation.\n",
      "  group_ratings= pd.concat([group_ratings,selected_users_rating], axis=0)\n",
      "/var/folders/hc/hnq3mts53txg3k7xbmj90z_80000gn/T/ipykernel_79155/720062415.py:13: FutureWarning: The behavior of DataFrame concatenation with empty or all-NA entries is deprecated. In a future version, this will no longer exclude empty or all-NA columns when determining the result dtypes. To retain the old behavior, exclude the relevant entries before the concat operation.\n",
      "  group_ratings= pd.concat([group_ratings,selected_users_rating], axis=0)\n",
      "/var/folders/hc/hnq3mts53txg3k7xbmj90z_80000gn/T/ipykernel_79155/720062415.py:13: FutureWarning: The behavior of DataFrame concatenation with empty or all-NA entries is deprecated. In a future version, this will no longer exclude empty or all-NA columns when determining the result dtypes. To retain the old behavior, exclude the relevant entries before the concat operation.\n",
      "  group_ratings= pd.concat([group_ratings,selected_users_rating], axis=0)\n",
      "/var/folders/hc/hnq3mts53txg3k7xbmj90z_80000gn/T/ipykernel_79155/720062415.py:13: FutureWarning: The behavior of DataFrame concatenation with empty or all-NA entries is deprecated. In a future version, this will no longer exclude empty or all-NA columns when determining the result dtypes. To retain the old behavior, exclude the relevant entries before the concat operation.\n",
      "  group_ratings= pd.concat([group_ratings,selected_users_rating], axis=0)\n",
      "/var/folders/hc/hnq3mts53txg3k7xbmj90z_80000gn/T/ipykernel_79155/720062415.py:13: FutureWarning: The behavior of DataFrame concatenation with empty or all-NA entries is deprecated. In a future version, this will no longer exclude empty or all-NA columns when determining the result dtypes. To retain the old behavior, exclude the relevant entries before the concat operation.\n",
      "  group_ratings= pd.concat([group_ratings,selected_users_rating], axis=0)\n",
      "/var/folders/hc/hnq3mts53txg3k7xbmj90z_80000gn/T/ipykernel_79155/720062415.py:13: FutureWarning: The behavior of DataFrame concatenation with empty or all-NA entries is deprecated. In a future version, this will no longer exclude empty or all-NA columns when determining the result dtypes. To retain the old behavior, exclude the relevant entries before the concat operation.\n",
      "  group_ratings= pd.concat([group_ratings,selected_users_rating], axis=0)\n",
      "/var/folders/hc/hnq3mts53txg3k7xbmj90z_80000gn/T/ipykernel_79155/720062415.py:13: FutureWarning: The behavior of DataFrame concatenation with empty or all-NA entries is deprecated. In a future version, this will no longer exclude empty or all-NA columns when determining the result dtypes. To retain the old behavior, exclude the relevant entries before the concat operation.\n",
      "  group_ratings= pd.concat([group_ratings,selected_users_rating], axis=0)\n",
      "/var/folders/hc/hnq3mts53txg3k7xbmj90z_80000gn/T/ipykernel_79155/720062415.py:13: FutureWarning: The behavior of DataFrame concatenation with empty or all-NA entries is deprecated. In a future version, this will no longer exclude empty or all-NA columns when determining the result dtypes. To retain the old behavior, exclude the relevant entries before the concat operation.\n",
      "  group_ratings= pd.concat([group_ratings,selected_users_rating], axis=0)\n",
      "/var/folders/hc/hnq3mts53txg3k7xbmj90z_80000gn/T/ipykernel_79155/720062415.py:13: FutureWarning: The behavior of DataFrame concatenation with empty or all-NA entries is deprecated. In a future version, this will no longer exclude empty or all-NA columns when determining the result dtypes. To retain the old behavior, exclude the relevant entries before the concat operation.\n",
      "  group_ratings= pd.concat([group_ratings,selected_users_rating], axis=0)\n",
      "/var/folders/hc/hnq3mts53txg3k7xbmj90z_80000gn/T/ipykernel_79155/720062415.py:13: FutureWarning: The behavior of DataFrame concatenation with empty or all-NA entries is deprecated. In a future version, this will no longer exclude empty or all-NA columns when determining the result dtypes. To retain the old behavior, exclude the relevant entries before the concat operation.\n",
      "  group_ratings= pd.concat([group_ratings,selected_users_rating], axis=0)\n",
      "/var/folders/hc/hnq3mts53txg3k7xbmj90z_80000gn/T/ipykernel_79155/720062415.py:13: FutureWarning: The behavior of DataFrame concatenation with empty or all-NA entries is deprecated. In a future version, this will no longer exclude empty or all-NA columns when determining the result dtypes. To retain the old behavior, exclude the relevant entries before the concat operation.\n",
      "  group_ratings= pd.concat([group_ratings,selected_users_rating], axis=0)\n",
      "/var/folders/hc/hnq3mts53txg3k7xbmj90z_80000gn/T/ipykernel_79155/720062415.py:13: FutureWarning: The behavior of DataFrame concatenation with empty or all-NA entries is deprecated. In a future version, this will no longer exclude empty or all-NA columns when determining the result dtypes. To retain the old behavior, exclude the relevant entries before the concat operation.\n",
      "  group_ratings= pd.concat([group_ratings,selected_users_rating], axis=0)\n",
      "/var/folders/hc/hnq3mts53txg3k7xbmj90z_80000gn/T/ipykernel_79155/720062415.py:13: FutureWarning: The behavior of DataFrame concatenation with empty or all-NA entries is deprecated. In a future version, this will no longer exclude empty or all-NA columns when determining the result dtypes. To retain the old behavior, exclude the relevant entries before the concat operation.\n",
      "  group_ratings= pd.concat([group_ratings,selected_users_rating], axis=0)\n",
      "/var/folders/hc/hnq3mts53txg3k7xbmj90z_80000gn/T/ipykernel_79155/720062415.py:13: FutureWarning: The behavior of DataFrame concatenation with empty or all-NA entries is deprecated. In a future version, this will no longer exclude empty or all-NA columns when determining the result dtypes. To retain the old behavior, exclude the relevant entries before the concat operation.\n",
      "  group_ratings= pd.concat([group_ratings,selected_users_rating], axis=0)\n",
      "/var/folders/hc/hnq3mts53txg3k7xbmj90z_80000gn/T/ipykernel_79155/720062415.py:13: FutureWarning: The behavior of DataFrame concatenation with empty or all-NA entries is deprecated. In a future version, this will no longer exclude empty or all-NA columns when determining the result dtypes. To retain the old behavior, exclude the relevant entries before the concat operation.\n",
      "  group_ratings= pd.concat([group_ratings,selected_users_rating], axis=0)\n",
      "/var/folders/hc/hnq3mts53txg3k7xbmj90z_80000gn/T/ipykernel_79155/720062415.py:13: FutureWarning: The behavior of DataFrame concatenation with empty or all-NA entries is deprecated. In a future version, this will no longer exclude empty or all-NA columns when determining the result dtypes. To retain the old behavior, exclude the relevant entries before the concat operation.\n",
      "  group_ratings= pd.concat([group_ratings,selected_users_rating], axis=0)\n",
      "/var/folders/hc/hnq3mts53txg3k7xbmj90z_80000gn/T/ipykernel_79155/720062415.py:13: FutureWarning: The behavior of DataFrame concatenation with empty or all-NA entries is deprecated. In a future version, this will no longer exclude empty or all-NA columns when determining the result dtypes. To retain the old behavior, exclude the relevant entries before the concat operation.\n",
      "  group_ratings= pd.concat([group_ratings,selected_users_rating], axis=0)\n",
      "/var/folders/hc/hnq3mts53txg3k7xbmj90z_80000gn/T/ipykernel_79155/720062415.py:13: FutureWarning: The behavior of DataFrame concatenation with empty or all-NA entries is deprecated. In a future version, this will no longer exclude empty or all-NA columns when determining the result dtypes. To retain the old behavior, exclude the relevant entries before the concat operation.\n",
      "  group_ratings= pd.concat([group_ratings,selected_users_rating], axis=0)\n",
      "/var/folders/hc/hnq3mts53txg3k7xbmj90z_80000gn/T/ipykernel_79155/720062415.py:13: FutureWarning: The behavior of DataFrame concatenation with empty or all-NA entries is deprecated. In a future version, this will no longer exclude empty or all-NA columns when determining the result dtypes. To retain the old behavior, exclude the relevant entries before the concat operation.\n",
      "  group_ratings= pd.concat([group_ratings,selected_users_rating], axis=0)\n",
      "/var/folders/hc/hnq3mts53txg3k7xbmj90z_80000gn/T/ipykernel_79155/720062415.py:13: FutureWarning: The behavior of DataFrame concatenation with empty or all-NA entries is deprecated. In a future version, this will no longer exclude empty or all-NA columns when determining the result dtypes. To retain the old behavior, exclude the relevant entries before the concat operation.\n",
      "  group_ratings= pd.concat([group_ratings,selected_users_rating], axis=0)\n",
      "/var/folders/hc/hnq3mts53txg3k7xbmj90z_80000gn/T/ipykernel_79155/720062415.py:13: FutureWarning: The behavior of DataFrame concatenation with empty or all-NA entries is deprecated. In a future version, this will no longer exclude empty or all-NA columns when determining the result dtypes. To retain the old behavior, exclude the relevant entries before the concat operation.\n",
      "  group_ratings= pd.concat([group_ratings,selected_users_rating], axis=0)\n",
      "/var/folders/hc/hnq3mts53txg3k7xbmj90z_80000gn/T/ipykernel_79155/720062415.py:13: FutureWarning: The behavior of DataFrame concatenation with empty or all-NA entries is deprecated. In a future version, this will no longer exclude empty or all-NA columns when determining the result dtypes. To retain the old behavior, exclude the relevant entries before the concat operation.\n",
      "  group_ratings= pd.concat([group_ratings,selected_users_rating], axis=0)\n",
      "/var/folders/hc/hnq3mts53txg3k7xbmj90z_80000gn/T/ipykernel_79155/720062415.py:13: FutureWarning: The behavior of DataFrame concatenation with empty or all-NA entries is deprecated. In a future version, this will no longer exclude empty or all-NA columns when determining the result dtypes. To retain the old behavior, exclude the relevant entries before the concat operation.\n",
      "  group_ratings= pd.concat([group_ratings,selected_users_rating], axis=0)\n",
      "/var/folders/hc/hnq3mts53txg3k7xbmj90z_80000gn/T/ipykernel_79155/720062415.py:13: FutureWarning: The behavior of DataFrame concatenation with empty or all-NA entries is deprecated. In a future version, this will no longer exclude empty or all-NA columns when determining the result dtypes. To retain the old behavior, exclude the relevant entries before the concat operation.\n",
      "  group_ratings= pd.concat([group_ratings,selected_users_rating], axis=0)\n",
      "/var/folders/hc/hnq3mts53txg3k7xbmj90z_80000gn/T/ipykernel_79155/720062415.py:13: FutureWarning: The behavior of DataFrame concatenation with empty or all-NA entries is deprecated. In a future version, this will no longer exclude empty or all-NA columns when determining the result dtypes. To retain the old behavior, exclude the relevant entries before the concat operation.\n",
      "  group_ratings= pd.concat([group_ratings,selected_users_rating], axis=0)\n",
      "/var/folders/hc/hnq3mts53txg3k7xbmj90z_80000gn/T/ipykernel_79155/720062415.py:13: FutureWarning: The behavior of DataFrame concatenation with empty or all-NA entries is deprecated. In a future version, this will no longer exclude empty or all-NA columns when determining the result dtypes. To retain the old behavior, exclude the relevant entries before the concat operation.\n",
      "  group_ratings= pd.concat([group_ratings,selected_users_rating], axis=0)\n",
      "/var/folders/hc/hnq3mts53txg3k7xbmj90z_80000gn/T/ipykernel_79155/720062415.py:13: FutureWarning: The behavior of DataFrame concatenation with empty or all-NA entries is deprecated. In a future version, this will no longer exclude empty or all-NA columns when determining the result dtypes. To retain the old behavior, exclude the relevant entries before the concat operation.\n",
      "  group_ratings= pd.concat([group_ratings,selected_users_rating], axis=0)\n",
      "/var/folders/hc/hnq3mts53txg3k7xbmj90z_80000gn/T/ipykernel_79155/720062415.py:13: FutureWarning: The behavior of DataFrame concatenation with empty or all-NA entries is deprecated. In a future version, this will no longer exclude empty or all-NA columns when determining the result dtypes. To retain the old behavior, exclude the relevant entries before the concat operation.\n",
      "  group_ratings= pd.concat([group_ratings,selected_users_rating], axis=0)\n",
      "/var/folders/hc/hnq3mts53txg3k7xbmj90z_80000gn/T/ipykernel_79155/720062415.py:13: FutureWarning: The behavior of DataFrame concatenation with empty or all-NA entries is deprecated. In a future version, this will no longer exclude empty or all-NA columns when determining the result dtypes. To retain the old behavior, exclude the relevant entries before the concat operation.\n",
      "  group_ratings= pd.concat([group_ratings,selected_users_rating], axis=0)\n",
      "/var/folders/hc/hnq3mts53txg3k7xbmj90z_80000gn/T/ipykernel_79155/720062415.py:13: FutureWarning: The behavior of DataFrame concatenation with empty or all-NA entries is deprecated. In a future version, this will no longer exclude empty or all-NA columns when determining the result dtypes. To retain the old behavior, exclude the relevant entries before the concat operation.\n",
      "  group_ratings= pd.concat([group_ratings,selected_users_rating], axis=0)\n",
      "/var/folders/hc/hnq3mts53txg3k7xbmj90z_80000gn/T/ipykernel_79155/720062415.py:13: FutureWarning: The behavior of DataFrame concatenation with empty or all-NA entries is deprecated. In a future version, this will no longer exclude empty or all-NA columns when determining the result dtypes. To retain the old behavior, exclude the relevant entries before the concat operation.\n",
      "  group_ratings= pd.concat([group_ratings,selected_users_rating], axis=0)\n",
      "/var/folders/hc/hnq3mts53txg3k7xbmj90z_80000gn/T/ipykernel_79155/720062415.py:13: FutureWarning: The behavior of DataFrame concatenation with empty or all-NA entries is deprecated. In a future version, this will no longer exclude empty or all-NA columns when determining the result dtypes. To retain the old behavior, exclude the relevant entries before the concat operation.\n",
      "  group_ratings= pd.concat([group_ratings,selected_users_rating], axis=0)\n",
      "/var/folders/hc/hnq3mts53txg3k7xbmj90z_80000gn/T/ipykernel_79155/720062415.py:13: FutureWarning: The behavior of DataFrame concatenation with empty or all-NA entries is deprecated. In a future version, this will no longer exclude empty or all-NA columns when determining the result dtypes. To retain the old behavior, exclude the relevant entries before the concat operation.\n",
      "  group_ratings= pd.concat([group_ratings,selected_users_rating], axis=0)\n",
      "/var/folders/hc/hnq3mts53txg3k7xbmj90z_80000gn/T/ipykernel_79155/720062415.py:13: FutureWarning: The behavior of DataFrame concatenation with empty or all-NA entries is deprecated. In a future version, this will no longer exclude empty or all-NA columns when determining the result dtypes. To retain the old behavior, exclude the relevant entries before the concat operation.\n",
      "  group_ratings= pd.concat([group_ratings,selected_users_rating], axis=0)\n",
      "/var/folders/hc/hnq3mts53txg3k7xbmj90z_80000gn/T/ipykernel_79155/720062415.py:13: FutureWarning: The behavior of DataFrame concatenation with empty or all-NA entries is deprecated. In a future version, this will no longer exclude empty or all-NA columns when determining the result dtypes. To retain the old behavior, exclude the relevant entries before the concat operation.\n",
      "  group_ratings= pd.concat([group_ratings,selected_users_rating], axis=0)\n",
      "/var/folders/hc/hnq3mts53txg3k7xbmj90z_80000gn/T/ipykernel_79155/720062415.py:13: FutureWarning: The behavior of DataFrame concatenation with empty or all-NA entries is deprecated. In a future version, this will no longer exclude empty or all-NA columns when determining the result dtypes. To retain the old behavior, exclude the relevant entries before the concat operation.\n",
      "  group_ratings= pd.concat([group_ratings,selected_users_rating], axis=0)\n",
      "/var/folders/hc/hnq3mts53txg3k7xbmj90z_80000gn/T/ipykernel_79155/720062415.py:13: FutureWarning: The behavior of DataFrame concatenation with empty or all-NA entries is deprecated. In a future version, this will no longer exclude empty or all-NA columns when determining the result dtypes. To retain the old behavior, exclude the relevant entries before the concat operation.\n",
      "  group_ratings= pd.concat([group_ratings,selected_users_rating], axis=0)\n",
      "/var/folders/hc/hnq3mts53txg3k7xbmj90z_80000gn/T/ipykernel_79155/720062415.py:13: FutureWarning: The behavior of DataFrame concatenation with empty or all-NA entries is deprecated. In a future version, this will no longer exclude empty or all-NA columns when determining the result dtypes. To retain the old behavior, exclude the relevant entries before the concat operation.\n",
      "  group_ratings= pd.concat([group_ratings,selected_users_rating], axis=0)\n",
      "/var/folders/hc/hnq3mts53txg3k7xbmj90z_80000gn/T/ipykernel_79155/720062415.py:13: FutureWarning: The behavior of DataFrame concatenation with empty or all-NA entries is deprecated. In a future version, this will no longer exclude empty or all-NA columns when determining the result dtypes. To retain the old behavior, exclude the relevant entries before the concat operation.\n",
      "  group_ratings= pd.concat([group_ratings,selected_users_rating], axis=0)\n",
      "/var/folders/hc/hnq3mts53txg3k7xbmj90z_80000gn/T/ipykernel_79155/720062415.py:13: FutureWarning: The behavior of DataFrame concatenation with empty or all-NA entries is deprecated. In a future version, this will no longer exclude empty or all-NA columns when determining the result dtypes. To retain the old behavior, exclude the relevant entries before the concat operation.\n",
      "  group_ratings= pd.concat([group_ratings,selected_users_rating], axis=0)\n",
      "/var/folders/hc/hnq3mts53txg3k7xbmj90z_80000gn/T/ipykernel_79155/720062415.py:13: FutureWarning: The behavior of DataFrame concatenation with empty or all-NA entries is deprecated. In a future version, this will no longer exclude empty or all-NA columns when determining the result dtypes. To retain the old behavior, exclude the relevant entries before the concat operation.\n",
      "  group_ratings= pd.concat([group_ratings,selected_users_rating], axis=0)\n",
      "/var/folders/hc/hnq3mts53txg3k7xbmj90z_80000gn/T/ipykernel_79155/720062415.py:13: FutureWarning: The behavior of DataFrame concatenation with empty or all-NA entries is deprecated. In a future version, this will no longer exclude empty or all-NA columns when determining the result dtypes. To retain the old behavior, exclude the relevant entries before the concat operation.\n",
      "  group_ratings= pd.concat([group_ratings,selected_users_rating], axis=0)\n",
      "/var/folders/hc/hnq3mts53txg3k7xbmj90z_80000gn/T/ipykernel_79155/720062415.py:13: FutureWarning: The behavior of DataFrame concatenation with empty or all-NA entries is deprecated. In a future version, this will no longer exclude empty or all-NA columns when determining the result dtypes. To retain the old behavior, exclude the relevant entries before the concat operation.\n",
      "  group_ratings= pd.concat([group_ratings,selected_users_rating], axis=0)\n",
      "/var/folders/hc/hnq3mts53txg3k7xbmj90z_80000gn/T/ipykernel_79155/720062415.py:13: FutureWarning: The behavior of DataFrame concatenation with empty or all-NA entries is deprecated. In a future version, this will no longer exclude empty or all-NA columns when determining the result dtypes. To retain the old behavior, exclude the relevant entries before the concat operation.\n",
      "  group_ratings= pd.concat([group_ratings,selected_users_rating], axis=0)\n",
      "/var/folders/hc/hnq3mts53txg3k7xbmj90z_80000gn/T/ipykernel_79155/720062415.py:13: FutureWarning: The behavior of DataFrame concatenation with empty or all-NA entries is deprecated. In a future version, this will no longer exclude empty or all-NA columns when determining the result dtypes. To retain the old behavior, exclude the relevant entries before the concat operation.\n",
      "  group_ratings= pd.concat([group_ratings,selected_users_rating], axis=0)\n",
      "/var/folders/hc/hnq3mts53txg3k7xbmj90z_80000gn/T/ipykernel_79155/720062415.py:13: FutureWarning: The behavior of DataFrame concatenation with empty or all-NA entries is deprecated. In a future version, this will no longer exclude empty or all-NA columns when determining the result dtypes. To retain the old behavior, exclude the relevant entries before the concat operation.\n",
      "  group_ratings= pd.concat([group_ratings,selected_users_rating], axis=0)\n",
      "/var/folders/hc/hnq3mts53txg3k7xbmj90z_80000gn/T/ipykernel_79155/720062415.py:13: FutureWarning: The behavior of DataFrame concatenation with empty or all-NA entries is deprecated. In a future version, this will no longer exclude empty or all-NA columns when determining the result dtypes. To retain the old behavior, exclude the relevant entries before the concat operation.\n",
      "  group_ratings= pd.concat([group_ratings,selected_users_rating], axis=0)\n",
      "/var/folders/hc/hnq3mts53txg3k7xbmj90z_80000gn/T/ipykernel_79155/720062415.py:13: FutureWarning: The behavior of DataFrame concatenation with empty or all-NA entries is deprecated. In a future version, this will no longer exclude empty or all-NA columns when determining the result dtypes. To retain the old behavior, exclude the relevant entries before the concat operation.\n",
      "  group_ratings= pd.concat([group_ratings,selected_users_rating], axis=0)\n",
      "/var/folders/hc/hnq3mts53txg3k7xbmj90z_80000gn/T/ipykernel_79155/720062415.py:13: FutureWarning: The behavior of DataFrame concatenation with empty or all-NA entries is deprecated. In a future version, this will no longer exclude empty or all-NA columns when determining the result dtypes. To retain the old behavior, exclude the relevant entries before the concat operation.\n",
      "  group_ratings= pd.concat([group_ratings,selected_users_rating], axis=0)\n",
      "/var/folders/hc/hnq3mts53txg3k7xbmj90z_80000gn/T/ipykernel_79155/720062415.py:13: FutureWarning: The behavior of DataFrame concatenation with empty or all-NA entries is deprecated. In a future version, this will no longer exclude empty or all-NA columns when determining the result dtypes. To retain the old behavior, exclude the relevant entries before the concat operation.\n",
      "  group_ratings= pd.concat([group_ratings,selected_users_rating], axis=0)\n",
      "/var/folders/hc/hnq3mts53txg3k7xbmj90z_80000gn/T/ipykernel_79155/720062415.py:13: FutureWarning: The behavior of DataFrame concatenation with empty or all-NA entries is deprecated. In a future version, this will no longer exclude empty or all-NA columns when determining the result dtypes. To retain the old behavior, exclude the relevant entries before the concat operation.\n",
      "  group_ratings= pd.concat([group_ratings,selected_users_rating], axis=0)\n",
      "/var/folders/hc/hnq3mts53txg3k7xbmj90z_80000gn/T/ipykernel_79155/720062415.py:13: FutureWarning: The behavior of DataFrame concatenation with empty or all-NA entries is deprecated. In a future version, this will no longer exclude empty or all-NA columns when determining the result dtypes. To retain the old behavior, exclude the relevant entries before the concat operation.\n",
      "  group_ratings= pd.concat([group_ratings,selected_users_rating], axis=0)\n"
     ]
    }
   ],
   "source": [
    "# groups_ratings = pd.DataFrame(columns=final_item_features)\n",
    "#\n",
    "# # For each group aggregate ratings\n",
    "# for i in range(len(groups)):\n",
    "#     # Get group members usernames\n",
    "#     selected_users = groups.iloc[i][\"group_members\"]\n",
    "#\n",
    "#     # Create a dataframe for particular group\n",
    "#     group_ratings = pd.DataFrame(columns=final_item_features)\n",
    "#     # Append their ratings\n",
    "#     for user in selected_users:\n",
    "#         selected_users_rating = user_item_all_features[user_item_all_features[\"user\"]==user][final_item_features]\n",
    "#         group_ratings= pd.concat([group_ratings,selected_users_rating], axis=0)\n",
    "#\n",
    "#     # Aggregation if duplicates are found\n",
    "#     duplicated_items = group_ratings[group_ratings['item'].duplicated(keep=False)]\n",
    "#     item_set = set(duplicated_items.item)\n",
    "#     for item in item_set:\n",
    "#         group_ratings = group_ratings.drop(group_ratings[group_ratings[\"item\"] == item].index)\n",
    "#         duplicated_items['rating'] = duplicated_items[duplicated_items['item']==item]['rating'].mean()\n",
    "#         duplicated_items = duplicated_items.iloc[[0]]\n",
    "#         group_ratings = pd.concat([group_ratings,duplicated_items], axis=0)\n",
    "#\n",
    "#     group_ratings['user'] = i\n",
    "#     groups_ratings = pd.concat([groups_ratings, group_ratings], axis=0)"
   ],
   "metadata": {
    "collapsed": false,
    "ExecuteTime": {
     "start_time": "2023-10-11T15:37:30.322325Z",
     "end_time": "2023-10-11T15:38:11.637357Z"
    }
   }
  },
  {
   "cell_type": "code",
   "execution_count": 56,
   "outputs": [],
   "source": [
    "groups = pd.read_pickle('cf_list_group_recs_nm_add.pkl')\n",
    "groups_ratings = pd.DataFrame(columns=final_item_features)\n",
    "for i in range(len(groups)):\n",
    "    selected_users = groups[i][0][-1]\n",
    "\n",
    "    # Create a dataframe for particular group\n",
    "    group_ratings = user_item_all_features[user_item_all_features[\"user\"]==selected_users[0]][final_item_features]\n",
    "    # Append their ratings\n",
    "    for user in selected_users[1:]:\n",
    "        selected_users_rating = user_item_all_features[user_item_all_features[\"user\"]==user][final_item_features]\n",
    "        selected_users_rating = selected_users_rating.fillna(0)\n",
    "        group_ratings= pd.concat([group_ratings,selected_users_rating], axis=0)\n",
    "    # Aggregation if duplicates are found\n",
    "    duplicated_items = group_ratings[group_ratings['item'].duplicated(keep=False)]\n",
    "    item_set = set(duplicated_items.item)\n",
    "    for item in item_set:\n",
    "        group_ratings = group_ratings.drop(group_ratings[group_ratings[\"item\"] == item].index)\n",
    "        duplicated_items['rating'] = duplicated_items[duplicated_items['item']==item]['rating'].mean()\n",
    "        duplicated_items = duplicated_items.iloc[[0]]\n",
    "        group_ratings = pd.concat([group_ratings,duplicated_items], axis=0)\n",
    "\n",
    "\n",
    "    group_ratings['user'] = i\n",
    "    groups_ratings = pd.concat([groups_ratings, group_ratings], axis=0)"
   ],
   "metadata": {
    "collapsed": false,
    "ExecuteTime": {
     "start_time": "2023-10-11T15:38:11.638500Z",
     "end_time": "2023-10-11T15:38:11.640988Z"
    }
   }
  },
  {
   "cell_type": "code",
   "execution_count": 57,
   "outputs": [
    {
     "data": {
      "text/plain": "(23124, 25)"
     },
     "execution_count": 57,
     "metadata": {},
     "output_type": "execute_result"
    }
   ],
   "source": [],
   "metadata": {
    "collapsed": false,
    "ExecuteTime": {
     "start_time": "2023-10-11T15:38:11.641329Z",
     "end_time": "2023-10-11T15:38:11.644903Z"
    }
   }
  },
  {
   "cell_type": "code",
   "execution_count": 58,
   "outputs": [],
   "source": [
    "groups_ratings = groups_ratings.fillna(0)"
   ],
   "metadata": {
    "collapsed": false,
    "ExecuteTime": {
     "start_time": "2023-10-11T15:38:11.644621Z",
     "end_time": "2023-10-11T15:38:11.728251Z"
    }
   }
  },
  {
   "cell_type": "code",
   "execution_count": 59,
   "outputs": [],
   "source": [
    "group_names = groups_ratings['user'].unique()"
   ],
   "metadata": {
    "collapsed": false,
    "ExecuteTime": {
     "start_time": "2023-10-11T15:38:11.710207Z",
     "end_time": "2023-10-11T15:38:11.742514Z"
    }
   }
  },
  {
   "cell_type": "markdown",
   "source": [
    "## Making a group recommender system using SVR"
   ],
   "metadata": {
    "collapsed": false
   }
  },
  {
   "cell_type": "code",
   "execution_count": 60,
   "outputs": [
    {
     "name": "stderr",
     "output_type": "stream",
     "text": [
      "/opt/homebrew/lib/python3.11/site-packages/sklearn/utils/validation.py:767: FutureWarning: is_sparse is deprecated and will be removed in a future version. Check `isinstance(dtype, pd.SparseDtype)` instead.\n",
      "  if not hasattr(array, \"sparse\") and array.dtypes.apply(is_sparse).any():\n",
      "/opt/homebrew/lib/python3.11/site-packages/sklearn/utils/validation.py:605: FutureWarning: is_sparse is deprecated and will be removed in a future version. Check `isinstance(dtype, pd.SparseDtype)` instead.\n",
      "  if is_sparse(pd_dtype):\n",
      "/opt/homebrew/lib/python3.11/site-packages/sklearn/utils/validation.py:614: FutureWarning: is_sparse is deprecated and will be removed in a future version. Check `isinstance(dtype, pd.SparseDtype)` instead.\n",
      "  if is_sparse(pd_dtype) or not is_extension_array_dtype(pd_dtype):\n",
      "/opt/homebrew/lib/python3.11/site-packages/sklearn/utils/validation.py:767: FutureWarning: is_sparse is deprecated and will be removed in a future version. Check `isinstance(dtype, pd.SparseDtype)` instead.\n",
      "  if not hasattr(array, \"sparse\") and array.dtypes.apply(is_sparse).any():\n",
      "/opt/homebrew/lib/python3.11/site-packages/sklearn/utils/validation.py:605: FutureWarning: is_sparse is deprecated and will be removed in a future version. Check `isinstance(dtype, pd.SparseDtype)` instead.\n",
      "  if is_sparse(pd_dtype):\n",
      "/opt/homebrew/lib/python3.11/site-packages/sklearn/utils/validation.py:614: FutureWarning: is_sparse is deprecated and will be removed in a future version. Check `isinstance(dtype, pd.SparseDtype)` instead.\n",
      "  if is_sparse(pd_dtype) or not is_extension_array_dtype(pd_dtype):\n"
     ]
    }
   ],
   "source": [
    "X,y = generate_Xy_for_user(group_names[0],groups_ratings)\n",
    "train_X, test_X, train_y, test_y = train_test_split(X,y,test_size=0.2, random_state=42)"
   ],
   "metadata": {
    "collapsed": false,
    "ExecuteTime": {
     "start_time": "2023-10-11T15:38:11.718272Z",
     "end_time": "2023-10-11T15:38:11.752602Z"
    }
   }
  },
  {
   "cell_type": "code",
   "execution_count": 61,
   "outputs": [
    {
     "name": "stderr",
     "output_type": "stream",
     "text": [
      "/opt/homebrew/lib/python3.11/site-packages/sklearn/utils/validation.py:767: FutureWarning: is_sparse is deprecated and will be removed in a future version. Check `isinstance(dtype, pd.SparseDtype)` instead.\n",
      "  if not hasattr(array, \"sparse\") and array.dtypes.apply(is_sparse).any():\n",
      "/opt/homebrew/lib/python3.11/site-packages/sklearn/utils/validation.py:605: FutureWarning: is_sparse is deprecated and will be removed in a future version. Check `isinstance(dtype, pd.SparseDtype)` instead.\n",
      "  if is_sparse(pd_dtype):\n",
      "/opt/homebrew/lib/python3.11/site-packages/sklearn/utils/validation.py:614: FutureWarning: is_sparse is deprecated and will be removed in a future version. Check `isinstance(dtype, pd.SparseDtype)` instead.\n",
      "  if is_sparse(pd_dtype) or not is_extension_array_dtype(pd_dtype):\n",
      "/opt/homebrew/lib/python3.11/site-packages/sklearn/utils/validation.py:605: FutureWarning: is_sparse is deprecated and will be removed in a future version. Check `isinstance(dtype, pd.SparseDtype)` instead.\n",
      "  if is_sparse(pd_dtype):\n",
      "/opt/homebrew/lib/python3.11/site-packages/sklearn/utils/validation.py:614: FutureWarning: is_sparse is deprecated and will be removed in a future version. Check `isinstance(dtype, pd.SparseDtype)` instead.\n",
      "  if is_sparse(pd_dtype) or not is_extension_array_dtype(pd_dtype):\n"
     ]
    },
    {
     "data": {
      "text/plain": "SVR(kernel='linear')",
      "text/html": "<style>#sk-container-id-1 {color: black;background-color: white;}#sk-container-id-1 pre{padding: 0;}#sk-container-id-1 div.sk-toggleable {background-color: white;}#sk-container-id-1 label.sk-toggleable__label {cursor: pointer;display: block;width: 100%;margin-bottom: 0;padding: 0.3em;box-sizing: border-box;text-align: center;}#sk-container-id-1 label.sk-toggleable__label-arrow:before {content: \"▸\";float: left;margin-right: 0.25em;color: #696969;}#sk-container-id-1 label.sk-toggleable__label-arrow:hover:before {color: black;}#sk-container-id-1 div.sk-estimator:hover label.sk-toggleable__label-arrow:before {color: black;}#sk-container-id-1 div.sk-toggleable__content {max-height: 0;max-width: 0;overflow: hidden;text-align: left;background-color: #f0f8ff;}#sk-container-id-1 div.sk-toggleable__content pre {margin: 0.2em;color: black;border-radius: 0.25em;background-color: #f0f8ff;}#sk-container-id-1 input.sk-toggleable__control:checked~div.sk-toggleable__content {max-height: 200px;max-width: 100%;overflow: auto;}#sk-container-id-1 input.sk-toggleable__control:checked~label.sk-toggleable__label-arrow:before {content: \"▾\";}#sk-container-id-1 div.sk-estimator input.sk-toggleable__control:checked~label.sk-toggleable__label {background-color: #d4ebff;}#sk-container-id-1 div.sk-label input.sk-toggleable__control:checked~label.sk-toggleable__label {background-color: #d4ebff;}#sk-container-id-1 input.sk-hidden--visually {border: 0;clip: rect(1px 1px 1px 1px);clip: rect(1px, 1px, 1px, 1px);height: 1px;margin: -1px;overflow: hidden;padding: 0;position: absolute;width: 1px;}#sk-container-id-1 div.sk-estimator {font-family: monospace;background-color: #f0f8ff;border: 1px dotted black;border-radius: 0.25em;box-sizing: border-box;margin-bottom: 0.5em;}#sk-container-id-1 div.sk-estimator:hover {background-color: #d4ebff;}#sk-container-id-1 div.sk-parallel-item::after {content: \"\";width: 100%;border-bottom: 1px solid gray;flex-grow: 1;}#sk-container-id-1 div.sk-label:hover label.sk-toggleable__label {background-color: #d4ebff;}#sk-container-id-1 div.sk-serial::before {content: \"\";position: absolute;border-left: 1px solid gray;box-sizing: border-box;top: 0;bottom: 0;left: 50%;z-index: 0;}#sk-container-id-1 div.sk-serial {display: flex;flex-direction: column;align-items: center;background-color: white;padding-right: 0.2em;padding-left: 0.2em;position: relative;}#sk-container-id-1 div.sk-item {position: relative;z-index: 1;}#sk-container-id-1 div.sk-parallel {display: flex;align-items: stretch;justify-content: center;background-color: white;position: relative;}#sk-container-id-1 div.sk-item::before, #sk-container-id-1 div.sk-parallel-item::before {content: \"\";position: absolute;border-left: 1px solid gray;box-sizing: border-box;top: 0;bottom: 0;left: 50%;z-index: -1;}#sk-container-id-1 div.sk-parallel-item {display: flex;flex-direction: column;z-index: 1;position: relative;background-color: white;}#sk-container-id-1 div.sk-parallel-item:first-child::after {align-self: flex-end;width: 50%;}#sk-container-id-1 div.sk-parallel-item:last-child::after {align-self: flex-start;width: 50%;}#sk-container-id-1 div.sk-parallel-item:only-child::after {width: 0;}#sk-container-id-1 div.sk-dashed-wrapped {border: 1px dashed gray;margin: 0 0.4em 0.5em 0.4em;box-sizing: border-box;padding-bottom: 0.4em;background-color: white;}#sk-container-id-1 div.sk-label label {font-family: monospace;font-weight: bold;display: inline-block;line-height: 1.2em;}#sk-container-id-1 div.sk-label-container {text-align: center;}#sk-container-id-1 div.sk-container {/* jupyter's `normalize.less` sets `[hidden] { display: none; }` but bootstrap.min.css set `[hidden] { display: none !important; }` so we also need the `!important` here to be able to override the default hidden behavior on the sphinx rendered scikit-learn.org. See: https://github.com/scikit-learn/scikit-learn/issues/21755 */display: inline-block !important;position: relative;}#sk-container-id-1 div.sk-text-repr-fallback {display: none;}</style><div id=\"sk-container-id-1\" class=\"sk-top-container\"><div class=\"sk-text-repr-fallback\"><pre>SVR(kernel=&#x27;linear&#x27;)</pre><b>In a Jupyter environment, please rerun this cell to show the HTML representation or trust the notebook. <br />On GitHub, the HTML representation is unable to render, please try loading this page with nbviewer.org.</b></div><div class=\"sk-container\" hidden><div class=\"sk-item\"><div class=\"sk-estimator sk-toggleable\"><input class=\"sk-toggleable__control sk-hidden--visually\" id=\"sk-estimator-id-1\" type=\"checkbox\" checked><label for=\"sk-estimator-id-1\" class=\"sk-toggleable__label sk-toggleable__label-arrow\">SVR</label><div class=\"sk-toggleable__content\"><pre>SVR(kernel=&#x27;linear&#x27;)</pre></div></div></div></div></div>"
     },
     "execution_count": 61,
     "metadata": {},
     "output_type": "execute_result"
    }
   ],
   "source": [
    "group_svr = SVR(kernel='linear')\n",
    "group_svr.fit(train_X, train_y)"
   ],
   "metadata": {
    "collapsed": false,
    "ExecuteTime": {
     "start_time": "2023-10-11T15:38:11.756009Z",
     "end_time": "2023-10-11T15:38:11.807815Z"
    }
   }
  },
  {
   "cell_type": "code",
   "execution_count": 62,
   "outputs": [
    {
     "name": "stderr",
     "output_type": "stream",
     "text": [
      "/opt/homebrew/lib/python3.11/site-packages/sklearn/utils/validation.py:767: FutureWarning: is_sparse is deprecated and will be removed in a future version. Check `isinstance(dtype, pd.SparseDtype)` instead.\n",
      "  if not hasattr(array, \"sparse\") and array.dtypes.apply(is_sparse).any():\n",
      "/opt/homebrew/lib/python3.11/site-packages/sklearn/utils/validation.py:605: FutureWarning: is_sparse is deprecated and will be removed in a future version. Check `isinstance(dtype, pd.SparseDtype)` instead.\n",
      "  if is_sparse(pd_dtype):\n",
      "/opt/homebrew/lib/python3.11/site-packages/sklearn/utils/validation.py:614: FutureWarning: is_sparse is deprecated and will be removed in a future version. Check `isinstance(dtype, pd.SparseDtype)` instead.\n",
      "  if is_sparse(pd_dtype) or not is_extension_array_dtype(pd_dtype):\n"
     ]
    }
   ],
   "source": [
    "predicted_y = group_svr.predict(test_X)\n",
    "item_rating = test_y.to_frame().copy()\n",
    "item_rating['predicted'] = predicted_y"
   ],
   "metadata": {
    "collapsed": false,
    "ExecuteTime": {
     "start_time": "2023-10-11T15:38:11.769784Z",
     "end_time": "2023-10-11T15:38:11.807929Z"
    }
   }
  },
  {
   "cell_type": "code",
   "execution_count": 65,
   "outputs": [
    {
     "data": {
      "text/plain": "         rating  predicted\n1158918     9.0   7.428781\n401002      2.0   4.315095\n936810      8.0   8.866660\n1158914     9.0   8.613484\n546850      7.0   7.130395\n401012      3.3   4.585808\n1158924     8.0   8.546972\n546856      8.0   7.773937\n1158926     9.0   8.589934\n400994      3.5   8.277732\n401004      5.0   7.610322\n546853      9.0   8.190404\n1158923     7.0   6.865165\n400984      7.5   8.981862\n1158919     7.0   8.711301",
      "text/html": "<div>\n<style scoped>\n    .dataframe tbody tr th:only-of-type {\n        vertical-align: middle;\n    }\n\n    .dataframe tbody tr th {\n        vertical-align: top;\n    }\n\n    .dataframe thead th {\n        text-align: right;\n    }\n</style>\n<table border=\"1\" class=\"dataframe\">\n  <thead>\n    <tr style=\"text-align: right;\">\n      <th></th>\n      <th>rating</th>\n      <th>predicted</th>\n    </tr>\n  </thead>\n  <tbody>\n    <tr>\n      <th>1158918</th>\n      <td>9.0</td>\n      <td>7.428781</td>\n    </tr>\n    <tr>\n      <th>401002</th>\n      <td>2.0</td>\n      <td>4.315095</td>\n    </tr>\n    <tr>\n      <th>936810</th>\n      <td>8.0</td>\n      <td>8.866660</td>\n    </tr>\n    <tr>\n      <th>1158914</th>\n      <td>9.0</td>\n      <td>8.613484</td>\n    </tr>\n    <tr>\n      <th>546850</th>\n      <td>7.0</td>\n      <td>7.130395</td>\n    </tr>\n    <tr>\n      <th>401012</th>\n      <td>3.3</td>\n      <td>4.585808</td>\n    </tr>\n    <tr>\n      <th>1158924</th>\n      <td>8.0</td>\n      <td>8.546972</td>\n    </tr>\n    <tr>\n      <th>546856</th>\n      <td>8.0</td>\n      <td>7.773937</td>\n    </tr>\n    <tr>\n      <th>1158926</th>\n      <td>9.0</td>\n      <td>8.589934</td>\n    </tr>\n    <tr>\n      <th>400994</th>\n      <td>3.5</td>\n      <td>8.277732</td>\n    </tr>\n    <tr>\n      <th>401004</th>\n      <td>5.0</td>\n      <td>7.610322</td>\n    </tr>\n    <tr>\n      <th>546853</th>\n      <td>9.0</td>\n      <td>8.190404</td>\n    </tr>\n    <tr>\n      <th>1158923</th>\n      <td>7.0</td>\n      <td>6.865165</td>\n    </tr>\n    <tr>\n      <th>400984</th>\n      <td>7.5</td>\n      <td>8.981862</td>\n    </tr>\n    <tr>\n      <th>1158919</th>\n      <td>7.0</td>\n      <td>8.711301</td>\n    </tr>\n  </tbody>\n</table>\n</div>"
     },
     "execution_count": 65,
     "metadata": {},
     "output_type": "execute_result"
    }
   ],
   "source": [
    "item_rating"
   ],
   "metadata": {
    "collapsed": false,
    "ExecuteTime": {
     "start_time": "2023-10-11T15:38:40.748890Z",
     "end_time": "2023-10-11T15:38:40.767103Z"
    }
   }
  },
  {
   "cell_type": "code",
   "execution_count": 64,
   "outputs": [],
   "source": [
    "groups_ratings.to_csv(\"groups_ratings.csv\")"
   ],
   "metadata": {
    "collapsed": false,
    "ExecuteTime": {
     "start_time": "2023-10-11T15:38:11.783403Z",
     "end_time": "2023-10-11T15:38:11.951673Z"
    }
   }
  },
  {
   "cell_type": "code",
   "execution_count": 64,
   "outputs": [],
   "source": [],
   "metadata": {
    "collapsed": false,
    "ExecuteTime": {
     "start_time": "2023-10-11T15:38:11.921668Z",
     "end_time": "2023-10-11T15:38:11.951850Z"
    }
   }
  }
 ],
 "metadata": {
  "kernelspec": {
   "display_name": "Python 3 (ipykernel)",
   "language": "python",
   "name": "python3"
  },
  "language_info": {
   "codemirror_mode": {
    "name": "ipython",
    "version": 3
   },
   "file_extension": ".py",
   "mimetype": "text/x-python",
   "name": "python",
   "nbconvert_exporter": "python",
   "pygments_lexer": "ipython3",
   "version": "3.10.0"
  }
 },
 "nbformat": 4,
 "nbformat_minor": 5
}
