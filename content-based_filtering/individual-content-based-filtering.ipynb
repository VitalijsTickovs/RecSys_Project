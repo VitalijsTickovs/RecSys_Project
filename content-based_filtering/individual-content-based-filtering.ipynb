{
 "cells": [
  {
   "cell_type": "markdown",
   "id": "cfcc6604",
   "metadata": {
    "scrolled": false
   },
   "source": [
    "# Individual Content-based Filtering"
   ]
  },
  {
   "cell_type": "code",
   "execution_count": 2,
   "id": "7de99a34",
   "metadata": {},
   "outputs": [],
   "source": [
    "import pandas as pd\n",
    "import numpy as np\n",
    "import time\n",
    "import math\n",
    "from math import sqrt\n",
    "import random\n",
    "import matplotlib.pyplot as plt\n",
    "import seaborn as sns\n",
    "import plotly.express as px\n",
    "from scipy.stats import pearsonr\n",
    "from scipy.stats import spearmanr\n",
    "from scipy.sparse import csr_matrix\n",
    "from xgboost import XGBRegressor\n",
    "import pickle\n",
    "\n",
    "from sklearn.manifold import TSNE\n",
    "from sklearn.model_selection import train_test_split\n",
    "from sklearn.svm import SVR\n",
    "from sklearn.preprocessing import StandardScaler\n",
    "from sklearn.metrics import mean_squared_error\n",
    "from sklearn.metrics import mean_absolute_error\n",
    "from sklearn.tree import DecisionTreeRegressor\n",
    "from sklearn import tree\n",
    "random.seed(42)"
   ]
  },
  {
   "cell_type": "code",
   "execution_count": 3,
   "id": "c90a4fbd",
   "metadata": {},
   "outputs": [],
   "source": [
    "# load data\n",
    "data_folder = '../data/'\n",
    "user_item_ratings_reduced = pd.read_csv(f'{data_folder}user_ratings_reduced.csv')\n",
    "user_item_ratings_reduced = user_item_ratings_reduced.drop(columns=[\"Unnamed: 0\"])\n",
    "item_ratings_df = pd.read_csv(data_folder + 'user_ratings.csv')\n",
    "item_info = pd.read_csv(data_folder + 'games.csv')\n",
    "item_mecahnics = pd.read_csv(data_folder + 'mechanics.csv')\n",
    "item_subcategories = pd.read_csv(data_folder + 'subcategories.csv')\n",
    "item_themes = pd.read_csv(data_folder + 'themes.csv')"
   ]
  },
  {
   "cell_type": "code",
   "execution_count": 4,
   "id": "eb6077c8",
   "metadata": {},
   "outputs": [],
   "source": [
    "# user_item_ratings_reduced['rating'] = user_item_ratings_reduced['rating'].round(0).astype(int)"
   ]
  },
  {
   "cell_type": "code",
   "execution_count": 5,
   "id": "787c0d6d",
   "metadata": {},
   "outputs": [],
   "source": [
    "user_item_rating_count = user_item_ratings_reduced.groupby('user').count()"
   ]
  },
  {
   "cell_type": "code",
   "execution_count": 6,
   "id": "edbda74f",
   "metadata": {},
   "outputs": [],
   "source": [
    "min_rating_count = 10\n",
    "user_rating_count = user_item_rating_count[user_item_rating_count['rating'] >= min_rating_count]\n",
    "user_list_filtered = list(user_rating_count.index)\n",
    "user_item_ratings_filtered = user_item_ratings_reduced[user_item_ratings_reduced['user'].isin(user_list_filtered)]"
   ]
  },
  {
   "cell_type": "markdown",
   "id": "a3cf9602",
   "metadata": {},
   "source": [
    "### Preprocessing"
   ]
  },
  {
   "cell_type": "code",
   "execution_count": 7,
   "id": "00578f2e",
   "metadata": {},
   "outputs": [],
   "source": [
    "# item_ratings_df = pd.read_csv(data_folder + 'user_ratings.csv')\n",
    "# item_info = pd.read_csv(data_folder + 'games.csv')\n",
    "# item_mecahnics = pd.read_csv(data_folder + 'mechanics.csv')\n",
    "# item_subcategories = pd.read_csv(data_folder + 'subcategories.csv')\n",
    "# item_themes = pd.read_csv(data_folder + 'themes.csv')"
   ]
  },
  {
   "cell_type": "code",
   "execution_count": 8,
   "id": "2ac8504c",
   "metadata": {},
   "outputs": [],
   "source": [
    "item_info.rename(columns={'BGGId':'item'},inplace=True)\n",
    "# get comeplete user-catalog data\n",
    "user_item_complete = pd.merge(user_item_ratings_filtered, item_info, on='item', how='inner')\n",
    "# item_info.info() \n",
    "# item_info[['GoodPlayers', 'Family', 'ImagePath']].head()\n",
    "non_numerical_features = ['user','Name','Description', 'item', 'GoodPlayers', 'Family', 'ImagePath']"
   ]
  },
  {
   "cell_type": "code",
   "execution_count": 9,
   "id": "9f744423",
   "metadata": {},
   "outputs": [],
   "source": [
    "# find a median rating for each user\n",
    "median_rating = user_item_complete.groupby('user')['rating'].median().rename('median_rating').reset_index()\n",
    "user_item_complete = pd.merge(user_item_complete, median_rating, on='user', how='inner')"
   ]
  },
  {
   "cell_type": "markdown",
   "id": "123d4756",
   "metadata": {},
   "source": [
    "User-Item matrix has size (1_228_331, 51) after selecting users with >= `min_rating_count`\n",
    "\n",
    "User-Item matrix has size (771_551, 51) after selecting items for users with rating higher than their mean rating"
   ]
  },
  {
   "cell_type": "code",
   "execution_count": 10,
   "id": "56cf307d",
   "metadata": {},
   "outputs": [
    {
     "data": {
      "text/plain": [
       "99.78998357359676"
      ]
     },
     "execution_count": 10,
     "metadata": {},
     "output_type": "execute_result"
    }
   ],
   "source": [
    "# sparsity\n",
    "num_items = len(item_info['item'].unique())\n",
    "num_users = len(item_ratings_df['Username'].unique())\n",
    "ratings_sparsity = (1 - item_ratings_df.shape[0]/(num_items*num_users))*100\n",
    "ratings_sparsity"
   ]
  },
  {
   "cell_type": "code",
   "execution_count": 11,
   "id": "c10861d6",
   "metadata": {},
   "outputs": [],
   "source": [
    "# creating user represenations\n",
    "# user_item_favourite = user_item_complete[user_item_complete['rating']>=user_item_complete['median_rating']]\n",
    "\n",
    "# user_item_favourite['ComAgeRec'].fillna(user_item_favourite['ComAgeRec'].mean(), inplace=True)\n",
    "# user_item_favourite['LanguageEase'].fillna(user_item_favourite['LanguageEase'].mean(), inplace=True)\n",
    "\n",
    "# user_representation = user_item_favourite.groupby('user').median().reset_index()\n",
    "# user_representation_wnames = user_representation['user']\n",
    "# user_representation.drop(columns=['user'], inplace=True)\n",
    "# user_item_favourite.drop(columns=non_numerical_features, inplace=True)"
   ]
  },
  {
   "cell_type": "markdown",
   "id": "a7c4f119",
   "metadata": {},
   "source": [
    "### Analysis of user preference clusters\n",
    " > based on TSNE clusterings of users with similar preferences, several groups of users were investigated to check if there are differences in prederences between clusters. The analysis showed that all the groups have approximately similar preferences. Hence, no need to create different features per user group"
   ]
  },
  {
   "cell_type": "code",
   "execution_count": 12,
   "id": "6a09a359",
   "metadata": {},
   "outputs": [],
   "source": [
    "# scaler = StandardScaler()\n",
    "# scaled_user_represenation = scaler.fit_transform(user_representation)"
   ]
  },
  {
   "cell_type": "code",
   "execution_count": 13,
   "id": "e0d6f99f",
   "metadata": {},
   "outputs": [],
   "source": [
    "# tsne = TSNE(n_components=2, verbose=0, perplexity=50, n_iter=500)\n",
    "# user_clusters = tsne.fit_transform(scaled_user_represenation)"
   ]
  },
  {
   "cell_type": "code",
   "execution_count": 14,
   "id": "d71a8b3a",
   "metadata": {},
   "outputs": [],
   "source": [
    "# user_representation['tsne-2d-one'] = user_clusters[:,0]\n",
    "# user_representation['tsne-2d-two'] = user_clusters[:,1]\n",
    "\n",
    "# plt.figure(figsize=(16,10))\n",
    "# sns.scatterplot(\n",
    "#     x=\"tsne-2d-one\", y=\"tsne-2d-two\",\n",
    "#     palette=sns.color_palette(\"hls\", 10),\n",
    "#     data=user_representation,\n",
    "#     alpha=0.3,\n",
    "# )"
   ]
  },
  {
   "cell_type": "code",
   "execution_count": 15,
   "id": "ba7dcac0",
   "metadata": {},
   "outputs": [],
   "source": [
    "# fig = px.scatter(\n",
    "#     user_representation, x=user_representation['tsne-2d-one'], y=user_representation['tsne-2d-two'],\n",
    "# )\n",
    "# fig.show()"
   ]
  },
  {
   "cell_type": "code",
   "execution_count": 16,
   "id": "c7f0caec",
   "metadata": {},
   "outputs": [],
   "source": [
    "# manual cluster extraction using upper left and lower right points\n",
    "# group_1 = [(-11, 16), (12, 9.5)]\n",
    "# group_2 = [(-16, 9.5), (14, 0)]\n",
    "# group_3 = [(-15, 0), (15, -15)]"
   ]
  },
  {
   "cell_type": "code",
   "execution_count": 17,
   "id": "644ffd1a",
   "metadata": {},
   "outputs": [],
   "source": [
    "# coords_groups = [group_1, group_2, group_3]\n",
    "# user_groups = []\n",
    "\n",
    "# for bounds in coords_groups:\n",
    "#     group_users = user_representation[(user_representation['tsne-2d-one'] >= bounds[0][0])&\n",
    "#                                       (user_representation['tsne-2d-one'] <= bounds[1][0])&\n",
    "#                                       (user_representation['tsne-2d-two'] <= bounds[0][1])&\n",
    "#                                       (user_representation['tsne-2d-two'] >= bounds[1][1])]\n",
    "#     user_groups.append(group_users)"
   ]
  },
  {
   "cell_type": "code",
   "execution_count": 18,
   "id": "c9f44813",
   "metadata": {},
   "outputs": [],
   "source": [
    "# group_1 = user_groups[0]\n",
    "# group_2 = user_groups[1]\n",
    "# group_3 = user_groups[2]\n",
    "\n",
    "# group_1 = pd.merge(group_1, user_representation_wnames, left_index=True, right_index=True, how='left')\n",
    "# group_2 = pd.merge(group_2, user_representation_wnames, left_index=True, right_index=True, how='left')\n",
    "# group_3 = pd.merge(group_3, user_representation_wnames, left_index=True, right_index=True, how='left')\n",
    "\n",
    "# group_1_users = group_1.user\n",
    "# group_2_users = group_2.user\n",
    "# group_3_users = group_3.user"
   ]
  },
  {
   "cell_type": "code",
   "execution_count": 19,
   "id": "bf63c1ca",
   "metadata": {},
   "outputs": [],
   "source": [
    "def get_all_items_for_user(username, complete_df):\n",
    "    return complete_df[complete_df['user']==username].drop(columns=['user'])  "
   ]
  },
  {
   "cell_type": "code",
   "execution_count": 20,
   "id": "ffaed3a9",
   "metadata": {},
   "outputs": [],
   "source": [
    "# group_1_itemids = user_item_complete[user_item_complete.user.isin(group_1_users)].item.unique()\n",
    "# group_1_items = user_item_complete[user_item_complete['item'].isin(group_1_itemids)]\n",
    "\n",
    "# group_2_itemids = user_item_complete[user_item_complete.user.isin(group_2_users)].item.unique()\n",
    "# group_2_items = user_item_complete[user_item_complete['item'].isin(group_2_itemids)]\n",
    "\n",
    "# group_3_itemids = user_item_complete[user_item_complete.user.isin(group_3_users)].item.unique()\n",
    "# group_3_items = user_item_complete[user_item_complete['item'].isin(group_3_itemids)]"
   ]
  },
  {
   "cell_type": "code",
   "execution_count": 21,
   "id": "973195e6",
   "metadata": {},
   "outputs": [],
   "source": [
    "def add_avg_group_rating(selected_items, group, complete):\n",
    "    selected_items.reset_index(drop=True, inplace=True)\n",
    "    selected_items['avg_group_rating'] = 0\n",
    "    group_users = group['user'].unique()\n",
    "    for index,item in selected_items.iterrows():\n",
    "        item_in_group = complete[(complete['user'].isin(group_users))&(complete['item']==item['item'])]\n",
    "        average_group_rating = item_in_group['rating'].mean()\n",
    "        item['avg_group_rating'] = average_group_rating\n",
    "        selected_items.iloc[index,:] = item\n",
    "        \n",
    "    return selected_items\n",
    "        "
   ]
  },
  {
   "cell_type": "code",
   "execution_count": 22,
   "id": "86b9efd4",
   "metadata": {},
   "outputs": [],
   "source": [
    "# item_group_1 = add_avg_group_rating(group_1_items.sample(frac=0.001, random_state=42), group_1, user_item_complete)\n",
    "# item_group_2 = add_avg_group_rating(group_2_items.sample(frac=0.001, random_state=42), group_2, user_item_complete)\n",
    "# item_group_3 = add_avg_group_rating(group_3_items.sample(frac=0.001, random_state=42), group_3, user_item_complete)\n",
    "#item_group_1 = add_avg_group_rating(group_1_items.iloc[0:2,:], group_1, user_item_complete)"
   ]
  },
  {
   "cell_type": "code",
   "execution_count": 23,
   "id": "6fd36746",
   "metadata": {},
   "outputs": [],
   "source": [
    "# all_users = pd.merge(user_representation, user_representation_wnames,left_index=True, right_index=True, how='left')\n",
    "# all_items = add_avg_group_rating(user_item_complete.sample(frac=0.005, random_state=42), all_users, user_item_complete)"
   ]
  },
  {
   "cell_type": "code",
   "execution_count": 24,
   "id": "384a9510",
   "metadata": {},
   "outputs": [],
   "source": [
    "def save(obj):\n",
    "    def get_variable_name(var):\n",
    "        # Iterate over the global variables\n",
    "        for name, value in globals().items():\n",
    "            if value is var:\n",
    "                return name\n",
    "        return None\n",
    "    name = get_variable_name(obj)\n",
    "    with open(\"saved/\"+name+\".pkl\", \"wb\") as f: # \"wb\" because we want to write in binary mode\n",
    "        pickle.dump(obj, f)\n",
    "        \n",
    "def load_obj(path):\n",
    "    with open(path, 'rb') as f:\n",
    "        return pickle.load(f)"
   ]
  },
  {
   "cell_type": "code",
   "execution_count": 25,
   "id": "ed4fcc76",
   "metadata": {},
   "outputs": [],
   "source": [
    "# save(all_users)\n",
    "# save(all_items)"
   ]
  },
  {
   "cell_type": "code",
   "execution_count": 26,
   "id": "cd68251d",
   "metadata": {},
   "outputs": [],
   "source": [
    "# plt.figure(figsize=(16,16))\n",
    "# sns.heatmap(item_group_3.corr())\n",
    "# plt.title('Group 3 Correlation of Features')"
   ]
  },
  {
   "cell_type": "code",
   "execution_count": 27,
   "id": "07328e4a",
   "metadata": {},
   "outputs": [],
   "source": [
    "def test_stat_significance(feature_name, selected_items,avg_rating_name):\n",
    "    \"\"\" test whether an item feature has statistically significant \n",
    "        correlation (Pearson) with a group rating\n",
    "    \"\"\"\n",
    "\n",
    "    feature = selected_items[feature_name].dropna()\n",
    "    ratings = selected_items[avg_rating_name].reindex(feature.index).values\n",
    "    feature = feature.values\n",
    "    \n",
    "    r, p = spearmanr(ratings, feature)\n",
    "    \n",
    "    significant = False\n",
    "    if p < 0.05:\n",
    "        significant = True\n",
    "\n",
    "    # print(f'feature {feature_name} has p-value {round(p,2)}, significant: {significant}, correlation: {round(r,2)}')\n",
    "    return r, significant\n",
    "    "
   ]
  },
  {
   "cell_type": "code",
   "execution_count": 28,
   "id": "5bc61564",
   "metadata": {},
   "outputs": [],
   "source": [
    "# test_stat_significance('MinPlayers',item_group_3)"
   ]
  },
  {
   "cell_type": "code",
   "execution_count": 29,
   "id": "a973b94d",
   "metadata": {},
   "outputs": [],
   "source": [
    "def find_group_features(group_items, complete, avg_rating_name='avg_group_rating'):\n",
    "    features = group_items.columns\n",
    "    group_features = []\n",
    "    for feature_name in features:\n",
    "        if feature_name in non_numerical_features:\n",
    "            continue\n",
    "        \n",
    "        correlation, significant = test_stat_significance(feature_name, group_items, avg_rating_name)\n",
    "        # print(feature_name, correlation, significant)\n",
    "        \n",
    "        if significant and abs(correlation) > 0.10:\n",
    "            group_features.append(feature_name)\n",
    "    return group_features"
   ]
  },
  {
   "cell_type": "code",
   "execution_count": 30,
   "id": "9828b8fa",
   "metadata": {},
   "outputs": [],
   "source": [
    "# group1_features = set(find_group_features(item_group_1, user_item_complete))\n",
    "# group2_features = set(find_group_features(item_group_2, user_item_complete))\n",
    "# group3_features = set(find_group_features(item_group_3, user_item_complete))"
   ]
  },
  {
   "cell_type": "code",
   "execution_count": 31,
   "id": "f7791867",
   "metadata": {},
   "outputs": [
    {
     "name": "stderr",
     "output_type": "stream",
     "text": [
      "/Library/Frameworks/Python.framework/Versions/3.10/lib/python3.10/site-packages/scipy/stats/_stats_py.py:4916: ConstantInputWarning: An input array is constant; the correlation coefficient is not defined.\n",
      "  warnings.warn(stats.ConstantInputWarning(warn_msg))\n"
     ]
    }
   ],
   "source": [
    "all_items = item_info\n",
    "sign_user_preferences = set(find_group_features(all_items, user_item_complete, 'AvgRating'))"
   ]
  },
  {
   "cell_type": "code",
   "execution_count": 32,
   "id": "4dc4338a",
   "metadata": {},
   "outputs": [],
   "source": [
    "rating_features = ['AvgRating', 'BayesAvgRating', 'StdDev', 'avg_group_rating', 'median_rating']"
   ]
  },
  {
   "cell_type": "markdown",
   "id": "7580b7c2",
   "metadata": {},
   "source": [
    "### Item Features for Content-Based Filtering\n",
    "- the features which have correlation with an average rating more than 0.10 in absolute values\n",
    "- are not rating features\n",
    "- are statistically significant\n",
    "\n",
    "List of features in `cb_features.py`, reasoning behind leaving/discarding features in `Exploring correlations...md`"
   ]
  },
  {
   "cell_type": "code",
   "execution_count": 33,
   "id": "a4f798be",
   "metadata": {},
   "outputs": [],
   "source": [
    "# item_matrix= all_items\n",
    "# corr_matrix = item_matrix.corr()\n",
    "\n",
    "# plt.figure(figsize=(30,20))\n",
    "# sns.heatmap(corr_matrix,annot = True, fmt= '.2f',cmap=\"crest\")"
   ]
  },
  {
   "cell_type": "code",
   "execution_count": 34,
   "id": "8d29d440",
   "metadata": {},
   "outputs": [],
   "source": [
    "from cb_features import cb_features\n",
    "final_item_features = ['item','user','rating']+cb_features"
   ]
  },
  {
   "cell_type": "code",
   "execution_count": 35,
   "id": "72770590",
   "metadata": {},
   "outputs": [],
   "source": [
    "mechanics_features = ['mechanic_' + i if not i == 'BGGId' else i for i in item_mecahnics.columns]\n",
    "subcategory_features = ['subcategory_' + i if not i == 'BGGId' else i for i in item_subcategories.columns]\n",
    "theme_features = ['theme_' + i.split('_')[-1] if not i == 'BGGId' else i for i in item_themes.columns]\n",
    "\n",
    "item_mecahnics.columns = mechanics_features\n",
    "item_subcategories.columns = subcategory_features\n",
    "item_themes.columns = theme_features\n",
    "\n",
    "item_catalog = pd.merge(item_mecahnics, item_subcategories, on='BGGId', how='outer')\n",
    "item_catalog = pd.merge(item_catalog, item_themes, on='BGGId', how='outer')"
   ]
  },
  {
   "cell_type": "code",
   "execution_count": 36,
   "id": "4f029286",
   "metadata": {},
   "outputs": [],
   "source": [
    "user_item_selected = user_item_complete[final_item_features]\n",
    "user_item_all_features = pd.merge(user_item_selected, item_catalog, left_on='item', right_on='BGGId', how='left')"
   ]
  },
  {
   "cell_type": "code",
   "execution_count": 37,
   "id": "2d18e0f4",
   "metadata": {},
   "outputs": [
    {
     "data": {
      "text/plain": [
       "Index(['user'], dtype='object')"
      ]
     },
     "execution_count": 37,
     "metadata": {},
     "output_type": "execute_result"
    }
   ],
   "source": [
    "user_item_all_features.select_dtypes(include=['object']).columns"
   ]
  },
  {
   "cell_type": "code",
   "execution_count": 38,
   "id": "47f37e1e",
   "metadata": {},
   "outputs": [],
   "source": [
    "# nan_counts = user_item_all_features.isna().sum(axis=0)\n",
    "# nan_counts[nan_counts > 0]"
   ]
  },
  {
   "cell_type": "code",
   "execution_count": 39,
   "id": "ea7ccf5a",
   "metadata": {},
   "outputs": [],
   "source": [
    "all_user_names = user_item_all_features.user.unique()"
   ]
  },
  {
   "cell_type": "code",
   "execution_count": 40,
   "id": "48997977",
   "metadata": {},
   "outputs": [],
   "source": [
    "def generate_Xy_for_user(username, complete_df):\n",
    "    scaler = StandardScaler()\n",
    "    user_rated_items = complete_df[complete_df['user']==username]\n",
    "    index_x = user_rated_items.index\n",
    "    X = user_rated_items.drop(columns=['user','rating', 'item'])\n",
    "    normalized_matrix = scaler.fit_transform(X)\n",
    "    X =  pd.DataFrame(normalized_matrix, columns=X.columns, index=index_x)\n",
    "    y = user_rated_items['rating']\n",
    "    return X,y"
   ]
  },
  {
   "cell_type": "code",
   "execution_count": 41,
   "id": "80aaf9ee",
   "metadata": {},
   "outputs": [],
   "source": [
    "X,y = generate_Xy_for_user(all_user_names[0],user_item_all_features[final_item_features])\n",
    "train_X, test_X, train_y, test_y = train_test_split(X,y,test_size=0.2, random_state=42)"
   ]
  },
  {
   "cell_type": "code",
   "execution_count": 42,
   "id": "927d2bdd",
   "metadata": {},
   "outputs": [
    {
     "data": {
      "text/html": [
       "<style>#sk-container-id-1 {color: black;background-color: white;}#sk-container-id-1 pre{padding: 0;}#sk-container-id-1 div.sk-toggleable {background-color: white;}#sk-container-id-1 label.sk-toggleable__label {cursor: pointer;display: block;width: 100%;margin-bottom: 0;padding: 0.3em;box-sizing: border-box;text-align: center;}#sk-container-id-1 label.sk-toggleable__label-arrow:before {content: \"▸\";float: left;margin-right: 0.25em;color: #696969;}#sk-container-id-1 label.sk-toggleable__label-arrow:hover:before {color: black;}#sk-container-id-1 div.sk-estimator:hover label.sk-toggleable__label-arrow:before {color: black;}#sk-container-id-1 div.sk-toggleable__content {max-height: 0;max-width: 0;overflow: hidden;text-align: left;background-color: #f0f8ff;}#sk-container-id-1 div.sk-toggleable__content pre {margin: 0.2em;color: black;border-radius: 0.25em;background-color: #f0f8ff;}#sk-container-id-1 input.sk-toggleable__control:checked~div.sk-toggleable__content {max-height: 200px;max-width: 100%;overflow: auto;}#sk-container-id-1 input.sk-toggleable__control:checked~label.sk-toggleable__label-arrow:before {content: \"▾\";}#sk-container-id-1 div.sk-estimator input.sk-toggleable__control:checked~label.sk-toggleable__label {background-color: #d4ebff;}#sk-container-id-1 div.sk-label input.sk-toggleable__control:checked~label.sk-toggleable__label {background-color: #d4ebff;}#sk-container-id-1 input.sk-hidden--visually {border: 0;clip: rect(1px 1px 1px 1px);clip: rect(1px, 1px, 1px, 1px);height: 1px;margin: -1px;overflow: hidden;padding: 0;position: absolute;width: 1px;}#sk-container-id-1 div.sk-estimator {font-family: monospace;background-color: #f0f8ff;border: 1px dotted black;border-radius: 0.25em;box-sizing: border-box;margin-bottom: 0.5em;}#sk-container-id-1 div.sk-estimator:hover {background-color: #d4ebff;}#sk-container-id-1 div.sk-parallel-item::after {content: \"\";width: 100%;border-bottom: 1px solid gray;flex-grow: 1;}#sk-container-id-1 div.sk-label:hover label.sk-toggleable__label {background-color: #d4ebff;}#sk-container-id-1 div.sk-serial::before {content: \"\";position: absolute;border-left: 1px solid gray;box-sizing: border-box;top: 0;bottom: 0;left: 50%;z-index: 0;}#sk-container-id-1 div.sk-serial {display: flex;flex-direction: column;align-items: center;background-color: white;padding-right: 0.2em;padding-left: 0.2em;position: relative;}#sk-container-id-1 div.sk-item {position: relative;z-index: 1;}#sk-container-id-1 div.sk-parallel {display: flex;align-items: stretch;justify-content: center;background-color: white;position: relative;}#sk-container-id-1 div.sk-item::before, #sk-container-id-1 div.sk-parallel-item::before {content: \"\";position: absolute;border-left: 1px solid gray;box-sizing: border-box;top: 0;bottom: 0;left: 50%;z-index: -1;}#sk-container-id-1 div.sk-parallel-item {display: flex;flex-direction: column;z-index: 1;position: relative;background-color: white;}#sk-container-id-1 div.sk-parallel-item:first-child::after {align-self: flex-end;width: 50%;}#sk-container-id-1 div.sk-parallel-item:last-child::after {align-self: flex-start;width: 50%;}#sk-container-id-1 div.sk-parallel-item:only-child::after {width: 0;}#sk-container-id-1 div.sk-dashed-wrapped {border: 1px dashed gray;margin: 0 0.4em 0.5em 0.4em;box-sizing: border-box;padding-bottom: 0.4em;background-color: white;}#sk-container-id-1 div.sk-label label {font-family: monospace;font-weight: bold;display: inline-block;line-height: 1.2em;}#sk-container-id-1 div.sk-label-container {text-align: center;}#sk-container-id-1 div.sk-container {/* jupyter's `normalize.less` sets `[hidden] { display: none; }` but bootstrap.min.css set `[hidden] { display: none !important; }` so we also need the `!important` here to be able to override the default hidden behavior on the sphinx rendered scikit-learn.org. See: https://github.com/scikit-learn/scikit-learn/issues/21755 */display: inline-block !important;position: relative;}#sk-container-id-1 div.sk-text-repr-fallback {display: none;}</style><div id=\"sk-container-id-1\" class=\"sk-top-container\"><div class=\"sk-text-repr-fallback\"><pre>SVR(kernel=&#x27;linear&#x27;)</pre><b>In a Jupyter environment, please rerun this cell to show the HTML representation or trust the notebook. <br />On GitHub, the HTML representation is unable to render, please try loading this page with nbviewer.org.</b></div><div class=\"sk-container\" hidden><div class=\"sk-item\"><div class=\"sk-estimator sk-toggleable\"><input class=\"sk-toggleable__control sk-hidden--visually\" id=\"sk-estimator-id-1\" type=\"checkbox\" checked><label for=\"sk-estimator-id-1\" class=\"sk-toggleable__label sk-toggleable__label-arrow\">SVR</label><div class=\"sk-toggleable__content\"><pre>SVR(kernel=&#x27;linear&#x27;)</pre></div></div></div></div></div>"
      ],
      "text/plain": [
       "SVR(kernel='linear')"
      ]
     },
     "execution_count": 42,
     "metadata": {},
     "output_type": "execute_result"
    }
   ],
   "source": [
    "svr = SVR(kernel='linear')\n",
    "svr.fit(train_X, train_y)"
   ]
  },
  {
   "cell_type": "code",
   "execution_count": 43,
   "id": "efd19191",
   "metadata": {},
   "outputs": [],
   "source": [
    "predicted_y = svr.predict(test_X)"
   ]
  },
  {
   "cell_type": "code",
   "execution_count": 44,
   "id": "d80c1460",
   "metadata": {},
   "outputs": [],
   "source": [
    "item_rating = test_y.to_frame().copy()\n",
    "item_rating['predicted'] = predicted_y"
   ]
  },
  {
   "cell_type": "markdown",
   "id": "e8949da6",
   "metadata": {},
   "source": [
    "## Evaluation"
   ]
  },
  {
   "cell_type": "code",
   "execution_count": 45,
   "id": "c2e4373d",
   "metadata": {},
   "outputs": [],
   "source": [
    "num_users_test = 1000\n",
    "users_for_test = random.sample(list(all_user_names), num_users_test)"
   ]
  },
  {
   "cell_type": "code",
   "execution_count": 46,
   "id": "3dd230f8",
   "metadata": {},
   "outputs": [
    {
     "data": {
      "text/plain": [
       "1.5780633950881764"
      ]
     },
     "execution_count": 46,
     "metadata": {},
     "output_type": "execute_result"
    }
   ],
   "source": [
    "# RMSE\n",
    "((item_rating['rating']-item_rating['predicted'])**2).mean(0)**0.5"
   ]
  },
  {
   "cell_type": "code",
   "execution_count": 47,
   "id": "024c94b7",
   "metadata": {},
   "outputs": [
    {
     "data": {
      "text/plain": [
       "1.4617687110041115"
      ]
     },
     "execution_count": 47,
     "metadata": {},
     "output_type": "execute_result"
    }
   ],
   "source": [
    "# MAE\n",
    "(abs(item_rating['rating']-item_rating['predicted'])).mean(0)"
   ]
  },
  {
   "cell_type": "code",
   "execution_count": 48,
   "id": "57d7da7d",
   "metadata": {},
   "outputs": [],
   "source": [
    "def produce_recommendations(user, user_item_all_features, regressor, n=10):\n",
    "    \"\"\" produces a list of n recommendations for a given user by utilizing CBF \"\"\"\n",
    "    \n",
    "    # train regressor on rated items\n",
    "    X_train = user_item_all_features[user_item_all_features['user']==user].drop(columns=['user','item','rating'])\n",
    "    y_train = user_item_all_features[user_item_all_features['user']==user]['rating']\n",
    "    regressor.fit(X_train, y_train)\n",
    "    \n",
    "    # filter out rated items\n",
    "    items_to_rate = user_item_all_features[~user_item_all_features['user'].isin([user])]\n",
    "    \n",
    "    # extract features\n",
    "    X_features = items_to_rate[['user','rating','item']]\n",
    "    X_predict = items_to_rate.drop(columns=['user','rating','item'])\n",
    "    X_indices = X_predict.index\n",
    "    \n",
    "    # predict ratings\n",
    "    predictions = regressor.predict(X_predict)\n",
    "    X_predict['predictions'] = predictions\n",
    "    X_predict[['user','rating','item']] = X_features\n",
    "    \n",
    "    # sort items\n",
    "    sorted_df = X_predict.sort_values(by=['predictions'], ascending=False)\n",
    "    \n",
    "    # pick n best results\n",
    "    return sorted_df.iloc[:n,:]\n",
    "    "
   ]
  },
  {
   "cell_type": "code",
   "execution_count": 49,
   "id": "efeb54c7",
   "metadata": {},
   "outputs": [],
   "source": [
    "# rand_user = user_item_complete['user'].sample(1).values[0]\n",
    "# rand_user"
   ]
  },
  {
   "cell_type": "code",
   "execution_count": 50,
   "id": "4ee510f8",
   "metadata": {},
   "outputs": [],
   "source": [
    "# produce_recommendations(rand_user,user_item_all_features[final_item_features],DecisionTreeRegressor())"
   ]
  },
  {
   "cell_type": "code",
   "execution_count": 51,
   "id": "2174a957",
   "metadata": {},
   "outputs": [],
   "source": [
    "def evaluate_users(users, user_item_all_features, regressor):\n",
    "    RMSEs = []\n",
    "    MAEs = []\n",
    "    for user in users:\n",
    "        X,y = generate_Xy_for_user(user,user_item_all_features)\n",
    "        train_X, test_X, train_y, test_y = train_test_split(X,y, test_size=0.2, random_state=42)\n",
    "\n",
    "        regressor.fit(train_X, train_y)\n",
    "        predicted_y = regressor.predict(test_X)\n",
    "        \n",
    "        item_ratings = test_y.to_frame().copy()\n",
    "        item_ratings['predicted'] = predicted_y\n",
    "        \n",
    "        RMSEs.append(((item_ratings['rating']-item_ratings['predicted'])**2).mean(0)**0.5)\n",
    "        MAEs.append((abs(item_ratings['rating']-item_ratings['predicted'])).mean(0))\n",
    "        \n",
    "    return RMSEs, MAEs"
   ]
  },
  {
   "cell_type": "code",
   "execution_count": 52,
   "id": "39b06d57",
   "metadata": {},
   "outputs": [],
   "source": [
    "# missing_values_counts = user_item_all_features.isna().sum(axis=0)\n",
    "\n",
    "# # Print the counts of missing values for rows where there are NaN values\n",
    "# print(missing_values_counts[missing_values_counts > 0])"
   ]
  },
  {
   "cell_type": "code",
   "execution_count": 53,
   "id": "38d86f8b",
   "metadata": {},
   "outputs": [],
   "source": [
    "user_item_all_features['ComAgeRec'].fillna(value=user_item_all_features['ComAgeRec'].mean(), inplace=True)\n",
    "#user_item_all_features['LanguageEase'].fillna(value=user_item_all_features['LanguageEase'].mean(), inplace=True)"
   ]
  },
  {
   "cell_type": "code",
   "execution_count": 54,
   "id": "e81ac0a1",
   "metadata": {},
   "outputs": [],
   "source": [
    "regressor = SVR(kernel='linear')\n",
    "RMSEs, MAEs = evaluate_users(users_for_test, user_item_all_features[final_item_features], regressor)"
   ]
  },
  {
   "cell_type": "code",
   "execution_count": 55,
   "id": "c6d00b20",
   "metadata": {},
   "outputs": [],
   "source": [
    "avg_RMSE = np.mean(RMSEs)\n",
    "avg_MAE = np.mean(MAEs)"
   ]
  },
  {
   "cell_type": "code",
   "execution_count": 56,
   "id": "48dfc036",
   "metadata": {},
   "outputs": [
    {
     "name": "stdout",
     "output_type": "stream",
     "text": [
      "RMSE: 1.57  | MAE: 1.32\n"
     ]
    }
   ],
   "source": [
    "print('RMSE:',round(avg_RMSE,2), ' | MAE:',round(avg_MAE,2))"
   ]
  },
  {
   "cell_type": "code",
   "execution_count": 57,
   "id": "1dd80206",
   "metadata": {},
   "outputs": [],
   "source": [
    "regressor = DecisionTreeRegressor()\n",
    "RMSEs, MAEs = evaluate_users(users_for_test, user_item_all_features[final_item_features], regressor)"
   ]
  },
  {
   "cell_type": "code",
   "execution_count": 58,
   "id": "b0153da2",
   "metadata": {},
   "outputs": [
    {
     "name": "stdout",
     "output_type": "stream",
     "text": [
      "RMSE: 1.51  | MAE: 1.24\n"
     ]
    }
   ],
   "source": [
    "avg_RMSE = np.mean(RMSEs)\n",
    "avg_MAE = np.mean(MAEs)\n",
    "print('RMSE:',round(avg_RMSE,2), ' | MAE:',round(avg_MAE,2))"
   ]
  },
  {
   "cell_type": "code",
   "execution_count": 59,
   "id": "c9edfa8c",
   "metadata": {},
   "outputs": [],
   "source": [
    "regressor = XGBRegressor()\n",
    "RMSEs, MAEs = evaluate_users(users_for_test, user_item_all_features[final_item_features], regressor)"
   ]
  },
  {
   "cell_type": "code",
   "execution_count": 60,
   "id": "9b60eb8d",
   "metadata": {},
   "outputs": [
    {
     "name": "stdout",
     "output_type": "stream",
     "text": [
      "RMSE: 1.33  | MAE: 1.11\n"
     ]
    }
   ],
   "source": [
    "avg_RMSE = np.mean(RMSEs)\n",
    "avg_MAE = np.mean(MAEs)\n",
    "print('RMSE:',round(avg_RMSE,2), ' | MAE:',round(avg_MAE,2))"
   ]
  },
  {
   "cell_type": "markdown",
   "id": "52061535",
   "metadata": {},
   "source": [
    "## Coverage"
   ]
  },
  {
   "cell_type": "markdown",
   "id": "c76ce9ea",
   "metadata": {},
   "source": [
    "### User Coverage"
   ]
  },
  {
   "cell_type": "code",
   "execution_count": 61,
   "id": "f66c884c",
   "metadata": {},
   "outputs": [
    {
     "data": {
      "text/plain": [
       "'12.43%'"
      ]
     },
     "execution_count": 61,
     "metadata": {},
     "output_type": "execute_result"
    }
   ],
   "source": [
    "user_coverage = len(user_item_complete['user'].unique())/num_users*100\n",
    "str(round(user_coverage,2))+'%'"
   ]
  },
  {
   "cell_type": "markdown",
   "id": "b76d4af1",
   "metadata": {},
   "source": [
    "### Item coverage"
   ]
  },
  {
   "cell_type": "code",
   "execution_count": 62,
   "id": "b5e6fda7",
   "metadata": {},
   "outputs": [
    {
     "name": "stdout",
     "output_type": "stream",
     "text": [
      "10.0 %\n",
      "20.0 %\n",
      "30.0 %\n",
      "40.0 %\n",
      "50.0 %\n",
      "60.0 %\n",
      "70.0 %\n",
      "80.0 %\n",
      "90.0 %\n",
      "100.0 %\n"
     ]
    }
   ],
   "source": [
    "n = 10\n",
    "items_recommended = []\n",
    "users_for_coverage = random.sample(tuple(all_user_names),100)\n",
    "i = 0\n",
    "for u in users_for_coverage:\n",
    "    i+=1\n",
    "    if i%10==0:\n",
    "        print(i/len(users_for_coverage)*100,'%')\n",
    "    items_recommended.append(produce_recommendations(u, user_item_all_features[final_item_features], DecisionTreeRegressor()))"
   ]
  },
  {
   "cell_type": "code",
   "execution_count": 63,
   "id": "5c15727d",
   "metadata": {},
   "outputs": [],
   "source": [
    "items_recommended_df = pd.concat(items_recommended)"
   ]
  },
  {
   "cell_type": "code",
   "execution_count": 65,
   "id": "e8d519c0",
   "metadata": {},
   "outputs": [
    {
     "data": {
      "text/html": [
       "<div>\n",
       "<style scoped>\n",
       "    .dataframe tbody tr th:only-of-type {\n",
       "        vertical-align: middle;\n",
       "    }\n",
       "\n",
       "    .dataframe tbody tr th {\n",
       "        vertical-align: top;\n",
       "    }\n",
       "\n",
       "    .dataframe thead th {\n",
       "        text-align: right;\n",
       "    }\n",
       "</style>\n",
       "<table border=\"1\" class=\"dataframe\">\n",
       "  <thead>\n",
       "    <tr style=\"text-align: right;\">\n",
       "      <th></th>\n",
       "      <th>Cat:Childrens</th>\n",
       "      <th>Cat:Strategy</th>\n",
       "      <th>Cat:War</th>\n",
       "      <th>BestPlayers</th>\n",
       "      <th>ComAgeRec</th>\n",
       "      <th>GameWeight</th>\n",
       "      <th>IsReimplementation</th>\n",
       "      <th>Kickstarted</th>\n",
       "      <th>MfgAgeRec</th>\n",
       "      <th>MinPlayers</th>\n",
       "      <th>...</th>\n",
       "      <th>NumWeightVotes</th>\n",
       "      <th>Rank:boardgame</th>\n",
       "      <th>Rank:childrensgames</th>\n",
       "      <th>Rank:strategygames</th>\n",
       "      <th>Rank:thematic</th>\n",
       "      <th>Rank:wargames</th>\n",
       "      <th>predictions</th>\n",
       "      <th>user</th>\n",
       "      <th>rating</th>\n",
       "      <th>item</th>\n",
       "    </tr>\n",
       "  </thead>\n",
       "  <tbody>\n",
       "    <tr>\n",
       "      <th>193417</th>\n",
       "      <td>0</td>\n",
       "      <td>0</td>\n",
       "      <td>0</td>\n",
       "      <td>4</td>\n",
       "      <td>12.611111</td>\n",
       "      <td>3.0118</td>\n",
       "      <td>0</td>\n",
       "      <td>0</td>\n",
       "      <td>13</td>\n",
       "      <td>2</td>\n",
       "      <td>...</td>\n",
       "      <td>1524</td>\n",
       "      <td>141</td>\n",
       "      <td>21926</td>\n",
       "      <td>21926</td>\n",
       "      <td>50</td>\n",
       "      <td>21926</td>\n",
       "      <td>10.0</td>\n",
       "      <td>dennislaumen</td>\n",
       "      <td>6.0</td>\n",
       "      <td>150376</td>\n",
       "    </tr>\n",
       "    <tr>\n",
       "      <th>474466</th>\n",
       "      <td>0</td>\n",
       "      <td>0</td>\n",
       "      <td>0</td>\n",
       "      <td>2</td>\n",
       "      <td>13.260870</td>\n",
       "      <td>2.6824</td>\n",
       "      <td>0</td>\n",
       "      <td>0</td>\n",
       "      <td>13</td>\n",
       "      <td>1</td>\n",
       "      <td>...</td>\n",
       "      <td>592</td>\n",
       "      <td>107</td>\n",
       "      <td>21926</td>\n",
       "      <td>21926</td>\n",
       "      <td>33</td>\n",
       "      <td>21926</td>\n",
       "      <td>10.0</td>\n",
       "      <td>DCjams</td>\n",
       "      <td>8.0</td>\n",
       "      <td>2511</td>\n",
       "    </tr>\n",
       "    <tr>\n",
       "      <th>382295</th>\n",
       "      <td>0</td>\n",
       "      <td>0</td>\n",
       "      <td>0</td>\n",
       "      <td>4</td>\n",
       "      <td>9.715909</td>\n",
       "      <td>2.3273</td>\n",
       "      <td>0</td>\n",
       "      <td>0</td>\n",
       "      <td>10</td>\n",
       "      <td>2</td>\n",
       "      <td>...</td>\n",
       "      <td>1503</td>\n",
       "      <td>207</td>\n",
       "      <td>21926</td>\n",
       "      <td>21926</td>\n",
       "      <td>70</td>\n",
       "      <td>21926</td>\n",
       "      <td>10.0</td>\n",
       "      <td>kristopherjwolff</td>\n",
       "      <td>10.0</td>\n",
       "      <td>31481</td>\n",
       "    </tr>\n",
       "    <tr>\n",
       "      <th>23905</th>\n",
       "      <td>0</td>\n",
       "      <td>1</td>\n",
       "      <td>0</td>\n",
       "      <td>4</td>\n",
       "      <td>11.353659</td>\n",
       "      <td>2.8336</td>\n",
       "      <td>1</td>\n",
       "      <td>0</td>\n",
       "      <td>13</td>\n",
       "      <td>2</td>\n",
       "      <td>...</td>\n",
       "      <td>1226</td>\n",
       "      <td>2</td>\n",
       "      <td>21926</td>\n",
       "      <td>3</td>\n",
       "      <td>2</td>\n",
       "      <td>21926</td>\n",
       "      <td>10.0</td>\n",
       "      <td>pastatistician</td>\n",
       "      <td>10.0</td>\n",
       "      <td>161936</td>\n",
       "    </tr>\n",
       "    <tr>\n",
       "      <th>1187266</th>\n",
       "      <td>0</td>\n",
       "      <td>1</td>\n",
       "      <td>0</td>\n",
       "      <td>4</td>\n",
       "      <td>13.670732</td>\n",
       "      <td>3.1915</td>\n",
       "      <td>0</td>\n",
       "      <td>0</td>\n",
       "      <td>13</td>\n",
       "      <td>3</td>\n",
       "      <td>...</td>\n",
       "      <td>898</td>\n",
       "      <td>138</td>\n",
       "      <td>21926</td>\n",
       "      <td>110</td>\n",
       "      <td>34</td>\n",
       "      <td>21926</td>\n",
       "      <td>10.0</td>\n",
       "      <td>barci</td>\n",
       "      <td>8.0</td>\n",
       "      <td>43111</td>\n",
       "    </tr>\n",
       "    <tr>\n",
       "      <th>...</th>\n",
       "      <td>...</td>\n",
       "      <td>...</td>\n",
       "      <td>...</td>\n",
       "      <td>...</td>\n",
       "      <td>...</td>\n",
       "      <td>...</td>\n",
       "      <td>...</td>\n",
       "      <td>...</td>\n",
       "      <td>...</td>\n",
       "      <td>...</td>\n",
       "      <td>...</td>\n",
       "      <td>...</td>\n",
       "      <td>...</td>\n",
       "      <td>...</td>\n",
       "      <td>...</td>\n",
       "      <td>...</td>\n",
       "      <td>...</td>\n",
       "      <td>...</td>\n",
       "      <td>...</td>\n",
       "      <td>...</td>\n",
       "      <td>...</td>\n",
       "    </tr>\n",
       "    <tr>\n",
       "      <th>755970</th>\n",
       "      <td>0</td>\n",
       "      <td>0</td>\n",
       "      <td>0</td>\n",
       "      <td>0</td>\n",
       "      <td>8.800000</td>\n",
       "      <td>2.2115</td>\n",
       "      <td>1</td>\n",
       "      <td>0</td>\n",
       "      <td>12</td>\n",
       "      <td>3</td>\n",
       "      <td>...</td>\n",
       "      <td>52</td>\n",
       "      <td>4273</td>\n",
       "      <td>21926</td>\n",
       "      <td>21926</td>\n",
       "      <td>689</td>\n",
       "      <td>21926</td>\n",
       "      <td>8.0</td>\n",
       "      <td>Baartoszz</td>\n",
       "      <td>6.0</td>\n",
       "      <td>46782</td>\n",
       "    </tr>\n",
       "    <tr>\n",
       "      <th>755971</th>\n",
       "      <td>0</td>\n",
       "      <td>1</td>\n",
       "      <td>0</td>\n",
       "      <td>0</td>\n",
       "      <td>10.500000</td>\n",
       "      <td>1.8154</td>\n",
       "      <td>0</td>\n",
       "      <td>0</td>\n",
       "      <td>10</td>\n",
       "      <td>1</td>\n",
       "      <td>...</td>\n",
       "      <td>65</td>\n",
       "      <td>12778</td>\n",
       "      <td>21926</td>\n",
       "      <td>2211</td>\n",
       "      <td>21926</td>\n",
       "      <td>21926</td>\n",
       "      <td>8.0</td>\n",
       "      <td>Baartoszz</td>\n",
       "      <td>4.0</td>\n",
       "      <td>3921</td>\n",
       "    </tr>\n",
       "    <tr>\n",
       "      <th>200919</th>\n",
       "      <td>0</td>\n",
       "      <td>0</td>\n",
       "      <td>0</td>\n",
       "      <td>4</td>\n",
       "      <td>6.540146</td>\n",
       "      <td>1.6638</td>\n",
       "      <td>0</td>\n",
       "      <td>0</td>\n",
       "      <td>10</td>\n",
       "      <td>1</td>\n",
       "      <td>...</td>\n",
       "      <td>690</td>\n",
       "      <td>1098</td>\n",
       "      <td>21926</td>\n",
       "      <td>21926</td>\n",
       "      <td>21926</td>\n",
       "      <td>21926</td>\n",
       "      <td>8.0</td>\n",
       "      <td>ianoble</td>\n",
       "      <td>5.0</td>\n",
       "      <td>43443</td>\n",
       "    </tr>\n",
       "    <tr>\n",
       "      <th>435885</th>\n",
       "      <td>0</td>\n",
       "      <td>1</td>\n",
       "      <td>0</td>\n",
       "      <td>0</td>\n",
       "      <td>9.200000</td>\n",
       "      <td>1.7196</td>\n",
       "      <td>0</td>\n",
       "      <td>0</td>\n",
       "      <td>10</td>\n",
       "      <td>2</td>\n",
       "      <td>...</td>\n",
       "      <td>107</td>\n",
       "      <td>5374</td>\n",
       "      <td>21926</td>\n",
       "      <td>1787</td>\n",
       "      <td>21926</td>\n",
       "      <td>21926</td>\n",
       "      <td>8.0</td>\n",
       "      <td>61erhans</td>\n",
       "      <td>4.0</td>\n",
       "      <td>4610</td>\n",
       "    </tr>\n",
       "    <tr>\n",
       "      <th>1058509</th>\n",
       "      <td>0</td>\n",
       "      <td>0</td>\n",
       "      <td>0</td>\n",
       "      <td>0</td>\n",
       "      <td>9.500000</td>\n",
       "      <td>1.4000</td>\n",
       "      <td>0</td>\n",
       "      <td>0</td>\n",
       "      <td>8</td>\n",
       "      <td>4</td>\n",
       "      <td>...</td>\n",
       "      <td>35</td>\n",
       "      <td>1466</td>\n",
       "      <td>21926</td>\n",
       "      <td>21926</td>\n",
       "      <td>21926</td>\n",
       "      <td>21926</td>\n",
       "      <td>8.0</td>\n",
       "      <td>richa283</td>\n",
       "      <td>7.0</td>\n",
       "      <td>257527</td>\n",
       "    </tr>\n",
       "  </tbody>\n",
       "</table>\n",
       "<p>602 rows × 29 columns</p>\n",
       "</div>"
      ],
      "text/plain": [
       "         Cat:Childrens  Cat:Strategy  Cat:War  BestPlayers  ComAgeRec  \\\n",
       "193417               0             0        0            4  12.611111   \n",
       "474466               0             0        0            2  13.260870   \n",
       "382295               0             0        0            4   9.715909   \n",
       "23905                0             1        0            4  11.353659   \n",
       "1187266              0             1        0            4  13.670732   \n",
       "...                ...           ...      ...          ...        ...   \n",
       "755970               0             0        0            0   8.800000   \n",
       "755971               0             1        0            0  10.500000   \n",
       "200919               0             0        0            4   6.540146   \n",
       "435885               0             1        0            0   9.200000   \n",
       "1058509              0             0        0            0   9.500000   \n",
       "\n",
       "         GameWeight  IsReimplementation  Kickstarted  MfgAgeRec  MinPlayers  \\\n",
       "193417       3.0118                   0            0         13           2   \n",
       "474466       2.6824                   0            0         13           1   \n",
       "382295       2.3273                   0            0         10           2   \n",
       "23905        2.8336                   1            0         13           2   \n",
       "1187266      3.1915                   0            0         13           3   \n",
       "...             ...                 ...          ...        ...         ...   \n",
       "755970       2.2115                   1            0         12           3   \n",
       "755971       1.8154                   0            0         10           1   \n",
       "200919       1.6638                   0            0         10           1   \n",
       "435885       1.7196                   0            0         10           2   \n",
       "1058509      1.4000                   0            0          8           4   \n",
       "\n",
       "         ...  NumWeightVotes  Rank:boardgame  Rank:childrensgames  \\\n",
       "193417   ...            1524             141                21926   \n",
       "474466   ...             592             107                21926   \n",
       "382295   ...            1503             207                21926   \n",
       "23905    ...            1226               2                21926   \n",
       "1187266  ...             898             138                21926   \n",
       "...      ...             ...             ...                  ...   \n",
       "755970   ...              52            4273                21926   \n",
       "755971   ...              65           12778                21926   \n",
       "200919   ...             690            1098                21926   \n",
       "435885   ...             107            5374                21926   \n",
       "1058509  ...              35            1466                21926   \n",
       "\n",
       "         Rank:strategygames  Rank:thematic  Rank:wargames  predictions  \\\n",
       "193417                21926             50          21926         10.0   \n",
       "474466                21926             33          21926         10.0   \n",
       "382295                21926             70          21926         10.0   \n",
       "23905                     3              2          21926         10.0   \n",
       "1187266                 110             34          21926         10.0   \n",
       "...                     ...            ...            ...          ...   \n",
       "755970                21926            689          21926          8.0   \n",
       "755971                 2211          21926          21926          8.0   \n",
       "200919                21926          21926          21926          8.0   \n",
       "435885                 1787          21926          21926          8.0   \n",
       "1058509               21926          21926          21926          8.0   \n",
       "\n",
       "                     user  rating    item  \n",
       "193417       dennislaumen     6.0  150376  \n",
       "474466             DCjams     8.0    2511  \n",
       "382295   kristopherjwolff    10.0   31481  \n",
       "23905      pastatistician    10.0  161936  \n",
       "1187266             barci     8.0   43111  \n",
       "...                   ...     ...     ...  \n",
       "755970          Baartoszz     6.0   46782  \n",
       "755971          Baartoszz     4.0    3921  \n",
       "200919            ianoble     5.0   43443  \n",
       "435885           61erhans     4.0    4610  \n",
       "1058509          richa283     7.0  257527  \n",
       "\n",
       "[602 rows x 29 columns]"
      ]
     },
     "execution_count": 65,
     "metadata": {},
     "output_type": "execute_result"
    }
   ],
   "source": [
    "items_recommended_df.drop_duplicates(subset=['item'])"
   ]
  },
  {
   "cell_type": "markdown",
   "id": "a97529b7",
   "metadata": {},
   "source": [
    "# Generating Explanations"
   ]
  },
  {
   "cell_type": "code",
   "execution_count": null,
   "id": "c9df559a",
   "metadata": {},
   "outputs": [
    {
     "data": {
      "text/plain": [
       "'TeamAE2L'"
      ]
     },
     "execution_count": 259,
     "metadata": {},
     "output_type": "execute_result"
    }
   ],
   "source": [
    "random_user = random.sample(list(all_user_names), 1)[0]\n",
    "random_user"
   ]
  },
  {
   "cell_type": "code",
   "execution_count": null,
   "id": "25f55668",
   "metadata": {},
   "outputs": [],
   "source": [
    "tree_regressor = DecisionTreeRegressor(random_state=42)"
   ]
  },
  {
   "cell_type": "code",
   "execution_count": null,
   "id": "23a8b699",
   "metadata": {},
   "outputs": [],
   "source": [
    "X, y = generate_Xy_for_user(random_user, user_item_all_features[final_item_features])\n",
    "\n",
    "train_X, test_X, train_y, test_y = train_test_split(X,y, test_size=0.2, random_state=42)\n",
    "tree_regressor.fit(train_X, train_y)\n",
    "predicted_y = tree_regressor.predict(test_X)\n",
    "\n",
    "item_ratings = test_y.to_frame().copy()\n",
    "item_ratings['predicted'] = predicted_y\n",
    "        \n",
    "RMSE = ((item_ratings['rating']-item_ratings['predicted'])**2).mean(0)**0.5\n",
    "MAE = (abs(item_ratings['rating']-item_ratings['predicted'])).mean(0)"
   ]
  },
  {
   "cell_type": "code",
   "execution_count": null,
   "id": "a5b3876f",
   "metadata": {},
   "outputs": [],
   "source": [
    "interacted_items = user_item_complete[user_item_complete.index.isin(X.index)]"
   ]
  },
  {
   "cell_type": "code",
   "execution_count": null,
   "id": "039111d3",
   "metadata": {},
   "outputs": [],
   "source": [
    "test_items = user_item_complete[user_item_complete.index.isin(test_X.index)]"
   ]
  },
  {
   "cell_type": "code",
   "execution_count": null,
   "id": "998d974c",
   "metadata": {},
   "outputs": [],
   "source": [
    "# text_representation = tree.export_text(tree_regressor)\n",
    "# print(text_representation)"
   ]
  },
  {
   "cell_type": "code",
   "execution_count": null,
   "id": "d807931e",
   "metadata": {},
   "outputs": [
    {
     "data": {
      "image/png": "[encoded data removed]",
      "text/plain": [
       "<Figure size 1440x720 with 1 Axes>"
      ]
     },
     "metadata": {
      "needs_background": "light"
     },
     "output_type": "display_data"
    }
   ],
   "source": [
    "# Plot the decision tree\n",
    "plt.figure(figsize=(20,10))\n",
    "tree.plot_tree(tree_regressor, filled=True, feature_names=X.columns,node_ids=True)\n",
    "plt.show()"
   ]
  },
  {
   "cell_type": "code",
   "execution_count": null,
   "id": "dfc992b7",
   "metadata": {},
   "outputs": [
    {
     "name": "stderr",
     "output_type": "stream",
     "text": [
      "/Library/Frameworks/Python.framework/Versions/3.10/lib/python3.10/site-packages/sklearn/base.py:439: UserWarning: X does not have valid feature names, but DecisionTreeRegressor was fitted with feature names\n",
      "  warnings.warn(\n"
     ]
    },
    {
     "data": {
      "text/plain": [
       "['ComAgeRec', 'Rank:wargames', 'Rank:thematic']"
      ]
     },
     "execution_count": 266,
     "metadata": {},
     "output_type": "execute_result"
    }
   ],
   "source": [
    "# calculate feature importances for a prediction\n",
    "\n",
    "# select features used to create a prediction\n",
    "decision_path = tree_regressor.decision_path([test_X.iloc[0,:]])\n",
    "node_indices = decision_path.indices\n",
    "feature_indices = tree_regressor.tree_.feature\n",
    "feature_names = test_X.columns  # Replace with your actual feature names\n",
    "used_features = [feature_names[i] for i in feature_indices[node_indices] if i > 0]\n",
    "used_features"
   ]
  },
  {
   "cell_type": "code",
   "execution_count": null,
   "id": "904cfd5c",
   "metadata": {},
   "outputs": [],
   "source": [
    "def get_features_sorted(selected_featurenames, feature_names, feature_importances):\n",
    "    # Create a list of tuples (feature_name, feature_importance)\n",
    "    feature_importance_tuples = list(zip(feature_names, feature_importances))\n",
    "    \n",
    "    # Sort the list of tuples by feature importance in descending order\n",
    "    sorted_features = sorted(feature_importance_tuples, key=lambda x: x[1], reverse=True)\n",
    "    sorted_features = [s for s in sorted_features if s[0] in selected_featurenames]\n",
    "    return sorted_features"
   ]
  },
  {
   "cell_type": "code",
   "execution_count": null,
   "id": "e3c5165e",
   "metadata": {},
   "outputs": [
    {
     "data": {
      "text/plain": [
       "[('ComAgeRec', 0.721140350877194),\n",
       " ('Rank:wargames', 0.11723684210526206),\n",
       " ('Rank:thematic', 0.021710526315789437)]"
      ]
     },
     "execution_count": 268,
     "metadata": {},
     "output_type": "execute_result"
    }
   ],
   "source": [
    "get_features_sorted(used_features, test_X.columns, tree_regressor.feature_importances_)"
   ]
  },
  {
   "cell_type": "code",
   "execution_count": null,
   "id": "2923eab2",
   "metadata": {},
   "outputs": [
    {
     "name": "stdout",
     "output_type": "stream",
     "text": [
      "decision node 0 : X_test[0,4]\n",
      "decision node 8 : X_test[8,19]\n",
      "decision node 10 : X_test[10,18]\n"
     ]
    },
    {
     "name": "stderr",
     "output_type": "stream",
     "text": [
      "/Library/Frameworks/Python.framework/Versions/3.10/lib/python3.10/site-packages/sklearn/base.py:439: UserWarning: X does not have valid feature names, but DecisionTreeRegressor was fitted with feature names\n",
      "  warnings.warn(\n"
     ]
    }
   ],
   "source": [
    "node_indicator = decision_path\n",
    "leaf_id = tree_regressor.apply([test_X.iloc[0,:]])\n",
    "for node_id in node_indices:\n",
    "    # continue to the next node if it is a leaf node\n",
    "    # if leaf_id[sample_id] == node_id:\n",
    "    #     continue\n",
    "    if node_id==leaf_id:\n",
    "        continue\n",
    "    \n",
    "    print(\n",
    "        \"decision node {node} : X_test[{sample},{feature}]\".format(\n",
    "            node=node_id,\n",
    "            sample=node_id,\n",
    "            feature=feature_indices[node_id],\n",
    "        )\n",
    "    )\n"
   ]
  },
  {
   "cell_type": "markdown",
   "id": "bb126994",
   "metadata": {},
   "source": [
    "### Showcase"
   ]
  },
  {
   "cell_type": "code",
   "execution_count": null,
   "id": "e003bacd",
   "metadata": {},
   "outputs": [
    {
     "name": "stdout",
     "output_type": "stream",
     "text": [
      "Username: Steeledragon | Number of interactions: 24\n"
     ]
    }
   ],
   "source": [
    "user = random.sample(list(all_user_names), num_users_test)[0]\n",
    "X, y = generate_Xy_for_user(user, user_item_all_features[final_item_features])\n",
    "print(f\"Username: {user} | Number of interactions: {X.shape[0]}\")"
   ]
  },
  {
   "cell_type": "code",
   "execution_count": null,
   "id": "b746330d",
   "metadata": {},
   "outputs": [],
   "source": [
    "# train a tree\n",
    "train_X, test_X, train_y, test_y = train_test_split(X,y, test_size=0.2, random_state=42)\n",
    "tree_regressor.fit(train_X, train_y)\n",
    "predicted_y = tree_regressor.predict(test_X)\n",
    "\n",
    "item_ratings = test_y.to_frame().copy()\n",
    "item_ratings['predicted'] = predicted_y\n",
    "        \n",
    "RMSE = ((item_ratings['rating']-item_ratings['predicted'])**2).mean(0)**0.5\n",
    "MAE = (abs(item_ratings['rating']-item_ratings['predicted'])).mean(0)\n",
    "\n",
    "interacted_items = user_item_complete[user_item_complete.index.isin(X.index)]\n",
    "test_items = user_item_complete[user_item_complete.index.isin(test_X.index)]\n",
    "important_features = ['Name']+final_item_features"
   ]
  },
  {
   "cell_type": "code",
   "execution_count": null,
   "id": "a2b8142a",
   "metadata": {},
   "outputs": [],
   "source": [
    "def explain_prediction(item_data, test_X, tree_reg, k=3):\n",
    "    \"\"\" will explain the recommendation using top k important features for the particular item\"\"\"\n",
    "    item_id = item_data.name\n",
    "    item_Name = item_data.Name\n",
    "    test_ids = test_X.index\n",
    "    if item_id not in test_ids:\n",
    "        return \"No such item in the test set\"\n",
    "    \n",
    "    decision_path = tree_regressor.decision_path([test_X.loc[item_id,:]])\n",
    "    node_indices = decision_path.indices\n",
    "    feature_indices = tree_regressor.tree_.feature\n",
    "    feature_names = test_X.columns \n",
    "    #print(feature_names)\n",
    "    used_features = [feature_names[i] for i in feature_indices[node_indices] if i > 0]\n",
    "    # print(used_features)\n",
    "    selected_features = get_features_sorted(used_features, feature_names, tree_regressor.feature_importances_)\n",
    "    # print(selected_features)\n",
    "    \n",
    "    explaining_fs = []\n",
    "    for f in selected_features:\n",
    "        explaining_fs.append(f[0])\n",
    "    \n",
    "    #print(selected_features)\n",
    "    k = min(len(explaining_fs), k)\n",
    "        \n",
    "    if len(explaining_fs):\n",
    "        # return f\"The game '{item_Name}' is recommended to you because you like games in the following categories: {', '.join(explaining_fs)}\"\n",
    "        return explaining_fs[:k], item_Name"
   ]
  },
  {
   "cell_type": "code",
   "execution_count": null,
   "id": "5145eb7c",
   "metadata": {},
   "outputs": [
    {
     "data": {
      "text/plain": [
       "['item',\n",
       " 'user',\n",
       " 'rating',\n",
       " 'Cat:Childrens',\n",
       " 'Cat:Strategy',\n",
       " 'Cat:War',\n",
       " 'BestPlayers',\n",
       " 'ComAgeRec',\n",
       " 'GameWeight',\n",
       " 'IsReimplementation',\n",
       " 'Kickstarted',\n",
       " 'MfgAgeRec',\n",
       " 'MinPlayers',\n",
       " 'NumExpansions',\n",
       " 'NumImplementations',\n",
       " 'NumOwned',\n",
       " 'NumWant',\n",
       " 'NumWeightVotes',\n",
       " 'Rank:boardgame',\n",
       " 'Rank:childrensgames',\n",
       " 'Rank:strategygames',\n",
       " 'Rank:thematic',\n",
       " 'Rank:wargames']"
      ]
     },
     "execution_count": 282,
     "metadata": {},
     "output_type": "execute_result"
    }
   ],
   "source": [
    "final_item_features"
   ]
  },
  {
   "cell_type": "code",
   "execution_count": null,
   "id": "6164ba07",
   "metadata": {},
   "outputs": [
    {
     "name": "stderr",
     "output_type": "stream",
     "text": [
      "/Library/Frameworks/Python.framework/Versions/3.10/lib/python3.10/site-packages/sklearn/base.py:439: UserWarning: X does not have valid feature names, but DecisionTreeRegressor was fitted with feature names\n",
      "  warnings.warn(\n"
     ]
    },
    {
     "data": {
      "text/plain": [
       "(['NumWant', 'NumOwned'], 'Hannibal: Rome vs. Carthage')"
      ]
     },
     "execution_count": 285,
     "metadata": {},
     "output_type": "execute_result"
    }
   ],
   "source": [
    "item = test_items[important_features].sample(1).iloc[0]\n",
    "exp_fs,gname = explain_prediction(item, test_X, tree_regressor, k=3)\n",
    "exp_fs,gname"
   ]
  },
  {
   "cell_type": "code",
   "execution_count": null,
   "id": "78eab8ea",
   "metadata": {},
   "outputs": [],
   "source": [
    "from explanations import cat_fs, num_fs, rank_fs, other_fs, connectors\n",
    "\n",
    "def write_explanation(explanation_fs, game_name):\n",
    "    print(f'INPUT: Features: {explanation_fs}, game: [{game_name}]')\n",
    "    rank_exp = 'we noticed that you like board games ranked high in the '\n",
    "    num_exp = 'we found that you like board games which'\n",
    "    cat_exp = 'we observed that you like board games in '\n",
    "    other_exp = 'we spotted that you put a lot of emphasis on '\n",
    "    connector = ''\n",
    "    count = 0\n",
    "    \n",
    "    explanation = f'The game {game_name} is recommended to you because '\n",
    "    \n",
    "    # rank explanation\n",
    "    rank_active_exps = [rank_fs[f] for f in explanation_fs if f in rank_fs.keys()]\n",
    "    if len(rank_active_exps) > 1:\n",
    "        explanation += rank_exp + ', '.join(rank_active_exps) + ' rankings.\\n'\n",
    "        count += 1\n",
    "    elif len(rank_active_exps) == 1:\n",
    "        explanation += rank_exp + rank_active_exps[0] + ' ranking.\\n'\n",
    "        count += 1\n",
    "        \n",
    "    # count explanation\n",
    "    num_active_exps = [num_fs[f] for f in explanation_fs if f in num_fs.keys()]\n",
    "    if len(num_active_exps) > 1:\n",
    "        explanation += connectors[count] + num_exp + ', '.join(num_active_exps) + ' .\\n'\n",
    "        count += 1\n",
    "    elif len(num_active_exps) == 1:\n",
    "        explanation += connectors[count] + num_exp + num_active_exps[0] + ' .\\n'\n",
    "        count += 1\n",
    "        \n",
    "    # category explanations\n",
    "    cat_active_exps = [cat_fs[f] for f in explanation_fs if f in cat_fs.keys()]\n",
    "    if len(cat_active_exps) > 1:\n",
    "        explanation += connectors[count] + cat_exp + ', '.join(cat_active_exps) + ' categories.\\n'\n",
    "        count += 1\n",
    "    elif len(cat_active_exps) == 1:\n",
    "        explanation += connectors[count] + cat_exp + cat_active_exps[0] + ' category.\\n'\n",
    "        count += 1\n",
    "    \n",
    "    other_active_exps = [other_fs[f] for f in explanation_fs if f in other_fs.keys()]\n",
    "    if len(other_active_exps) > 1:\n",
    "        explanation += connectors[count] + other_exp  + ', '.join(other_active_exps) + ' when selecting games.\\n'\n",
    "    elif len(other_active_exps) == 1:\n",
    "        explanation += connectors[count] + other_exp + other_active_exps[0] + ' when selecting games.\\n'\n",
    "        \n",
    "    return explanation    "
   ]
  },
  {
   "cell_type": "code",
   "execution_count": null,
   "id": "3e061489",
   "metadata": {},
   "outputs": [
    {
     "name": "stdout",
     "output_type": "stream",
     "text": [
      "INPUT: Features: ['NumWant', 'NumOwned'], game: [Hannibal: Rome vs. Carthage]\n",
      "The game Hannibal: Rome vs. Carthage is recommended to you because we found that you like board games whichwhich are wanted by many other users, which are owned by many other users .\n",
      "\n"
     ]
    }
   ],
   "source": [
    "print(write_explanation(exp_fs, gname))"
   ]
  },
  {
   "cell_type": "markdown",
   "id": "1333f560",
   "metadata": {},
   "source": [
    "Ex1: \n",
    "```\n",
    "INPUT: Features: ['NumWant', 'MfgAgeRec', 'GameWeight'], game: [Codenames: Pictures]\n",
    "The game Codenames: Pictures is recommended to you because we found that you like board games which are wanted by many other users .\n",
    "Also, we spotted that you put a lot of emphasis on the recommended age indicated by the manufacturer, easiness/difficulty of a game when selecting games.\n",
    "```\n",
    "\n",
    "Ex2:\n",
    "```\n",
    "INPUT: Features: ['NumWant', 'MfgAgeRec', 'GameWeight'], game: [Viticulture]\n",
    "The game Viticulture is recommended to you because we found that you like board games which are wanted by many other users .\n",
    "Also, we spotted that you put a lot of emphasis on the recommended age indicated by the manufacturer, easiness/difficulty of a game when selecting games.\n",
    "```\n",
    "\n",
    "Ex3:\n",
    "```\n",
    "INPUT: Features: ['NumWant', 'MfgAgeRec', 'Cat:War'], game: [Brotherhood & Unity]\n",
    "The game Brotherhood & Unity is recommended to you because we found that you like board games which are wanted by many other users .\n",
    "Also, we observed that you like board games in war category.\n",
    "At the same time, we spotted that you put a lot of emphasis on the recommended age indicated by the manufacturer when selecting games.\n",
    "```"
   ]
  },
  {
   "cell_type": "markdown",
   "id": "fce93764",
   "metadata": {},
   "source": []
  },
  {
   "cell_type": "markdown",
   "id": "fa500b31",
   "metadata": {},
   "source": []
  }
 ],
 "metadata": {
  "kernelspec": {
   "display_name": "Python 3 (ipykernel)",
   "language": "python",
   "name": "python3"
  },
  "language_info": {
   "codemirror_mode": {
    "name": "ipython",
    "version": 3
   },
   "file_extension": ".py",
   "mimetype": "text/x-python",
   "name": "python",
   "nbconvert_exporter": "python",
   "pygments_lexer": "ipython3",
   "version": "3.10.0"
  }
 },
 "nbformat": 4,
 "nbformat_minor": 5
}
