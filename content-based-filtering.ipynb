{
 "cells": [
  {
   "cell_type": "markdown",
   "id": "cfcc6604",
   "metadata": {
    "scrolled": false
   },
   "source": [
    "### Implementation of Content-based Filtering"
   ]
  },
  {
   "cell_type": "code",
   "execution_count": 1,
   "id": "7de99a34",
   "metadata": {},
   "outputs": [],
   "source": [
    "import pandas as pd\n",
    "import numpy as np\n",
    "import time\n",
    "import math\n",
    "from math import sqrt\n",
    "import random\n",
    "import matplotlib.pyplot as plt\n",
    "import seaborn as sns\n",
    "import plotly.express as px\n",
    "from scipy.stats import pearsonr\n",
    "from scipy.sparse import csr_matrix\n",
    "from xgboost import XGBRegressor\n",
    "import pickle\n",
    "\n",
    "from sklearn.manifold import TSNE\n",
    "from sklearn.model_selection import train_test_split\n",
    "from sklearn.svm import SVR\n",
    "from sklearn.preprocessing import StandardScaler\n",
    "from sklearn.metrics import mean_squared_error\n",
    "from sklearn.metrics import mean_absolute_error\n",
    "from sklearn.tree import DecisionTreeRegressor\n",
    "from sklearn import tree\n",
    "random.seed(42)\n"
   ]
  },
  {
   "cell_type": "code",
   "execution_count": 2,
   "id": "c90a4fbd",
   "metadata": {},
   "outputs": [],
   "source": [
    "data_folder = 'data/'\n",
    "user_item_ratings_reduced = pd.read_csv(f'{data_folder}user_ratings_reduced.csv')\n",
    "user_item_ratings_reduced = user_item_ratings_reduced.drop(columns=[\"Unnamed: 0\"])\n",
    "item_ratings_df = pd.read_csv(data_folder + 'user_ratings.csv')\n",
    "item_info = pd.read_csv(data_folder + 'games.csv')\n",
    "item_mecahnics = pd.read_csv(data_folder + 'mechanics.csv')\n",
    "item_subcategories = pd.read_csv(data_folder + 'subcategories.csv')\n",
    "item_themes = pd.read_csv(data_folder + 'themes.csv')"
   ]
  },
  {
   "cell_type": "code",
   "execution_count": 3,
   "id": "eb6077c8",
   "metadata": {},
   "outputs": [],
   "source": [
    "# user_item_ratings_reduced['rating'] = user_item_ratings_reduced['rating'].round(0).astype(int)"
   ]
  },
  {
   "cell_type": "code",
   "execution_count": 4,
   "id": "787c0d6d",
   "metadata": {},
   "outputs": [],
   "source": [
    "user_item_rating_count = user_item_ratings_reduced.groupby('user').count()"
   ]
  },
  {
   "cell_type": "code",
   "execution_count": 5,
   "id": "edbda74f",
   "metadata": {},
   "outputs": [],
   "source": [
    "min_rating_count = 10\n",
    "user_rating_count = user_item_rating_count[user_item_rating_count['rating'] >= min_rating_count]\n",
    "user_list_filtered = list(user_rating_count.index)\n",
    "user_item_ratings_filtered = user_item_ratings_reduced[user_item_ratings_reduced['user'].isin(user_list_filtered)]"
   ]
  },
  {
   "cell_type": "code",
   "execution_count": 6,
   "id": "47e19bb9",
   "metadata": {},
   "outputs": [
    {
     "data": {
      "text/html": [
       "<div>\n",
       "<style scoped>\n",
       "    .dataframe tbody tr th:only-of-type {\n",
       "        vertical-align: middle;\n",
       "    }\n",
       "\n",
       "    .dataframe tbody tr th {\n",
       "        vertical-align: top;\n",
       "    }\n",
       "\n",
       "    .dataframe thead th {\n",
       "        text-align: right;\n",
       "    }\n",
       "</style>\n",
       "<table border=\"1\" class=\"dataframe\">\n",
       "  <thead>\n",
       "    <tr style=\"text-align: right;\">\n",
       "      <th></th>\n",
       "      <th>item</th>\n",
       "      <th>rating</th>\n",
       "      <th>user</th>\n",
       "    </tr>\n",
       "  </thead>\n",
       "  <tbody>\n",
       "    <tr>\n",
       "      <th>1</th>\n",
       "      <td>203416</td>\n",
       "      <td>8.0</td>\n",
       "      <td>-=Yod@=-</td>\n",
       "    </tr>\n",
       "    <tr>\n",
       "      <th>2</th>\n",
       "      <td>271896</td>\n",
       "      <td>8.0</td>\n",
       "      <td>-=Yod@=-</td>\n",
       "    </tr>\n",
       "    <tr>\n",
       "      <th>3</th>\n",
       "      <td>38054</td>\n",
       "      <td>6.0</td>\n",
       "      <td>-=Yod@=-</td>\n",
       "    </tr>\n",
       "    <tr>\n",
       "      <th>4</th>\n",
       "      <td>312267</td>\n",
       "      <td>5.0</td>\n",
       "      <td>-=Yod@=-</td>\n",
       "    </tr>\n",
       "    <tr>\n",
       "      <th>5</th>\n",
       "      <td>68448</td>\n",
       "      <td>9.0</td>\n",
       "      <td>-=Yod@=-</td>\n",
       "    </tr>\n",
       "  </tbody>\n",
       "</table>\n",
       "</div>"
      ],
      "text/plain": [
       "     item  rating      user\n",
       "1  203416     8.0  -=Yod@=-\n",
       "2  271896     8.0  -=Yod@=-\n",
       "3   38054     6.0  -=Yod@=-\n",
       "4  312267     5.0  -=Yod@=-\n",
       "5   68448     9.0  -=Yod@=-"
      ]
     },
     "execution_count": 6,
     "metadata": {},
     "output_type": "execute_result"
    }
   ],
   "source": [
    "user_item_ratings_filtered.head()"
   ]
  },
  {
   "cell_type": "markdown",
   "id": "a3cf9602",
   "metadata": {},
   "source": [
    "### Preprocessing"
   ]
  },
  {
   "cell_type": "code",
   "execution_count": 7,
   "id": "00578f2e",
   "metadata": {},
   "outputs": [],
   "source": [
    "# item_ratings_df = pd.read_csv(data_folder + 'user_ratings.csv')\n",
    "# item_info = pd.read_csv(data_folder + 'games.csv')\n",
    "# item_mecahnics = pd.read_csv(data_folder + 'mechanics.csv')\n",
    "# item_subcategories = pd.read_csv(data_folder + 'subcategories.csv')\n",
    "# item_themes = pd.read_csv(data_folder + 'themes.csv')"
   ]
  },
  {
   "cell_type": "code",
   "execution_count": 8,
   "id": "2ac8504c",
   "metadata": {},
   "outputs": [],
   "source": [
    "item_info.rename(columns={'BGGId':'item'},inplace=True)\n",
    "# get comeplete user-catalog data\n",
    "user_item_complete = pd.merge(user_item_ratings_filtered, item_info, on='item', how='inner')\n",
    "# item_info.info() \n",
    "# item_info[['GoodPlayers', 'Family', 'ImagePath']].head()\n",
    "non_numerical_features = ['user','Name','Description', 'item', 'GoodPlayers', 'Family', 'ImagePath']"
   ]
  },
  {
   "cell_type": "code",
   "execution_count": 9,
   "id": "f4d06d3d",
   "metadata": {},
   "outputs": [
    {
     "data": {
      "text/plain": [
       "Index(['item', 'rating', 'user', 'Name', 'Description', 'YearPublished',\n",
       "       'GameWeight', 'AvgRating', 'BayesAvgRating', 'StdDev', 'MinPlayers',\n",
       "       'MaxPlayers', 'ComAgeRec', 'LanguageEase', 'BestPlayers', 'GoodPlayers',\n",
       "       'NumOwned', 'NumWant', 'NumWish', 'NumWeightVotes', 'MfgPlaytime',\n",
       "       'ComMinPlaytime', 'ComMaxPlaytime', 'MfgAgeRec', 'NumUserRatings',\n",
       "       'NumComments', 'NumAlternates', 'NumExpansions', 'NumImplementations',\n",
       "       'IsReimplementation', 'Family', 'Kickstarted', 'ImagePath',\n",
       "       'Rank:boardgame', 'Rank:strategygames', 'Rank:abstracts',\n",
       "       'Rank:familygames', 'Rank:thematic', 'Rank:cgs', 'Rank:wargames',\n",
       "       'Rank:partygames', 'Rank:childrensgames', 'Cat:Thematic',\n",
       "       'Cat:Strategy', 'Cat:War', 'Cat:Family', 'Cat:CGS', 'Cat:Abstract',\n",
       "       'Cat:Party', 'Cat:Childrens'],\n",
       "      dtype='object')"
      ]
     },
     "execution_count": 9,
     "metadata": {},
     "output_type": "execute_result"
    }
   ],
   "source": [
    "user_item_complete.columns"
   ]
  },
  {
   "cell_type": "code",
   "execution_count": 10,
   "id": "9f744423",
   "metadata": {},
   "outputs": [],
   "source": [
    "# find a median rating for each user\n",
    "median_rating = user_item_complete.groupby('user')['rating'].median().rename('median_rating').reset_index()\n",
    "user_item_complete = pd.merge(user_item_complete, median_rating, on='user', how='inner')"
   ]
  },
  {
   "cell_type": "code",
   "execution_count": 11,
   "id": "060e8953",
   "metadata": {},
   "outputs": [
    {
     "data": {
      "text/plain": [
       "(1228331, 51)"
      ]
     },
     "execution_count": 11,
     "metadata": {},
     "output_type": "execute_result"
    }
   ],
   "source": [
    "user_item_complete.shape"
   ]
  },
  {
   "cell_type": "markdown",
   "id": "123d4756",
   "metadata": {},
   "source": [
    "User-Item matrix has size (1_228_331, 51) after selecting users with >= `min_rating_count`\n",
    "\n",
    "User-Item matrix has size (771_551, 51) after selecting items for users with rating higher than their mean rating"
   ]
  },
  {
   "cell_type": "code",
   "execution_count": 12,
   "id": "c10861d6",
   "metadata": {},
   "outputs": [
    {
     "name": "stderr",
     "output_type": "stream",
     "text": [
      "/var/folders/ys/q3jzjbwd6jv2_whcbxy4d7vh0000gn/T/ipykernel_31875/3395119976.py:4: SettingWithCopyWarning: \n",
      "A value is trying to be set on a copy of a slice from a DataFrame\n",
      "\n",
      "See the caveats in the documentation: https://pandas.pydata.org/pandas-docs/stable/user_guide/indexing.html#returning-a-view-versus-a-copy\n",
      "  user_item_favourite['ComAgeRec'].fillna(user_item_favourite['ComAgeRec'].mean(), inplace=True)\n",
      "/var/folders/ys/q3jzjbwd6jv2_whcbxy4d7vh0000gn/T/ipykernel_31875/3395119976.py:5: SettingWithCopyWarning: \n",
      "A value is trying to be set on a copy of a slice from a DataFrame\n",
      "\n",
      "See the caveats in the documentation: https://pandas.pydata.org/pandas-docs/stable/user_guide/indexing.html#returning-a-view-versus-a-copy\n",
      "  user_item_favourite['LanguageEase'].fillna(user_item_favourite['LanguageEase'].mean(), inplace=True)\n",
      "/var/folders/ys/q3jzjbwd6jv2_whcbxy4d7vh0000gn/T/ipykernel_31875/3395119976.py:7: FutureWarning: The default value of numeric_only in DataFrameGroupBy.median is deprecated. In a future version, numeric_only will default to False. Either specify numeric_only or select only columns which should be valid for the function.\n",
      "  user_representation = user_item_favourite.groupby('user').median().reset_index()\n",
      "/var/folders/ys/q3jzjbwd6jv2_whcbxy4d7vh0000gn/T/ipykernel_31875/3395119976.py:10: SettingWithCopyWarning: \n",
      "A value is trying to be set on a copy of a slice from a DataFrame\n",
      "\n",
      "See the caveats in the documentation: https://pandas.pydata.org/pandas-docs/stable/user_guide/indexing.html#returning-a-view-versus-a-copy\n",
      "  user_item_favourite.drop(columns=non_numerical_features, inplace=True)\n"
     ]
    }
   ],
   "source": [
    "# creating user represenations\n",
    "user_item_favourite = user_item_complete[user_item_complete['rating']>=user_item_complete['median_rating']]\n",
    "\n",
    "user_item_favourite['ComAgeRec'].fillna(user_item_favourite['ComAgeRec'].mean(), inplace=True)\n",
    "user_item_favourite['LanguageEase'].fillna(user_item_favourite['LanguageEase'].mean(), inplace=True)\n",
    "\n",
    "user_representation = user_item_favourite.groupby('user').median().reset_index()\n",
    "user_representation_wnames = user_representation['user']\n",
    "user_representation.drop(columns=['user'], inplace=True)\n",
    "user_item_favourite.drop(columns=non_numerical_features, inplace=True)"
   ]
  },
  {
   "cell_type": "code",
   "execution_count": 13,
   "id": "c7c8e715",
   "metadata": {},
   "outputs": [
    {
     "data": {
      "text/plain": [
       "(51149, 45)"
      ]
     },
     "execution_count": 13,
     "metadata": {},
     "output_type": "execute_result"
    }
   ],
   "source": [
    "user_representation.shape"
   ]
  },
  {
   "cell_type": "markdown",
   "id": "a7c4f119",
   "metadata": {},
   "source": [
    "### Analysis of user preference clusters\n",
    " > based on TSNE clusterings of users with similar preferences, several groups of users were investigated to check if there are differences in prederences between clusters. The analysis showed that all the groups have approximately similar preferences. Hence, no need to create different features per user group"
   ]
  },
  {
   "cell_type": "code",
   "execution_count": 14,
   "id": "6a09a359",
   "metadata": {},
   "outputs": [],
   "source": [
    "# scaler = StandardScaler()\n",
    "# scaled_user_represenation = scaler.fit_transform(user_representation)"
   ]
  },
  {
   "cell_type": "code",
   "execution_count": 15,
   "id": "e0d6f99f",
   "metadata": {},
   "outputs": [],
   "source": [
    "# tsne = TSNE(n_components=2, verbose=0, perplexity=50, n_iter=500)\n",
    "# user_clusters = tsne.fit_transform(scaled_user_represenation)"
   ]
  },
  {
   "cell_type": "code",
   "execution_count": 16,
   "id": "d71a8b3a",
   "metadata": {},
   "outputs": [],
   "source": [
    "# user_representation['tsne-2d-one'] = user_clusters[:,0]\n",
    "# user_representation['tsne-2d-two'] = user_clusters[:,1]\n",
    "\n",
    "# plt.figure(figsize=(16,10))\n",
    "# sns.scatterplot(\n",
    "#     x=\"tsne-2d-one\", y=\"tsne-2d-two\",\n",
    "#     palette=sns.color_palette(\"hls\", 10),\n",
    "#     data=user_representation,\n",
    "#     alpha=0.3,\n",
    "# )"
   ]
  },
  {
   "cell_type": "code",
   "execution_count": 17,
   "id": "ba7dcac0",
   "metadata": {},
   "outputs": [],
   "source": [
    "# fig = px.scatter(\n",
    "#     user_representation, x=user_representation['tsne-2d-one'], y=user_representation['tsne-2d-two'],\n",
    "# )\n",
    "# fig.show()"
   ]
  },
  {
   "cell_type": "code",
   "execution_count": 18,
   "id": "c7f0caec",
   "metadata": {},
   "outputs": [],
   "source": [
    "# manual cluster extraction using upper left and lower right points\n",
    "# group_1 = [(-11, 16), (12, 9.5)]\n",
    "# group_2 = [(-16, 9.5), (14, 0)]\n",
    "# group_3 = [(-15, 0), (15, -15)]"
   ]
  },
  {
   "cell_type": "code",
   "execution_count": 19,
   "id": "644ffd1a",
   "metadata": {},
   "outputs": [],
   "source": [
    "# coords_groups = [group_1, group_2, group_3]\n",
    "# user_groups = []\n",
    "\n",
    "# for bounds in coords_groups:\n",
    "#     group_users = user_representation[(user_representation['tsne-2d-one'] >= bounds[0][0])&\n",
    "#                                       (user_representation['tsne-2d-one'] <= bounds[1][0])&\n",
    "#                                       (user_representation['tsne-2d-two'] <= bounds[0][1])&\n",
    "#                                       (user_representation['tsne-2d-two'] >= bounds[1][1])]\n",
    "#     user_groups.append(group_users)"
   ]
  },
  {
   "cell_type": "code",
   "execution_count": 20,
   "id": "c9f44813",
   "metadata": {},
   "outputs": [],
   "source": [
    "# group_1 = user_groups[0]\n",
    "# group_2 = user_groups[1]\n",
    "# group_3 = user_groups[2]\n",
    "\n",
    "# group_1 = pd.merge(group_1, user_representation_wnames, left_index=True, right_index=True, how='left')\n",
    "# group_2 = pd.merge(group_2, user_representation_wnames, left_index=True, right_index=True, how='left')\n",
    "# group_3 = pd.merge(group_3, user_representation_wnames, left_index=True, right_index=True, how='left')\n",
    "\n",
    "# group_1_users = group_1.user\n",
    "# group_2_users = group_2.user\n",
    "# group_3_users = group_3.user"
   ]
  },
  {
   "cell_type": "code",
   "execution_count": 21,
   "id": "bf63c1ca",
   "metadata": {},
   "outputs": [],
   "source": [
    "def get_all_items_for_user(username, complete_df):\n",
    "    return complete_df[complete_df['user']==username].drop(columns=['user'])  "
   ]
  },
  {
   "cell_type": "code",
   "execution_count": 22,
   "id": "ffaed3a9",
   "metadata": {},
   "outputs": [],
   "source": [
    "# group_1_itemids = user_item_complete[user_item_complete.user.isin(group_1_users)].item.unique()\n",
    "# group_1_items = user_item_complete[user_item_complete['item'].isin(group_1_itemids)]\n",
    "\n",
    "# group_2_itemids = user_item_complete[user_item_complete.user.isin(group_2_users)].item.unique()\n",
    "# group_2_items = user_item_complete[user_item_complete['item'].isin(group_2_itemids)]\n",
    "\n",
    "# group_3_itemids = user_item_complete[user_item_complete.user.isin(group_3_users)].item.unique()\n",
    "# group_3_items = user_item_complete[user_item_complete['item'].isin(group_3_itemids)]"
   ]
  },
  {
   "cell_type": "code",
   "execution_count": 23,
   "id": "973195e6",
   "metadata": {},
   "outputs": [],
   "source": [
    "def add_avg_group_rating(selected_items, group, complete):\n",
    "    selected_items.reset_index(drop=True, inplace=True)\n",
    "    selected_items['avg_group_rating'] = 0\n",
    "    group_users = group['user'].unique()\n",
    "    for index,item in selected_items.iterrows():\n",
    "        item_in_group = complete[(complete['user'].isin(group_users))&(complete['item']==item['item'])]\n",
    "        average_group_rating = item_in_group['rating'].mean()\n",
    "        item['avg_group_rating'] = average_group_rating\n",
    "        selected_items.iloc[index,:] = item\n",
    "        \n",
    "    return selected_items\n",
    "        "
   ]
  },
  {
   "cell_type": "code",
   "execution_count": 24,
   "id": "86b9efd4",
   "metadata": {},
   "outputs": [],
   "source": [
    "# item_group_1 = add_avg_group_rating(group_1_items.sample(frac=0.001, random_state=42), group_1, user_item_complete)\n",
    "# item_group_2 = add_avg_group_rating(group_2_items.sample(frac=0.001, random_state=42), group_2, user_item_complete)\n",
    "# item_group_3 = add_avg_group_rating(group_3_items.sample(frac=0.001, random_state=42), group_3, user_item_complete)\n",
    "#item_group_1 = add_avg_group_rating(group_1_items.iloc[0:2,:], group_1, user_item_complete)"
   ]
  },
  {
   "cell_type": "code",
   "execution_count": 25,
   "id": "6fd36746",
   "metadata": {},
   "outputs": [],
   "source": [
    "# all_users = pd.merge(user_representation, user_representation_wnames,left_index=True, right_index=True, how='left')\n",
    "# all_items = add_avg_group_rating(user_item_complete.sample(frac=0.005, random_state=42), all_users, user_item_complete)"
   ]
  },
  {
   "cell_type": "code",
   "execution_count": 26,
   "id": "384a9510",
   "metadata": {},
   "outputs": [],
   "source": [
    "def save(obj):\n",
    "    def get_variable_name(var):\n",
    "        # Iterate over the global variables\n",
    "        for name, value in globals().items():\n",
    "            if value is var:\n",
    "                return name\n",
    "        return None\n",
    "    name = get_variable_name(obj)\n",
    "    with open(\"saved/\"+name+\".pkl\", \"wb\") as f: # \"wb\" because we want to write in binary mode\n",
    "        pickle.dump(obj, f)\n",
    "        \n",
    "def load_obj(path):\n",
    "    with open(path, 'rb') as f:\n",
    "        return pickle.load(f)"
   ]
  },
  {
   "cell_type": "code",
   "execution_count": 35,
   "id": "3649e743",
   "metadata": {},
   "outputs": [],
   "source": [
    "all_items = load_obj('saved/all_items.pkl')"
   ]
  },
  {
   "cell_type": "code",
   "execution_count": 36,
   "id": "ed4fcc76",
   "metadata": {},
   "outputs": [],
   "source": [
    "# save(all_users)\n",
    "# save(all_items)"
   ]
  },
  {
   "cell_type": "code",
   "execution_count": 37,
   "id": "cd68251d",
   "metadata": {},
   "outputs": [],
   "source": [
    "# plt.figure(figsize=(16,16))\n",
    "# sns.heatmap(item_group_3.corr())\n",
    "# plt.title('Group 3 Correlation of Features')"
   ]
  },
  {
   "cell_type": "code",
   "execution_count": 38,
   "id": "07328e4a",
   "metadata": {},
   "outputs": [],
   "source": [
    "def test_stat_significance(feature_name, selected_items):\n",
    "    \"\"\" test whether an item feature has statistically significant \n",
    "        correlation (Pearson) with a group rating\n",
    "    \"\"\"\n",
    "\n",
    "    feature = selected_items[feature_name].dropna()\n",
    "    ratings = selected_items['avg_group_rating'].reindex(feature.index).values\n",
    "    feature = feature.values\n",
    "    \n",
    "    r, p = pearsonr(ratings, feature)\n",
    "    \n",
    "    significant = False\n",
    "    if p < 0.05:\n",
    "        significant = True\n",
    "\n",
    "    # print(f'feature {feature_name} has p-value {round(p,2)}, significant: {significant}, correlation: {round(r,2)}')\n",
    "    return r, significant\n",
    "    "
   ]
  },
  {
   "cell_type": "code",
   "execution_count": 39,
   "id": "5bc61564",
   "metadata": {},
   "outputs": [],
   "source": [
    "# test_stat_significance('MinPlayers',item_group_3)"
   ]
  },
  {
   "cell_type": "code",
   "execution_count": 40,
   "id": "a973b94d",
   "metadata": {},
   "outputs": [],
   "source": [
    "def find_group_features(group_items, complete):\n",
    "    features = group_items.columns\n",
    "    group_features = []\n",
    "    for feature_name in features:\n",
    "        if feature_name in non_numerical_features:\n",
    "            continue\n",
    "        \n",
    "        correlation, significant = test_stat_significance(feature_name, group_items)\n",
    "        \n",
    "        if significant and abs(correlation) > 0.10:\n",
    "            group_features.append(feature_name)\n",
    "    return group_features"
   ]
  },
  {
   "cell_type": "code",
   "execution_count": 41,
   "id": "9828b8fa",
   "metadata": {},
   "outputs": [],
   "source": [
    "# group1_features = set(find_group_features(item_group_1, user_item_complete))\n",
    "# group2_features = set(find_group_features(item_group_2, user_item_complete))\n",
    "# group3_features = set(find_group_features(item_group_3, user_item_complete))"
   ]
  },
  {
   "cell_type": "code",
   "execution_count": 42,
   "id": "f7791867",
   "metadata": {},
   "outputs": [
    {
     "name": "stderr",
     "output_type": "stream",
     "text": [
      "/Library/Frameworks/Python.framework/Versions/3.10/lib/python3.10/site-packages/scipy/stats/_stats_py.py:4424: ConstantInputWarning: An input array is constant; the correlation coefficient is not defined.\n",
      "  warnings.warn(stats.ConstantInputWarning(msg))\n"
     ]
    }
   ],
   "source": [
    "sign_user_preferences = set(find_group_features(all_items, user_item_complete))"
   ]
  },
  {
   "cell_type": "code",
   "execution_count": 43,
   "id": "4dc4338a",
   "metadata": {},
   "outputs": [],
   "source": [
    "rating_features = ['AvgRating', 'BayesAvgRating', 'StdDev', 'avg_group_rating', 'median_rating']"
   ]
  },
  {
   "cell_type": "markdown",
   "id": "7580b7c2",
   "metadata": {},
   "source": [
    "### Item Features for Content-Based Filtering\n",
    "- the features which have correlation with an average rating more than 0.15 in absolute values\n",
    "- are not rating features\n",
    "- are statistically significant\n",
    "\n",
    "\n",
    "The features (19) were received:\n",
    "```\n",
    " 'Rank:boardgame',\n",
    " 'Rank:strategygames',\n",
    " 'Rank:childrensgames',\n",
    " 'Rank:partygames',\n",
    "\n",
    " 'NumWant',\n",
    " 'NumWish',\n",
    " 'NumUserRatings',\n",
    " 'NumOwned',\n",
    " 'NumWeightVotes',\n",
    "\n",
    " 'BestPlayers',\n",
    " 'GameWeight',\n",
    " 'ComAgeRec',\n",
    " 'Kickstarted',\n",
    " 'MinPlayers',\n",
    " 'LanguageEase',\n",
    " 'MfgAgeRec'\n",
    "\n",
    " 'Cat:Party',\n",
    " 'Cat:Childrens',\n",
    " 'Cat:Strategy',\n",
    " ```\n",
    "\n",
    "Based on the analysis of the correlation of similar features from the list, the following were discarded:\n",
    "\n",
    " `'NumWish', 'NumWeightVotes'`"
   ]
  },
  {
   "cell_type": "code",
   "execution_count": 44,
   "id": "a4f798be",
   "metadata": {},
   "outputs": [],
   "source": [
    "# item_matrix= all_items.drop(columns='user')\n",
    "# corr_matrix = item_matrix.corr()\n",
    "\n",
    "# plt.figure(figsize=(16,16))\n",
    "# sns.heatmap(corr_matrix)"
   ]
  },
  {
   "cell_type": "code",
   "execution_count": 45,
   "id": "8d29d440",
   "metadata": {},
   "outputs": [],
   "source": [
    "final_item_features = [f for f in (list(sign_user_preferences) + ['item','user']) if f not in rating_features + ['NumWish','NumWeightVotes']]"
   ]
  },
  {
   "cell_type": "code",
   "execution_count": 46,
   "id": "72770590",
   "metadata": {},
   "outputs": [],
   "source": [
    "mechanics_features = ['mechanic_' + i if not i == 'BGGId' else i for i in item_mecahnics.columns]\n",
    "subcategory_features = ['subcategory_' + i if not i == 'BGGId' else i for i in item_subcategories.columns]\n",
    "theme_features = ['theme_' + i.split('_')[-1] if not i == 'BGGId' else i for i in item_themes.columns]\n",
    "\n",
    "item_mecahnics.columns = mechanics_features\n",
    "item_subcategories.columns = subcategory_features\n",
    "item_themes.columns = theme_features\n",
    "\n",
    "item_catalog = pd.merge(item_mecahnics, item_subcategories, on='BGGId', how='outer')\n",
    "item_catalog = pd.merge(item_catalog, item_themes, on='BGGId', how='outer')"
   ]
  },
  {
   "cell_type": "code",
   "execution_count": 47,
   "id": "4f029286",
   "metadata": {},
   "outputs": [],
   "source": [
    "user_item_selected = user_item_complete[final_item_features]\n",
    "user_item_all_features = pd.merge(user_item_selected, item_catalog, left_on='item', right_on='BGGId', how='left')"
   ]
  },
  {
   "cell_type": "code",
   "execution_count": 48,
   "id": "2d18e0f4",
   "metadata": {},
   "outputs": [
    {
     "data": {
      "text/plain": [
       "Index(['user'], dtype='object')"
      ]
     },
     "execution_count": 48,
     "metadata": {},
     "output_type": "execute_result"
    }
   ],
   "source": [
    "user_item_all_features.select_dtypes(include=['object']).columns"
   ]
  },
  {
   "cell_type": "code",
   "execution_count": 49,
   "id": "47f37e1e",
   "metadata": {},
   "outputs": [],
   "source": [
    "# nan_counts = user_item_all_features.isna().sum(axis=0)\n",
    "# nan_counts[nan_counts > 0]"
   ]
  },
  {
   "cell_type": "code",
   "execution_count": 50,
   "id": "ea7ccf5a",
   "metadata": {},
   "outputs": [],
   "source": [
    "all_user_names = user_item_all_features.user.unique()"
   ]
  },
  {
   "cell_type": "code",
   "execution_count": 51,
   "id": "48997977",
   "metadata": {},
   "outputs": [],
   "source": [
    "def generate_Xy_for_user(username, complete_df):\n",
    "    scaler = StandardScaler()\n",
    "    user_rated_items = complete_df[complete_df['user']==username]\n",
    "    index_x = user_rated_items.index\n",
    "    X = user_rated_items.drop(columns=['user','rating', 'item'])\n",
    "    normalized_matrix = scaler.fit_transform(X)\n",
    "    X =  pd.DataFrame(normalized_matrix, columns=X.columns, index=index_x)\n",
    "    y = user_rated_items['rating']\n",
    "    return X,y"
   ]
  },
  {
   "cell_type": "code",
   "execution_count": 52,
   "id": "80aaf9ee",
   "metadata": {},
   "outputs": [],
   "source": [
    "X,y = generate_Xy_for_user(all_user_names[0],user_item_all_features[final_item_features])\n",
    "train_X, test_X, train_y, test_y = train_test_split(X,y,test_size=0.2, random_state=42)"
   ]
  },
  {
   "cell_type": "code",
   "execution_count": 53,
   "id": "927d2bdd",
   "metadata": {},
   "outputs": [
    {
     "data": {
      "text/html": [
       "<style>#sk-container-id-1 {color: black;background-color: white;}#sk-container-id-1 pre{padding: 0;}#sk-container-id-1 div.sk-toggleable {background-color: white;}#sk-container-id-1 label.sk-toggleable__label {cursor: pointer;display: block;width: 100%;margin-bottom: 0;padding: 0.3em;box-sizing: border-box;text-align: center;}#sk-container-id-1 label.sk-toggleable__label-arrow:before {content: \"▸\";float: left;margin-right: 0.25em;color: #696969;}#sk-container-id-1 label.sk-toggleable__label-arrow:hover:before {color: black;}#sk-container-id-1 div.sk-estimator:hover label.sk-toggleable__label-arrow:before {color: black;}#sk-container-id-1 div.sk-toggleable__content {max-height: 0;max-width: 0;overflow: hidden;text-align: left;background-color: #f0f8ff;}#sk-container-id-1 div.sk-toggleable__content pre {margin: 0.2em;color: black;border-radius: 0.25em;background-color: #f0f8ff;}#sk-container-id-1 input.sk-toggleable__control:checked~div.sk-toggleable__content {max-height: 200px;max-width: 100%;overflow: auto;}#sk-container-id-1 input.sk-toggleable__control:checked~label.sk-toggleable__label-arrow:before {content: \"▾\";}#sk-container-id-1 div.sk-estimator input.sk-toggleable__control:checked~label.sk-toggleable__label {background-color: #d4ebff;}#sk-container-id-1 div.sk-label input.sk-toggleable__control:checked~label.sk-toggleable__label {background-color: #d4ebff;}#sk-container-id-1 input.sk-hidden--visually {border: 0;clip: rect(1px 1px 1px 1px);clip: rect(1px, 1px, 1px, 1px);height: 1px;margin: -1px;overflow: hidden;padding: 0;position: absolute;width: 1px;}#sk-container-id-1 div.sk-estimator {font-family: monospace;background-color: #f0f8ff;border: 1px dotted black;border-radius: 0.25em;box-sizing: border-box;margin-bottom: 0.5em;}#sk-container-id-1 div.sk-estimator:hover {background-color: #d4ebff;}#sk-container-id-1 div.sk-parallel-item::after {content: \"\";width: 100%;border-bottom: 1px solid gray;flex-grow: 1;}#sk-container-id-1 div.sk-label:hover label.sk-toggleable__label {background-color: #d4ebff;}#sk-container-id-1 div.sk-serial::before {content: \"\";position: absolute;border-left: 1px solid gray;box-sizing: border-box;top: 0;bottom: 0;left: 50%;z-index: 0;}#sk-container-id-1 div.sk-serial {display: flex;flex-direction: column;align-items: center;background-color: white;padding-right: 0.2em;padding-left: 0.2em;position: relative;}#sk-container-id-1 div.sk-item {position: relative;z-index: 1;}#sk-container-id-1 div.sk-parallel {display: flex;align-items: stretch;justify-content: center;background-color: white;position: relative;}#sk-container-id-1 div.sk-item::before, #sk-container-id-1 div.sk-parallel-item::before {content: \"\";position: absolute;border-left: 1px solid gray;box-sizing: border-box;top: 0;bottom: 0;left: 50%;z-index: -1;}#sk-container-id-1 div.sk-parallel-item {display: flex;flex-direction: column;z-index: 1;position: relative;background-color: white;}#sk-container-id-1 div.sk-parallel-item:first-child::after {align-self: flex-end;width: 50%;}#sk-container-id-1 div.sk-parallel-item:last-child::after {align-self: flex-start;width: 50%;}#sk-container-id-1 div.sk-parallel-item:only-child::after {width: 0;}#sk-container-id-1 div.sk-dashed-wrapped {border: 1px dashed gray;margin: 0 0.4em 0.5em 0.4em;box-sizing: border-box;padding-bottom: 0.4em;background-color: white;}#sk-container-id-1 div.sk-label label {font-family: monospace;font-weight: bold;display: inline-block;line-height: 1.2em;}#sk-container-id-1 div.sk-label-container {text-align: center;}#sk-container-id-1 div.sk-container {/* jupyter's `normalize.less` sets `[hidden] { display: none; }` but bootstrap.min.css set `[hidden] { display: none !important; }` so we also need the `!important` here to be able to override the default hidden behavior on the sphinx rendered scikit-learn.org. See: https://github.com/scikit-learn/scikit-learn/issues/21755 */display: inline-block !important;position: relative;}#sk-container-id-1 div.sk-text-repr-fallback {display: none;}</style><div id=\"sk-container-id-1\" class=\"sk-top-container\"><div class=\"sk-text-repr-fallback\"><pre>SVR(kernel=&#x27;linear&#x27;)</pre><b>In a Jupyter environment, please rerun this cell to show the HTML representation or trust the notebook. <br />On GitHub, the HTML representation is unable to render, please try loading this page with nbviewer.org.</b></div><div class=\"sk-container\" hidden><div class=\"sk-item\"><div class=\"sk-estimator sk-toggleable\"><input class=\"sk-toggleable__control sk-hidden--visually\" id=\"sk-estimator-id-1\" type=\"checkbox\" checked><label for=\"sk-estimator-id-1\" class=\"sk-toggleable__label sk-toggleable__label-arrow\">SVR</label><div class=\"sk-toggleable__content\"><pre>SVR(kernel=&#x27;linear&#x27;)</pre></div></div></div></div></div>"
      ],
      "text/plain": [
       "SVR(kernel='linear')"
      ]
     },
     "execution_count": 53,
     "metadata": {},
     "output_type": "execute_result"
    }
   ],
   "source": [
    "svr = SVR(kernel='linear')\n",
    "svr.fit(train_X, train_y)"
   ]
  },
  {
   "cell_type": "code",
   "execution_count": 58,
   "id": "efd19191",
   "metadata": {},
   "outputs": [],
   "source": [
    "predicted_y = svr.predict(test_X)"
   ]
  },
  {
   "cell_type": "code",
   "execution_count": 59,
   "id": "d80c1460",
   "metadata": {},
   "outputs": [],
   "source": [
    "item_rating = test_y.to_frame().copy()\n",
    "item_rating['predicted'] = predicted_y"
   ]
  },
  {
   "cell_type": "markdown",
   "id": "e8949da6",
   "metadata": {},
   "source": [
    "### Evaluation"
   ]
  },
  {
   "cell_type": "code",
   "execution_count": 60,
   "id": "c2e4373d",
   "metadata": {},
   "outputs": [],
   "source": [
    "num_users_test = 1\n",
    "users_for_test = random.sample(list(all_user_names), num_users_test)"
   ]
  },
  {
   "cell_type": "code",
   "execution_count": 61,
   "id": "3dd230f8",
   "metadata": {},
   "outputs": [
    {
     "data": {
      "text/plain": [
       "1.0009973893216617"
      ]
     },
     "execution_count": 61,
     "metadata": {},
     "output_type": "execute_result"
    }
   ],
   "source": [
    "((item_rating['rating']-item_rating['predicted'])**2).mean(0)**0.5"
   ]
  },
  {
   "cell_type": "code",
   "execution_count": 62,
   "id": "024c94b7",
   "metadata": {},
   "outputs": [
    {
     "data": {
      "text/plain": [
       "0.8320012653251911"
      ]
     },
     "execution_count": 62,
     "metadata": {},
     "output_type": "execute_result"
    }
   ],
   "source": [
    "(abs(item_rating['rating']-item_rating['predicted'])).mean(0)"
   ]
  },
  {
   "cell_type": "code",
   "execution_count": 63,
   "id": "2174a957",
   "metadata": {},
   "outputs": [],
   "source": [
    "def evaluate_users(users, user_item_all_features, regressor):\n",
    "    RMSEs = []\n",
    "    MAEs = []\n",
    "    for user in users:\n",
    "        X,y = generate_Xy_for_user(user,user_item_all_features)\n",
    "        train_X, test_X, train_y, test_y = train_test_split(X,y, test_size=0.2, random_state=42)\n",
    "        \n",
    "        regressor.fit(train_X, train_y)\n",
    "        predicted_y = regressor.predict(test_X)\n",
    "        \n",
    "        item_ratings = test_y.to_frame().copy()\n",
    "        item_ratings['predicted'] = predicted_y\n",
    "        \n",
    "        RMSEs.append(((item_ratings['rating']-item_ratings['predicted'])**2).mean(0)**0.5)\n",
    "        MAEs.append((abs(item_ratings['rating']-item_ratings['predicted'])).mean(0))\n",
    "        \n",
    "    return RMSEs, MAEs"
   ]
  },
  {
   "cell_type": "code",
   "execution_count": 64,
   "id": "39b06d57",
   "metadata": {},
   "outputs": [],
   "source": [
    "# missing_values_counts = user_item_all_features.isna().sum(axis=0)\n",
    "\n",
    "# # Print the counts of missing values for rows where there are NaN values\n",
    "# print(missing_values_counts[missing_values_counts > 0])"
   ]
  },
  {
   "cell_type": "code",
   "execution_count": 65,
   "id": "38d86f8b",
   "metadata": {},
   "outputs": [],
   "source": [
    "user_item_all_features['ComAgeRec'].fillna(value=user_item_all_features['ComAgeRec'].mean(), inplace=True)\n",
    "user_item_all_features['LanguageEase'].fillna(value=user_item_all_features['LanguageEase'].mean(), inplace=True)"
   ]
  },
  {
   "cell_type": "code",
   "execution_count": 66,
   "id": "e81ac0a1",
   "metadata": {},
   "outputs": [],
   "source": [
    "regressor = SVR(kernel='linear')\n",
    "RMSEs, MAEs = evaluate_users(users_for_test, user_item_all_features[final_item_features], regressor)"
   ]
  },
  {
   "cell_type": "code",
   "execution_count": 67,
   "id": "c6d00b20",
   "metadata": {},
   "outputs": [],
   "source": [
    "avg_RMSE = np.mean(RMSEs)\n",
    "avg_MAE = np.mean(MAEs)"
   ]
  },
  {
   "cell_type": "code",
   "execution_count": 68,
   "id": "48dfc036",
   "metadata": {},
   "outputs": [
    {
     "name": "stdout",
     "output_type": "stream",
     "text": [
      "RMSE: 1.74  | MAE: 1.39\n"
     ]
    }
   ],
   "source": [
    "print('RMSE:',round(avg_RMSE,2), ' | MAE:',round(avg_MAE,2))"
   ]
  },
  {
   "cell_type": "code",
   "execution_count": 69,
   "id": "1dd80206",
   "metadata": {},
   "outputs": [],
   "source": [
    "regressor = DecisionTreeRegressor()\n",
    "RMSEs, MAEs = evaluate_users(users_for_test, user_item_all_features[final_item_features], regressor)"
   ]
  },
  {
   "cell_type": "code",
   "execution_count": 70,
   "id": "b0153da2",
   "metadata": {},
   "outputs": [
    {
     "name": "stdout",
     "output_type": "stream",
     "text": [
      "RMSE: 1.41  | MAE: 1.33\n"
     ]
    }
   ],
   "source": [
    "avg_RMSE = np.mean(RMSEs)\n",
    "avg_MAE = np.mean(MAEs)\n",
    "print('RMSE:',round(avg_RMSE,2), ' | MAE:',round(avg_MAE,2))"
   ]
  },
  {
   "cell_type": "code",
   "execution_count": 71,
   "id": "c9edfa8c",
   "metadata": {},
   "outputs": [],
   "source": [
    "regressor = XGBRegressor()\n",
    "RMSEs, MAEs = evaluate_users(users_for_test, user_item_all_features[final_item_features], regressor)"
   ]
  },
  {
   "cell_type": "code",
   "execution_count": 72,
   "id": "9b60eb8d",
   "metadata": {},
   "outputs": [
    {
     "name": "stdout",
     "output_type": "stream",
     "text": [
      "RMSE: 0.6  | MAE: 0.5\n"
     ]
    }
   ],
   "source": [
    "avg_RMSE = np.mean(RMSEs)\n",
    "avg_MAE = np.mean(MAEs)\n",
    "print('RMSE:',round(avg_RMSE,2), ' | MAE:',round(avg_MAE,2))"
   ]
  },
  {
   "cell_type": "markdown",
   "id": "a97529b7",
   "metadata": {},
   "source": [
    "# Generating Explanations"
   ]
  },
  {
   "cell_type": "code",
   "execution_count": 73,
   "id": "c9df559a",
   "metadata": {},
   "outputs": [
    {
     "data": {
      "text/plain": [
       "'Spitfire91'"
      ]
     },
     "execution_count": 73,
     "metadata": {},
     "output_type": "execute_result"
    }
   ],
   "source": [
    "random_user = users_for_test[0]\n",
    "random_user"
   ]
  },
  {
   "cell_type": "code",
   "execution_count": 74,
   "id": "25f55668",
   "metadata": {},
   "outputs": [],
   "source": [
    "tree_regressor = DecisionTreeRegressor(random_state=42)"
   ]
  },
  {
   "cell_type": "code",
   "execution_count": 75,
   "id": "23a8b699",
   "metadata": {},
   "outputs": [],
   "source": [
    "X, y = generate_Xy_for_user(random_user, user_item_all_features[final_item_features])\n",
    "\n",
    "train_X, test_X, train_y, test_y = train_test_split(X,y, test_size=0.2, random_state=42)\n",
    "tree_regressor.fit(train_X, train_y)\n",
    "predicted_y = tree_regressor.predict(test_X)\n",
    "\n",
    "item_ratings = test_y.to_frame().copy()\n",
    "item_ratings['predicted'] = predicted_y\n",
    "        \n",
    "RMSE = ((item_ratings['rating']-item_ratings['predicted'])**2).mean(0)**0.5\n",
    "MAE = (abs(item_ratings['rating']-item_ratings['predicted'])).mean(0)"
   ]
  },
  {
   "cell_type": "code",
   "execution_count": 76,
   "id": "a5b3876f",
   "metadata": {},
   "outputs": [],
   "source": [
    "interacted_items = user_item_complete[user_item_complete.index.isin(X.index)]"
   ]
  },
  {
   "cell_type": "code",
   "execution_count": 77,
   "id": "039111d3",
   "metadata": {},
   "outputs": [],
   "source": [
    "test_items = user_item_complete[user_item_complete.index.isin(test_X.index)]"
   ]
  },
  {
   "cell_type": "code",
   "execution_count": 78,
   "id": "998d974c",
   "metadata": {},
   "outputs": [],
   "source": [
    "# text_representation = tree.export_text(tree_regressor)\n",
    "# print(text_representation)"
   ]
  },
  {
   "cell_type": "code",
   "execution_count": 79,
   "id": "d807931e",
   "metadata": {},
   "outputs": [
    {
     "data": {
      "image/png": "[encoded data removed]",
      "text/plain": [
       "<Figure size 1440x720 with 1 Axes>"
      ]
     },
     "metadata": {
      "needs_background": "light"
     },
     "output_type": "display_data"
    }
   ],
   "source": [
    "# Plot the decision tree\n",
    "plt.figure(figsize=(20,10))\n",
    "tree.plot_tree(tree_regressor, filled=True, feature_names=X.columns,node_ids=True)\n",
    "plt.show()"
   ]
  },
  {
   "cell_type": "code",
   "execution_count": 86,
   "id": "dfc992b7",
   "metadata": {},
   "outputs": [
    {
     "name": "stderr",
     "output_type": "stream",
     "text": [
      "/Library/Frameworks/Python.framework/Versions/3.10/lib/python3.10/site-packages/sklearn/base.py:439: UserWarning: X does not have valid feature names, but DecisionTreeRegressor was fitted with feature names\n",
      "  warnings.warn(\n"
     ]
    },
    {
     "data": {
      "text/plain": [
       "['NumUserRatings', 'NumWant', 'Rank:boardgame', 'NumWant']"
      ]
     },
     "execution_count": 86,
     "metadata": {},
     "output_type": "execute_result"
    }
   ],
   "source": [
    "# calculate feature importances for a prediction\n",
    "\n",
    "# select features used to create a prediction\n",
    "decision_path = tree_regressor.decision_path([test_X.iloc[5,:]])\n",
    "node_indices = decision_path.indices\n",
    "feature_indices = tree_regressor.tree_.feature\n",
    "feature_names = test_X.columns  # Replace with your actual feature names\n",
    "used_features = [feature_names[i] for i in feature_indices[node_indices] if i > 0]\n",
    "used_features"
   ]
  },
  {
   "cell_type": "code",
   "execution_count": 87,
   "id": "904cfd5c",
   "metadata": {},
   "outputs": [],
   "source": [
    "def get_features_sorted(selected_featurenames, feature_names, feature_importances):\n",
    "    # Create a list of tuples (feature_name, feature_importance)\n",
    "    feature_importance_tuples = list(zip(feature_names, feature_importances))\n",
    "    \n",
    "    # Sort the list of tuples by feature importance in descending order\n",
    "    sorted_features = sorted(feature_importance_tuples, key=lambda x: x[1], reverse=True)\n",
    "    sorted_features = [s for s in sorted_features if s[0] in selected_featurenames]\n",
    "    return sorted_features"
   ]
  },
  {
   "cell_type": "code",
   "execution_count": 88,
   "id": "e3c5165e",
   "metadata": {},
   "outputs": [
    {
     "data": {
      "text/plain": [
       "[('NumWant', 0.33364623560359974),\n",
       " ('NumUserRatings', 0.2644549115980626),\n",
       " ('Rank:boardgame', 0.02399907843538807)]"
      ]
     },
     "execution_count": 88,
     "metadata": {},
     "output_type": "execute_result"
    }
   ],
   "source": [
    "get_features_sorted(used_features, test_X.columns, tree_regressor.feature_importances_)"
   ]
  },
  {
   "cell_type": "code",
   "execution_count": 90,
   "id": "e0a90e9d",
   "metadata": {},
   "outputs": [
    {
     "ename": "KeyError",
     "evalue": "1190274",
     "output_type": "error",
     "traceback": [
      "\u001b[0;31m---------------------------------------------------------------------------\u001b[0m",
      "\u001b[0;31mKeyError\u001b[0m                                  Traceback (most recent call last)",
      "File \u001b[0;32m/Library/Frameworks/Python.framework/Versions/3.10/lib/python3.10/site-packages/pandas/core/indexes/base.py:3802\u001b[0m, in \u001b[0;36mIndex.get_loc\u001b[0;34m(self, key, method, tolerance)\u001b[0m\n\u001b[1;32m   3801\u001b[0m \u001b[39mtry\u001b[39;00m:\n\u001b[0;32m-> 3802\u001b[0m     \u001b[39mreturn\u001b[39;00m \u001b[39mself\u001b[39;49m\u001b[39m.\u001b[39;49m_engine\u001b[39m.\u001b[39;49mget_loc(casted_key)\n\u001b[1;32m   3803\u001b[0m \u001b[39mexcept\u001b[39;00m \u001b[39mKeyError\u001b[39;00m \u001b[39mas\u001b[39;00m err:\n",
      "File \u001b[0;32m/Library/Frameworks/Python.framework/Versions/3.10/lib/python3.10/site-packages/pandas/_libs/index.pyx:138\u001b[0m, in \u001b[0;36mpandas._libs.index.IndexEngine.get_loc\u001b[0;34m()\u001b[0m\n",
      "File \u001b[0;32m/Library/Frameworks/Python.framework/Versions/3.10/lib/python3.10/site-packages/pandas/_libs/index.pyx:165\u001b[0m, in \u001b[0;36mpandas._libs.index.IndexEngine.get_loc\u001b[0;34m()\u001b[0m\n",
      "File \u001b[0;32mpandas/_libs/hashtable_class_helper.pxi:2263\u001b[0m, in \u001b[0;36mpandas._libs.hashtable.Int64HashTable.get_item\u001b[0;34m()\u001b[0m\n",
      "File \u001b[0;32mpandas/_libs/hashtable_class_helper.pxi:2273\u001b[0m, in \u001b[0;36mpandas._libs.hashtable.Int64HashTable.get_item\u001b[0;34m()\u001b[0m\n",
      "\u001b[0;31mKeyError\u001b[0m: 1190274",
      "\nThe above exception was the direct cause of the following exception:\n",
      "\u001b[0;31mKeyError\u001b[0m                                  Traceback (most recent call last)",
      "\u001b[1;32m/Users/egor_demin/Documents/Uni_Info/Recommender Systems/RecSys_Project/content-based-filtering.ipynb Cell 78\u001b[0m line \u001b[0;36m<cell line: 1>\u001b[0;34m()\u001b[0m\n\u001b[0;32m----> <a href='vscode-notebook-cell:/Users/egor_demin/Documents/Uni_Info/Recommender%20Systems/RecSys_Project/content-based-filtering.ipynb#Y136sZmlsZQ%3D%3D?line=0'>1</a>\u001b[0m test_items[[\u001b[39m'\u001b[39;49m\u001b[39mName\u001b[39;49m\u001b[39m'\u001b[39;49m]\u001b[39m+\u001b[39;49mfinal_item_features]\u001b[39m.\u001b[39;49mloc[\u001b[39m1190274\u001b[39;49m,:]\n",
      "File \u001b[0;32m/Library/Frameworks/Python.framework/Versions/3.10/lib/python3.10/site-packages/pandas/core/indexing.py:1067\u001b[0m, in \u001b[0;36m_LocationIndexer.__getitem__\u001b[0;34m(self, key)\u001b[0m\n\u001b[1;32m   1065\u001b[0m     \u001b[39mif\u001b[39;00m \u001b[39mself\u001b[39m\u001b[39m.\u001b[39m_is_scalar_access(key):\n\u001b[1;32m   1066\u001b[0m         \u001b[39mreturn\u001b[39;00m \u001b[39mself\u001b[39m\u001b[39m.\u001b[39mobj\u001b[39m.\u001b[39m_get_value(\u001b[39m*\u001b[39mkey, takeable\u001b[39m=\u001b[39m\u001b[39mself\u001b[39m\u001b[39m.\u001b[39m_takeable)\n\u001b[0;32m-> 1067\u001b[0m     \u001b[39mreturn\u001b[39;00m \u001b[39mself\u001b[39;49m\u001b[39m.\u001b[39;49m_getitem_tuple(key)\n\u001b[1;32m   1068\u001b[0m \u001b[39melse\u001b[39;00m:\n\u001b[1;32m   1069\u001b[0m     \u001b[39m# we by definition only have the 0th axis\u001b[39;00m\n\u001b[1;32m   1070\u001b[0m     axis \u001b[39m=\u001b[39m \u001b[39mself\u001b[39m\u001b[39m.\u001b[39maxis \u001b[39mor\u001b[39;00m \u001b[39m0\u001b[39m\n",
      "File \u001b[0;32m/Library/Frameworks/Python.framework/Versions/3.10/lib/python3.10/site-packages/pandas/core/indexing.py:1247\u001b[0m, in \u001b[0;36m_LocIndexer._getitem_tuple\u001b[0;34m(self, tup)\u001b[0m\n\u001b[1;32m   1245\u001b[0m \u001b[39mwith\u001b[39;00m suppress(IndexingError):\n\u001b[1;32m   1246\u001b[0m     tup \u001b[39m=\u001b[39m \u001b[39mself\u001b[39m\u001b[39m.\u001b[39m_expand_ellipsis(tup)\n\u001b[0;32m-> 1247\u001b[0m     \u001b[39mreturn\u001b[39;00m \u001b[39mself\u001b[39;49m\u001b[39m.\u001b[39;49m_getitem_lowerdim(tup)\n\u001b[1;32m   1249\u001b[0m \u001b[39m# no multi-index, so validate all of the indexers\u001b[39;00m\n\u001b[1;32m   1250\u001b[0m tup \u001b[39m=\u001b[39m \u001b[39mself\u001b[39m\u001b[39m.\u001b[39m_validate_tuple_indexer(tup)\n",
      "File \u001b[0;32m/Library/Frameworks/Python.framework/Versions/3.10/lib/python3.10/site-packages/pandas/core/indexing.py:967\u001b[0m, in \u001b[0;36m_LocationIndexer._getitem_lowerdim\u001b[0;34m(self, tup)\u001b[0m\n\u001b[1;32m    963\u001b[0m \u001b[39mfor\u001b[39;00m i, key \u001b[39min\u001b[39;00m \u001b[39menumerate\u001b[39m(tup):\n\u001b[1;32m    964\u001b[0m     \u001b[39mif\u001b[39;00m is_label_like(key):\n\u001b[1;32m    965\u001b[0m         \u001b[39m# We don't need to check for tuples here because those are\u001b[39;00m\n\u001b[1;32m    966\u001b[0m         \u001b[39m#  caught by the _is_nested_tuple_indexer check above.\u001b[39;00m\n\u001b[0;32m--> 967\u001b[0m         section \u001b[39m=\u001b[39m \u001b[39mself\u001b[39;49m\u001b[39m.\u001b[39;49m_getitem_axis(key, axis\u001b[39m=\u001b[39;49mi)\n\u001b[1;32m    969\u001b[0m         \u001b[39m# We should never have a scalar section here, because\u001b[39;00m\n\u001b[1;32m    970\u001b[0m         \u001b[39m#  _getitem_lowerdim is only called after a check for\u001b[39;00m\n\u001b[1;32m    971\u001b[0m         \u001b[39m#  is_scalar_access, which that would be.\u001b[39;00m\n\u001b[1;32m    972\u001b[0m         \u001b[39mif\u001b[39;00m section\u001b[39m.\u001b[39mndim \u001b[39m==\u001b[39m \u001b[39mself\u001b[39m\u001b[39m.\u001b[39mndim:\n\u001b[1;32m    973\u001b[0m             \u001b[39m# we're in the middle of slicing through a MultiIndex\u001b[39;00m\n\u001b[1;32m    974\u001b[0m             \u001b[39m# revise the key wrt to `section` by inserting an _NS\u001b[39;00m\n",
      "File \u001b[0;32m/Library/Frameworks/Python.framework/Versions/3.10/lib/python3.10/site-packages/pandas/core/indexing.py:1312\u001b[0m, in \u001b[0;36m_LocIndexer._getitem_axis\u001b[0;34m(self, key, axis)\u001b[0m\n\u001b[1;32m   1310\u001b[0m \u001b[39m# fall thru to straight lookup\u001b[39;00m\n\u001b[1;32m   1311\u001b[0m \u001b[39mself\u001b[39m\u001b[39m.\u001b[39m_validate_key(key, axis)\n\u001b[0;32m-> 1312\u001b[0m \u001b[39mreturn\u001b[39;00m \u001b[39mself\u001b[39;49m\u001b[39m.\u001b[39;49m_get_label(key, axis\u001b[39m=\u001b[39;49maxis)\n",
      "File \u001b[0;32m/Library/Frameworks/Python.framework/Versions/3.10/lib/python3.10/site-packages/pandas/core/indexing.py:1260\u001b[0m, in \u001b[0;36m_LocIndexer._get_label\u001b[0;34m(self, label, axis)\u001b[0m\n\u001b[1;32m   1258\u001b[0m \u001b[39mdef\u001b[39;00m \u001b[39m_get_label\u001b[39m(\u001b[39mself\u001b[39m, label, axis: \u001b[39mint\u001b[39m):\n\u001b[1;32m   1259\u001b[0m     \u001b[39m# GH#5567 this will fail if the label is not present in the axis.\u001b[39;00m\n\u001b[0;32m-> 1260\u001b[0m     \u001b[39mreturn\u001b[39;00m \u001b[39mself\u001b[39;49m\u001b[39m.\u001b[39;49mobj\u001b[39m.\u001b[39;49mxs(label, axis\u001b[39m=\u001b[39;49maxis)\n",
      "File \u001b[0;32m/Library/Frameworks/Python.framework/Versions/3.10/lib/python3.10/site-packages/pandas/core/generic.py:4056\u001b[0m, in \u001b[0;36mNDFrame.xs\u001b[0;34m(self, key, axis, level, drop_level)\u001b[0m\n\u001b[1;32m   4054\u001b[0m             new_index \u001b[39m=\u001b[39m index[loc]\n\u001b[1;32m   4055\u001b[0m \u001b[39melse\u001b[39;00m:\n\u001b[0;32m-> 4056\u001b[0m     loc \u001b[39m=\u001b[39m index\u001b[39m.\u001b[39;49mget_loc(key)\n\u001b[1;32m   4058\u001b[0m     \u001b[39mif\u001b[39;00m \u001b[39misinstance\u001b[39m(loc, np\u001b[39m.\u001b[39mndarray):\n\u001b[1;32m   4059\u001b[0m         \u001b[39mif\u001b[39;00m loc\u001b[39m.\u001b[39mdtype \u001b[39m==\u001b[39m np\u001b[39m.\u001b[39mbool_:\n",
      "File \u001b[0;32m/Library/Frameworks/Python.framework/Versions/3.10/lib/python3.10/site-packages/pandas/core/indexes/base.py:3804\u001b[0m, in \u001b[0;36mIndex.get_loc\u001b[0;34m(self, key, method, tolerance)\u001b[0m\n\u001b[1;32m   3802\u001b[0m     \u001b[39mreturn\u001b[39;00m \u001b[39mself\u001b[39m\u001b[39m.\u001b[39m_engine\u001b[39m.\u001b[39mget_loc(casted_key)\n\u001b[1;32m   3803\u001b[0m \u001b[39mexcept\u001b[39;00m \u001b[39mKeyError\u001b[39;00m \u001b[39mas\u001b[39;00m err:\n\u001b[0;32m-> 3804\u001b[0m     \u001b[39mraise\u001b[39;00m \u001b[39mKeyError\u001b[39;00m(key) \u001b[39mfrom\u001b[39;00m \u001b[39merr\u001b[39;00m\n\u001b[1;32m   3805\u001b[0m \u001b[39mexcept\u001b[39;00m \u001b[39mTypeError\u001b[39;00m:\n\u001b[1;32m   3806\u001b[0m     \u001b[39m# If we have a listlike key, _check_indexing_error will raise\u001b[39;00m\n\u001b[1;32m   3807\u001b[0m     \u001b[39m#  InvalidIndexError. Otherwise we fall through and re-raise\u001b[39;00m\n\u001b[1;32m   3808\u001b[0m     \u001b[39m#  the TypeError.\u001b[39;00m\n\u001b[1;32m   3809\u001b[0m     \u001b[39mself\u001b[39m\u001b[39m.\u001b[39m_check_indexing_error(key)\n",
      "\u001b[0;31mKeyError\u001b[0m: 1190274"
     ]
    }
   ],
   "source": [
    "test_items[['Name']+final_item_features].loc[1190274,:]"
   ]
  },
  {
   "cell_type": "code",
   "execution_count": 91,
   "id": "2923eab2",
   "metadata": {},
   "outputs": [
    {
     "name": "stdout",
     "output_type": "stream",
     "text": [
      "decision node 0 : X_test[0,5]\n",
      "decision node 10 : X_test[10,1]\n",
      "decision node 11 : X_test[11,4]\n",
      "decision node 12 : X_test[12,1]\n",
      "decision node 14 : X_test[14,-2]\n"
     ]
    },
    {
     "name": "stderr",
     "output_type": "stream",
     "text": [
      "/Library/Frameworks/Python.framework/Versions/3.10/lib/python3.10/site-packages/sklearn/base.py:439: UserWarning: X does not have valid feature names, but DecisionTreeRegressor was fitted with feature names\n",
      "  warnings.warn(\n"
     ]
    }
   ],
   "source": [
    "node_indicator = decision_path\n",
    "leaf_id = tree_regressor.apply([test_X.iloc[0,:]])\n",
    "for node_id in node_indices:\n",
    "    # continue to the next node if it is a leaf node\n",
    "    # if leaf_id[sample_id] == node_id:\n",
    "    #     continue\n",
    "    if node_id==leaf_id:\n",
    "        continue\n",
    "    \n",
    "    print(\n",
    "        \"decision node {node} : X_test[{sample},{feature}]\".format(\n",
    "            node=node_id,\n",
    "            sample=node_id,\n",
    "            feature=feature_indices[node_id],\n",
    "        )\n",
    "    )\n"
   ]
  },
  {
   "cell_type": "markdown",
   "id": "bb126994",
   "metadata": {},
   "source": [
    "### Showcase"
   ]
  },
  {
   "cell_type": "code",
   "execution_count": 92,
   "id": "e003bacd",
   "metadata": {},
   "outputs": [
    {
     "name": "stdout",
     "output_type": "stream",
     "text": [
      "Username: Comfect | Number of interactions: 16\n"
     ]
    }
   ],
   "source": [
    "user = random.sample(list(all_user_names), num_users_test)[0]\n",
    "X, y = generate_Xy_for_user(user, user_item_all_features[final_item_features])\n",
    "print(f\"Username: {user} | Number of interactions: {X.shape[0]}\")"
   ]
  },
  {
   "cell_type": "code",
   "execution_count": 93,
   "id": "b746330d",
   "metadata": {},
   "outputs": [],
   "source": [
    "# train a tree\n",
    "train_X, test_X, train_y, test_y = train_test_split(X,y, test_size=0.2, random_state=42)\n",
    "tree_regressor.fit(train_X, train_y)\n",
    "predicted_y = tree_regressor.predict(test_X)\n",
    "\n",
    "item_ratings = test_y.to_frame().copy()\n",
    "item_ratings['predicted'] = predicted_y\n",
    "        \n",
    "RMSE = ((item_ratings['rating']-item_ratings['predicted'])**2).mean(0)**0.5\n",
    "MAE = (abs(item_ratings['rating']-item_ratings['predicted'])).mean(0)\n",
    "\n",
    "interacted_items = user_item_complete[user_item_complete.index.isin(X.index)]\n",
    "test_items = user_item_complete[user_item_complete.index.isin(test_X.index)]\n",
    "important_features = ['Name']+final_item_features"
   ]
  },
  {
   "cell_type": "code",
   "execution_count": 94,
   "id": "a2b8142a",
   "metadata": {},
   "outputs": [],
   "source": [
    "def explain_prediction(item_data, test_X, tree_reg, k=3):\n",
    "    \"\"\" will explain the recommendation using top k important features for the particular item\"\"\"\n",
    "    item_id = item_data.name\n",
    "    item_Name = item_data.Name\n",
    "    test_ids = test_X.index\n",
    "    if item_id not in test_ids:\n",
    "        return \"No such item in the test set\"\n",
    "    \n",
    "    decision_path = tree_regressor.decision_path([test_X.loc[item_id,:]])\n",
    "    node_indices = decision_path.indices\n",
    "    feature_indices = tree_regressor.tree_.feature\n",
    "    feature_names = test_X.columns  \n",
    "    used_features = [feature_names[i] for i in feature_indices[node_indices] if i > 0]\n",
    "    # print(used_features)\n",
    "    selected_features = get_features_sorted(used_features, feature_names, tree_regressor.feature_importances_)\n",
    "    # print(selected_features)\n",
    "    \n",
    "    explaining_fs = []\n",
    "    for f in selected_features:\n",
    "        if len(explaining_fs) <= k or f[1] != 0:\n",
    "            explaining_fs.append(f[0])\n",
    "    \n",
    "        \n",
    "    if len(explaining_fs):\n",
    "        return f\"The game '{item_Name}' is recommended to you because you like games in the following categories: {', '.join(explaining_fs)}\""
   ]
  },
  {
   "cell_type": "code",
   "execution_count": 95,
   "id": "6164ba07",
   "metadata": {},
   "outputs": [
    {
     "name": "stderr",
     "output_type": "stream",
     "text": [
      "/Library/Frameworks/Python.framework/Versions/3.10/lib/python3.10/site-packages/sklearn/base.py:439: UserWarning: X does not have valid feature names, but DecisionTreeRegressor was fitted with feature names\n",
      "  warnings.warn(\n"
     ]
    },
    {
     "data": {
      "text/plain": [
       "\"The game '7 Wonders' is recommended to you because you like games in the following categories: MfgAgeRec, NumUserRatings, NumExpansions, MfgPlaytime\""
      ]
     },
     "execution_count": 95,
     "metadata": {},
     "output_type": "execute_result"
    }
   ],
   "source": [
    "item = test_items[important_features].sample(1).iloc[0]\n",
    "explain_prediction(item, test_X, tree_regressor, k=3)"
   ]
  },
  {
   "cell_type": "code",
   "execution_count": 96,
   "id": "8bf3be1d",
   "metadata": {},
   "outputs": [
    {
     "data": {
      "text/plain": [
       "['LanguageEase',\n",
       " 'NumWant',\n",
       " 'ComMinPlaytime',\n",
       " 'NumExpansions',\n",
       " 'Rank:boardgame',\n",
       " 'NumUserRatings',\n",
       " 'GameWeight',\n",
       " 'Cat:Family',\n",
       " 'Cat:Strategy',\n",
       " 'MfgPlaytime',\n",
       " 'Rank:childrensgames',\n",
       " 'Rank:strategygames',\n",
       " 'rating',\n",
       " 'Cat:Childrens',\n",
       " 'Rank:partygames',\n",
       " 'Kickstarted',\n",
       " 'MfgAgeRec',\n",
       " 'Cat:Party',\n",
       " 'ComMaxPlaytime',\n",
       " 'MinPlayers',\n",
       " 'BestPlayers',\n",
       " 'ComAgeRec',\n",
       " 'NumOwned',\n",
       " 'item',\n",
       " 'user']"
      ]
     },
     "execution_count": 96,
     "metadata": {},
     "output_type": "execute_result"
    }
   ],
   "source": [
    "\n",
    "final_item_features"
   ]
  },
  {
   "cell_type": "code",
   "execution_count": 97,
   "id": "78eab8ea",
   "metadata": {},
   "outputs": [],
   "source": [
    "rank_fs = {'Rank:boardgame':'general','Rank:strategygames':'strategy games','Rank:childrensgames':'children games','Rank:partygames':'party games'}\n",
    "num_fs = {'NumWant':'wanted','NumOwned':'owned'}\n",
    "cat_fs = {'Cat:Party':'party','Cat:Childrens':'childrens','Cat:Strategy':'strategy'}\n",
    "other_fs = {'BestPlayers':' the optimal number of players indicated by the community','GameWeight':'easiness/difficulty of a game','ComAgeRec':'the common age to play a game','Kickstarted':'whether a game is kickstarted or not','MinPlayers':'the minimum number of players','LanguageEase':'how difficulat a game language is','MfgAgeRec':'the recommended by the manufacturer age'}\n",
    "connectors = {0:'', 1:'Also, ', 2:'At the same time, ', 3:'Finally, '}\n",
    "\n",
    "def write_explanation(explanation_fs, game_name):\n",
    "    rank_exp = 'we noticed that you like board games ranked high in the '\n",
    "    num_exp = 'we found out that you like board games with a high number of '\n",
    "    cat_exp = 'we observed that you like board games in '\n",
    "    other_exp = 'we spotted that you put a lot of emphasis'\n",
    "    connector = ''\n",
    "    count = 0\n",
    "    \n",
    "    explanation = f'The game {game_name} is recommended to you because '\n",
    "    \n",
    "    # rank explanation\n",
    "    rank_active_exps = [f for f in explanation_fs if f in rank_fs.keys()]\n",
    "    if len(rank_active_exps) >= 1:\n",
    "        explanation += rank_exp + ', '.join(rank_active_exps) + 'rankings. '\n",
    "        count += 1\n",
    "    elif len(rank_active_exps) == 1:\n",
    "        explanation += rank_exp + rank_active_exps[0] + ' ranking. '\n",
    "        count += 1\n",
    "        \n",
    "    # count explanation\n",
    "    num_active_exps = [f for f in explanation_fs if f in num_fs.keys()]\n",
    "    if len(num_active_exps) >= 1:\n",
    "        explanation += connectors[count] + num_exp + ', '.join(num_active_exps) + 'games by other users. '\n",
    "        count += 1\n",
    "    elif len(num_active_exps) == 1:\n",
    "        explanation += connectors[count] + num_exp + num_active_exps[0] + ' games by other users. '\n",
    "        count += 1\n",
    "        \n",
    "    # category explanations\n",
    "    cat_active_exps = [f for f in explanation_fs if f in cat_fs.keys()]\n",
    "    if len(cat_active_exps) >= 1:\n",
    "        explanation += connectors[count] + cat_exp + ', '.join(cat_active_exps) + 'categories. '\n",
    "        count += 1\n",
    "    elif len(cat_active_exps) == 1:\n",
    "        explanation += connectors[count] + cat_exp + cat_active_exps[0] + 'category. '\n",
    "        count += 1\n",
    "    \n",
    "    other_active_exps = [f for f in explanation_fs if f in other_fs.keys()]\n",
    "    explanation += connector[count] + other_exp \n",
    "    if len(other_active_exps) >= 1:\n",
    "        explanation += ', '.join(other_active_exps) + '. '\n",
    "    elif len(other_active_exps) == 1:\n",
    "        explanation += other_active_exps[0] + ' . '\n",
    "        \n",
    "    return explanation    "
   ]
  },
  {
   "cell_type": "code",
   "execution_count": null,
   "id": "3e061489",
   "metadata": {},
   "outputs": [],
   "source": []
  }
 ],
 "metadata": {
  "kernelspec": {
   "display_name": "Python 3 (ipykernel)",
   "language": "python",
   "name": "python3"
  },
  "language_info": {
   "codemirror_mode": {
    "name": "ipython",
    "version": 3
   },
   "file_extension": ".py",
   "mimetype": "text/x-python",
   "name": "python",
   "nbconvert_exporter": "python",
   "pygments_lexer": "ipython3",
   "version": "3.10.0"
  }
 },
 "nbformat": 4,
 "nbformat_minor": 5
}
