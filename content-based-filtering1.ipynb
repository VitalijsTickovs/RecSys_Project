{
 "cells": [
  {
   "cell_type": "markdown",
   "id": "cfcc6604",
   "metadata": {
    "scrolled": false
   },
   "source": [
    "### Implementation of Content-based Filtering"
   ]
  },
  {
   "cell_type": "code",
   "execution_count": 1,
   "id": "7de99a34",
   "metadata": {
    "ExecuteTime": {
     "start_time": "2023-10-08T21:27:55.029524Z",
     "end_time": "2023-10-08T21:27:55.256344Z"
    }
   },
   "outputs": [],
   "source": [
    "import pandas as pd\n",
    "import numpy as np\n",
    "import time\n",
    "import math\n",
    "from math import sqrt\n",
    "import random\n",
    "import matplotlib.pyplot as plt\n",
    "import seaborn as sns\n",
    "import plotly.express as px\n",
    "from scipy.stats import pearsonr\n",
    "from scipy.sparse import csr_matrix\n",
    "from xgboost import XGBRegressor\n",
    "import pickle\n",
    "\n",
    "from sklearn.manifold import TSNE\n",
    "from sklearn.model_selection import train_test_split\n",
    "from sklearn.svm import SVR\n",
    "from sklearn.preprocessing import StandardScaler\n",
    "from sklearn.metrics import mean_squared_error\n",
    "from sklearn.metrics import mean_absolute_error\n",
    "from sklearn.tree import DecisionTreeRegressor\n",
    "from sklearn import tree\n",
    "random.seed(42)\n"
   ]
  },
  {
   "cell_type": "code",
   "execution_count": 2,
   "id": "c90a4fbd",
   "metadata": {
    "ExecuteTime": {
     "start_time": "2023-10-08T21:27:55.257578Z",
     "end_time": "2023-10-08T21:28:00.692131Z"
    }
   },
   "outputs": [],
   "source": [
    "data_folder = 'Dataset/'\n",
    "user_item_ratings_reduced = pd.read_csv(f'{data_folder}user_ratings_reduced.csv')\n",
    "user_item_ratings_reduced = user_item_ratings_reduced.drop(columns=[\"Unnamed: 0\"])\n",
    "item_ratings_df = pd.read_csv(data_folder + 'user_ratings.csv')\n",
    "item_info = pd.read_csv(data_folder + 'games.csv')\n",
    "item_mecahnics = pd.read_csv(data_folder + 'mechanics.csv')\n",
    "item_subcategories = pd.read_csv(data_folder + 'subcategories.csv')\n",
    "item_themes = pd.read_csv(data_folder + 'themes.csv')"
   ]
  },
  {
   "cell_type": "code",
   "execution_count": 3,
   "outputs": [],
   "source": [
    "# user_item_ratings_reduced['rating'] = user_item_ratings_reduced['rating'].round(0).astype(int)"
   ],
   "metadata": {
    "collapsed": false,
    "ExecuteTime": {
     "start_time": "2023-10-08T21:28:00.690836Z",
     "end_time": "2023-10-08T21:28:00.693319Z"
    }
   }
  },
  {
   "cell_type": "code",
   "execution_count": 4,
   "id": "787c0d6d",
   "metadata": {
    "ExecuteTime": {
     "start_time": "2023-10-08T21:28:00.727495Z",
     "end_time": "2023-10-08T21:28:00.844383Z"
    }
   },
   "outputs": [],
   "source": [
    "user_item_rating_count = user_item_ratings_reduced.groupby('user').count()"
   ]
  },
  {
   "cell_type": "code",
   "execution_count": 5,
   "id": "edbda74f",
   "metadata": {
    "ExecuteTime": {
     "start_time": "2023-10-08T21:28:00.844530Z",
     "end_time": "2023-10-08T21:28:00.918268Z"
    }
   },
   "outputs": [],
   "source": [
    "min_rating_count = 10\n",
    "user_rating_count = user_item_rating_count[user_item_rating_count['rating'] >= min_rating_count]\n",
    "user_list_filtered = list(user_rating_count.index)\n",
    "user_item_ratings_filtered = user_item_ratings_reduced[user_item_ratings_reduced['user'].isin(user_list_filtered)]"
   ]
  },
  {
   "cell_type": "code",
   "execution_count": 6,
   "id": "47e19bb9",
   "metadata": {
    "ExecuteTime": {
     "start_time": "2023-10-08T21:28:00.921466Z",
     "end_time": "2023-10-08T21:28:00.928848Z"
    }
   },
   "outputs": [
    {
     "data": {
      "text/plain": "     item  rating      user\n1  203416     8.0  -=Yod@=-\n2  271896     8.0  -=Yod@=-\n3   38054     6.0  -=Yod@=-\n4  312267     5.0  -=Yod@=-\n5   68448     9.0  -=Yod@=-",
      "text/html": "<div>\n<style scoped>\n    .dataframe tbody tr th:only-of-type {\n        vertical-align: middle;\n    }\n\n    .dataframe tbody tr th {\n        vertical-align: top;\n    }\n\n    .dataframe thead th {\n        text-align: right;\n    }\n</style>\n<table border=\"1\" class=\"dataframe\">\n  <thead>\n    <tr style=\"text-align: right;\">\n      <th></th>\n      <th>item</th>\n      <th>rating</th>\n      <th>user</th>\n    </tr>\n  </thead>\n  <tbody>\n    <tr>\n      <th>1</th>\n      <td>203416</td>\n      <td>8.0</td>\n      <td>-=Yod@=-</td>\n    </tr>\n    <tr>\n      <th>2</th>\n      <td>271896</td>\n      <td>8.0</td>\n      <td>-=Yod@=-</td>\n    </tr>\n    <tr>\n      <th>3</th>\n      <td>38054</td>\n      <td>6.0</td>\n      <td>-=Yod@=-</td>\n    </tr>\n    <tr>\n      <th>4</th>\n      <td>312267</td>\n      <td>5.0</td>\n      <td>-=Yod@=-</td>\n    </tr>\n    <tr>\n      <th>5</th>\n      <td>68448</td>\n      <td>9.0</td>\n      <td>-=Yod@=-</td>\n    </tr>\n  </tbody>\n</table>\n</div>"
     },
     "execution_count": 6,
     "metadata": {},
     "output_type": "execute_result"
    }
   ],
   "source": [
    "user_item_ratings_filtered.head()"
   ]
  },
  {
   "cell_type": "markdown",
   "id": "a3cf9602",
   "metadata": {},
   "source": [
    "### Preprocessing"
   ]
  },
  {
   "cell_type": "code",
   "execution_count": 7,
   "outputs": [],
   "source": [
    "# item_ratings_df = pd.read_csv(data_folder + 'user_ratings.csv')\n",
    "# item_info = pd.read_csv(data_folder + 'games.csv')\n",
    "# item_mecahnics = pd.read_csv(data_folder + 'mechanics.csv')\n",
    "# item_subcategories = pd.read_csv(data_folder + 'subcategories.csv')\n",
    "# item_themes = pd.read_csv(data_folder + 'themes.csv')"
   ],
   "metadata": {
    "collapsed": false,
    "ExecuteTime": {
     "start_time": "2023-10-08T21:28:00.930452Z",
     "end_time": "2023-10-08T21:28:00.931779Z"
    }
   }
  },
  {
   "cell_type": "code",
   "execution_count": 8,
   "id": "2ac8504c",
   "metadata": {
    "ExecuteTime": {
     "start_time": "2023-10-08T21:28:00.931956Z",
     "end_time": "2023-10-08T21:28:01.460627Z"
    }
   },
   "outputs": [],
   "source": [
    "item_info.rename(columns={'BGGId':'item'},inplace=True)\n",
    "# get comeplete user-catalog data\n",
    "user_item_complete = pd.merge(user_item_ratings_filtered, item_info, on='item', how='inner')\n",
    "# item_info.info() \n",
    "# item_info[['GoodPlayers', 'Family', 'ImagePath']].head()\n",
    "non_numerical_features = ['user','Name','Description', 'item', 'GoodPlayers', 'Family', 'ImagePath']"
   ]
  },
  {
   "cell_type": "code",
   "execution_count": 9,
   "id": "f4d06d3d",
   "metadata": {
    "ExecuteTime": {
     "start_time": "2023-10-08T21:28:01.463525Z",
     "end_time": "2023-10-08T21:28:01.467585Z"
    }
   },
   "outputs": [
    {
     "data": {
      "text/plain": "Index(['item', 'rating', 'user', 'Name', 'Description', 'YearPublished',\n       'GameWeight', 'AvgRating', 'BayesAvgRating', 'StdDev', 'MinPlayers',\n       'MaxPlayers', 'ComAgeRec', 'LanguageEase', 'BestPlayers', 'GoodPlayers',\n       'NumOwned', 'NumWant', 'NumWish', 'NumWeightVotes', 'MfgPlaytime',\n       'ComMinPlaytime', 'ComMaxPlaytime', 'MfgAgeRec', 'NumUserRatings',\n       'NumComments', 'NumAlternates', 'NumExpansions', 'NumImplementations',\n       'IsReimplementation', 'Family', 'Kickstarted', 'ImagePath',\n       'Rank:boardgame', 'Rank:strategygames', 'Rank:abstracts',\n       'Rank:familygames', 'Rank:thematic', 'Rank:cgs', 'Rank:wargames',\n       'Rank:partygames', 'Rank:childrensgames', 'Cat:Thematic',\n       'Cat:Strategy', 'Cat:War', 'Cat:Family', 'Cat:CGS', 'Cat:Abstract',\n       'Cat:Party', 'Cat:Childrens'],\n      dtype='object')"
     },
     "execution_count": 9,
     "metadata": {},
     "output_type": "execute_result"
    }
   ],
   "source": [
    "user_item_complete.columns"
   ]
  },
  {
   "cell_type": "code",
   "execution_count": 10,
   "id": "9f744423",
   "metadata": {
    "ExecuteTime": {
     "start_time": "2023-10-08T21:28:01.483405Z",
     "end_time": "2023-10-08T21:28:02.427760Z"
    }
   },
   "outputs": [],
   "source": [
    "# find a median rating for each user\n",
    "median_rating = user_item_complete.groupby('user')['rating'].median().rename('median_rating').reset_index()\n",
    "user_item_complete = pd.merge(user_item_complete, median_rating, on='user', how='inner')"
   ]
  },
  {
   "cell_type": "code",
   "execution_count": 11,
   "id": "060e8953",
   "metadata": {
    "ExecuteTime": {
     "start_time": "2023-10-08T21:28:02.426859Z",
     "end_time": "2023-10-08T21:28:02.430021Z"
    }
   },
   "outputs": [
    {
     "data": {
      "text/plain": "(1228331, 51)"
     },
     "execution_count": 11,
     "metadata": {},
     "output_type": "execute_result"
    }
   ],
   "source": [
    "user_item_complete.shape"
   ]
  },
  {
   "cell_type": "markdown",
   "id": "123d4756",
   "metadata": {},
   "source": [
    "User-Item matrix has size (1_228_331, 51) after selecting users with >= `min_rating_count`\n",
    "\n",
    "User-Item matrix has size (771_551, 51) after selecting items for users with rating higher than their mean rating"
   ]
  },
  {
   "cell_type": "code",
   "execution_count": 12,
   "id": "c10861d6",
   "metadata": {
    "ExecuteTime": {
     "start_time": "2023-10-08T21:28:02.429867Z",
     "end_time": "2023-10-08T21:28:03.512700Z"
    }
   },
   "outputs": [
    {
     "name": "stderr",
     "output_type": "stream",
     "text": [
      "/var/folders/hc/hnq3mts53txg3k7xbmj90z_80000gn/T/ipykernel_11748/2750365072.py:4: SettingWithCopyWarning: \n",
      "A value is trying to be set on a copy of a slice from a DataFrame\n",
      "\n",
      "See the caveats in the documentation: https://pandas.pydata.org/pandas-docs/stable/user_guide/indexing.html#returning-a-view-versus-a-copy\n",
      "  user_item_favourite['ComAgeRec'].fillna(user_item_favourite['ComAgeRec'].mean(), inplace=True)\n",
      "/var/folders/hc/hnq3mts53txg3k7xbmj90z_80000gn/T/ipykernel_11748/2750365072.py:5: SettingWithCopyWarning: \n",
      "A value is trying to be set on a copy of a slice from a DataFrame\n",
      "\n",
      "See the caveats in the documentation: https://pandas.pydata.org/pandas-docs/stable/user_guide/indexing.html#returning-a-view-versus-a-copy\n",
      "  user_item_favourite['LanguageEase'].fillna(user_item_favourite['LanguageEase'].mean(), inplace=True)\n",
      "/var/folders/hc/hnq3mts53txg3k7xbmj90z_80000gn/T/ipykernel_11748/2750365072.py:7: FutureWarning: The default value of numeric_only in DataFrameGroupBy.median is deprecated. In a future version, numeric_only will default to False. Either specify numeric_only or select only columns which should be valid for the function.\n",
      "  user_representation = user_item_favourite.groupby('user').median().reset_index()\n",
      "/var/folders/hc/hnq3mts53txg3k7xbmj90z_80000gn/T/ipykernel_11748/2750365072.py:10: SettingWithCopyWarning: \n",
      "A value is trying to be set on a copy of a slice from a DataFrame\n",
      "\n",
      "See the caveats in the documentation: https://pandas.pydata.org/pandas-docs/stable/user_guide/indexing.html#returning-a-view-versus-a-copy\n",
      "  user_item_favourite.drop(columns=non_numerical_features, inplace=True)\n"
     ]
    }
   ],
   "source": [
    "# creating user represenations\n",
    "user_item_favourite = user_item_complete[user_item_complete['rating']>=user_item_complete['median_rating']]\n",
    "\n",
    "user_item_favourite['ComAgeRec'].fillna(user_item_favourite['ComAgeRec'].mean(), inplace=True)\n",
    "user_item_favourite['LanguageEase'].fillna(user_item_favourite['LanguageEase'].mean(), inplace=True)\n",
    "\n",
    "user_representation = user_item_favourite.groupby('user').median().reset_index()\n",
    "user_representation_wnames = user_representation['user']\n",
    "user_representation.drop(columns=['user'], inplace=True)\n",
    "user_item_favourite.drop(columns=non_numerical_features, inplace=True)"
   ]
  },
  {
   "cell_type": "code",
   "execution_count": 13,
   "id": "c7c8e715",
   "metadata": {
    "ExecuteTime": {
     "start_time": "2023-10-08T21:28:03.511658Z",
     "end_time": "2023-10-08T21:28:03.515543Z"
    }
   },
   "outputs": [
    {
     "data": {
      "text/plain": "(51149, 45)"
     },
     "execution_count": 13,
     "metadata": {},
     "output_type": "execute_result"
    }
   ],
   "source": [
    "user_representation.shape"
   ]
  },
  {
   "cell_type": "markdown",
   "id": "a7c4f119",
   "metadata": {},
   "source": [
    "### Analysis of user preference clusters\n",
    " > based on TSNE clusterings of users with similar preferences, several groups of users were investigated to check if there are differences in prederences between clusters. The analysis showed that all the groups have approximately similar preferences. Hence, no need to create different features per user group"
   ]
  },
  {
   "cell_type": "code",
   "execution_count": 14,
   "id": "bf63c1ca",
   "metadata": {
    "ExecuteTime": {
     "start_time": "2023-10-08T21:28:03.514387Z",
     "end_time": "2023-10-08T21:28:03.518415Z"
    }
   },
   "outputs": [],
   "source": [
    "def get_all_items_for_user(username, complete_df):\n",
    "    return complete_df[complete_df['user']==username].drop(columns=['user'])"
   ]
  },
  {
   "cell_type": "code",
   "execution_count": 15,
   "id": "973195e6",
   "metadata": {
    "ExecuteTime": {
     "start_time": "2023-10-08T21:28:03.518078Z",
     "end_time": "2023-10-08T21:28:03.521928Z"
    }
   },
   "outputs": [],
   "source": [
    "def add_avg_group_rating(selected_items, group, complete):\n",
    "    selected_items.reset_index(drop=True, inplace=True)\n",
    "    selected_items['avg_group_rating'] = 0\n",
    "    group_users = group['user'].unique()\n",
    "    for index,item in selected_items.iterrows():\n",
    "        item_in_group = complete[(complete['user'].isin(group_users))&(complete['item']==item['item'])]\n",
    "        average_group_rating = item_in_group['rating'].mean()\n",
    "        item['avg_group_rating'] = average_group_rating\n",
    "        selected_items.iloc[index,:] = item\n",
    "        \n",
    "    return selected_items\n"
   ]
  },
  {
   "cell_type": "code",
   "execution_count": 16,
   "id": "6fd36746",
   "metadata": {
    "ExecuteTime": {
     "start_time": "2023-10-08T21:28:03.522583Z",
     "end_time": "2023-10-08T21:30:14.436859Z"
    }
   },
   "outputs": [],
   "source": [
    "all_users = pd.merge(user_representation, user_representation_wnames,left_index=True, right_index=True, how='left')\n",
    "all_items = add_avg_group_rating(user_item_complete.sample(frac=0.005, random_state=42), all_users, user_item_complete)"
   ]
  },
  {
   "cell_type": "code",
   "execution_count": 17,
   "id": "384a9510",
   "metadata": {
    "ExecuteTime": {
     "start_time": "2023-10-08T21:30:14.437296Z",
     "end_time": "2023-10-08T21:30:14.440716Z"
    }
   },
   "outputs": [],
   "source": [
    "def save(obj):\n",
    "    def get_variable_name(var):\n",
    "        # Iterate over the global variables\n",
    "        for name, value in globals().items():\n",
    "            if value is var:\n",
    "                return name\n",
    "        return None\n",
    "    name = get_variable_name(obj)\n",
    "    with open(name+\".pkl\", \"wb\") as f: # \"wb\" because we want to write in binary mode\n",
    "        pickle.dump(obj, f)\n",
    "        \n",
    "def open(path):\n",
    "    return pickle.loads(path)"
   ]
  },
  {
   "cell_type": "code",
   "execution_count": 18,
   "id": "07328e4a",
   "metadata": {
    "ExecuteTime": {
     "start_time": "2023-10-08T21:30:14.440550Z",
     "end_time": "2023-10-08T21:30:14.444136Z"
    }
   },
   "outputs": [],
   "source": [
    "def test_stat_significance(feature_name, selected_items):\n",
    "    \"\"\" test whether an item feature has statistically significant \n",
    "        correlation (Pearson) with a group rating\n",
    "    \"\"\"\n",
    "\n",
    "    feature = selected_items[feature_name].dropna()\n",
    "    ratings = selected_items['avg_group_rating'].reindex(feature.index).values\n",
    "    feature = feature.values\n",
    "    \n",
    "    r, p = pearsonr(ratings, feature)\n",
    "    \n",
    "    significant = False\n",
    "    if p < 0.05:\n",
    "        significant = True\n",
    "\n",
    "    # print(f'feature {feature_name} has p-value {round(p,2)}, significant: {significant}, correlation: {round(r,2)}')\n",
    "    return r, significant\n"
   ]
  },
  {
   "cell_type": "code",
   "execution_count": 19,
   "id": "a973b94d",
   "metadata": {
    "ExecuteTime": {
     "start_time": "2023-10-08T21:30:14.444773Z",
     "end_time": "2023-10-08T21:30:14.446705Z"
    }
   },
   "outputs": [],
   "source": [
    "def find_group_features(group_items, complete):\n",
    "    features = group_items.columns\n",
    "    group_features = []\n",
    "    for feature_name in features:\n",
    "        if feature_name in non_numerical_features:\n",
    "            continue\n",
    "        \n",
    "        correlation, significant = test_stat_significance(feature_name, group_items)\n",
    "        \n",
    "        if significant and abs(correlation) > 0.10:\n",
    "            group_features.append(feature_name)\n",
    "    return group_features"
   ]
  },
  {
   "cell_type": "code",
   "execution_count": 20,
   "id": "f7791867",
   "metadata": {
    "ExecuteTime": {
     "start_time": "2023-10-08T21:30:14.447082Z",
     "end_time": "2023-10-08T21:30:14.483159Z"
    }
   },
   "outputs": [
    {
     "name": "stderr",
     "output_type": "stream",
     "text": [
      "/Users/Vitalij/Desktop/RecSys Project/venv/lib/python3.8/site-packages/scipy/stats/_stats_py.py:4424: ConstantInputWarning: An input array is constant; the correlation coefficient is not defined.\n",
      "  warnings.warn(stats.ConstantInputWarning(msg))\n"
     ]
    }
   ],
   "source": [
    "sign_user_preferences = set(find_group_features(all_items, user_item_complete))"
   ]
  },
  {
   "cell_type": "code",
   "execution_count": 21,
   "id": "4dc4338a",
   "metadata": {
    "ExecuteTime": {
     "start_time": "2023-10-08T21:30:14.481579Z",
     "end_time": "2023-10-08T21:30:14.487334Z"
    }
   },
   "outputs": [],
   "source": [
    "rating_features = ['AvgRating', 'BayesAvgRating', 'StdDev', 'avg_group_rating', 'median_rating']"
   ]
  },
  {
   "cell_type": "markdown",
   "id": "7580b7c2",
   "metadata": {},
   "source": [
    "### Item Features for Content-Based Filtering\n",
    "- the features which have correlation with an average rating more than 0.15 in absolute values\n",
    "- are not rating features\n",
    "- are statistically significant\n",
    "\n",
    "\n",
    "The features (19) were received:\n",
    "```\n",
    " 'Rank:boardgame',\n",
    " 'Rank:strategygames',\n",
    " 'Rank:childrensgames',\n",
    " 'Rank:partygames',\n",
    "\n",
    " 'NumWant',\n",
    " 'NumWish',\n",
    " 'NumUserRatings',\n",
    " 'NumOwned',\n",
    " 'NumWeightVotes',\n",
    "\n",
    " 'BestPlayers',\n",
    " 'GameWeight',\n",
    " 'ComAgeRec',\n",
    " 'Kickstarted',\n",
    " 'MinPlayers',\n",
    " 'LanguageEase',\n",
    " 'MfgAgeRec'\n",
    "\n",
    " 'Cat:Party',\n",
    " 'Cat:Childrens',\n",
    " 'Cat:Strategy',\n",
    " ```\n",
    "\n",
    "Based on the analysis of the correlation of similar features from the list, the following were discarded:\n",
    "\n",
    " `'NumWish', 'NumWeightVotes'`"
   ]
  },
  {
   "cell_type": "code",
   "execution_count": 22,
   "id": "8d29d440",
   "metadata": {
    "ExecuteTime": {
     "start_time": "2023-10-08T21:30:14.485047Z",
     "end_time": "2023-10-08T21:30:14.487490Z"
    }
   },
   "outputs": [],
   "source": [
    "final_item_features = [f for f in (list(sign_user_preferences) + ['item','user']) if f not in rating_features + ['NumWish','NumWeightVotes']]"
   ]
  },
  {
   "cell_type": "code",
   "execution_count": 23,
   "id": "72770590",
   "metadata": {
    "ExecuteTime": {
     "start_time": "2023-10-08T21:30:14.489109Z",
     "end_time": "2023-10-08T21:30:14.625737Z"
    }
   },
   "outputs": [],
   "source": [
    "mechanics_features = ['mechanic_' + i if not i == 'BGGId' else i for i in item_mecahnics.columns]\n",
    "subcategory_features = ['subcategory_' + i if not i == 'BGGId' else i for i in item_subcategories.columns]\n",
    "theme_features = ['theme_' + i.split('_')[-1] if not i == 'BGGId' else i for i in item_themes.columns]\n",
    "\n",
    "item_mecahnics.columns = mechanics_features\n",
    "item_subcategories.columns = subcategory_features\n",
    "item_themes.columns = theme_features\n",
    "\n",
    "item_catalog = pd.merge(item_mecahnics, item_subcategories, on='BGGId', how='outer')\n",
    "item_catalog = pd.merge(item_catalog, item_themes, on='BGGId', how='outer')"
   ]
  },
  {
   "cell_type": "code",
   "execution_count": 24,
   "id": "4f029286",
   "metadata": {
    "ExecuteTime": {
     "start_time": "2023-10-08T21:30:14.627139Z",
     "end_time": "2023-10-08T21:30:17.259980Z"
    }
   },
   "outputs": [],
   "source": [
    "user_item_selected = user_item_complete[final_item_features]\n",
    "user_item_all_features = pd.merge(user_item_selected, item_catalog, left_on='item', right_on='BGGId', how='left')"
   ]
  },
  {
   "cell_type": "code",
   "execution_count": 25,
   "id": "2d18e0f4",
   "metadata": {
    "ExecuteTime": {
     "start_time": "2023-10-08T21:30:17.258934Z",
     "end_time": "2023-10-08T21:30:17.274668Z"
    }
   },
   "outputs": [
    {
     "data": {
      "text/plain": "Index(['user'], dtype='object')"
     },
     "execution_count": 25,
     "metadata": {},
     "output_type": "execute_result"
    }
   ],
   "source": [
    "user_item_all_features.select_dtypes(include=['object']).columns"
   ]
  },
  {
   "cell_type": "code",
   "execution_count": 26,
   "id": "ea7ccf5a",
   "metadata": {
    "ExecuteTime": {
     "start_time": "2023-10-08T21:30:17.302367Z",
     "end_time": "2023-10-08T21:30:17.336564Z"
    }
   },
   "outputs": [],
   "source": [
    "all_user_names = user_item_all_features.user.unique()"
   ]
  },
  {
   "cell_type": "code",
   "execution_count": 182,
   "outputs": [
    {
     "data": {
      "text/plain": "         ComMaxPlaytime  MfgAgeRec  LanguageEase  NumExpansions  Kickstarted  \\\n227086               45          8           NaN              0            0   \n333010               45          8           NaN              0            0   \n442881               45          8           NaN              0            0   \n808612               45          8           NaN              0            0   \n1046734              45          8           NaN              0            0   \n1174991              45          8           NaN              0            0   \n\n         Rank:boardgame  Rank:strategygames  rating  Rank:childrensgames  \\\n227086            10921               21926     5.0                21926   \n333010            10921               21926     8.0                21926   \n442881            10921               21926     7.0                21926   \n808612            10921               21926     6.0                21926   \n1046734           10921               21926     6.0                21926   \n1174991           10921               21926     8.0                21926   \n\n         Rank:partygames  ...  GameWeight  ComAgeRec  NumWant  MinPlayers  \\\n227086             21926  ...       1.875        NaN        8           3   \n333010             21926  ...       1.875        NaN        8           3   \n442881             21926  ...       1.875        NaN        8           3   \n808612             21926  ...       1.875        NaN        8           3   \n1046734            21926  ...       1.875        NaN        8           3   \n1174991            21926  ...       1.875        NaN        8           3   \n\n         Cat:Party  ComMinPlaytime  NumUserRatings  MfgPlaytime  item  \\\n227086           0              45             175           45  5467   \n333010           0              45             175           45  5467   \n442881           0              45             175           45  5467   \n808612           0              45             175           45  5467   \n1046734          0              45             175           45  5467   \n1174991          0              45             175           45  5467   \n\n                     user  \n227086      BoardGameDude  \n333010            Aquafan  \n442881       KlausScharpf  \n808612        Disneyphile  \n1046734         Snowy0505  \n1174991  caffeinatedgamer  \n\n[6 rows x 25 columns]",
      "text/html": "<div>\n<style scoped>\n    .dataframe tbody tr th:only-of-type {\n        vertical-align: middle;\n    }\n\n    .dataframe tbody tr th {\n        vertical-align: top;\n    }\n\n    .dataframe thead th {\n        text-align: right;\n    }\n</style>\n<table border=\"1\" class=\"dataframe\">\n  <thead>\n    <tr style=\"text-align: right;\">\n      <th></th>\n      <th>ComMaxPlaytime</th>\n      <th>MfgAgeRec</th>\n      <th>LanguageEase</th>\n      <th>NumExpansions</th>\n      <th>Kickstarted</th>\n      <th>Rank:boardgame</th>\n      <th>Rank:strategygames</th>\n      <th>rating</th>\n      <th>Rank:childrensgames</th>\n      <th>Rank:partygames</th>\n      <th>...</th>\n      <th>GameWeight</th>\n      <th>ComAgeRec</th>\n      <th>NumWant</th>\n      <th>MinPlayers</th>\n      <th>Cat:Party</th>\n      <th>ComMinPlaytime</th>\n      <th>NumUserRatings</th>\n      <th>MfgPlaytime</th>\n      <th>item</th>\n      <th>user</th>\n    </tr>\n  </thead>\n  <tbody>\n    <tr>\n      <th>227086</th>\n      <td>45</td>\n      <td>8</td>\n      <td>NaN</td>\n      <td>0</td>\n      <td>0</td>\n      <td>10921</td>\n      <td>21926</td>\n      <td>5.0</td>\n      <td>21926</td>\n      <td>21926</td>\n      <td>...</td>\n      <td>1.875</td>\n      <td>NaN</td>\n      <td>8</td>\n      <td>3</td>\n      <td>0</td>\n      <td>45</td>\n      <td>175</td>\n      <td>45</td>\n      <td>5467</td>\n      <td>BoardGameDude</td>\n    </tr>\n    <tr>\n      <th>333010</th>\n      <td>45</td>\n      <td>8</td>\n      <td>NaN</td>\n      <td>0</td>\n      <td>0</td>\n      <td>10921</td>\n      <td>21926</td>\n      <td>8.0</td>\n      <td>21926</td>\n      <td>21926</td>\n      <td>...</td>\n      <td>1.875</td>\n      <td>NaN</td>\n      <td>8</td>\n      <td>3</td>\n      <td>0</td>\n      <td>45</td>\n      <td>175</td>\n      <td>45</td>\n      <td>5467</td>\n      <td>Aquafan</td>\n    </tr>\n    <tr>\n      <th>442881</th>\n      <td>45</td>\n      <td>8</td>\n      <td>NaN</td>\n      <td>0</td>\n      <td>0</td>\n      <td>10921</td>\n      <td>21926</td>\n      <td>7.0</td>\n      <td>21926</td>\n      <td>21926</td>\n      <td>...</td>\n      <td>1.875</td>\n      <td>NaN</td>\n      <td>8</td>\n      <td>3</td>\n      <td>0</td>\n      <td>45</td>\n      <td>175</td>\n      <td>45</td>\n      <td>5467</td>\n      <td>KlausScharpf</td>\n    </tr>\n    <tr>\n      <th>808612</th>\n      <td>45</td>\n      <td>8</td>\n      <td>NaN</td>\n      <td>0</td>\n      <td>0</td>\n      <td>10921</td>\n      <td>21926</td>\n      <td>6.0</td>\n      <td>21926</td>\n      <td>21926</td>\n      <td>...</td>\n      <td>1.875</td>\n      <td>NaN</td>\n      <td>8</td>\n      <td>3</td>\n      <td>0</td>\n      <td>45</td>\n      <td>175</td>\n      <td>45</td>\n      <td>5467</td>\n      <td>Disneyphile</td>\n    </tr>\n    <tr>\n      <th>1046734</th>\n      <td>45</td>\n      <td>8</td>\n      <td>NaN</td>\n      <td>0</td>\n      <td>0</td>\n      <td>10921</td>\n      <td>21926</td>\n      <td>6.0</td>\n      <td>21926</td>\n      <td>21926</td>\n      <td>...</td>\n      <td>1.875</td>\n      <td>NaN</td>\n      <td>8</td>\n      <td>3</td>\n      <td>0</td>\n      <td>45</td>\n      <td>175</td>\n      <td>45</td>\n      <td>5467</td>\n      <td>Snowy0505</td>\n    </tr>\n    <tr>\n      <th>1174991</th>\n      <td>45</td>\n      <td>8</td>\n      <td>NaN</td>\n      <td>0</td>\n      <td>0</td>\n      <td>10921</td>\n      <td>21926</td>\n      <td>8.0</td>\n      <td>21926</td>\n      <td>21926</td>\n      <td>...</td>\n      <td>1.875</td>\n      <td>NaN</td>\n      <td>8</td>\n      <td>3</td>\n      <td>0</td>\n      <td>45</td>\n      <td>175</td>\n      <td>45</td>\n      <td>5467</td>\n      <td>caffeinatedgamer</td>\n    </tr>\n  </tbody>\n</table>\n<p>6 rows × 25 columns</p>\n</div>"
     },
     "execution_count": 182,
     "metadata": {},
     "output_type": "execute_result"
    }
   ],
   "source": [
    "user_item_all_features[final_item_features][user_item_all_features['item']==5467]"
   ],
   "metadata": {
    "collapsed": false,
    "ExecuteTime": {
     "start_time": "2023-10-08T23:25:27.449161Z",
     "end_time": "2023-10-08T23:25:27.637195Z"
    }
   }
  },
  {
   "cell_type": "code",
   "execution_count": 141,
   "id": "48997977",
   "metadata": {
    "ExecuteTime": {
     "start_time": "2023-10-08T22:50:40.821076Z",
     "end_time": "2023-10-08T22:50:40.833056Z"
    }
   },
   "outputs": [],
   "source": [
    "def generate_Xy_for_user(username, complete_df):\n",
    "    scaler = StandardScaler()\n",
    "    user_rated_items = complete_df[complete_df['user']==username]\n",
    "    index_x = user_rated_items.index\n",
    "    X = user_rated_items.drop(columns=['user','rating', 'item'])\n",
    "    normalized_matrix = scaler.fit_transform(X)\n",
    "    X =  pd.DataFrame(normalized_matrix, columns=X.columns, index=index_x)\n",
    "    y = user_rated_items['rating']\n",
    "    return X,y"
   ]
  },
  {
   "cell_type": "code",
   "execution_count": 28,
   "id": "80aaf9ee",
   "metadata": {
    "ExecuteTime": {
     "start_time": "2023-10-08T21:30:17.327397Z",
     "end_time": "2023-10-08T21:30:17.347751Z"
    }
   },
   "outputs": [],
   "source": [
    "# X,y = generate_Xy_for_user(all_user_names[0],user_item_all_features[final_item_features])\n",
    "# train_X, test_X, train_y, test_y = train_test_split(X,y,test_size=0.2, random_state=42)"
   ]
  },
  {
   "cell_type": "code",
   "execution_count": 29,
   "id": "927d2bdd",
   "metadata": {
    "ExecuteTime": {
     "start_time": "2023-10-08T21:30:17.328979Z",
     "end_time": "2023-10-08T21:30:17.347807Z"
    }
   },
   "outputs": [],
   "source": [
    "# svr = SVR(kernel='linear')\n",
    "# svr.fit(train_X, train_y)"
   ]
  },
  {
   "cell_type": "code",
   "execution_count": 30,
   "id": "efd19191",
   "metadata": {
    "ExecuteTime": {
     "start_time": "2023-10-08T21:30:17.331663Z",
     "end_time": "2023-10-08T21:30:17.347852Z"
    }
   },
   "outputs": [],
   "source": [
    "# predicted_y = svr.predict(test_X)"
   ]
  },
  {
   "cell_type": "code",
   "execution_count": 31,
   "id": "d80c1460",
   "metadata": {
    "ExecuteTime": {
     "start_time": "2023-10-08T21:30:17.339359Z",
     "end_time": "2023-10-08T21:30:17.347941Z"
    }
   },
   "outputs": [],
   "source": [
    "# item_rating = test_y.to_frame().copy()\n",
    "# item_rating['predicted'] = predicted_y"
   ]
  },
  {
   "cell_type": "markdown",
   "id": "e8949da6",
   "metadata": {},
   "source": [
    "### Evaluation"
   ]
  },
  {
   "cell_type": "code",
   "execution_count": 32,
   "id": "c2e4373d",
   "metadata": {
    "ExecuteTime": {
     "start_time": "2023-10-08T21:30:17.341271Z",
     "end_time": "2023-10-08T21:30:17.347982Z"
    }
   },
   "outputs": [],
   "source": [
    "# num_users_test = 1\n",
    "# users_for_test = random.sample(list(all_user_names), num_users_test)"
   ]
  },
  {
   "cell_type": "code",
   "execution_count": 33,
   "id": "3dd230f8",
   "metadata": {
    "ExecuteTime": {
     "start_time": "2023-10-08T21:30:17.343724Z",
     "end_time": "2023-10-08T21:30:17.348018Z"
    }
   },
   "outputs": [],
   "source": [
    "# ((item_rating['rating']-item_rating['predicted'])**2).mean(0)**0.5"
   ]
  },
  {
   "cell_type": "code",
   "execution_count": 34,
   "id": "024c94b7",
   "metadata": {
    "ExecuteTime": {
     "start_time": "2023-10-08T21:30:17.345298Z",
     "end_time": "2023-10-08T21:30:17.354392Z"
    }
   },
   "outputs": [],
   "source": [
    "# (abs(item_rating['rating']-item_rating['predicted'])).mean(0)"
   ]
  },
  {
   "cell_type": "code",
   "execution_count": 35,
   "id": "2174a957",
   "metadata": {
    "ExecuteTime": {
     "start_time": "2023-10-08T21:30:17.348379Z",
     "end_time": "2023-10-08T21:30:17.354537Z"
    }
   },
   "outputs": [],
   "source": [
    "# def evaluate_users(users, user_item_all_features, regressor):\n",
    "#     RMSEs = []\n",
    "#     MAEs = []\n",
    "#     for user in users:\n",
    "#         X,y = generate_Xy_for_user(user,user_item_all_features)\n",
    "#         train_X, test_X, train_y, test_y = train_test_split(X,y, test_size=0.2, random_state=42)\n",
    "#\n",
    "#         regressor.fit(train_X, train_y)\n",
    "#         predicted_y = regressor.predict(test_X)\n",
    "#\n",
    "#         item_ratings = test_y.to_frame().copy()\n",
    "#         item_ratings['predicted'] = predicted_y\n",
    "#\n",
    "#         RMSEs.append(((item_ratings['rating']-item_ratings['predicted'])**2).mean(0)**0.5)\n",
    "#         MAEs.append((abs(item_ratings['rating']-item_ratings['predicted'])).mean(0))\n",
    "#\n",
    "#     return RMSEs, MAEs"
   ]
  },
  {
   "cell_type": "code",
   "execution_count": 36,
   "id": "38d86f8b",
   "metadata": {
    "ExecuteTime": {
     "start_time": "2023-10-08T21:30:17.351694Z",
     "end_time": "2023-10-08T21:30:17.354587Z"
    }
   },
   "outputs": [],
   "source": [
    "# user_item_all_features['ComAgeRec'].fillna(value=user_item_all_features['ComAgeRec'].mean(), inplace=True)\n",
    "# user_item_all_features['LanguageEase'].fillna(value=user_item_all_features['LanguageEase'].mean(), inplace=True)"
   ]
  },
  {
   "cell_type": "code",
   "execution_count": 37,
   "id": "e81ac0a1",
   "metadata": {
    "ExecuteTime": {
     "start_time": "2023-10-08T21:30:17.354324Z",
     "end_time": "2023-10-08T21:30:17.357794Z"
    }
   },
   "outputs": [],
   "source": [
    "# regressor = SVR(kernel='linear')\n",
    "# RMSEs, MAEs = evaluate_users(users_for_test, user_item_all_features[final_item_features], regressor)"
   ]
  },
  {
   "cell_type": "code",
   "execution_count": 38,
   "id": "c6d00b20",
   "metadata": {
    "ExecuteTime": {
     "start_time": "2023-10-08T21:30:17.356689Z",
     "end_time": "2023-10-08T21:30:17.372940Z"
    }
   },
   "outputs": [],
   "source": [
    "# avg_RMSE = np.mean(RMSEs)\n",
    "# avg_MAE = np.mean(MAEs)"
   ]
  },
  {
   "cell_type": "code",
   "execution_count": 39,
   "id": "48dfc036",
   "metadata": {
    "ExecuteTime": {
     "start_time": "2023-10-08T21:30:17.358311Z",
     "end_time": "2023-10-08T21:30:17.373375Z"
    }
   },
   "outputs": [],
   "source": [
    "# print('RMSE:',round(avg_RMSE,2), ' | MAE:',round(avg_MAE,2))"
   ]
  },
  {
   "cell_type": "code",
   "execution_count": 40,
   "id": "1dd80206",
   "metadata": {
    "ExecuteTime": {
     "start_time": "2023-10-08T21:30:17.361727Z",
     "end_time": "2023-10-08T21:30:17.373428Z"
    }
   },
   "outputs": [],
   "source": [
    "# regressor = DecisionTreeRegressor()\n",
    "# RMSEs, MAEs = evaluate_users(users_for_test, user_item_all_features[final_item_features], regressor)"
   ]
  },
  {
   "cell_type": "code",
   "execution_count": 41,
   "id": "b0153da2",
   "metadata": {
    "ExecuteTime": {
     "start_time": "2023-10-08T21:30:17.363618Z",
     "end_time": "2023-10-08T21:30:17.373471Z"
    }
   },
   "outputs": [],
   "source": [
    "# avg_RMSE = np.mean(RMSEs)\n",
    "# avg_MAE = np.mean(MAEs)\n",
    "# print('RMSE:',round(avg_RMSE,2), ' | MAE:',round(avg_MAE,2))"
   ]
  },
  {
   "cell_type": "code",
   "execution_count": 42,
   "id": "c9edfa8c",
   "metadata": {
    "ExecuteTime": {
     "start_time": "2023-10-08T21:30:17.365624Z",
     "end_time": "2023-10-08T21:30:17.373528Z"
    }
   },
   "outputs": [],
   "source": [
    "# regressor = XGBRegressor()\n",
    "# RMSEs, MAEs = evaluate_users(users_for_test, user_item_all_features[final_item_features], regressor)"
   ]
  },
  {
   "cell_type": "code",
   "execution_count": 43,
   "id": "9b60eb8d",
   "metadata": {
    "ExecuteTime": {
     "start_time": "2023-10-08T21:30:17.368160Z",
     "end_time": "2023-10-08T21:30:17.373569Z"
    }
   },
   "outputs": [],
   "source": [
    "# avg_RMSE = np.mean(RMSEs)\n",
    "# avg_MAE = np.mean(MAEs)\n",
    "# print('RMSE:',round(avg_RMSE,2), ' | MAE:',round(avg_MAE,2))"
   ]
  },
  {
   "cell_type": "code",
   "execution_count": 44,
   "outputs": [],
   "source": [
    "# all_user_names"
   ],
   "metadata": {
    "collapsed": false,
    "ExecuteTime": {
     "start_time": "2023-10-08T21:30:17.370390Z",
     "end_time": "2023-10-08T21:30:17.373611Z"
    }
   }
  },
  {
   "cell_type": "code",
   "execution_count": 45,
   "outputs": [],
   "source": [
    "# user_item_all_features[final_item_features]"
   ],
   "metadata": {
    "collapsed": false,
    "ExecuteTime": {
     "start_time": "2023-10-08T21:30:17.372482Z",
     "end_time": "2023-10-08T21:30:17.383632Z"
    }
   }
  },
  {
   "cell_type": "code",
   "execution_count": 46,
   "outputs": [],
   "source": [
    "# test_X.iloc[0]"
   ],
   "metadata": {
    "collapsed": false,
    "ExecuteTime": {
     "start_time": "2023-10-08T21:30:17.374843Z",
     "end_time": "2023-10-08T21:30:17.383769Z"
    }
   }
  },
  {
   "cell_type": "code",
   "execution_count": 47,
   "outputs": [],
   "source": [
    "# user_item_ratings_filtered.shape"
   ],
   "metadata": {
    "collapsed": false,
    "ExecuteTime": {
     "start_time": "2023-10-08T21:30:17.376661Z",
     "end_time": "2023-10-08T21:30:17.383809Z"
    }
   }
  },
  {
   "cell_type": "markdown",
   "source": [
    "# Group Recommender System\n",
    "\n",
    "## Dividing users in to groups\n",
    "Groups are made by looking at the most similar users\n",
    "The features are aggregated by addition strategy"
   ],
   "metadata": {
    "collapsed": false
   }
  },
  {
   "cell_type": "code",
   "execution_count": 48,
   "outputs": [
    {
     "data": {
      "text/plain": "     item  rating      user\n1  203416     8.0  -=Yod@=-\n2  271896     8.0  -=Yod@=-\n3   38054     6.0  -=Yod@=-\n4  312267     5.0  -=Yod@=-\n5   68448     9.0  -=Yod@=-",
      "text/html": "<div>\n<style scoped>\n    .dataframe tbody tr th:only-of-type {\n        vertical-align: middle;\n    }\n\n    .dataframe tbody tr th {\n        vertical-align: top;\n    }\n\n    .dataframe thead th {\n        text-align: right;\n    }\n</style>\n<table border=\"1\" class=\"dataframe\">\n  <thead>\n    <tr style=\"text-align: right;\">\n      <th></th>\n      <th>item</th>\n      <th>rating</th>\n      <th>user</th>\n    </tr>\n  </thead>\n  <tbody>\n    <tr>\n      <th>1</th>\n      <td>203416</td>\n      <td>8.0</td>\n      <td>-=Yod@=-</td>\n    </tr>\n    <tr>\n      <th>2</th>\n      <td>271896</td>\n      <td>8.0</td>\n      <td>-=Yod@=-</td>\n    </tr>\n    <tr>\n      <th>3</th>\n      <td>38054</td>\n      <td>6.0</td>\n      <td>-=Yod@=-</td>\n    </tr>\n    <tr>\n      <th>4</th>\n      <td>312267</td>\n      <td>5.0</td>\n      <td>-=Yod@=-</td>\n    </tr>\n    <tr>\n      <th>5</th>\n      <td>68448</td>\n      <td>9.0</td>\n      <td>-=Yod@=-</td>\n    </tr>\n  </tbody>\n</table>\n</div>"
     },
     "execution_count": 48,
     "metadata": {},
     "output_type": "execute_result"
    }
   ],
   "source": [
    "user_item_ratings_filtered.head()"
   ],
   "metadata": {
    "collapsed": false,
    "ExecuteTime": {
     "start_time": "2023-10-08T21:30:17.379068Z",
     "end_time": "2023-10-08T21:30:17.387006Z"
    }
   }
  },
  {
   "cell_type": "code",
   "execution_count": 49,
   "outputs": [],
   "source": [
    "from synthetic_groups_generation.groups_generators import GroupsGenerator\n",
    "\n",
    "user_matrix = user_item_ratings_filtered.pivot_table(columns='item', index='user', values='rating')"
   ],
   "metadata": {
    "collapsed": false,
    "ExecuteTime": {
     "start_time": "2023-10-08T21:30:17.385780Z",
     "end_time": "2023-10-08T21:30:50.843230Z"
    }
   }
  },
  {
   "cell_type": "code",
   "execution_count": 50,
   "outputs": [
    {
     "data": {
      "text/plain": "item       1       2       3       4       5       6       7       8       \\\nuser                                                                        \n-=Yod@=-      NaN     NaN     NaN     NaN     NaN     NaN     7.5     NaN   \n-Johnny-      NaN     NaN     4.0     NaN     NaN     NaN     NaN     NaN   \n-mIDE-        NaN     NaN     NaN     NaN     NaN     NaN     NaN     NaN   \n-toni-        NaN     NaN     NaN     NaN     NaN     NaN     NaN     NaN   \n...Hammer     NaN     NaN     NaN     NaN     NaN     NaN     NaN     NaN   \n\nitem       9       10      ...  345584  345976  346482  346501  346703  \\\nuser                       ...                                           \n-=Yod@=-      NaN     NaN  ...     NaN     NaN     NaN     NaN     NaN   \n-Johnny-      NaN     NaN  ...     NaN     NaN     NaN     NaN     NaN   \n-mIDE-        NaN     NaN  ...     NaN     NaN     NaN     NaN     NaN   \n-toni-        NaN     NaN  ...     NaN     NaN     NaN     NaN     NaN   \n...Hammer     NaN     NaN  ...     NaN     NaN     NaN     NaN     NaN   \n\nitem       346965  347146  347521  348955  349131  \nuser                                               \n-=Yod@=-      NaN     NaN     NaN     NaN     NaN  \n-Johnny-      NaN     NaN     NaN     NaN     NaN  \n-mIDE-        NaN     NaN     NaN     NaN     NaN  \n-toni-        NaN     NaN     NaN     NaN     NaN  \n...Hammer     NaN     NaN     NaN     NaN     NaN  \n\n[5 rows x 21483 columns]",
      "text/html": "<div>\n<style scoped>\n    .dataframe tbody tr th:only-of-type {\n        vertical-align: middle;\n    }\n\n    .dataframe tbody tr th {\n        vertical-align: top;\n    }\n\n    .dataframe thead th {\n        text-align: right;\n    }\n</style>\n<table border=\"1\" class=\"dataframe\">\n  <thead>\n    <tr style=\"text-align: right;\">\n      <th>item</th>\n      <th>1</th>\n      <th>2</th>\n      <th>3</th>\n      <th>4</th>\n      <th>5</th>\n      <th>6</th>\n      <th>7</th>\n      <th>8</th>\n      <th>9</th>\n      <th>10</th>\n      <th>...</th>\n      <th>345584</th>\n      <th>345976</th>\n      <th>346482</th>\n      <th>346501</th>\n      <th>346703</th>\n      <th>346965</th>\n      <th>347146</th>\n      <th>347521</th>\n      <th>348955</th>\n      <th>349131</th>\n    </tr>\n    <tr>\n      <th>user</th>\n      <th></th>\n      <th></th>\n      <th></th>\n      <th></th>\n      <th></th>\n      <th></th>\n      <th></th>\n      <th></th>\n      <th></th>\n      <th></th>\n      <th></th>\n      <th></th>\n      <th></th>\n      <th></th>\n      <th></th>\n      <th></th>\n      <th></th>\n      <th></th>\n      <th></th>\n      <th></th>\n      <th></th>\n    </tr>\n  </thead>\n  <tbody>\n    <tr>\n      <th>-=Yod@=-</th>\n      <td>NaN</td>\n      <td>NaN</td>\n      <td>NaN</td>\n      <td>NaN</td>\n      <td>NaN</td>\n      <td>NaN</td>\n      <td>7.5</td>\n      <td>NaN</td>\n      <td>NaN</td>\n      <td>NaN</td>\n      <td>...</td>\n      <td>NaN</td>\n      <td>NaN</td>\n      <td>NaN</td>\n      <td>NaN</td>\n      <td>NaN</td>\n      <td>NaN</td>\n      <td>NaN</td>\n      <td>NaN</td>\n      <td>NaN</td>\n      <td>NaN</td>\n    </tr>\n    <tr>\n      <th>-Johnny-</th>\n      <td>NaN</td>\n      <td>NaN</td>\n      <td>4.0</td>\n      <td>NaN</td>\n      <td>NaN</td>\n      <td>NaN</td>\n      <td>NaN</td>\n      <td>NaN</td>\n      <td>NaN</td>\n      <td>NaN</td>\n      <td>...</td>\n      <td>NaN</td>\n      <td>NaN</td>\n      <td>NaN</td>\n      <td>NaN</td>\n      <td>NaN</td>\n      <td>NaN</td>\n      <td>NaN</td>\n      <td>NaN</td>\n      <td>NaN</td>\n      <td>NaN</td>\n    </tr>\n    <tr>\n      <th>-mIDE-</th>\n      <td>NaN</td>\n      <td>NaN</td>\n      <td>NaN</td>\n      <td>NaN</td>\n      <td>NaN</td>\n      <td>NaN</td>\n      <td>NaN</td>\n      <td>NaN</td>\n      <td>NaN</td>\n      <td>NaN</td>\n      <td>...</td>\n      <td>NaN</td>\n      <td>NaN</td>\n      <td>NaN</td>\n      <td>NaN</td>\n      <td>NaN</td>\n      <td>NaN</td>\n      <td>NaN</td>\n      <td>NaN</td>\n      <td>NaN</td>\n      <td>NaN</td>\n    </tr>\n    <tr>\n      <th>-toni-</th>\n      <td>NaN</td>\n      <td>NaN</td>\n      <td>NaN</td>\n      <td>NaN</td>\n      <td>NaN</td>\n      <td>NaN</td>\n      <td>NaN</td>\n      <td>NaN</td>\n      <td>NaN</td>\n      <td>NaN</td>\n      <td>...</td>\n      <td>NaN</td>\n      <td>NaN</td>\n      <td>NaN</td>\n      <td>NaN</td>\n      <td>NaN</td>\n      <td>NaN</td>\n      <td>NaN</td>\n      <td>NaN</td>\n      <td>NaN</td>\n      <td>NaN</td>\n    </tr>\n    <tr>\n      <th>...Hammer</th>\n      <td>NaN</td>\n      <td>NaN</td>\n      <td>NaN</td>\n      <td>NaN</td>\n      <td>NaN</td>\n      <td>NaN</td>\n      <td>NaN</td>\n      <td>NaN</td>\n      <td>NaN</td>\n      <td>NaN</td>\n      <td>...</td>\n      <td>NaN</td>\n      <td>NaN</td>\n      <td>NaN</td>\n      <td>NaN</td>\n      <td>NaN</td>\n      <td>NaN</td>\n      <td>NaN</td>\n      <td>NaN</td>\n      <td>NaN</td>\n      <td>NaN</td>\n    </tr>\n  </tbody>\n</table>\n<p>5 rows × 21483 columns</p>\n</div>"
     },
     "execution_count": 50,
     "metadata": {},
     "output_type": "execute_result"
    }
   ],
   "source": [
    "user_matrix= user_matrix.iloc[:30000]"
   ],
   "metadata": {
    "collapsed": false,
    "ExecuteTime": {
     "start_time": "2023-10-08T21:30:50.841996Z",
     "end_time": "2023-10-08T21:30:50.852542Z"
    }
   }
  },
  {
   "cell_type": "code",
   "execution_count": 72,
   "outputs": [],
   "source": [
    "user_id_set = set(user_matrix.index.values)\n",
    "user_id_indexes = user_matrix.index"
   ],
   "metadata": {
    "collapsed": false,
    "ExecuteTime": {
     "start_time": "2023-10-08T21:33:41.152822Z",
     "end_time": "2023-10-08T21:33:41.185514Z"
    }
   }
  },
  {
   "cell_type": "code",
   "execution_count": 52,
   "outputs": [],
   "source": [
    "user_matrix = user_matrix.fillna(0)"
   ],
   "metadata": {
    "collapsed": false,
    "ExecuteTime": {
     "start_time": "2023-10-08T21:30:50.919720Z",
     "end_time": "2023-10-08T21:30:52.852386Z"
    }
   }
  },
  {
   "cell_type": "code",
   "execution_count": 54,
   "outputs": [],
   "source": [
    "# user_matrix.to_csv(\"user_matrix.csv\")"
   ],
   "metadata": {
    "collapsed": false,
    "ExecuteTime": {
     "start_time": "2023-10-08T21:30:52.863298Z",
     "end_time": "2023-10-08T21:30:52.867872Z"
    }
   }
  },
  {
   "cell_type": "code",
   "execution_count": 55,
   "outputs": [],
   "source": [
    "# user_matrix = pd.read_csv(\"user_matrix.csv\")"
   ],
   "metadata": {
    "collapsed": false,
    "ExecuteTime": {
     "start_time": "2023-10-08T21:30:52.866301Z",
     "end_time": "2023-10-08T21:30:52.867918Z"
    }
   }
  },
  {
   "cell_type": "code",
   "execution_count": 57,
   "outputs": [],
   "source": [
    "# user_matrix = user_matrix.iloc[:1000]"
   ],
   "metadata": {
    "collapsed": false,
    "ExecuteTime": {
     "start_time": "2023-10-08T21:30:52.871646Z",
     "end_time": "2023-10-08T21:30:52.873673Z"
    }
   }
  },
  {
   "cell_type": "code",
   "execution_count": 59,
   "outputs": [],
   "source": [
    "numpy_array = user_matrix.to_numpy()"
   ],
   "metadata": {
    "collapsed": false,
    "ExecuteTime": {
     "start_time": "2023-10-08T21:30:52.877244Z",
     "end_time": "2023-10-08T21:30:52.957786Z"
    }
   }
  },
  {
   "cell_type": "code",
   "execution_count": 60,
   "outputs": [],
   "source": [
    "sim_matrix = np.corrcoef(numpy_array[:][1:])"
   ],
   "metadata": {
    "collapsed": false,
    "ExecuteTime": {
     "start_time": "2023-10-08T21:30:52.881294Z",
     "end_time": "2023-10-08T21:31:10.867446Z"
    }
   }
  },
  {
   "cell_type": "code",
   "execution_count": 62,
   "outputs": [
    {
     "data": {
      "text/plain": "Text(0.5, 0, \"Pearson's Correlation Coeficient\")"
     },
     "execution_count": 62,
     "metadata": {},
     "output_type": "execute_result"
    },
    {
     "data": {
      "text/plain": "<Figure size 640x480 with 1 Axes>",
      "image/png": "[encoded data removed]"
     },
     "metadata": {},
     "output_type": "display_data"
    }
   ],
   "source": [
    "%matplotlib inline\n",
    "import matplotlib.pyplot as plt\n",
    "plt.hist(sim_matrix.flatten())\n",
    "plt.yscale(\"log\")\n",
    "plt.xlabel(\"Pearson's Correlation Coeficient\")"
   ],
   "metadata": {
    "collapsed": false,
    "ExecuteTime": {
     "start_time": "2023-10-08T21:31:10.893420Z",
     "end_time": "2023-10-08T21:31:12.553548Z"
    }
   }
  },
  {
   "cell_type": "code",
   "execution_count": 74,
   "outputs": [
    {
     "name": "stdout",
     "output_type": "stream",
     "text": [
      "250\n"
     ]
    },
    {
     "data": {
      "text/plain": "     group_size group_similarity  \\\n0             4          similar   \n1             4          similar   \n2             4          similar   \n3             4          similar   \n4             4          similar   \n..          ...              ...   \n245           4          similar   \n246           4          similar   \n247           4          similar   \n248           4          similar   \n249           4          similar   \n\n                                         group_members  avg_similarity  \n0    [BoardGameDude, EnumahElish, Cidade Curiosa, H...        0.258208  \n1         [Eggrocket, Friedrich, AngryWeaseL, Foo Dog]        0.216405  \n2      [DiddyWahDiddy, Cheelara1, Gummidoc, GordonHua]        0.249129  \n3     [Eladamri2, Darkhorse27, Donie, Elchotizogrande]        0.196199  \n4          [Bogusgig, Frootshoot, DoctahSeuss, DaCaRo]        0.218832  \n..                                                 ...             ...  \n245       [1x0r, EYE of NiGHT, Frost1981, El Capitano]        0.232521  \n246  [Camelorn, David Tagliaferri, Gregarius, Hyper...        0.266938  \n247  [Dj Silent Bob, Erlaad, Ascalante, Eclectic Mi...        0.214637  \n248      [Gwfalcon, 22764636, EastridgeT, Deltacustom]        0.219983  \n249             [Davord, Gloompaul, ColinHwang, Bychu]        0.295820  \n\n[250 rows x 4 columns]",
      "text/html": "<div>\n<style scoped>\n    .dataframe tbody tr th:only-of-type {\n        vertical-align: middle;\n    }\n\n    .dataframe tbody tr th {\n        vertical-align: top;\n    }\n\n    .dataframe thead th {\n        text-align: right;\n    }\n</style>\n<table border=\"1\" class=\"dataframe\">\n  <thead>\n    <tr style=\"text-align: right;\">\n      <th></th>\n      <th>group_size</th>\n      <th>group_similarity</th>\n      <th>group_members</th>\n      <th>avg_similarity</th>\n    </tr>\n  </thead>\n  <tbody>\n    <tr>\n      <th>0</th>\n      <td>4</td>\n      <td>similar</td>\n      <td>[BoardGameDude, EnumahElish, Cidade Curiosa, H...</td>\n      <td>0.258208</td>\n    </tr>\n    <tr>\n      <th>1</th>\n      <td>4</td>\n      <td>similar</td>\n      <td>[Eggrocket, Friedrich, AngryWeaseL, Foo Dog]</td>\n      <td>0.216405</td>\n    </tr>\n    <tr>\n      <th>2</th>\n      <td>4</td>\n      <td>similar</td>\n      <td>[DiddyWahDiddy, Cheelara1, Gummidoc, GordonHua]</td>\n      <td>0.249129</td>\n    </tr>\n    <tr>\n      <th>3</th>\n      <td>4</td>\n      <td>similar</td>\n      <td>[Eladamri2, Darkhorse27, Donie, Elchotizogrande]</td>\n      <td>0.196199</td>\n    </tr>\n    <tr>\n      <th>4</th>\n      <td>4</td>\n      <td>similar</td>\n      <td>[Bogusgig, Frootshoot, DoctahSeuss, DaCaRo]</td>\n      <td>0.218832</td>\n    </tr>\n    <tr>\n      <th>...</th>\n      <td>...</td>\n      <td>...</td>\n      <td>...</td>\n      <td>...</td>\n    </tr>\n    <tr>\n      <th>245</th>\n      <td>4</td>\n      <td>similar</td>\n      <td>[1x0r, EYE of NiGHT, Frost1981, El Capitano]</td>\n      <td>0.232521</td>\n    </tr>\n    <tr>\n      <th>246</th>\n      <td>4</td>\n      <td>similar</td>\n      <td>[Camelorn, David Tagliaferri, Gregarius, Hyper...</td>\n      <td>0.266938</td>\n    </tr>\n    <tr>\n      <th>247</th>\n      <td>4</td>\n      <td>similar</td>\n      <td>[Dj Silent Bob, Erlaad, Ascalante, Eclectic Mi...</td>\n      <td>0.214637</td>\n    </tr>\n    <tr>\n      <th>248</th>\n      <td>4</td>\n      <td>similar</td>\n      <td>[Gwfalcon, 22764636, EastridgeT, Deltacustom]</td>\n      <td>0.219983</td>\n    </tr>\n    <tr>\n      <th>249</th>\n      <td>4</td>\n      <td>similar</td>\n      <td>[Davord, Gloompaul, ColinHwang, Bychu]</td>\n      <td>0.295820</td>\n    </tr>\n  </tbody>\n</table>\n<p>250 rows × 4 columns</p>\n</div>"
     },
     "metadata": {},
     "output_type": "display_data"
    }
   ],
   "source": [
    "grpGenerator = GroupsGenerator.getGroupsGenerator(\"SIMILAR\")\n",
    "current_list = grpGenerator.generateGroups(user_id_indexes, user_id_set, sim_matrix, [4], 250)\n",
    "\n",
    "display(pd.DataFrame.from_records(current_list))\n",
    "groups = pd.DataFrame.from_records(current_list)"
   ],
   "metadata": {
    "collapsed": false,
    "ExecuteTime": {
     "start_time": "2023-10-08T21:33:57.865172Z",
     "end_time": "2023-10-08T21:34:00.127435Z"
    }
   }
  },
  {
   "cell_type": "code",
   "execution_count": 153,
   "outputs": [],
   "source": [
    "groups_ratings = pd.DataFrame(columns=final_item_features)\n",
    "\n",
    "# For each group aggregate ratings\n",
    "for i in range(len(groups)):\n",
    "    # Get group members usernames\n",
    "    selected_users = groups.iloc[i][\"group_members\"]\n",
    "\n",
    "    # Create a dataframe for particular group\n",
    "    group_ratings = pd.DataFrame(columns=final_item_features)\n",
    "    # Append their ratings\n",
    "    for user in selected_users:\n",
    "        selected_users_rating = user_item_all_features[user_item_all_features[\"user\"]==user][final_item_features]\n",
    "        group_ratings= pd.concat([group_ratings,selected_users_rating], axis=0)\n",
    "\n",
    "    # Aggregation if duplicates are found\n",
    "    duplicated_items = group_ratings[group_ratings['item'].duplicated(keep=False)]\n",
    "    item_set = set(duplicated_items.item)\n",
    "    for item in item_set:\n",
    "        group_ratings = group_ratings.drop(group_ratings[group_ratings[\"item\"] == item].index)\n",
    "        duplicated_items['rating'] = duplicated_items[duplicated_items['item']==item]['rating'].mean()\n",
    "        duplicated_items = duplicated_items.iloc[[0]]\n",
    "        group_ratings = pd.concat([group_ratings,duplicated_items], axis=0)\n",
    "\n",
    "    group_ratings['user'] = i\n",
    "    groups_ratings = pd.concat([groups_ratings, group_ratings], axis=0)"
   ],
   "metadata": {
    "collapsed": false,
    "ExecuteTime": {
     "start_time": "2023-10-08T23:03:56.557404Z",
     "end_time": "2023-10-08T23:04:36.962485Z"
    }
   }
  },
  {
   "cell_type": "code",
   "execution_count": 183,
   "outputs": [],
   "source": [
    "groups_ratings = groups_ratings.fillna(0)"
   ],
   "metadata": {
    "collapsed": false,
    "ExecuteTime": {
     "start_time": "2023-10-08T23:26:46.848861Z",
     "end_time": "2023-10-08T23:26:46.957813Z"
    }
   }
  },
  {
   "cell_type": "code",
   "execution_count": 176,
   "outputs": [],
   "source": [
    "group_names = groups_ratings['user'].unique()"
   ],
   "metadata": {
    "collapsed": false,
    "ExecuteTime": {
     "start_time": "2023-10-08T23:23:51.973047Z",
     "end_time": "2023-10-08T23:23:51.976746Z"
    }
   }
  },
  {
   "cell_type": "code",
   "execution_count": 178,
   "outputs": [
    {
     "data": {
      "text/plain": "0"
     },
     "execution_count": 178,
     "metadata": {},
     "output_type": "execute_result"
    }
   ],
   "source": [
    "group_names[0]"
   ],
   "metadata": {
    "collapsed": false,
    "ExecuteTime": {
     "start_time": "2023-10-08T23:23:57.620864Z",
     "end_time": "2023-10-08T23:23:57.625148Z"
    }
   }
  },
  {
   "cell_type": "markdown",
   "source": [
    "## Making a group recommender system using SVR"
   ],
   "metadata": {
    "collapsed": false
   }
  },
  {
   "cell_type": "code",
   "execution_count": 190,
   "outputs": [],
   "source": [
    "X,y = generate_Xy_for_user(group_names[0],groups_ratings)\n",
    "train_X, test_X, train_y, test_y = train_test_split(X,y,test_size=0.2, random_state=42)"
   ],
   "metadata": {
    "collapsed": false,
    "ExecuteTime": {
     "start_time": "2023-10-08T23:29:02.302058Z",
     "end_time": "2023-10-08T23:29:02.318825Z"
    }
   }
  },
  {
   "cell_type": "code",
   "execution_count": 191,
   "outputs": [
    {
     "data": {
      "text/plain": "SVR(kernel='linear')",
      "text/html": "<style>#sk-container-id-2 {color: black;}#sk-container-id-2 pre{padding: 0;}#sk-container-id-2 div.sk-toggleable {background-color: white;}#sk-container-id-2 label.sk-toggleable__label {cursor: pointer;display: block;width: 100%;margin-bottom: 0;padding: 0.3em;box-sizing: border-box;text-align: center;}#sk-container-id-2 label.sk-toggleable__label-arrow:before {content: \"▸\";float: left;margin-right: 0.25em;color: #696969;}#sk-container-id-2 label.sk-toggleable__label-arrow:hover:before {color: black;}#sk-container-id-2 div.sk-estimator:hover label.sk-toggleable__label-arrow:before {color: black;}#sk-container-id-2 div.sk-toggleable__content {max-height: 0;max-width: 0;overflow: hidden;text-align: left;background-color: #f0f8ff;}#sk-container-id-2 div.sk-toggleable__content pre {margin: 0.2em;color: black;border-radius: 0.25em;background-color: #f0f8ff;}#sk-container-id-2 input.sk-toggleable__control:checked~div.sk-toggleable__content {max-height: 200px;max-width: 100%;overflow: auto;}#sk-container-id-2 input.sk-toggleable__control:checked~label.sk-toggleable__label-arrow:before {content: \"▾\";}#sk-container-id-2 div.sk-estimator input.sk-toggleable__control:checked~label.sk-toggleable__label {background-color: #d4ebff;}#sk-container-id-2 div.sk-label input.sk-toggleable__control:checked~label.sk-toggleable__label {background-color: #d4ebff;}#sk-container-id-2 input.sk-hidden--visually {border: 0;clip: rect(1px 1px 1px 1px);clip: rect(1px, 1px, 1px, 1px);height: 1px;margin: -1px;overflow: hidden;padding: 0;position: absolute;width: 1px;}#sk-container-id-2 div.sk-estimator {font-family: monospace;background-color: #f0f8ff;border: 1px dotted black;border-radius: 0.25em;box-sizing: border-box;margin-bottom: 0.5em;}#sk-container-id-2 div.sk-estimator:hover {background-color: #d4ebff;}#sk-container-id-2 div.sk-parallel-item::after {content: \"\";width: 100%;border-bottom: 1px solid gray;flex-grow: 1;}#sk-container-id-2 div.sk-label:hover label.sk-toggleable__label {background-color: #d4ebff;}#sk-container-id-2 div.sk-serial::before {content: \"\";position: absolute;border-left: 1px solid gray;box-sizing: border-box;top: 0;bottom: 0;left: 50%;z-index: 0;}#sk-container-id-2 div.sk-serial {display: flex;flex-direction: column;align-items: center;background-color: white;padding-right: 0.2em;padding-left: 0.2em;position: relative;}#sk-container-id-2 div.sk-item {position: relative;z-index: 1;}#sk-container-id-2 div.sk-parallel {display: flex;align-items: stretch;justify-content: center;background-color: white;position: relative;}#sk-container-id-2 div.sk-item::before, #sk-container-id-2 div.sk-parallel-item::before {content: \"\";position: absolute;border-left: 1px solid gray;box-sizing: border-box;top: 0;bottom: 0;left: 50%;z-index: -1;}#sk-container-id-2 div.sk-parallel-item {display: flex;flex-direction: column;z-index: 1;position: relative;background-color: white;}#sk-container-id-2 div.sk-parallel-item:first-child::after {align-self: flex-end;width: 50%;}#sk-container-id-2 div.sk-parallel-item:last-child::after {align-self: flex-start;width: 50%;}#sk-container-id-2 div.sk-parallel-item:only-child::after {width: 0;}#sk-container-id-2 div.sk-dashed-wrapped {border: 1px dashed gray;margin: 0 0.4em 0.5em 0.4em;box-sizing: border-box;padding-bottom: 0.4em;background-color: white;}#sk-container-id-2 div.sk-label label {font-family: monospace;font-weight: bold;display: inline-block;line-height: 1.2em;}#sk-container-id-2 div.sk-label-container {text-align: center;}#sk-container-id-2 div.sk-container {/* jupyter's `normalize.less` sets `[hidden] { display: none; }` but bootstrap.min.css set `[hidden] { display: none !important; }` so we also need the `!important` here to be able to override the default hidden behavior on the sphinx rendered scikit-learn.org. See: https://github.com/scikit-learn/scikit-learn/issues/21755 */display: inline-block !important;position: relative;}#sk-container-id-2 div.sk-text-repr-fallback {display: none;}</style><div id=\"sk-container-id-2\" class=\"sk-top-container\"><div class=\"sk-text-repr-fallback\"><pre>SVR(kernel=&#x27;linear&#x27;)</pre><b>In a Jupyter environment, please rerun this cell to show the HTML representation or trust the notebook. <br />On GitHub, the HTML representation is unable to render, please try loading this page with nbviewer.org.</b></div><div class=\"sk-container\" hidden><div class=\"sk-item\"><div class=\"sk-estimator sk-toggleable\"><input class=\"sk-toggleable__control sk-hidden--visually\" id=\"sk-estimator-id-2\" type=\"checkbox\" checked><label for=\"sk-estimator-id-2\" class=\"sk-toggleable__label sk-toggleable__label-arrow\">SVR</label><div class=\"sk-toggleable__content\"><pre>SVR(kernel=&#x27;linear&#x27;)</pre></div></div></div></div></div>"
     },
     "execution_count": 191,
     "metadata": {},
     "output_type": "execute_result"
    }
   ],
   "source": [
    "group_svr = SVR(kernel='linear')\n",
    "group_svr.fit(train_X, train_y)"
   ],
   "metadata": {
    "collapsed": false,
    "ExecuteTime": {
     "start_time": "2023-10-08T23:29:03.955042Z",
     "end_time": "2023-10-08T23:29:03.981678Z"
    }
   }
  },
  {
   "cell_type": "code",
   "execution_count": 192,
   "outputs": [],
   "source": [
    "predicted_y = group_svr.predict(test_X)\n",
    "item_rating = test_y.to_frame().copy()\n",
    "item_rating['predicted'] = predicted_y"
   ],
   "metadata": {
    "collapsed": false,
    "ExecuteTime": {
     "start_time": "2023-10-08T23:29:05.590074Z",
     "end_time": "2023-10-08T23:29:05.595627Z"
    }
   }
  },
  {
   "cell_type": "code",
   "execution_count": 193,
   "outputs": [
    {
     "data": {
      "text/plain": "         rating  predicted\n227086     5.00   6.509308\n494149     7.00   7.562722\n494151     8.00   8.427332\n494194     7.00   5.962354\n227072     6.00   7.530112\n494144     7.00   6.380447\n494167     7.50   7.492719\n1193736    7.50   5.947606\n494135     7.00   7.441563\n494160     7.00   7.441480\n494157     8.50   8.134108\n1076206    5.00   7.058117\n227078     6.00   6.746297\n494195     7.00   7.284182\n1076195    4.75   5.943478\n227079     7.00   7.701067\n494181     8.00   8.558833\n494161     7.00   7.425737\n1076202    9.20   8.411919\n227068     8.10   7.369521\n227094     6.00   5.160649\n494148    10.00   9.020346\n494171     8.00   9.928125\n1193727   10.00   7.211907\n227092     6.00   6.432114",
      "text/html": "<div>\n<style scoped>\n    .dataframe tbody tr th:only-of-type {\n        vertical-align: middle;\n    }\n\n    .dataframe tbody tr th {\n        vertical-align: top;\n    }\n\n    .dataframe thead th {\n        text-align: right;\n    }\n</style>\n<table border=\"1\" class=\"dataframe\">\n  <thead>\n    <tr style=\"text-align: right;\">\n      <th></th>\n      <th>rating</th>\n      <th>predicted</th>\n    </tr>\n  </thead>\n  <tbody>\n    <tr>\n      <th>227086</th>\n      <td>5.00</td>\n      <td>6.509308</td>\n    </tr>\n    <tr>\n      <th>494149</th>\n      <td>7.00</td>\n      <td>7.562722</td>\n    </tr>\n    <tr>\n      <th>494151</th>\n      <td>8.00</td>\n      <td>8.427332</td>\n    </tr>\n    <tr>\n      <th>494194</th>\n      <td>7.00</td>\n      <td>5.962354</td>\n    </tr>\n    <tr>\n      <th>227072</th>\n      <td>6.00</td>\n      <td>7.530112</td>\n    </tr>\n    <tr>\n      <th>494144</th>\n      <td>7.00</td>\n      <td>6.380447</td>\n    </tr>\n    <tr>\n      <th>494167</th>\n      <td>7.50</td>\n      <td>7.492719</td>\n    </tr>\n    <tr>\n      <th>1193736</th>\n      <td>7.50</td>\n      <td>5.947606</td>\n    </tr>\n    <tr>\n      <th>494135</th>\n      <td>7.00</td>\n      <td>7.441563</td>\n    </tr>\n    <tr>\n      <th>494160</th>\n      <td>7.00</td>\n      <td>7.441480</td>\n    </tr>\n    <tr>\n      <th>494157</th>\n      <td>8.50</td>\n      <td>8.134108</td>\n    </tr>\n    <tr>\n      <th>1076206</th>\n      <td>5.00</td>\n      <td>7.058117</td>\n    </tr>\n    <tr>\n      <th>227078</th>\n      <td>6.00</td>\n      <td>6.746297</td>\n    </tr>\n    <tr>\n      <th>494195</th>\n      <td>7.00</td>\n      <td>7.284182</td>\n    </tr>\n    <tr>\n      <th>1076195</th>\n      <td>4.75</td>\n      <td>5.943478</td>\n    </tr>\n    <tr>\n      <th>227079</th>\n      <td>7.00</td>\n      <td>7.701067</td>\n    </tr>\n    <tr>\n      <th>494181</th>\n      <td>8.00</td>\n      <td>8.558833</td>\n    </tr>\n    <tr>\n      <th>494161</th>\n      <td>7.00</td>\n      <td>7.425737</td>\n    </tr>\n    <tr>\n      <th>1076202</th>\n      <td>9.20</td>\n      <td>8.411919</td>\n    </tr>\n    <tr>\n      <th>227068</th>\n      <td>8.10</td>\n      <td>7.369521</td>\n    </tr>\n    <tr>\n      <th>227094</th>\n      <td>6.00</td>\n      <td>5.160649</td>\n    </tr>\n    <tr>\n      <th>494148</th>\n      <td>10.00</td>\n      <td>9.020346</td>\n    </tr>\n    <tr>\n      <th>494171</th>\n      <td>8.00</td>\n      <td>9.928125</td>\n    </tr>\n    <tr>\n      <th>1193727</th>\n      <td>10.00</td>\n      <td>7.211907</td>\n    </tr>\n    <tr>\n      <th>227092</th>\n      <td>6.00</td>\n      <td>6.432114</td>\n    </tr>\n  </tbody>\n</table>\n</div>"
     },
     "execution_count": 193,
     "metadata": {},
     "output_type": "execute_result"
    }
   ],
   "source": [
    "item_rating"
   ],
   "metadata": {
    "collapsed": false,
    "ExecuteTime": {
     "start_time": "2023-10-08T23:29:05.604489Z",
     "end_time": "2023-10-08T23:29:05.610241Z"
    }
   }
  },
  {
   "cell_type": "code",
   "execution_count": 194,
   "outputs": [],
   "source": [
    "groups_ratings.to_csv(\"group_ratings.csv\")"
   ],
   "metadata": {
    "collapsed": false,
    "ExecuteTime": {
     "start_time": "2023-10-08T23:29:51.017595Z",
     "end_time": "2023-10-08T23:29:51.144164Z"
    }
   }
  },
  {
   "cell_type": "code",
   "execution_count": null,
   "outputs": [],
   "source": [],
   "metadata": {
    "collapsed": false
   }
  }
 ],
 "metadata": {
  "kernelspec": {
   "display_name": "Python 3 (ipykernel)",
   "language": "python",
   "name": "python3"
  },
  "language_info": {
   "codemirror_mode": {
    "name": "ipython",
    "version": 3
   },
   "file_extension": ".py",
   "mimetype": "text/x-python",
   "name": "python",
   "nbconvert_exporter": "python",
   "pygments_lexer": "ipython3",
   "version": "3.10.0"
  }
 },
 "nbformat": 4,
 "nbformat_minor": 5
}
