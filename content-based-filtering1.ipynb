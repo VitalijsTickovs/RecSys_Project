{
 "cells": [
  {
   "cell_type": "markdown",
   "id": "cfcc6604",
   "metadata": {
    "scrolled": false
   },
   "source": [
    "### Implementation of Content-based Filtering"
   ]
  },
  {
   "cell_type": "code",
   "execution_count": 1,
   "id": "7de99a34",
   "metadata": {
    "ExecuteTime": {
     "start_time": "2023-10-13T14:43:03.726876Z",
     "end_time": "2023-10-13T14:43:04.882341Z"
    }
   },
   "outputs": [],
   "source": [
    "import pandas as pd\n",
    "import numpy as np\n",
    "import random\n",
    "import matplotlib.pyplot as plt\n",
    "from scipy.stats import pearsonr\n",
    "import pickle\n",
    "\n",
    "from sklearn.model_selection import train_test_split\n",
    "from sklearn.svm import SVR\n",
    "from sklearn.preprocessing import StandardScaler\n",
    "from sklearn.tree import DecisionTreeRegressor\n",
    "\n",
    "random.seed(42)\n"
   ]
  },
  {
   "cell_type": "code",
   "execution_count": 2,
   "id": "c90a4fbd",
   "metadata": {
    "ExecuteTime": {
     "start_time": "2023-10-13T14:43:04.881549Z",
     "end_time": "2023-10-13T14:43:10.359280Z"
    }
   },
   "outputs": [],
   "source": [
    "data_folder = 'Dataset/'\n",
    "user_item_ratings_reduced = pd.read_csv(f'{data_folder}user_ratings_reduced.csv')\n",
    "user_item_ratings_reduced = user_item_ratings_reduced.drop(columns=[\"Unnamed: 0\"])\n",
    "item_ratings_df = pd.read_csv(data_folder + 'user_ratings.csv')\n",
    "item_info = pd.read_csv(data_folder + 'games.csv')\n",
    "item_mecahnics = pd.read_csv(data_folder + 'mechanics.csv')\n",
    "item_subcategories = pd.read_csv(data_folder + 'subcategories.csv')\n",
    "item_themes = pd.read_csv(data_folder + 'themes.csv')"
   ]
  },
  {
   "cell_type": "code",
   "execution_count": 3,
   "outputs": [],
   "source": [
    "# user_item_ratings_reduced['rating'] = user_item_ratings_reduced['rating'].round(0).astype(int)"
   ],
   "metadata": {
    "collapsed": false,
    "ExecuteTime": {
     "start_time": "2023-10-13T14:43:10.358087Z",
     "end_time": "2023-10-13T14:43:10.360644Z"
    }
   }
  },
  {
   "cell_type": "code",
   "execution_count": 4,
   "id": "787c0d6d",
   "metadata": {
    "ExecuteTime": {
     "start_time": "2023-10-13T14:43:10.375268Z",
     "end_time": "2023-10-13T14:43:10.508199Z"
    }
   },
   "outputs": [],
   "source": [
    "user_item_rating_count = user_item_ratings_reduced.groupby('user').count()"
   ]
  },
  {
   "cell_type": "code",
   "execution_count": 5,
   "id": "edbda74f",
   "metadata": {
    "ExecuteTime": {
     "start_time": "2023-10-13T14:43:10.510184Z",
     "end_time": "2023-10-13T14:43:10.580003Z"
    }
   },
   "outputs": [],
   "source": [
    "min_rating_count = 10\n",
    "user_rating_count = user_item_rating_count[user_item_rating_count['rating'] >= min_rating_count]\n",
    "user_list_filtered = list(user_rating_count.index)\n",
    "user_item_ratings_filtered = user_item_ratings_reduced[user_item_ratings_reduced['user'].isin(user_list_filtered)]"
   ]
  },
  {
   "cell_type": "code",
   "execution_count": 6,
   "id": "47e19bb9",
   "metadata": {
    "ExecuteTime": {
     "start_time": "2023-10-13T14:43:10.583587Z",
     "end_time": "2023-10-13T14:43:10.589392Z"
    }
   },
   "outputs": [
    {
     "data": {
      "text/plain": "     item  rating      user\n1  203416     8.0  -=Yod@=-\n2  271896     8.0  -=Yod@=-\n3   38054     6.0  -=Yod@=-\n4  312267     5.0  -=Yod@=-\n5   68448     9.0  -=Yod@=-",
      "text/html": "<div>\n<style scoped>\n    .dataframe tbody tr th:only-of-type {\n        vertical-align: middle;\n    }\n\n    .dataframe tbody tr th {\n        vertical-align: top;\n    }\n\n    .dataframe thead th {\n        text-align: right;\n    }\n</style>\n<table border=\"1\" class=\"dataframe\">\n  <thead>\n    <tr style=\"text-align: right;\">\n      <th></th>\n      <th>item</th>\n      <th>rating</th>\n      <th>user</th>\n    </tr>\n  </thead>\n  <tbody>\n    <tr>\n      <th>1</th>\n      <td>203416</td>\n      <td>8.0</td>\n      <td>-=Yod@=-</td>\n    </tr>\n    <tr>\n      <th>2</th>\n      <td>271896</td>\n      <td>8.0</td>\n      <td>-=Yod@=-</td>\n    </tr>\n    <tr>\n      <th>3</th>\n      <td>38054</td>\n      <td>6.0</td>\n      <td>-=Yod@=-</td>\n    </tr>\n    <tr>\n      <th>4</th>\n      <td>312267</td>\n      <td>5.0</td>\n      <td>-=Yod@=-</td>\n    </tr>\n    <tr>\n      <th>5</th>\n      <td>68448</td>\n      <td>9.0</td>\n      <td>-=Yod@=-</td>\n    </tr>\n  </tbody>\n</table>\n</div>"
     },
     "execution_count": 6,
     "metadata": {},
     "output_type": "execute_result"
    }
   ],
   "source": [
    "user_item_ratings_filtered.head()"
   ]
  },
  {
   "cell_type": "markdown",
   "id": "a3cf9602",
   "metadata": {},
   "source": [
    "### Preprocessing"
   ]
  },
  {
   "cell_type": "code",
   "execution_count": 7,
   "id": "2ac8504c",
   "metadata": {
    "ExecuteTime": {
     "start_time": "2023-10-13T14:43:10.591068Z",
     "end_time": "2023-10-13T14:43:11.068324Z"
    }
   },
   "outputs": [],
   "source": [
    "item_info.rename(columns={'BGGId':'item'},inplace=True)\n",
    "# get comeplete user-catalog data\n",
    "user_item_complete = pd.merge(user_item_ratings_filtered, item_info, on='item', how='inner')\n",
    "# item_info.info() \n",
    "# item_info[['GoodPlayers', 'Family', 'ImagePath']].head()\n",
    "non_numerical_features = ['user','Name','Description', 'item', 'GoodPlayers', 'Family', 'ImagePath']"
   ]
  },
  {
   "cell_type": "code",
   "execution_count": 7,
   "id": "f4d06d3d",
   "metadata": {
    "ExecuteTime": {
     "start_time": "2023-10-13T14:43:11.068725Z",
     "end_time": "2023-10-13T14:43:11.070210Z"
    }
   },
   "outputs": [],
   "source": []
  },
  {
   "cell_type": "code",
   "execution_count": 8,
   "id": "9f744423",
   "metadata": {
    "ExecuteTime": {
     "start_time": "2023-10-13T14:43:11.079374Z",
     "end_time": "2023-10-13T14:43:12.388140Z"
    }
   },
   "outputs": [],
   "source": [
    "# find a median rating for each user\n",
    "median_rating = user_item_complete.groupby('user')['rating'].median().rename('median_rating').reset_index()\n",
    "user_item_complete = pd.merge(user_item_complete, median_rating, on='user', how='inner')"
   ]
  },
  {
   "cell_type": "code",
   "execution_count": 9,
   "id": "060e8953",
   "metadata": {
    "ExecuteTime": {
     "start_time": "2023-10-13T14:43:12.386865Z",
     "end_time": "2023-10-13T14:43:12.390242Z"
    }
   },
   "outputs": [
    {
     "data": {
      "text/plain": "(1228331, 51)"
     },
     "execution_count": 9,
     "metadata": {},
     "output_type": "execute_result"
    }
   ],
   "source": [
    "user_item_complete.shape"
   ]
  },
  {
   "cell_type": "markdown",
   "id": "123d4756",
   "metadata": {},
   "source": [
    "User-Item matrix has size (1_228_331, 51) after selecting users with >= `min_rating_count`\n",
    "\n",
    "User-Item matrix has size (771_551, 51) after selecting items for users with rating higher than their mean rating"
   ]
  },
  {
   "cell_type": "code",
   "execution_count": 10,
   "id": "c10861d6",
   "metadata": {
    "ExecuteTime": {
     "start_time": "2023-10-13T14:43:12.389770Z",
     "end_time": "2023-10-13T14:43:12.587331Z"
    }
   },
   "outputs": [
    {
     "name": "stderr",
     "output_type": "stream",
     "text": [
      "/var/folders/hc/hnq3mts53txg3k7xbmj90z_80000gn/T/ipykernel_14743/2084522932.py:4: SettingWithCopyWarning: \n",
      "A value is trying to be set on a copy of a slice from a DataFrame\n",
      "\n",
      "See the caveats in the documentation: https://pandas.pydata.org/pandas-docs/stable/user_guide/indexing.html#returning-a-view-versus-a-copy\n",
      "  user_item_favourite['ComAgeRec'].fillna(user_item_favourite['ComAgeRec'].mean(), inplace=True)\n",
      "/var/folders/hc/hnq3mts53txg3k7xbmj90z_80000gn/T/ipykernel_14743/2084522932.py:5: SettingWithCopyWarning: \n",
      "A value is trying to be set on a copy of a slice from a DataFrame\n",
      "\n",
      "See the caveats in the documentation: https://pandas.pydata.org/pandas-docs/stable/user_guide/indexing.html#returning-a-view-versus-a-copy\n",
      "  user_item_favourite['LanguageEase'].fillna(user_item_favourite['LanguageEase'].mean(), inplace=True)\n"
     ]
    }
   ],
   "source": [
    "# creating user represenations\n",
    "user_item_favourite = user_item_complete[user_item_complete['rating']>=user_item_complete['median_rating']]\n",
    "\n",
    "user_item_favourite['ComAgeRec'].fillna(user_item_favourite['ComAgeRec'].mean(), inplace=True)\n",
    "user_item_favourite['LanguageEase'].fillna(user_item_favourite['LanguageEase'].mean(), inplace=True)\n",
    "user_item_favourite = user_item_favourite.drop(['Name', 'Description', 'Family', 'ImagePath'], axis=1)"
   ]
  },
  {
   "cell_type": "code",
   "execution_count": 11,
   "outputs": [],
   "source": [
    "user_representation = user_item_favourite.groupby('user').median(numeric_only=True).reset_index()\n",
    "user_representation_wnames = user_representation['user']\n",
    "user_representation.drop(columns=['user'], inplace=True)"
   ],
   "metadata": {
    "collapsed": false,
    "ExecuteTime": {
     "start_time": "2023-10-13T14:43:12.593114Z",
     "end_time": "2023-10-13T14:43:13.235990Z"
    }
   }
  },
  {
   "cell_type": "code",
   "execution_count": 12,
   "id": "c7c8e715",
   "metadata": {
    "ExecuteTime": {
     "start_time": "2023-10-13T14:43:13.236542Z",
     "end_time": "2023-10-13T14:43:13.239157Z"
    }
   },
   "outputs": [
    {
     "data": {
      "text/plain": "(51149, 45)"
     },
     "execution_count": 12,
     "metadata": {},
     "output_type": "execute_result"
    }
   ],
   "source": [
    "user_representation.shape"
   ]
  },
  {
   "cell_type": "markdown",
   "id": "a7c4f119",
   "metadata": {},
   "source": [
    "### Analysis of user preference clusters\n",
    " > based on TSNE clusterings of users with similar preferences, several groups of users were investigated to check if there are differences in prederences between clusters. The analysis showed that all the groups have approximately similar preferences. Hence, no need to create different features per user group"
   ]
  },
  {
   "cell_type": "code",
   "execution_count": 13,
   "id": "bf63c1ca",
   "metadata": {
    "ExecuteTime": {
     "start_time": "2023-10-13T14:43:13.242399Z",
     "end_time": "2023-10-13T14:43:13.244119Z"
    }
   },
   "outputs": [],
   "source": [
    "def get_all_items_for_user(username, complete_df):\n",
    "    return complete_df[complete_df['user']==username].drop(columns=['user'])"
   ]
  },
  {
   "cell_type": "code",
   "execution_count": 14,
   "id": "973195e6",
   "metadata": {
    "ExecuteTime": {
     "start_time": "2023-10-13T14:43:13.245948Z",
     "end_time": "2023-10-13T14:43:13.247590Z"
    }
   },
   "outputs": [],
   "source": [
    "def add_avg_group_rating(selected_items, group, complete):\n",
    "    selected_items.reset_index(drop=True, inplace=True)\n",
    "    selected_items['avg_group_rating'] = 0\n",
    "    group_users = group['user'].unique()\n",
    "    for index,item in selected_items.iterrows():\n",
    "        item_in_group = complete[(complete['user'].isin(group_users))&(complete['item']==item['item'])]\n",
    "        average_group_rating = item_in_group['rating'].mean()\n",
    "        item['avg_group_rating'] = average_group_rating\n",
    "        selected_items.iloc[index,:] = item\n",
    "        \n",
    "    return selected_items\n"
   ]
  },
  {
   "cell_type": "code",
   "execution_count": 15,
   "id": "6fd36746",
   "metadata": {
    "ExecuteTime": {
     "start_time": "2023-10-13T14:43:13.249307Z",
     "end_time": "2023-10-13T14:45:33.090776Z"
    }
   },
   "outputs": [
    {
     "name": "stderr",
     "output_type": "stream",
     "text": [
      "/var/folders/hc/hnq3mts53txg3k7xbmj90z_80000gn/T/ipykernel_14743/2979002713.py:9: FutureWarning: Setting an item of incompatible dtype is deprecated and will raise in a future error of pandas. Value '7.4199098428453265' has dtype incompatible with int64, please explicitly cast to a compatible dtype first.\n",
      "  selected_items.iloc[index,:] = item\n"
     ]
    }
   ],
   "source": [
    "all_users = pd.merge(user_representation, user_representation_wnames,left_index=True, right_index=True, how='left')\n",
    "all_items = add_avg_group_rating(user_item_complete.sample(frac=0.005, random_state=42), all_users, user_item_complete)"
   ]
  },
  {
   "cell_type": "code",
   "execution_count": 16,
   "id": "384a9510",
   "metadata": {
    "ExecuteTime": {
     "start_time": "2023-10-13T14:45:33.091783Z",
     "end_time": "2023-10-13T14:45:33.094081Z"
    }
   },
   "outputs": [],
   "source": [
    "def save(obj):\n",
    "    def get_variable_name(var):\n",
    "        # Iterate over the global variables\n",
    "        for name, value in globals().items():\n",
    "            if value is var:\n",
    "                return name\n",
    "        return None\n",
    "    name = get_variable_name(obj)\n",
    "    with open(name+\".pkl\", \"wb\") as f: # \"wb\" because we want to write in binary mode\n",
    "        pickle.dump(obj, f)\n",
    "        \n",
    "def open(path):\n",
    "    return pickle.loads(path)"
   ]
  },
  {
   "cell_type": "code",
   "execution_count": 17,
   "id": "07328e4a",
   "metadata": {
    "ExecuteTime": {
     "start_time": "2023-10-13T14:45:33.095700Z",
     "end_time": "2023-10-13T14:45:33.098162Z"
    }
   },
   "outputs": [],
   "source": [
    "def test_stat_significance(feature_name, selected_items):\n",
    "    \"\"\" test whether an item feature has statistically significant \n",
    "        correlation (Pearson) with a group rating\n",
    "    \"\"\"\n",
    "\n",
    "    feature = selected_items[feature_name].dropna()\n",
    "    ratings = selected_items['avg_group_rating'].reindex(feature.index).values\n",
    "    feature = feature.values\n",
    "    \n",
    "    r, p = pearsonr(ratings, feature)\n",
    "    \n",
    "    significant = False\n",
    "    if p < 0.05:\n",
    "        significant = True\n",
    "\n",
    "    # print(f'feature {feature_name} has p-value {round(p,2)}, significant: {significant}, correlation: {round(r,2)}')\n",
    "    return r, significant\n"
   ]
  },
  {
   "cell_type": "code",
   "execution_count": 18,
   "id": "a973b94d",
   "metadata": {
    "ExecuteTime": {
     "start_time": "2023-10-13T14:45:33.099757Z",
     "end_time": "2023-10-13T14:45:33.101459Z"
    }
   },
   "outputs": [],
   "source": [
    "def find_group_features(group_items, complete):\n",
    "    features = group_items.columns\n",
    "    group_features = []\n",
    "    for feature_name in features:\n",
    "        if feature_name in non_numerical_features:\n",
    "            continue\n",
    "        \n",
    "        correlation, significant = test_stat_significance(feature_name, group_items)\n",
    "        \n",
    "        if significant and abs(correlation) > 0.10:\n",
    "            group_features.append(feature_name)\n",
    "    return group_features"
   ]
  },
  {
   "cell_type": "code",
   "execution_count": 19,
   "id": "f7791867",
   "metadata": {
    "ExecuteTime": {
     "start_time": "2023-10-13T14:45:33.102212Z",
     "end_time": "2023-10-13T14:45:33.134129Z"
    }
   },
   "outputs": [
    {
     "name": "stderr",
     "output_type": "stream",
     "text": [
      "/Users/Vitalij/Library/Python/3.9/lib/python/site-packages/scipy/stats/_stats_py.py:4068: PearsonRConstantInputWarning: An input array is constant; the correlation coefficient is not defined.\n",
      "  warnings.warn(PearsonRConstantInputWarning())\n"
     ]
    }
   ],
   "source": [
    "sign_user_preferences = set(find_group_features(all_items, user_item_complete))"
   ]
  },
  {
   "cell_type": "code",
   "execution_count": 20,
   "id": "4dc4338a",
   "metadata": {
    "ExecuteTime": {
     "start_time": "2023-10-13T14:45:33.130897Z",
     "end_time": "2023-10-13T14:45:33.134213Z"
    }
   },
   "outputs": [],
   "source": [
    "rating_features = ['AvgRating', 'BayesAvgRating', 'StdDev', 'avg_group_rating', 'median_rating']"
   ]
  },
  {
   "cell_type": "markdown",
   "id": "7580b7c2",
   "metadata": {},
   "source": [
    "### Item Features for Content-Based Filtering\n",
    "- the features which have correlation with an average rating more than 0.15 in absolute values\n",
    "- are not rating features\n",
    "- are statistically significant\n",
    "\n",
    "\n",
    "The features (19) were received:\n",
    "```\n",
    " 'Rank:boardgame',\n",
    " 'Rank:strategygames',\n",
    " 'Rank:childrensgames',\n",
    " 'Rank:partygames',\n",
    "\n",
    " 'NumWant',\n",
    " 'NumWish',\n",
    " 'NumUserRatings',\n",
    " 'NumOwned',\n",
    " 'NumWeightVotes',\n",
    "\n",
    " 'BestPlayers',\n",
    " 'GameWeight',\n",
    " 'ComAgeRec',\n",
    " 'Kickstarted',\n",
    " 'MinPlayers',\n",
    " 'LanguageEase',\n",
    " 'MfgAgeRec'\n",
    "\n",
    " 'Cat:Party',\n",
    " 'Cat:Childrens',\n",
    " 'Cat:Strategy',\n",
    " ```\n",
    "\n",
    "Based on the analysis of the correlation of similar features from the list, the following were discarded:\n",
    "\n",
    " `'NumWish', 'NumWeightVotes'`"
   ]
  },
  {
   "cell_type": "code",
   "execution_count": 21,
   "id": "8d29d440",
   "metadata": {
    "ExecuteTime": {
     "start_time": "2023-10-13T14:45:33.134389Z",
     "end_time": "2023-10-13T14:45:33.136536Z"
    }
   },
   "outputs": [],
   "source": [
    "final_item_features = [f for f in (list(sign_user_preferences) + ['item','user']) if f not in rating_features + ['NumWish','NumWeightVotes']]"
   ]
  },
  {
   "cell_type": "code",
   "execution_count": 22,
   "id": "72770590",
   "metadata": {
    "ExecuteTime": {
     "start_time": "2023-10-13T14:45:33.140513Z",
     "end_time": "2023-10-13T14:45:33.266930Z"
    }
   },
   "outputs": [],
   "source": [
    "mechanics_features = ['mechanic_' + i if not i == 'BGGId' else i for i in item_mecahnics.columns]\n",
    "subcategory_features = ['subcategory_' + i if not i == 'BGGId' else i for i in item_subcategories.columns]\n",
    "theme_features = ['theme_' + i.split('_')[-1] if not i == 'BGGId' else i for i in item_themes.columns]\n",
    "\n",
    "item_mecahnics.columns = mechanics_features\n",
    "item_subcategories.columns = subcategory_features\n",
    "item_themes.columns = theme_features\n",
    "\n",
    "item_catalog = pd.merge(item_mecahnics, item_subcategories, on='BGGId', how='outer')\n",
    "item_catalog = pd.merge(item_catalog, item_themes, on='BGGId', how='outer')"
   ]
  },
  {
   "cell_type": "code",
   "execution_count": 23,
   "id": "4f029286",
   "metadata": {
    "ExecuteTime": {
     "start_time": "2023-10-13T14:45:33.240583Z",
     "end_time": "2023-10-13T14:45:38.611793Z"
    }
   },
   "outputs": [],
   "source": [
    "user_item_selected = user_item_complete[final_item_features]\n",
    "user_item_all_features = pd.merge(user_item_selected, item_catalog, left_on='item', right_on='BGGId', how='left')"
   ]
  },
  {
   "cell_type": "code",
   "execution_count": 24,
   "id": "2d18e0f4",
   "metadata": {
    "ExecuteTime": {
     "start_time": "2023-10-13T14:45:38.610388Z",
     "end_time": "2023-10-13T14:45:38.631392Z"
    }
   },
   "outputs": [
    {
     "data": {
      "text/plain": "Index(['user'], dtype='object')"
     },
     "execution_count": 24,
     "metadata": {},
     "output_type": "execute_result"
    }
   ],
   "source": [
    "user_item_all_features.select_dtypes(include=['object']).columns"
   ]
  },
  {
   "cell_type": "code",
   "execution_count": 25,
   "id": "ea7ccf5a",
   "metadata": {
    "ExecuteTime": {
     "start_time": "2023-10-13T14:45:38.661714Z",
     "end_time": "2023-10-13T14:45:38.684435Z"
    }
   },
   "outputs": [],
   "source": [
    "all_user_names = user_item_all_features.user.unique()"
   ]
  },
  {
   "cell_type": "code",
   "execution_count": 26,
   "outputs": [
    {
     "data": {
      "text/plain": "         MfgAgeRec  ComMaxPlaytime  NumUserRatings  NumExpansions  GameWeight  \\\n227086           8              45             175              0       1.875   \n333010           8              45             175              0       1.875   \n442881           8              45             175              0       1.875   \n808612           8              45             175              0       1.875   \n1046734          8              45             175              0       1.875   \n1174991          8              45             175              0       1.875   \n\n         Rank:strategygames  Rank:childrensgames  BestPlayers  Cat:Family  \\\n227086                21926                21926            0           0   \n333010                21926                21926            0           0   \n442881                21926                21926            0           0   \n808612                21926                21926            0           0   \n1046734               21926                21926            0           0   \n1174991               21926                21926            0           0   \n\n         MinPlayers  ...  ComAgeRec  Cat:Strategy  Kickstarted  LanguageEase  \\\n227086            3  ...        NaN             0            0           NaN   \n333010            3  ...        NaN             0            0           NaN   \n442881            3  ...        NaN             0            0           NaN   \n808612            3  ...        NaN             0            0           NaN   \n1046734           3  ...        NaN             0            0           NaN   \n1174991           3  ...        NaN             0            0           NaN   \n\n         Rank:boardgame  Cat:Party  rating  ComMinPlaytime  item  \\\n227086            10921          0     5.0              45  5467   \n333010            10921          0     8.0              45  5467   \n442881            10921          0     7.0              45  5467   \n808612            10921          0     6.0              45  5467   \n1046734           10921          0     6.0              45  5467   \n1174991           10921          0     8.0              45  5467   \n\n                     user  \n227086      BoardGameDude  \n333010            Aquafan  \n442881       KlausScharpf  \n808612        Disneyphile  \n1046734         Snowy0505  \n1174991  caffeinatedgamer  \n\n[6 rows x 25 columns]",
      "text/html": "<div>\n<style scoped>\n    .dataframe tbody tr th:only-of-type {\n        vertical-align: middle;\n    }\n\n    .dataframe tbody tr th {\n        vertical-align: top;\n    }\n\n    .dataframe thead th {\n        text-align: right;\n    }\n</style>\n<table border=\"1\" class=\"dataframe\">\n  <thead>\n    <tr style=\"text-align: right;\">\n      <th></th>\n      <th>MfgAgeRec</th>\n      <th>ComMaxPlaytime</th>\n      <th>NumUserRatings</th>\n      <th>NumExpansions</th>\n      <th>GameWeight</th>\n      <th>Rank:strategygames</th>\n      <th>Rank:childrensgames</th>\n      <th>BestPlayers</th>\n      <th>Cat:Family</th>\n      <th>MinPlayers</th>\n      <th>...</th>\n      <th>ComAgeRec</th>\n      <th>Cat:Strategy</th>\n      <th>Kickstarted</th>\n      <th>LanguageEase</th>\n      <th>Rank:boardgame</th>\n      <th>Cat:Party</th>\n      <th>rating</th>\n      <th>ComMinPlaytime</th>\n      <th>item</th>\n      <th>user</th>\n    </tr>\n  </thead>\n  <tbody>\n    <tr>\n      <th>227086</th>\n      <td>8</td>\n      <td>45</td>\n      <td>175</td>\n      <td>0</td>\n      <td>1.875</td>\n      <td>21926</td>\n      <td>21926</td>\n      <td>0</td>\n      <td>0</td>\n      <td>3</td>\n      <td>...</td>\n      <td>NaN</td>\n      <td>0</td>\n      <td>0</td>\n      <td>NaN</td>\n      <td>10921</td>\n      <td>0</td>\n      <td>5.0</td>\n      <td>45</td>\n      <td>5467</td>\n      <td>BoardGameDude</td>\n    </tr>\n    <tr>\n      <th>333010</th>\n      <td>8</td>\n      <td>45</td>\n      <td>175</td>\n      <td>0</td>\n      <td>1.875</td>\n      <td>21926</td>\n      <td>21926</td>\n      <td>0</td>\n      <td>0</td>\n      <td>3</td>\n      <td>...</td>\n      <td>NaN</td>\n      <td>0</td>\n      <td>0</td>\n      <td>NaN</td>\n      <td>10921</td>\n      <td>0</td>\n      <td>8.0</td>\n      <td>45</td>\n      <td>5467</td>\n      <td>Aquafan</td>\n    </tr>\n    <tr>\n      <th>442881</th>\n      <td>8</td>\n      <td>45</td>\n      <td>175</td>\n      <td>0</td>\n      <td>1.875</td>\n      <td>21926</td>\n      <td>21926</td>\n      <td>0</td>\n      <td>0</td>\n      <td>3</td>\n      <td>...</td>\n      <td>NaN</td>\n      <td>0</td>\n      <td>0</td>\n      <td>NaN</td>\n      <td>10921</td>\n      <td>0</td>\n      <td>7.0</td>\n      <td>45</td>\n      <td>5467</td>\n      <td>KlausScharpf</td>\n    </tr>\n    <tr>\n      <th>808612</th>\n      <td>8</td>\n      <td>45</td>\n      <td>175</td>\n      <td>0</td>\n      <td>1.875</td>\n      <td>21926</td>\n      <td>21926</td>\n      <td>0</td>\n      <td>0</td>\n      <td>3</td>\n      <td>...</td>\n      <td>NaN</td>\n      <td>0</td>\n      <td>0</td>\n      <td>NaN</td>\n      <td>10921</td>\n      <td>0</td>\n      <td>6.0</td>\n      <td>45</td>\n      <td>5467</td>\n      <td>Disneyphile</td>\n    </tr>\n    <tr>\n      <th>1046734</th>\n      <td>8</td>\n      <td>45</td>\n      <td>175</td>\n      <td>0</td>\n      <td>1.875</td>\n      <td>21926</td>\n      <td>21926</td>\n      <td>0</td>\n      <td>0</td>\n      <td>3</td>\n      <td>...</td>\n      <td>NaN</td>\n      <td>0</td>\n      <td>0</td>\n      <td>NaN</td>\n      <td>10921</td>\n      <td>0</td>\n      <td>6.0</td>\n      <td>45</td>\n      <td>5467</td>\n      <td>Snowy0505</td>\n    </tr>\n    <tr>\n      <th>1174991</th>\n      <td>8</td>\n      <td>45</td>\n      <td>175</td>\n      <td>0</td>\n      <td>1.875</td>\n      <td>21926</td>\n      <td>21926</td>\n      <td>0</td>\n      <td>0</td>\n      <td>3</td>\n      <td>...</td>\n      <td>NaN</td>\n      <td>0</td>\n      <td>0</td>\n      <td>NaN</td>\n      <td>10921</td>\n      <td>0</td>\n      <td>8.0</td>\n      <td>45</td>\n      <td>5467</td>\n      <td>caffeinatedgamer</td>\n    </tr>\n  </tbody>\n</table>\n<p>6 rows × 25 columns</p>\n</div>"
     },
     "execution_count": 26,
     "metadata": {},
     "output_type": "execute_result"
    }
   ],
   "source": [
    "user_item_all_features[final_item_features][user_item_all_features['item']==5467]"
   ],
   "metadata": {
    "collapsed": false,
    "ExecuteTime": {
     "start_time": "2023-10-13T14:45:38.685299Z",
     "end_time": "2023-10-13T14:45:38.768777Z"
    }
   }
  },
  {
   "cell_type": "markdown",
   "source": [
    "# Group Recommender System\n",
    "\n",
    "## Dividing users in to groups\n",
    "Groups are made by looking at the most similar users\n",
    "The features are aggregated by addition strategy"
   ],
   "metadata": {
    "collapsed": false
   }
  },
  {
   "cell_type": "code",
   "execution_count": 27,
   "outputs": [
    {
     "data": {
      "text/plain": "     item  rating      user\n1  203416     8.0  -=Yod@=-\n2  271896     8.0  -=Yod@=-\n3   38054     6.0  -=Yod@=-\n4  312267     5.0  -=Yod@=-\n5   68448     9.0  -=Yod@=-",
      "text/html": "<div>\n<style scoped>\n    .dataframe tbody tr th:only-of-type {\n        vertical-align: middle;\n    }\n\n    .dataframe tbody tr th {\n        vertical-align: top;\n    }\n\n    .dataframe thead th {\n        text-align: right;\n    }\n</style>\n<table border=\"1\" class=\"dataframe\">\n  <thead>\n    <tr style=\"text-align: right;\">\n      <th></th>\n      <th>item</th>\n      <th>rating</th>\n      <th>user</th>\n    </tr>\n  </thead>\n  <tbody>\n    <tr>\n      <th>1</th>\n      <td>203416</td>\n      <td>8.0</td>\n      <td>-=Yod@=-</td>\n    </tr>\n    <tr>\n      <th>2</th>\n      <td>271896</td>\n      <td>8.0</td>\n      <td>-=Yod@=-</td>\n    </tr>\n    <tr>\n      <th>3</th>\n      <td>38054</td>\n      <td>6.0</td>\n      <td>-=Yod@=-</td>\n    </tr>\n    <tr>\n      <th>4</th>\n      <td>312267</td>\n      <td>5.0</td>\n      <td>-=Yod@=-</td>\n    </tr>\n    <tr>\n      <th>5</th>\n      <td>68448</td>\n      <td>9.0</td>\n      <td>-=Yod@=-</td>\n    </tr>\n  </tbody>\n</table>\n</div>"
     },
     "execution_count": 27,
     "metadata": {},
     "output_type": "execute_result"
    }
   ],
   "source": [
    "user_item_ratings_filtered.head()"
   ],
   "metadata": {
    "collapsed": false,
    "ExecuteTime": {
     "start_time": "2023-10-13T14:45:38.770874Z",
     "end_time": "2023-10-13T14:45:38.773180Z"
    }
   }
  },
  {
   "cell_type": "markdown",
   "source": [
    "## Dividing group using synthetic group generation function provided in lab2 RecSys"
   ],
   "metadata": {
    "collapsed": false
   }
  },
  {
   "cell_type": "code",
   "execution_count": 28,
   "outputs": [],
   "source": [
    "# from synthetic_groups_generation.groups_generators import GroupsGenerator\n",
    "#\n",
    "# user_matrix = user_item_ratings_filtered.pivot_table(columns='item', index='user', values='rating')\n",
    "# user_matrix= user_matrix.iloc[:10000]\n",
    "# user_id_set = set(user_matrix.index.values)\n",
    "# user_id_indexes = user_matrix.index\n",
    "# user_matrix = user_matrix.fillna(0)"
   ],
   "metadata": {
    "collapsed": false,
    "ExecuteTime": {
     "start_time": "2023-10-13T14:45:38.773567Z",
     "end_time": "2023-10-13T14:45:38.775679Z"
    }
   }
  },
  {
   "cell_type": "code",
   "execution_count": 29,
   "outputs": [],
   "source": [
    "# user_matrix.to_csv(\"user_matrix.csv\")"
   ],
   "metadata": {
    "collapsed": false,
    "ExecuteTime": {
     "start_time": "2023-10-13T14:45:38.776037Z",
     "end_time": "2023-10-13T14:45:38.778277Z"
    }
   }
  },
  {
   "cell_type": "code",
   "execution_count": 30,
   "outputs": [],
   "source": [
    "# user_matrix = pd.read_csv(\"user_matrix.csv\")"
   ],
   "metadata": {
    "collapsed": false,
    "ExecuteTime": {
     "start_time": "2023-10-13T14:45:38.778735Z",
     "end_time": "2023-10-13T14:45:38.780142Z"
    }
   }
  },
  {
   "cell_type": "code",
   "execution_count": 31,
   "outputs": [],
   "source": [
    "# numpy_array = user_matrix.to_numpy()\n",
    "# sim_matrix = np.corrcoef(numpy_array[:][1:])"
   ],
   "metadata": {
    "collapsed": false,
    "ExecuteTime": {
     "start_time": "2023-10-13T14:45:38.780820Z",
     "end_time": "2023-10-13T14:45:38.783057Z"
    }
   }
  },
  {
   "cell_type": "code",
   "execution_count": 32,
   "outputs": [],
   "source": [
    "# %matplotlib inline\n",
    "# import matplotlib.pyplot as plt\n",
    "# plt.hist(sim_matrix.flatten())\n",
    "# plt.yscale(\"log\")\n",
    "# plt.xlabel(\"Pearson's Correlation Coeficient\")"
   ],
   "metadata": {
    "collapsed": false,
    "ExecuteTime": {
     "start_time": "2023-10-13T14:45:38.783400Z",
     "end_time": "2023-10-13T14:45:38.785629Z"
    }
   }
  },
  {
   "cell_type": "code",
   "execution_count": 33,
   "outputs": [],
   "source": [
    "# grpGenerator = GroupsGenerator.getGroupsGenerator(\"SIMILAR\")\n",
    "# current_list = grpGenerator.generateGroups(user_id_indexes, sorted(user_id_set), sim_matrix, [4], 250)\n",
    "#\n",
    "# display(pd.DataFrame.from_records(current_list))\n",
    "# groups = pd.DataFrame.from_records(current_list)"
   ],
   "metadata": {
    "collapsed": false,
    "ExecuteTime": {
     "start_time": "2023-10-13T14:45:38.786084Z",
     "end_time": "2023-10-13T14:45:38.801434Z"
    }
   }
  },
  {
   "cell_type": "code",
   "execution_count": 34,
   "outputs": [],
   "source": [
    "# groups_ratings = pd.DataFrame(columns=final_item_features)\n",
    "#\n",
    "# # For each group aggregate ratings\n",
    "# for i in range(len(groups)):\n",
    "#     # Get group members usernames\n",
    "#     selected_users = groups.iloc[i][\"group_members\"]\n",
    "#\n",
    "#     # Create a dataframe for particular group\n",
    "#     group_ratings = pd.DataFrame(columns=final_item_features)\n",
    "#     # Append their ratings\n",
    "#     for user in selected_users:\n",
    "#         selected_users_rating = user_item_all_features[user_item_all_features[\"user\"]==user][final_item_features]\n",
    "#         group_ratings= pd.concat([group_ratings,selected_users_rating], axis=0)\n",
    "#\n",
    "#     # Aggregation if duplicates are found\n",
    "#     duplicated_items = group_ratings[group_ratings['item'].duplicated(keep=False)]\n",
    "#     item_set = set(duplicated_items.item)\n",
    "#     for item in item_set:\n",
    "#         group_ratings = group_ratings.drop(group_ratings[group_ratings[\"item\"] == item].index)\n",
    "#         duplicated_items['rating'] = duplicated_items[duplicated_items['item']==item]['rating'].mean()\n",
    "#         duplicated_items = duplicated_items.iloc[[0]]\n",
    "#         group_ratings = pd.concat([group_ratings,duplicated_items], axis=0)\n",
    "#\n",
    "#     group_ratings['user'] = i\n",
    "#     groups_ratings = pd.concat([groups_ratings, group_ratings], axis=0)"
   ],
   "metadata": {
    "collapsed": false,
    "ExecuteTime": {
     "start_time": "2023-10-13T14:45:38.788680Z",
     "end_time": "2023-10-13T14:45:38.801768Z"
    }
   }
  },
  {
   "cell_type": "markdown",
   "source": [
    "## Custom made groups"
   ],
   "metadata": {
    "collapsed": false
   }
  },
  {
   "cell_type": "code",
   "execution_count": 35,
   "outputs": [
    {
     "name": "stderr",
     "output_type": "stream",
     "text": [
      "/var/folders/hc/hnq3mts53txg3k7xbmj90z_80000gn/T/ipykernel_14743/330989318.py:24: FutureWarning: The behavior of DataFrame concatenation with empty or all-NA entries is deprecated. In a future version, this will no longer exclude empty or all-NA columns when determining the result dtypes. To retain the old behavior, exclude the relevant entries before the concat operation.\n",
      "  groups_ratings = pd.concat([groups_ratings, group_ratings], axis=0)\n"
     ]
    }
   ],
   "source": [
    "groups = pd.read_pickle('cf_list_group_recs_nm_add.pkl')\n",
    "groups_ratings = pd.DataFrame(columns=final_item_features)\n",
    "for i in range(len(groups)):\n",
    "    selected_users = groups[i][0][-1]\n",
    "\n",
    "    # Create a dataframe for particular group\n",
    "    group_ratings = user_item_all_features[user_item_all_features[\"user\"]==selected_users[0]][final_item_features]\n",
    "    # Append their ratings\n",
    "    for user in selected_users[1:]:\n",
    "        selected_users_rating = user_item_all_features[user_item_all_features[\"user\"]==user][final_item_features]\n",
    "        selected_users_rating = selected_users_rating.fillna(0)\n",
    "        group_ratings= pd.concat([group_ratings,selected_users_rating], axis=0)\n",
    "    # Aggregation if duplicates are found\n",
    "    duplicated_items = group_ratings[group_ratings['item'].duplicated(keep=False)]\n",
    "    item_set = set(duplicated_items.item)\n",
    "    for item in item_set:\n",
    "        group_ratings = group_ratings.drop(group_ratings[group_ratings[\"item\"] == item].index)\n",
    "        duplicated_items['rating'] = duplicated_items[duplicated_items['item']==item]['rating'].mean()\n",
    "        duplicated_items = duplicated_items.iloc[[0]]\n",
    "        group_ratings = pd.concat([group_ratings,duplicated_items], axis=0)\n",
    "\n",
    "\n",
    "    group_ratings['user'] = i\n",
    "    groups_ratings = pd.concat([groups_ratings, group_ratings], axis=0)\n",
    "\n",
    "groups_ratings = groups_ratings.fillna(0)\n",
    "group_names = groups_ratings['user'].unique()"
   ],
   "metadata": {
    "collapsed": false,
    "ExecuteTime": {
     "start_time": "2023-10-13T14:45:38.791722Z",
     "end_time": "2023-10-13T14:45:50.680063Z"
    }
   }
  },
  {
   "cell_type": "code",
   "execution_count": 36,
   "outputs": [
    {
     "data": {
      "text/plain": "(31646, 25)"
     },
     "execution_count": 36,
     "metadata": {},
     "output_type": "execute_result"
    }
   ],
   "source": [
    "groups_ratings.shape"
   ],
   "metadata": {
    "collapsed": false,
    "ExecuteTime": {
     "start_time": "2023-10-13T14:45:50.678567Z",
     "end_time": "2023-10-13T14:45:50.682285Z"
    }
   }
  },
  {
   "cell_type": "markdown",
   "source": [
    "## Making a group recommender system using SVR"
   ],
   "metadata": {
    "collapsed": false
   }
  },
  {
   "cell_type": "code",
   "execution_count": 37,
   "outputs": [],
   "source": [
    "def generate_Xy_for_user(username, complete_df):\n",
    "    scaler = StandardScaler()\n",
    "    user_rated_items = complete_df[complete_df['user']==username]\n",
    "    index_x = user_rated_items.index\n",
    "    X = user_rated_items.drop(columns=['user','rating', 'item'])\n",
    "    normalized_matrix = scaler.fit_transform(X)\n",
    "    X =  pd.DataFrame(normalized_matrix, columns=X.columns, index=index_x)\n",
    "    y = user_rated_items['rating']\n",
    "    return X,y"
   ],
   "metadata": {
    "collapsed": false,
    "ExecuteTime": {
     "start_time": "2023-10-13T14:45:50.681375Z",
     "end_time": "2023-10-13T14:45:50.686664Z"
    }
   }
  },
  {
   "cell_type": "code",
   "execution_count": 38,
   "outputs": [
    {
     "name": "stderr",
     "output_type": "stream",
     "text": [
      "/Users/Vitalij/Library/Python/3.9/lib/python/site-packages/sklearn/utils/validation.py:757: FutureWarning: is_sparse is deprecated and will be removed in a future version. Check `isinstance(dtype, pd.SparseDtype)` instead.\n",
      "  if not hasattr(array, \"sparse\") and array.dtypes.apply(is_sparse).any():\n",
      "/Users/Vitalij/Library/Python/3.9/lib/python/site-packages/sklearn/utils/validation.py:595: FutureWarning: is_sparse is deprecated and will be removed in a future version. Check `isinstance(dtype, pd.SparseDtype)` instead.\n",
      "  if is_sparse(pd_dtype):\n",
      "/Users/Vitalij/Library/Python/3.9/lib/python/site-packages/sklearn/utils/validation.py:604: FutureWarning: is_sparse is deprecated and will be removed in a future version. Check `isinstance(dtype, pd.SparseDtype)` instead.\n",
      "  if is_sparse(pd_dtype) or not is_extension_array_dtype(pd_dtype):\n",
      "/Users/Vitalij/Library/Python/3.9/lib/python/site-packages/sklearn/utils/validation.py:757: FutureWarning: is_sparse is deprecated and will be removed in a future version. Check `isinstance(dtype, pd.SparseDtype)` instead.\n",
      "  if not hasattr(array, \"sparse\") and array.dtypes.apply(is_sparse).any():\n",
      "/Users/Vitalij/Library/Python/3.9/lib/python/site-packages/sklearn/utils/validation.py:595: FutureWarning: is_sparse is deprecated and will be removed in a future version. Check `isinstance(dtype, pd.SparseDtype)` instead.\n",
      "  if is_sparse(pd_dtype):\n",
      "/Users/Vitalij/Library/Python/3.9/lib/python/site-packages/sklearn/utils/validation.py:604: FutureWarning: is_sparse is deprecated and will be removed in a future version. Check `isinstance(dtype, pd.SparseDtype)` instead.\n",
      "  if is_sparse(pd_dtype) or not is_extension_array_dtype(pd_dtype):\n"
     ]
    }
   ],
   "source": [
    "X,y = generate_Xy_for_user(group_names[0],groups_ratings)\n",
    "train_X, test_X, train_y, test_y = train_test_split(X,y,test_size=0.2, random_state=42)"
   ],
   "metadata": {
    "collapsed": false,
    "ExecuteTime": {
     "start_time": "2023-10-13T14:45:50.685040Z",
     "end_time": "2023-10-13T14:45:50.698522Z"
    }
   }
  },
  {
   "cell_type": "code",
   "execution_count": 39,
   "outputs": [
    {
     "name": "stderr",
     "output_type": "stream",
     "text": [
      "/Users/Vitalij/Library/Python/3.9/lib/python/site-packages/sklearn/utils/validation.py:757: FutureWarning: is_sparse is deprecated and will be removed in a future version. Check `isinstance(dtype, pd.SparseDtype)` instead.\n",
      "  if not hasattr(array, \"sparse\") and array.dtypes.apply(is_sparse).any():\n",
      "/Users/Vitalij/Library/Python/3.9/lib/python/site-packages/sklearn/utils/validation.py:595: FutureWarning: is_sparse is deprecated and will be removed in a future version. Check `isinstance(dtype, pd.SparseDtype)` instead.\n",
      "  if is_sparse(pd_dtype):\n",
      "/Users/Vitalij/Library/Python/3.9/lib/python/site-packages/sklearn/utils/validation.py:604: FutureWarning: is_sparse is deprecated and will be removed in a future version. Check `isinstance(dtype, pd.SparseDtype)` instead.\n",
      "  if is_sparse(pd_dtype) or not is_extension_array_dtype(pd_dtype):\n"
     ]
    },
    {
     "data": {
      "text/plain": "SVR(kernel='linear')",
      "text/html": "<style>#sk-container-id-1 {color: black;background-color: white;}#sk-container-id-1 pre{padding: 0;}#sk-container-id-1 div.sk-toggleable {background-color: white;}#sk-container-id-1 label.sk-toggleable__label {cursor: pointer;display: block;width: 100%;margin-bottom: 0;padding: 0.3em;box-sizing: border-box;text-align: center;}#sk-container-id-1 label.sk-toggleable__label-arrow:before {content: \"▸\";float: left;margin-right: 0.25em;color: #696969;}#sk-container-id-1 label.sk-toggleable__label-arrow:hover:before {color: black;}#sk-container-id-1 div.sk-estimator:hover label.sk-toggleable__label-arrow:before {color: black;}#sk-container-id-1 div.sk-toggleable__content {max-height: 0;max-width: 0;overflow: hidden;text-align: left;background-color: #f0f8ff;}#sk-container-id-1 div.sk-toggleable__content pre {margin: 0.2em;color: black;border-radius: 0.25em;background-color: #f0f8ff;}#sk-container-id-1 input.sk-toggleable__control:checked~div.sk-toggleable__content {max-height: 200px;max-width: 100%;overflow: auto;}#sk-container-id-1 input.sk-toggleable__control:checked~label.sk-toggleable__label-arrow:before {content: \"▾\";}#sk-container-id-1 div.sk-estimator input.sk-toggleable__control:checked~label.sk-toggleable__label {background-color: #d4ebff;}#sk-container-id-1 div.sk-label input.sk-toggleable__control:checked~label.sk-toggleable__label {background-color: #d4ebff;}#sk-container-id-1 input.sk-hidden--visually {border: 0;clip: rect(1px 1px 1px 1px);clip: rect(1px, 1px, 1px, 1px);height: 1px;margin: -1px;overflow: hidden;padding: 0;position: absolute;width: 1px;}#sk-container-id-1 div.sk-estimator {font-family: monospace;background-color: #f0f8ff;border: 1px dotted black;border-radius: 0.25em;box-sizing: border-box;margin-bottom: 0.5em;}#sk-container-id-1 div.sk-estimator:hover {background-color: #d4ebff;}#sk-container-id-1 div.sk-parallel-item::after {content: \"\";width: 100%;border-bottom: 1px solid gray;flex-grow: 1;}#sk-container-id-1 div.sk-label:hover label.sk-toggleable__label {background-color: #d4ebff;}#sk-container-id-1 div.sk-serial::before {content: \"\";position: absolute;border-left: 1px solid gray;box-sizing: border-box;top: 0;bottom: 0;left: 50%;z-index: 0;}#sk-container-id-1 div.sk-serial {display: flex;flex-direction: column;align-items: center;background-color: white;padding-right: 0.2em;padding-left: 0.2em;position: relative;}#sk-container-id-1 div.sk-item {position: relative;z-index: 1;}#sk-container-id-1 div.sk-parallel {display: flex;align-items: stretch;justify-content: center;background-color: white;position: relative;}#sk-container-id-1 div.sk-item::before, #sk-container-id-1 div.sk-parallel-item::before {content: \"\";position: absolute;border-left: 1px solid gray;box-sizing: border-box;top: 0;bottom: 0;left: 50%;z-index: -1;}#sk-container-id-1 div.sk-parallel-item {display: flex;flex-direction: column;z-index: 1;position: relative;background-color: white;}#sk-container-id-1 div.sk-parallel-item:first-child::after {align-self: flex-end;width: 50%;}#sk-container-id-1 div.sk-parallel-item:last-child::after {align-self: flex-start;width: 50%;}#sk-container-id-1 div.sk-parallel-item:only-child::after {width: 0;}#sk-container-id-1 div.sk-dashed-wrapped {border: 1px dashed gray;margin: 0 0.4em 0.5em 0.4em;box-sizing: border-box;padding-bottom: 0.4em;background-color: white;}#sk-container-id-1 div.sk-label label {font-family: monospace;font-weight: bold;display: inline-block;line-height: 1.2em;}#sk-container-id-1 div.sk-label-container {text-align: center;}#sk-container-id-1 div.sk-container {/* jupyter's `normalize.less` sets `[hidden] { display: none; }` but bootstrap.min.css set `[hidden] { display: none !important; }` so we also need the `!important` here to be able to override the default hidden behavior on the sphinx rendered scikit-learn.org. See: https://github.com/scikit-learn/scikit-learn/issues/21755 */display: inline-block !important;position: relative;}#sk-container-id-1 div.sk-text-repr-fallback {display: none;}</style><div id=\"sk-container-id-1\" class=\"sk-top-container\"><div class=\"sk-text-repr-fallback\"><pre>SVR(kernel=&#x27;linear&#x27;)</pre><b>In a Jupyter environment, please rerun this cell to show the HTML representation or trust the notebook. <br />On GitHub, the HTML representation is unable to render, please try loading this page with nbviewer.org.</b></div><div class=\"sk-container\" hidden><div class=\"sk-item\"><div class=\"sk-estimator sk-toggleable\"><input class=\"sk-toggleable__control sk-hidden--visually\" id=\"sk-estimator-id-1\" type=\"checkbox\" checked><label for=\"sk-estimator-id-1\" class=\"sk-toggleable__label sk-toggleable__label-arrow\">SVR</label><div class=\"sk-toggleable__content\"><pre>SVR(kernel=&#x27;linear&#x27;)</pre></div></div></div></div></div>"
     },
     "execution_count": 39,
     "metadata": {},
     "output_type": "execute_result"
    }
   ],
   "source": [
    "group_svr = SVR(kernel='linear')\n",
    "group_svr.fit(train_X, train_y)"
   ],
   "metadata": {
    "collapsed": false,
    "ExecuteTime": {
     "start_time": "2023-10-13T14:45:50.700495Z",
     "end_time": "2023-10-13T14:45:50.792626Z"
    }
   }
  },
  {
   "cell_type": "code",
   "execution_count": 40,
   "outputs": [
    {
     "name": "stderr",
     "output_type": "stream",
     "text": [
      "/Users/Vitalij/Library/Python/3.9/lib/python/site-packages/sklearn/utils/validation.py:757: FutureWarning: is_sparse is deprecated and will be removed in a future version. Check `isinstance(dtype, pd.SparseDtype)` instead.\n",
      "  if not hasattr(array, \"sparse\") and array.dtypes.apply(is_sparse).any():\n",
      "/Users/Vitalij/Library/Python/3.9/lib/python/site-packages/sklearn/utils/validation.py:595: FutureWarning: is_sparse is deprecated and will be removed in a future version. Check `isinstance(dtype, pd.SparseDtype)` instead.\n",
      "  if is_sparse(pd_dtype):\n",
      "/Users/Vitalij/Library/Python/3.9/lib/python/site-packages/sklearn/utils/validation.py:604: FutureWarning: is_sparse is deprecated and will be removed in a future version. Check `isinstance(dtype, pd.SparseDtype)` instead.\n",
      "  if is_sparse(pd_dtype) or not is_extension_array_dtype(pd_dtype):\n"
     ]
    }
   ],
   "source": [
    "predicted_y = group_svr.predict(test_X)\n",
    "item_rating = test_y.to_frame().copy()\n",
    "item_rating['predicted'] = predicted_y"
   ],
   "metadata": {
    "collapsed": false,
    "ExecuteTime": {
     "start_time": "2023-10-13T14:45:50.746811Z",
     "end_time": "2023-10-13T14:45:50.792783Z"
    }
   }
  },
  {
   "cell_type": "code",
   "execution_count": 41,
   "outputs": [
    {
     "data": {
      "text/plain": "        rating  predicted\n667053     5.0   5.601860\n234516     8.0   6.314862\n647       10.0   6.231593\n156817     7.0   5.952359\n175376     7.5   6.385210\n...        ...        ...\n234522     8.0   6.032819\n156847     5.0   4.203604\n156954     4.0   4.889283\n156825     4.0   5.230485\n667144     5.0   5.898551\n\n[172 rows x 2 columns]",
      "text/html": "<div>\n<style scoped>\n    .dataframe tbody tr th:only-of-type {\n        vertical-align: middle;\n    }\n\n    .dataframe tbody tr th {\n        vertical-align: top;\n    }\n\n    .dataframe thead th {\n        text-align: right;\n    }\n</style>\n<table border=\"1\" class=\"dataframe\">\n  <thead>\n    <tr style=\"text-align: right;\">\n      <th></th>\n      <th>rating</th>\n      <th>predicted</th>\n    </tr>\n  </thead>\n  <tbody>\n    <tr>\n      <th>667053</th>\n      <td>5.0</td>\n      <td>5.601860</td>\n    </tr>\n    <tr>\n      <th>234516</th>\n      <td>8.0</td>\n      <td>6.314862</td>\n    </tr>\n    <tr>\n      <th>647</th>\n      <td>10.0</td>\n      <td>6.231593</td>\n    </tr>\n    <tr>\n      <th>156817</th>\n      <td>7.0</td>\n      <td>5.952359</td>\n    </tr>\n    <tr>\n      <th>175376</th>\n      <td>7.5</td>\n      <td>6.385210</td>\n    </tr>\n    <tr>\n      <th>...</th>\n      <td>...</td>\n      <td>...</td>\n    </tr>\n    <tr>\n      <th>234522</th>\n      <td>8.0</td>\n      <td>6.032819</td>\n    </tr>\n    <tr>\n      <th>156847</th>\n      <td>5.0</td>\n      <td>4.203604</td>\n    </tr>\n    <tr>\n      <th>156954</th>\n      <td>4.0</td>\n      <td>4.889283</td>\n    </tr>\n    <tr>\n      <th>156825</th>\n      <td>4.0</td>\n      <td>5.230485</td>\n    </tr>\n    <tr>\n      <th>667144</th>\n      <td>5.0</td>\n      <td>5.898551</td>\n    </tr>\n  </tbody>\n</table>\n<p>172 rows × 2 columns</p>\n</div>"
     },
     "execution_count": 41,
     "metadata": {},
     "output_type": "execute_result"
    }
   ],
   "source": [
    "item_rating"
   ],
   "metadata": {
    "collapsed": false,
    "ExecuteTime": {
     "start_time": "2023-10-13T14:45:50.754341Z",
     "end_time": "2023-10-13T14:45:50.792946Z"
    }
   }
  },
  {
   "cell_type": "code",
   "execution_count": 42,
   "outputs": [],
   "source": [
    "groups_ratings.to_csv(\"groups_ratings.csv\")"
   ],
   "metadata": {
    "collapsed": false,
    "ExecuteTime": {
     "start_time": "2023-10-13T14:45:50.761601Z",
     "end_time": "2023-10-13T14:45:50.943667Z"
    }
   }
  },
  {
   "cell_type": "code",
   "execution_count": 46,
   "outputs": [
    {
     "name": "stderr",
     "output_type": "stream",
     "text": [
      "/Users/Vitalij/Library/Python/3.9/lib/python/site-packages/sklearn/utils/validation.py:757: FutureWarning: is_sparse is deprecated and will be removed in a future version. Check `isinstance(dtype, pd.SparseDtype)` instead.\n",
      "  if not hasattr(array, \"sparse\") and array.dtypes.apply(is_sparse).any():\n",
      "/Users/Vitalij/Library/Python/3.9/lib/python/site-packages/sklearn/utils/validation.py:595: FutureWarning: is_sparse is deprecated and will be removed in a future version. Check `isinstance(dtype, pd.SparseDtype)` instead.\n",
      "  if is_sparse(pd_dtype):\n",
      "/Users/Vitalij/Library/Python/3.9/lib/python/site-packages/sklearn/utils/validation.py:604: FutureWarning: is_sparse is deprecated and will be removed in a future version. Check `isinstance(dtype, pd.SparseDtype)` instead.\n",
      "  if is_sparse(pd_dtype) or not is_extension_array_dtype(pd_dtype):\n",
      "/Users/Vitalij/Library/Python/3.9/lib/python/site-packages/sklearn/utils/validation.py:757: FutureWarning: is_sparse is deprecated and will be removed in a future version. Check `isinstance(dtype, pd.SparseDtype)` instead.\n",
      "  if not hasattr(array, \"sparse\") and array.dtypes.apply(is_sparse).any():\n",
      "/Users/Vitalij/Library/Python/3.9/lib/python/site-packages/sklearn/utils/validation.py:595: FutureWarning: is_sparse is deprecated and will be removed in a future version. Check `isinstance(dtype, pd.SparseDtype)` instead.\n",
      "  if is_sparse(pd_dtype):\n",
      "/Users/Vitalij/Library/Python/3.9/lib/python/site-packages/sklearn/utils/validation.py:604: FutureWarning: is_sparse is deprecated and will be removed in a future version. Check `isinstance(dtype, pd.SparseDtype)` instead.\n",
      "  if is_sparse(pd_dtype) or not is_extension_array_dtype(pd_dtype):\n",
      "/Users/Vitalij/Library/Python/3.9/lib/python/site-packages/sklearn/utils/validation.py:757: FutureWarning: is_sparse is deprecated and will be removed in a future version. Check `isinstance(dtype, pd.SparseDtype)` instead.\n",
      "  if not hasattr(array, \"sparse\") and array.dtypes.apply(is_sparse).any():\n",
      "/Users/Vitalij/Library/Python/3.9/lib/python/site-packages/sklearn/utils/validation.py:595: FutureWarning: is_sparse is deprecated and will be removed in a future version. Check `isinstance(dtype, pd.SparseDtype)` instead.\n",
      "  if is_sparse(pd_dtype):\n",
      "/Users/Vitalij/Library/Python/3.9/lib/python/site-packages/sklearn/utils/validation.py:604: FutureWarning: is_sparse is deprecated and will be removed in a future version. Check `isinstance(dtype, pd.SparseDtype)` instead.\n",
      "  if is_sparse(pd_dtype) or not is_extension_array_dtype(pd_dtype):\n",
      "/Users/Vitalij/Library/Python/3.9/lib/python/site-packages/sklearn/utils/validation.py:757: FutureWarning: is_sparse is deprecated and will be removed in a future version. Check `isinstance(dtype, pd.SparseDtype)` instead.\n",
      "  if not hasattr(array, \"sparse\") and array.dtypes.apply(is_sparse).any():\n",
      "/Users/Vitalij/Library/Python/3.9/lib/python/site-packages/sklearn/utils/validation.py:595: FutureWarning: is_sparse is deprecated and will be removed in a future version. Check `isinstance(dtype, pd.SparseDtype)` instead.\n",
      "  if is_sparse(pd_dtype):\n",
      "/Users/Vitalij/Library/Python/3.9/lib/python/site-packages/sklearn/utils/validation.py:604: FutureWarning: is_sparse is deprecated and will be removed in a future version. Check `isinstance(dtype, pd.SparseDtype)` instead.\n",
      "  if is_sparse(pd_dtype) or not is_extension_array_dtype(pd_dtype):\n",
      "/Users/Vitalij/Library/Python/3.9/lib/python/site-packages/sklearn/utils/validation.py:757: FutureWarning: is_sparse is deprecated and will be removed in a future version. Check `isinstance(dtype, pd.SparseDtype)` instead.\n",
      "  if not hasattr(array, \"sparse\") and array.dtypes.apply(is_sparse).any():\n",
      "/Users/Vitalij/Library/Python/3.9/lib/python/site-packages/sklearn/utils/validation.py:595: FutureWarning: is_sparse is deprecated and will be removed in a future version. Check `isinstance(dtype, pd.SparseDtype)` instead.\n",
      "  if is_sparse(pd_dtype):\n",
      "/Users/Vitalij/Library/Python/3.9/lib/python/site-packages/sklearn/utils/validation.py:604: FutureWarning: is_sparse is deprecated and will be removed in a future version. Check `isinstance(dtype, pd.SparseDtype)` instead.\n",
      "  if is_sparse(pd_dtype) or not is_extension_array_dtype(pd_dtype):\n",
      "/Users/Vitalij/Library/Python/3.9/lib/python/site-packages/sklearn/utils/validation.py:757: FutureWarning: is_sparse is deprecated and will be removed in a future version. Check `isinstance(dtype, pd.SparseDtype)` instead.\n",
      "  if not hasattr(array, \"sparse\") and array.dtypes.apply(is_sparse).any():\n",
      "/Users/Vitalij/Library/Python/3.9/lib/python/site-packages/sklearn/utils/validation.py:595: FutureWarning: is_sparse is deprecated and will be removed in a future version. Check `isinstance(dtype, pd.SparseDtype)` instead.\n",
      "  if is_sparse(pd_dtype):\n",
      "/Users/Vitalij/Library/Python/3.9/lib/python/site-packages/sklearn/utils/validation.py:604: FutureWarning: is_sparse is deprecated and will be removed in a future version. Check `isinstance(dtype, pd.SparseDtype)` instead.\n",
      "  if is_sparse(pd_dtype) or not is_extension_array_dtype(pd_dtype):\n",
      "/Users/Vitalij/Library/Python/3.9/lib/python/site-packages/sklearn/utils/validation.py:757: FutureWarning: is_sparse is deprecated and will be removed in a future version. Check `isinstance(dtype, pd.SparseDtype)` instead.\n",
      "  if not hasattr(array, \"sparse\") and array.dtypes.apply(is_sparse).any():\n",
      "/Users/Vitalij/Library/Python/3.9/lib/python/site-packages/sklearn/utils/validation.py:595: FutureWarning: is_sparse is deprecated and will be removed in a future version. Check `isinstance(dtype, pd.SparseDtype)` instead.\n",
      "  if is_sparse(pd_dtype):\n",
      "/Users/Vitalij/Library/Python/3.9/lib/python/site-packages/sklearn/utils/validation.py:604: FutureWarning: is_sparse is deprecated and will be removed in a future version. Check `isinstance(dtype, pd.SparseDtype)` instead.\n",
      "  if is_sparse(pd_dtype) or not is_extension_array_dtype(pd_dtype):\n",
      "/Users/Vitalij/Library/Python/3.9/lib/python/site-packages/sklearn/utils/validation.py:757: FutureWarning: is_sparse is deprecated and will be removed in a future version. Check `isinstance(dtype, pd.SparseDtype)` instead.\n",
      "  if not hasattr(array, \"sparse\") and array.dtypes.apply(is_sparse).any():\n",
      "/Users/Vitalij/Library/Python/3.9/lib/python/site-packages/sklearn/utils/validation.py:595: FutureWarning: is_sparse is deprecated and will be removed in a future version. Check `isinstance(dtype, pd.SparseDtype)` instead.\n",
      "  if is_sparse(pd_dtype):\n",
      "/Users/Vitalij/Library/Python/3.9/lib/python/site-packages/sklearn/utils/validation.py:604: FutureWarning: is_sparse is deprecated and will be removed in a future version. Check `isinstance(dtype, pd.SparseDtype)` instead.\n",
      "  if is_sparse(pd_dtype) or not is_extension_array_dtype(pd_dtype):\n"
     ]
    },
    {
     "name": "stdout",
     "output_type": "stream",
     "text": [
      "RMSE: 1.48  | MAE: 1.22  | nDCG: 0.9670398055063476\n"
     ]
    },
    {
     "ename": "ValueError",
     "evalue": "too many values to unpack (expected 2)",
     "output_type": "error",
     "traceback": [
      "\u001B[0;31m---------------------------------------------------------------------------\u001B[0m",
      "\u001B[0;31mValueError\u001B[0m                                Traceback (most recent call last)",
      "Cell \u001B[0;32mIn[46], line 38\u001B[0m\n\u001B[1;32m     35\u001B[0m \u001B[38;5;28mprint\u001B[39m(\u001B[38;5;124m'\u001B[39m\u001B[38;5;124mRMSE:\u001B[39m\u001B[38;5;124m'\u001B[39m,\u001B[38;5;28mround\u001B[39m(avg_RMSE,\u001B[38;5;241m2\u001B[39m), \u001B[38;5;124m'\u001B[39m\u001B[38;5;124m | MAE:\u001B[39m\u001B[38;5;124m'\u001B[39m,\u001B[38;5;28mround\u001B[39m(avg_MAE,\u001B[38;5;241m2\u001B[39m), \u001B[38;5;124m'\u001B[39m\u001B[38;5;124m | nDCG:\u001B[39m\u001B[38;5;124m'\u001B[39m, nDCG)\n\u001B[1;32m     37\u001B[0m regressor \u001B[38;5;241m=\u001B[39m DecisionTreeRegressor()\n\u001B[0;32m---> 38\u001B[0m RMSEs, MAEs \u001B[38;5;241m=\u001B[39m evaluate_users(users_for_test, user_item_all_features[final_item_features], regressor)\n\u001B[1;32m     39\u001B[0m avg_RMSE \u001B[38;5;241m=\u001B[39m np\u001B[38;5;241m.\u001B[39mmean(RMSEs)\n\u001B[1;32m     40\u001B[0m avg_MAE \u001B[38;5;241m=\u001B[39m np\u001B[38;5;241m.\u001B[39mmean(MAEs)\n",
      "\u001B[0;31mValueError\u001B[0m: too many values to unpack (expected 2)"
     ]
    }
   ],
   "source": [
    "\n",
    "\n",
    "num_users_test = 1\n",
    "users_for_test = random.sample(list(all_user_names), num_users_test)\n",
    "\n",
    "# ((item_rating['rating']-item_rating['predicted'])**2).mean(0)**0.5\n",
    "# (abs(item_rating['rating']-item_rating['predicted'])).mean(0)\n",
    "\n",
    "def evaluate_users(users, user_item_all_features, regressor):\n",
    "    RMSEs = []\n",
    "    MAEs = []\n",
    "    for user in users:\n",
    "        X,y = generate_Xy_for_user(user,user_item_all_features)\n",
    "        train_X, test_X, train_y, test_y = train_test_split(X,y, test_size=0.2, random_state=42)\n",
    "\n",
    "        regressor.fit(train_X, train_y)\n",
    "        predicted_y = regressor.predict(test_X)\n",
    "\n",
    "        item_ratings = test_y.to_frame().copy()\n",
    "        item_ratings['predicted'] = predicted_y\n",
    "\n",
    "        RMSEs.append(((item_ratings['rating']-item_ratings['predicted'])**2).mean(0)**0.5)\n",
    "        MAEs.append((abs(item_ratings['rating']-item_ratings['predicted'])).mean(0))\n",
    "\n",
    "\n",
    "    return RMSEs, MAEs, nDCG\n",
    "\n",
    "user_item_all_features['ComAgeRec'].fillna(value=user_item_all_features['ComAgeRec'].mean(), inplace=True)\n",
    "user_item_all_features['LanguageEase'].fillna(value=user_item_all_features['LanguageEase'].mean(), inplace=True)\n",
    "\n",
    "regressor = SVR(kernel='linear')\n",
    "RMSEs, MAEs, nDCG = evaluate_users(users_for_test, user_item_all_features[final_item_features], regressor)\n",
    "\n",
    "avg_RMSE = np.mean(RMSEs)\n",
    "avg_MAE = np.mean(MAEs)\n",
    "print('RMSE:',round(avg_RMSE,2), ' | MAE:',round(avg_MAE,2), ' | nDCG:', nDCG)\n",
    "\n",
    "regressor = DecisionTreeRegressor()\n",
    "RMSEs, MAEs = evaluate_users(users_for_test, user_item_all_features[final_item_features], regressor)\n",
    "avg_RMSE = np.mean(RMSEs)\n",
    "avg_MAE = np.mean(MAEs)\n",
    "print('RMSE:',round(avg_RMSE,2), ' | MAE:',round(avg_MAE,2))"
   ],
   "metadata": {
    "collapsed": false,
    "ExecuteTime": {
     "start_time": "2023-10-11T21:23:57.271535Z",
     "end_time": "2023-10-11T21:23:57.614248Z"
    }
   }
  },
  {
   "cell_type": "code",
   "execution_count": null,
   "outputs": [],
   "source": [],
   "metadata": {
    "collapsed": false,
    "ExecuteTime": {
     "start_time": "2023-10-11T21:22:35.548255Z",
     "end_time": "2023-10-11T21:22:35.630718Z"
    }
   }
  }
 ],
 "metadata": {
  "kernelspec": {
   "display_name": "Python 3 (ipykernel)",
   "language": "python",
   "name": "python3"
  },
  "language_info": {
   "codemirror_mode": {
    "name": "ipython",
    "version": 3
   },
   "file_extension": ".py",
   "mimetype": "text/x-python",
   "name": "python",
   "nbconvert_exporter": "python",
   "pygments_lexer": "ipython3",
   "version": "3.10.0"
  }
 },
 "nbformat": 4,
 "nbformat_minor": 5
}
