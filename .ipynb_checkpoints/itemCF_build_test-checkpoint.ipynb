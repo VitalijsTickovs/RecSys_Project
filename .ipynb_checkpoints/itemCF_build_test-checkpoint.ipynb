{
 "cells": [
  {
   "cell_type": "code",
   "execution_count": 3,
   "metadata": {
    "execution": {
     "iopub.execute_input": "2023-09-30T15:36:25.257907Z",
     "iopub.status.busy": "2023-09-30T15:36:25.257451Z",
     "iopub.status.idle": "2023-09-30T15:36:58.644355Z",
     "shell.execute_reply": "2023-09-30T15:36:58.643105Z",
     "shell.execute_reply.started": "2023-09-30T15:36:25.257872Z"
    }
   },
   "outputs": [
    {
     "name": "stdout",
     "output_type": "stream",
     "text": [
      "Collecting lenskit\n",
      "  Downloading lenskit-0.14.2-py3-none-any.whl (74 kB)\n",
      "\u001b[2K     \u001b[90m━━━━━━━━━━━━━━━━━━━━━━━━━━━━━━━━━━━━━━━━\u001b[0m \u001b[32m74.0/74.0 kB\u001b[0m \u001b[31m2.3 MB/s\u001b[0m eta \u001b[36m0:00:00\u001b[0m\n",
      "\u001b[?25hCollecting pandas==1.*,>=1.0 (from lenskit)\n",
      "  Downloading pandas-1.5.3-cp310-cp310-manylinux_2_17_x86_64.manylinux2014_x86_64.whl (12.1 MB)\n",
      "\u001b[2K     \u001b[90m━━━━━━━━━━━━━━━━━━━━━━━━━━━━━━━━━━━━━━━━\u001b[0m \u001b[32m12.1/12.1 MB\u001b[0m \u001b[31m37.9 MB/s\u001b[0m eta \u001b[36m0:00:00\u001b[0m00:01\u001b[0m00:01\u001b[0m\n",
      "\u001b[?25hRequirement already satisfied: numpy>=1.17 in /opt/conda/lib/python3.10/site-packages (from lenskit) (1.23.5)\n",
      "Requirement already satisfied: scipy>=1.2 in /opt/conda/lib/python3.10/site-packages (from lenskit) (1.11.2)\n",
      "Collecting numba<0.57,>=0.51 (from lenskit)\n",
      "  Downloading numba-0.56.4-cp310-cp310-manylinux2014_x86_64.manylinux_2_17_x86_64.whl (3.5 MB)\n",
      "\u001b[2K     \u001b[90m━━━━━━━━━━━━━━━━━━━━━━━━━━━━━━━━━━━━━━━━\u001b[0m \u001b[32m3.5/3.5 MB\u001b[0m \u001b[31m56.8 MB/s\u001b[0m eta \u001b[36m0:00:00\u001b[0m:00:01\u001b[0m\n",
      "\u001b[?25hRequirement already satisfied: cffi>=1.12.2 in /opt/conda/lib/python3.10/site-packages (from lenskit) (1.15.1)\n",
      "Requirement already satisfied: psutil>=5 in /opt/conda/lib/python3.10/site-packages (from lenskit) (5.9.3)\n",
      "Collecting binpickle>=0.3.2 (from lenskit)\n",
      "  Downloading binpickle-0.3.4-py3-none-any.whl (13 kB)\n",
      "Collecting seedbank>=0.1.0 (from lenskit)\n",
      "  Downloading seedbank-0.1.3-py3-none-any.whl (8.5 kB)\n",
      "Collecting csr>=0.3.1 (from lenskit)\n",
      "  Downloading csr-0.5.1-py3-none-any.whl (25 kB)\n",
      "Requirement already satisfied: python-dateutil>=2.8.1 in /opt/conda/lib/python3.10/site-packages (from pandas==1.*,>=1.0->lenskit) (2.8.2)\n",
      "Requirement already satisfied: pytz>=2020.1 in /opt/conda/lib/python3.10/site-packages (from pandas==1.*,>=1.0->lenskit) (2023.3)\n",
      "Requirement already satisfied: msgpack>=1.0 in /opt/conda/lib/python3.10/site-packages (from binpickle>=0.3.2->lenskit) (1.0.5)\n",
      "Requirement already satisfied: pycparser in /opt/conda/lib/python3.10/site-packages (from cffi>=1.12.2->lenskit) (2.21)\n",
      "Collecting llvmlite<0.40,>=0.39.0dev0 (from numba<0.57,>=0.51->lenskit)\n",
      "  Downloading llvmlite-0.39.1-cp310-cp310-manylinux_2_17_x86_64.manylinux2014_x86_64.whl (34.6 MB)\n",
      "\u001b[2K     \u001b[90m━━━━━━━━━━━━━━━━━━━━━━━━━━━━━━━━━━━━━━━━\u001b[0m \u001b[32m34.6/34.6 MB\u001b[0m \u001b[31m4.5 MB/s\u001b[0m eta \u001b[36m0:00:00\u001b[0m00:01\u001b[0m00:01\u001b[0mm\n",
      "\u001b[?25hRequirement already satisfied: setuptools in /opt/conda/lib/python3.10/site-packages (from numba<0.57,>=0.51->lenskit) (68.0.0)\n",
      "Collecting anyconfig==0.13.* (from seedbank>=0.1.0->lenskit)\n",
      "  Downloading anyconfig-0.13.0-py2.py3-none-any.whl (87 kB)\n",
      "\u001b[2K     \u001b[90m━━━━━━━━━━━━━━━━━━━━━━━━━━━━━━━━━━━━━━━━\u001b[0m \u001b[32m87.8/87.8 kB\u001b[0m \u001b[31m6.5 MB/s\u001b[0m eta \u001b[36m0:00:00\u001b[0m\n",
      "\u001b[?25hRequirement already satisfied: six>=1.5 in /opt/conda/lib/python3.10/site-packages (from python-dateutil>=2.8.1->pandas==1.*,>=1.0->lenskit) (1.16.0)\n",
      "Installing collected packages: llvmlite, binpickle, anyconfig, seedbank, pandas, numba, csr, lenskit\n",
      "  Attempting uninstall: llvmlite\n",
      "    Found existing installation: llvmlite 0.40.1\n",
      "    Uninstalling llvmlite-0.40.1:\n",
      "      Successfully uninstalled llvmlite-0.40.1\n",
      "  Attempting uninstall: pandas\n",
      "    Found existing installation: pandas 2.0.3\n",
      "    Uninstalling pandas-2.0.3:\n",
      "      Successfully uninstalled pandas-2.0.3\n",
      "  Attempting uninstall: numba\n",
      "    Found existing installation: numba 0.57.1\n",
      "    Uninstalling numba-0.57.1:\n",
      "      Successfully uninstalled numba-0.57.1\n",
      "\u001b[31mERROR: pip's dependency resolver does not currently take into account all the packages that are installed. This behaviour is the source of the following dependency conflicts.\n",
      "beatrix-jupyterlab 2023.621.222118 requires jupyter-server~=1.16, but you have jupyter-server 2.6.0 which is incompatible.\n",
      "fitter 1.6.0 requires pandas<3.0.0,>=2.0.3, but you have pandas 1.5.3 which is incompatible.\n",
      "momepy 0.6.0 requires shapely>=2, but you have shapely 1.8.5.post1 which is incompatible.\n",
      "pymc3 3.11.5 requires numpy<1.22.2,>=1.15.0, but you have numpy 1.23.5 which is incompatible.\n",
      "pymc3 3.11.5 requires scipy<1.8.0,>=1.7.3, but you have scipy 1.11.2 which is incompatible.\n",
      "ydata-profiling 4.3.1 requires scipy<1.11,>=1.4.1, but you have scipy 1.11.2 which is incompatible.\u001b[0m\u001b[31m\n",
      "\u001b[0mSuccessfully installed anyconfig-0.13.0 binpickle-0.3.4 csr-0.5.1 lenskit-0.14.2 llvmlite-0.39.1 numba-0.56.4 pandas-1.5.3 seedbank-0.1.3\n"
     ]
    }
   ],
   "source": [
    "!pip install lenskit "
   ]
  },
  {
   "cell_type": "code",
   "execution_count": 1,
   "metadata": {
    "execution": {
     "iopub.execute_input": "2023-09-30T16:58:48.170873Z",
     "iopub.status.busy": "2023-09-30T16:58:48.170404Z",
     "iopub.status.idle": "2023-09-30T16:58:48.177621Z",
     "shell.execute_reply": "2023-09-30T16:58:48.175842Z",
     "shell.execute_reply.started": "2023-09-30T16:58:48.170840Z"
    }
   },
   "outputs": [],
   "source": [
    "import pandas as pd\n",
    "\n",
    "from lenskit.algorithms import Recommender\n",
    "from lenskit.algorithms.user_knn import UserUser\n",
    "from lenskit.algorithms.item_knn import ItemItem\n",
    "\n",
    "from sklearn.model_selection import train_test_split, KFold\n",
    "\n",
    "import numpy as np\n",
    "import statistics\n",
    "\n",
    "import pickle"
   ]
  },
  {
   "cell_type": "code",
   "execution_count": 2,
   "metadata": {
    "execution": {
     "iopub.execute_input": "2023-09-30T17:01:03.829621Z",
     "iopub.status.busy": "2023-09-30T17:01:03.829094Z",
     "iopub.status.idle": "2023-09-30T17:01:16.379320Z",
     "shell.execute_reply": "2023-09-30T17:01:16.377951Z",
     "shell.execute_reply.started": "2023-09-30T17:01:03.829559Z"
    }
   },
   "outputs": [],
   "source": [
    "data_folder = 'data/'\n",
    "\n",
    "item_ratings_df = pd.read_csv(data_folder + 'user_ratings.csv')\n",
    "# item_ratings_df = pd.read_csv(data_folder + 'user_ratings_600k.csv')\n",
    "# item_ratings_df = pd.read_csv(data_folder + 'user_ratings_1.8m.csv')\n",
    "item_info = pd.read_csv(data_folder + 'games.csv')\n",
    "item_mecahnics = pd.read_csv(data_folder + 'mechanics.csv')\n",
    "item_subcategories = pd.read_csv(data_folder + 'subcategories.csv')\n",
    "item_themes = pd.read_csv(data_folder + 'themes.csv')"
   ]
  },
  {
   "cell_type": "code",
   "execution_count": 3,
   "metadata": {
    "execution": {
     "iopub.execute_input": "2023-09-30T16:42:14.195729Z",
     "iopub.status.busy": "2023-09-30T16:42:14.195230Z",
     "iopub.status.idle": "2023-09-30T16:44:50.914727Z",
     "shell.execute_reply": "2023-09-30T16:44:50.913702Z",
     "shell.execute_reply.started": "2023-09-30T16:42:14.195682Z"
    }
   },
   "outputs": [],
   "source": [
    "# item_ratings_df = item_ratings_df.groupby('Username', group_keys=False).apply(lambda x: x.sample(frac=0.1))"
   ]
  },
  {
   "cell_type": "code",
   "execution_count": 4,
   "metadata": {
    "execution": {
     "iopub.execute_input": "2023-09-30T17:01:16.381356Z",
     "iopub.status.busy": "2023-09-30T17:01:16.381045Z",
     "iopub.status.idle": "2023-09-30T17:01:17.112952Z",
     "shell.execute_reply": "2023-09-30T17:01:17.111695Z",
     "shell.execute_reply.started": "2023-09-30T17:01:16.381331Z"
    }
   },
   "outputs": [],
   "source": [
    "item_ratings_df = item_ratings_df.rename(columns={\n",
    "    'BGGId':'item',\n",
    "    'Rating':'rating',\n",
    "    'Username':'user'\n",
    "})"
   ]
  },
  {
   "cell_type": "code",
   "execution_count": 5,
   "metadata": {
    "execution": {
     "iopub.execute_input": "2023-09-30T17:01:17.781856Z",
     "iopub.status.busy": "2023-09-30T17:01:17.781486Z",
     "iopub.status.idle": "2023-09-30T17:01:28.142813Z",
     "shell.execute_reply": "2023-09-30T17:01:28.141702Z",
     "shell.execute_reply.started": "2023-09-30T17:01:17.781822Z"
    }
   },
   "outputs": [
    {
     "data": {
      "text/html": [
       "<div>\n",
       "<style scoped>\n",
       "    .dataframe tbody tr th:only-of-type {\n",
       "        vertical-align: middle;\n",
       "    }\n",
       "\n",
       "    .dataframe tbody tr th {\n",
       "        vertical-align: top;\n",
       "    }\n",
       "\n",
       "    .dataframe thead th {\n",
       "        text-align: right;\n",
       "    }\n",
       "</style>\n",
       "<table border=\"1\" class=\"dataframe\">\n",
       "  <thead>\n",
       "    <tr style=\"text-align: right;\">\n",
       "      <th></th>\n",
       "      <th>item</th>\n",
       "      <th>rating</th>\n",
       "    </tr>\n",
       "    <tr>\n",
       "      <th>user</th>\n",
       "      <th></th>\n",
       "      <th></th>\n",
       "    </tr>\n",
       "  </thead>\n",
       "  <tbody>\n",
       "    <tr>\n",
       "      <th>Fu_Koios</th>\n",
       "      <td>2</td>\n",
       "      <td>2</td>\n",
       "    </tr>\n",
       "    <tr>\n",
       "      <th>beastvol</th>\n",
       "      <td>9</td>\n",
       "      <td>9</td>\n",
       "    </tr>\n",
       "    <tr>\n",
       "      <th>mycroft</th>\n",
       "      <td>14</td>\n",
       "      <td>14</td>\n",
       "    </tr>\n",
       "    <tr>\n",
       "      <th>woh</th>\n",
       "      <td>5</td>\n",
       "      <td>5</td>\n",
       "    </tr>\n",
       "    <tr>\n",
       "      <th>(mostly) harmless</th>\n",
       "      <td>1</td>\n",
       "      <td>1</td>\n",
       "    </tr>\n",
       "    <tr>\n",
       "      <th>...</th>\n",
       "      <td>...</td>\n",
       "      <td>...</td>\n",
       "    </tr>\n",
       "    <tr>\n",
       "      <th>zzzuzu</th>\n",
       "      <td>39</td>\n",
       "      <td>39</td>\n",
       "    </tr>\n",
       "    <tr>\n",
       "      <th>zzzvone</th>\n",
       "      <td>21</td>\n",
       "      <td>21</td>\n",
       "    </tr>\n",
       "    <tr>\n",
       "      <th>zzzxxxyyy</th>\n",
       "      <td>36</td>\n",
       "      <td>36</td>\n",
       "    </tr>\n",
       "    <tr>\n",
       "      <th>zzzzzane</th>\n",
       "      <td>154</td>\n",
       "      <td>154</td>\n",
       "    </tr>\n",
       "    <tr>\n",
       "      <th>Æleksandr Þræð</th>\n",
       "      <td>12</td>\n",
       "      <td>12</td>\n",
       "    </tr>\n",
       "  </tbody>\n",
       "</table>\n",
       "<p>411374 rows × 2 columns</p>\n",
       "</div>"
      ],
      "text/plain": [
       "                   item  rating\n",
       "user                           \n",
       " Fu_Koios             2       2\n",
       " beastvol             9       9\n",
       " mycroft             14      14\n",
       " woh                  5       5\n",
       "(mostly) harmless     1       1\n",
       "...                 ...     ...\n",
       "zzzuzu               39      39\n",
       "zzzvone              21      21\n",
       "zzzxxxyyy            36      36\n",
       "zzzzzane            154     154\n",
       "Æleksandr Þræð       12      12\n",
       "\n",
       "[411374 rows x 2 columns]"
      ]
     },
     "execution_count": 5,
     "metadata": {},
     "output_type": "execute_result"
    }
   ],
   "source": [
    "user_rating_count = item_ratings_df.groupby('user').count()\n",
    "user_rating_count"
   ]
  },
  {
   "cell_type": "code",
   "execution_count": 6,
   "metadata": {
    "execution": {
     "iopub.execute_input": "2023-09-30T17:01:32.563248Z",
     "iopub.status.busy": "2023-09-30T17:01:32.561569Z",
     "iopub.status.idle": "2023-09-30T17:01:32.594344Z",
     "shell.execute_reply": "2023-09-30T17:01:32.593123Z",
     "shell.execute_reply.started": "2023-09-30T17:01:32.563179Z"
    }
   },
   "outputs": [],
   "source": [
    "min_rating_count = 10\n",
    "user_rating_count = user_rating_count[user_rating_count['rating'] >= min_rating_count]"
   ]
  },
  {
   "cell_type": "code",
   "execution_count": 7,
   "metadata": {
    "execution": {
     "iopub.execute_input": "2023-09-30T17:01:32.965783Z",
     "iopub.status.busy": "2023-09-30T17:01:32.964386Z",
     "iopub.status.idle": "2023-09-30T17:01:33.037928Z",
     "shell.execute_reply": "2023-09-30T17:01:33.036885Z",
     "shell.execute_reply.started": "2023-09-30T17:01:32.965732Z"
    }
   },
   "outputs": [],
   "source": [
    "user_list_filtered = list(user_rating_count.index)"
   ]
  },
  {
   "cell_type": "code",
   "execution_count": 8,
   "metadata": {
    "execution": {
     "iopub.execute_input": "2023-09-30T17:01:35.639076Z",
     "iopub.status.busy": "2023-09-30T17:01:35.638260Z",
     "iopub.status.idle": "2023-09-30T17:01:43.984363Z",
     "shell.execute_reply": "2023-09-30T17:01:43.983360Z",
     "shell.execute_reply.started": "2023-09-30T17:01:35.639030Z"
    }
   },
   "outputs": [],
   "source": [
    "item_ratings_df_filtered = item_ratings_df[item_ratings_df['user'].isin(user_list_filtered)]"
   ]
  },
  {
   "cell_type": "code",
   "execution_count": 9,
   "metadata": {},
   "outputs": [],
   "source": [
    "item_ratings_df_filtered = item_ratings_df_filtered.drop_duplicates(subset = ['item', 'user'])"
   ]
  },
  {
   "cell_type": "code",
   "execution_count": 10,
   "metadata": {
    "execution": {
     "iopub.execute_input": "2023-09-30T17:01:43.986770Z",
     "iopub.status.busy": "2023-09-30T17:01:43.986052Z",
     "iopub.status.idle": "2023-09-30T17:01:44.000138Z",
     "shell.execute_reply": "2023-09-30T17:01:43.998666Z",
     "shell.execute_reply.started": "2023-09-30T17:01:43.986739Z"
    }
   },
   "outputs": [
    {
     "data": {
      "text/html": [
       "<div>\n",
       "<style scoped>\n",
       "    .dataframe tbody tr th:only-of-type {\n",
       "        vertical-align: middle;\n",
       "    }\n",
       "\n",
       "    .dataframe tbody tr th {\n",
       "        vertical-align: top;\n",
       "    }\n",
       "\n",
       "    .dataframe thead th {\n",
       "        text-align: right;\n",
       "    }\n",
       "</style>\n",
       "<table border=\"1\" class=\"dataframe\">\n",
       "  <thead>\n",
       "    <tr style=\"text-align: right;\">\n",
       "      <th></th>\n",
       "      <th>item</th>\n",
       "      <th>rating</th>\n",
       "      <th>user</th>\n",
       "    </tr>\n",
       "  </thead>\n",
       "  <tbody>\n",
       "    <tr>\n",
       "      <th>0</th>\n",
       "      <td>213788</td>\n",
       "      <td>8.0</td>\n",
       "      <td>Tonydorrf</td>\n",
       "    </tr>\n",
       "    <tr>\n",
       "      <th>1</th>\n",
       "      <td>213788</td>\n",
       "      <td>8.0</td>\n",
       "      <td>tachyon14k</td>\n",
       "    </tr>\n",
       "    <tr>\n",
       "      <th>2</th>\n",
       "      <td>213788</td>\n",
       "      <td>8.0</td>\n",
       "      <td>Ungotter</td>\n",
       "    </tr>\n",
       "    <tr>\n",
       "      <th>3</th>\n",
       "      <td>213788</td>\n",
       "      <td>8.0</td>\n",
       "      <td>brainlocki3</td>\n",
       "    </tr>\n",
       "    <tr>\n",
       "      <th>4</th>\n",
       "      <td>213788</td>\n",
       "      <td>8.0</td>\n",
       "      <td>PPMP</td>\n",
       "    </tr>\n",
       "    <tr>\n",
       "      <th>...</th>\n",
       "      <td>...</td>\n",
       "      <td>...</td>\n",
       "      <td>...</td>\n",
       "    </tr>\n",
       "    <tr>\n",
       "      <th>18942210</th>\n",
       "      <td>165521</td>\n",
       "      <td>3.0</td>\n",
       "      <td>rseater</td>\n",
       "    </tr>\n",
       "    <tr>\n",
       "      <th>18942211</th>\n",
       "      <td>165521</td>\n",
       "      <td>3.0</td>\n",
       "      <td>Bluefox86</td>\n",
       "    </tr>\n",
       "    <tr>\n",
       "      <th>18942212</th>\n",
       "      <td>165521</td>\n",
       "      <td>3.0</td>\n",
       "      <td>serginator</td>\n",
       "    </tr>\n",
       "    <tr>\n",
       "      <th>18942213</th>\n",
       "      <td>193488</td>\n",
       "      <td>1.0</td>\n",
       "      <td>CaptainCattan</td>\n",
       "    </tr>\n",
       "    <tr>\n",
       "      <th>18942214</th>\n",
       "      <td>193488</td>\n",
       "      <td>1.0</td>\n",
       "      <td>trodat123</td>\n",
       "    </tr>\n",
       "  </tbody>\n",
       "</table>\n",
       "<p>18340665 rows × 3 columns</p>\n",
       "</div>"
      ],
      "text/plain": [
       "            item  rating           user\n",
       "0         213788     8.0      Tonydorrf\n",
       "1         213788     8.0     tachyon14k\n",
       "2         213788     8.0       Ungotter\n",
       "3         213788     8.0    brainlocki3\n",
       "4         213788     8.0           PPMP\n",
       "...          ...     ...            ...\n",
       "18942210  165521     3.0        rseater\n",
       "18942211  165521     3.0      Bluefox86\n",
       "18942212  165521     3.0     serginator\n",
       "18942213  193488     1.0  CaptainCattan\n",
       "18942214  193488     1.0      trodat123\n",
       "\n",
       "[18340665 rows x 3 columns]"
      ]
     },
     "execution_count": 10,
     "metadata": {},
     "output_type": "execute_result"
    }
   ],
   "source": [
    "item_ratings_df_filtered"
   ]
  },
  {
   "cell_type": "markdown",
   "metadata": {},
   "source": [
    "### Build"
   ]
  },
  {
   "cell_type": "code",
   "execution_count": 16,
   "metadata": {
    "execution": {
     "iopub.execute_input": "2023-09-30T17:01:44.002542Z",
     "iopub.status.busy": "2023-09-30T17:01:44.002010Z",
     "iopub.status.idle": "2023-09-30T17:01:44.015465Z",
     "shell.execute_reply": "2023-09-30T17:01:44.014276Z",
     "shell.execute_reply.started": "2023-09-30T17:01:44.002501Z"
    }
   },
   "outputs": [],
   "source": [
    "num_recs = 10  # Number of recommendations to generate\n",
    "item_item = ItemItem(15, min_nbrs=3)  # Minimum (3) and maximum (15) number of neighbors to consider\n",
    "recsys_itemitem = Recommender.adapt(item_item)"
   ]
  },
  {
   "cell_type": "code",
   "execution_count": 17,
   "metadata": {
    "execution": {
     "iopub.execute_input": "2023-09-30T17:01:44.018928Z",
     "iopub.status.busy": "2023-09-30T17:01:44.018386Z",
     "iopub.status.idle": "2023-09-30T17:10:03.542572Z",
     "shell.execute_reply": "2023-09-30T17:10:03.541305Z",
     "shell.execute_reply.started": "2023-09-30T17:01:44.018885Z"
    }
   },
   "outputs": [
    {
     "name": "stderr",
     "output_type": "stream",
     "text": [
      "could not load LIBBLAS: Could not find module 'libblas' (or one of its dependencies). Try using the full path with constructor syntax.\n"
     ]
    },
    {
     "data": {
      "text/plain": [
       "<lenskit.algorithms.ranking.TopN at 0x207815e89d0>"
      ]
     },
     "execution_count": 17,
     "metadata": {},
     "output_type": "execute_result"
    }
   ],
   "source": [
    "recsys_itemitem.fit(item_ratings_df_filtered)"
   ]
  },
  {
   "cell_type": "code",
   "execution_count": 18,
   "metadata": {
    "execution": {
     "iopub.execute_input": "2023-09-30T17:10:03.546406Z",
     "iopub.status.busy": "2023-09-30T17:10:03.544916Z",
     "iopub.status.idle": "2023-09-30T17:10:03.774517Z",
     "shell.execute_reply": "2023-09-30T17:10:03.773297Z",
     "shell.execute_reply.started": "2023-09-30T17:10:03.546349Z"
    }
   },
   "outputs": [
    {
     "data": {
      "text/html": [
       "<div>\n",
       "<style scoped>\n",
       "    .dataframe tbody tr th:only-of-type {\n",
       "        vertical-align: middle;\n",
       "    }\n",
       "\n",
       "    .dataframe tbody tr th {\n",
       "        vertical-align: top;\n",
       "    }\n",
       "\n",
       "    .dataframe thead th {\n",
       "        text-align: right;\n",
       "    }\n",
       "</style>\n",
       "<table border=\"1\" class=\"dataframe\">\n",
       "  <thead>\n",
       "    <tr style=\"text-align: right;\">\n",
       "      <th></th>\n",
       "      <th>item</th>\n",
       "      <th>score</th>\n",
       "    </tr>\n",
       "  </thead>\n",
       "  <tbody>\n",
       "    <tr>\n",
       "      <th>0</th>\n",
       "      <td>324856</td>\n",
       "      <td>9.887308</td>\n",
       "    </tr>\n",
       "    <tr>\n",
       "      <th>1</th>\n",
       "      <td>275777</td>\n",
       "      <td>9.796029</td>\n",
       "    </tr>\n",
       "    <tr>\n",
       "      <th>2</th>\n",
       "      <td>342942</td>\n",
       "      <td>9.738921</td>\n",
       "    </tr>\n",
       "    <tr>\n",
       "      <th>3</th>\n",
       "      <td>249277</td>\n",
       "      <td>9.662868</td>\n",
       "    </tr>\n",
       "    <tr>\n",
       "      <th>4</th>\n",
       "      <td>345976</td>\n",
       "      <td>9.613461</td>\n",
       "    </tr>\n",
       "    <tr>\n",
       "      <th>5</th>\n",
       "      <td>341169</td>\n",
       "      <td>9.598640</td>\n",
       "    </tr>\n",
       "    <tr>\n",
       "      <th>6</th>\n",
       "      <td>329082</td>\n",
       "      <td>9.449887</td>\n",
       "    </tr>\n",
       "    <tr>\n",
       "      <th>7</th>\n",
       "      <td>313776</td>\n",
       "      <td>9.335643</td>\n",
       "    </tr>\n",
       "    <tr>\n",
       "      <th>8</th>\n",
       "      <td>165694</td>\n",
       "      <td>9.299688</td>\n",
       "    </tr>\n",
       "    <tr>\n",
       "      <th>9</th>\n",
       "      <td>284121</td>\n",
       "      <td>9.289144</td>\n",
       "    </tr>\n",
       "  </tbody>\n",
       "</table>\n",
       "</div>"
      ],
      "text/plain": [
       "     item     score\n",
       "0  324856  9.887308\n",
       "1  275777  9.796029\n",
       "2  342942  9.738921\n",
       "3  249277  9.662868\n",
       "4  345976  9.613461\n",
       "5  341169  9.598640\n",
       "6  329082  9.449887\n",
       "7  313776  9.335643\n",
       "8  165694  9.299688\n",
       "9  284121  9.289144"
      ]
     },
     "execution_count": 18,
     "metadata": {},
     "output_type": "execute_result"
    }
   ],
   "source": [
    " recsys_itemitem.recommend('zzzzzane', 10)"
   ]
  },
  {
   "cell_type": "code",
   "execution_count": 19,
   "metadata": {
    "execution": {
     "iopub.execute_input": "2023-09-30T16:45:28.705192Z",
     "iopub.status.busy": "2023-09-30T16:45:28.704820Z",
     "iopub.status.idle": "2023-09-30T16:45:28.721573Z",
     "shell.execute_reply": "2023-09-30T16:45:28.720430Z",
     "shell.execute_reply.started": "2023-09-30T16:45:28.705160Z"
    }
   },
   "outputs": [
    {
     "data": {
      "text/plain": [
       "item\n",
       "145888    5.996881\n",
       "226522    8.294573\n",
       "dtype: float64"
      ]
     },
     "execution_count": 19,
     "metadata": {},
     "output_type": "execute_result"
    }
   ],
   "source": [
    "recsys_itemitem.predict_for_user('zzzzzane', [145888, 226522])"
   ]
  },
  {
   "cell_type": "markdown",
   "metadata": {},
   "source": [
    "### Test"
   ]
  },
  {
   "cell_type": "code",
   "execution_count": 63,
   "metadata": {
    "execution": {
     "iopub.execute_input": "2023-09-30T17:28:21.037366Z",
     "iopub.status.busy": "2023-09-30T17:28:21.036887Z",
     "iopub.status.idle": "2023-09-30T17:28:21.043766Z",
     "shell.execute_reply": "2023-09-30T17:28:21.042401Z",
     "shell.execute_reply.started": "2023-09-30T17:28:21.037334Z"
    }
   },
   "outputs": [],
   "source": [
    "from sklearn.model_selection import KFold, train_test_split\n",
    "from sklearn.metrics import mean_squared_error, mean_absolute_error"
   ]
  },
  {
   "cell_type": "code",
   "execution_count": 64,
   "metadata": {
    "execution": {
     "iopub.execute_input": "2023-09-30T17:28:22.365895Z",
     "iopub.status.busy": "2023-09-30T17:28:22.365385Z",
     "iopub.status.idle": "2023-09-30T17:28:22.372683Z",
     "shell.execute_reply": "2023-09-30T17:28:22.371216Z",
     "shell.execute_reply.started": "2023-09-30T17:28:22.365855Z"
    }
   },
   "outputs": [],
   "source": [
    "kf = KFold(n_splits=5, shuffle=True)"
   ]
  },
  {
   "cell_type": "code",
   "execution_count": 65,
   "metadata": {
    "execution": {
     "iopub.execute_input": "2023-09-30T17:28:29.175907Z",
     "iopub.status.busy": "2023-09-30T17:28:29.174179Z",
     "iopub.status.idle": "2023-09-30T17:28:29.183530Z",
     "shell.execute_reply": "2023-09-30T17:28:29.182275Z",
     "shell.execute_reply.started": "2023-09-30T17:28:29.175854Z"
    }
   },
   "outputs": [],
   "source": [
    "def predict(model, test_dataframe):\n",
    "    real_ratings = []\n",
    "    predicted_ratings = []\n",
    "    \n",
    "    users = test_dataframe['user'].unique()\n",
    "    \n",
    "    for user in users:\n",
    "        current_frame = test_dataframe[test_dataframe['user'] == user]\n",
    "        \n",
    "        items = list(current_frame['item'])\n",
    "        ratings = list(current_frame['rating'])\n",
    "        predictions = list(model.predict_for_user(user, items))\n",
    "        \n",
    "        real_ratings += ratings\n",
    "        predicted_ratings += predictions\n",
    "    \n",
    "    return real_ratings, predicted_ratings"
   ]
  },
  {
   "cell_type": "code",
   "execution_count": 67,
   "metadata": {
    "execution": {
     "iopub.execute_input": "2023-09-30T17:37:06.054837Z",
     "iopub.status.busy": "2023-09-30T17:37:06.054264Z",
     "iopub.status.idle": "2023-09-30T18:34:56.896843Z",
     "shell.execute_reply": "2023-09-30T18:34:56.895977Z",
     "shell.execute_reply.started": "2023-09-30T17:37:06.054798Z"
    }
   },
   "outputs": [
    {
     "name": "stdout",
     "output_type": "stream",
     "text": [
      "Doing fold no: 1\n",
      "Dataframes created\n",
      "Model is fitted\n",
      "nan values: 1\n",
      "non-nan values: 3674\n",
      "Doing fold no: 2\n",
      "Dataframes created\n",
      "Model is fitted\n",
      "nan values: 0\n",
      "non-nan values: 3675\n",
      "Doing fold no: 3\n",
      "Dataframes created\n",
      "Model is fitted\n",
      "nan values: 0\n",
      "non-nan values: 3675\n",
      "Doing fold no: 4\n",
      "Dataframes created\n",
      "Model is fitted\n",
      "nan values: 0\n",
      "non-nan values: 3675\n",
      "Doing fold no: 5\n",
      "Dataframes created\n",
      "Model is fitted\n",
      "nan values: 0\n",
      "non-nan values: 3675\n"
     ]
    },
    {
     "data": {
      "text/plain": [
       "{'avg_mae': 0.849650260667979,\n",
       " 'stdv_mae': 0.005147369534018413,\n",
       " 'avg_rmse': 1.139501925417811,\n",
       " 'stdv_rmse': 0.013279363421001696,\n",
       " 'avg_nans': 0.2,\n",
       " 'avg_non_nans': 3674.8}"
      ]
     },
     "metadata": {},
     "output_type": "display_data"
    }
   ],
   "source": [
    "mae_list = list()\n",
    "rmse_list = list()\n",
    "nans_list = list()\n",
    "non_nans_list = list()\n",
    "\n",
    "count = 1\n",
    "\n",
    "for train_index, test_index in kf.split(item_ratings_df_filtered):\n",
    "    print(f'Doing fold no: {count}')\n",
    "    count += 1\n",
    "    \n",
    "    train_df = item_ratings_df_filtered.iloc[train_index]\n",
    "    test_df = item_ratings_df_filtered.iloc[test_index]\n",
    "    test_df = test_df.sample(frac = 0.001)\n",
    "    \n",
    "    train_df = train_df.drop_duplicates(subset = ['item', 'user'])\n",
    "    test_df = test_df.drop_duplicates(subset = ['item', 'user'])\n",
    "    \n",
    "    print('Dataframes created')\n",
    "    \n",
    "    item_item = ItemItem(10, min_nbrs=3)\n",
    "    recsys = Recommender.adapt(item_item)\n",
    "    recsys.fit(train_df)\n",
    "    print('Model is fitted')\n",
    "    \n",
    "    real_ratings, predicted_ratings = predict(recsys, test_df)\n",
    "    \n",
    "    y_test = real_ratings\n",
    "    y_pred = predicted_ratings\n",
    "    \n",
    "    y_test_not_nan = list()\n",
    "    y_pred_not_nan = list()\n",
    "    \n",
    "    nans = 0\n",
    "    non_nans = 0\n",
    "    \n",
    "    for i in range(len(y_pred)):\n",
    "        num = y_pred[i]\n",
    "        \n",
    "        if np.isnan(num):\n",
    "            nans += 1\n",
    "        else:\n",
    "            non_nans += 1\n",
    "            y_test_not_nan.append(y_test[i])\n",
    "            y_pred_not_nan.append(num)\n",
    "            \n",
    "    print(f'nan values: {nans}')\n",
    "    print(f'non-nan values: {non_nans}')\n",
    "    \n",
    "    mae = mean_absolute_error(y_test_not_nan, y_pred_not_nan)\n",
    "    rmse = mean_squared_error(y_test_not_nan, y_pred_not_nan, squared = False)\n",
    "    \n",
    "    mae_list.append(mae)\n",
    "    rmse_list.append(rmse)\n",
    "    nans_list.append(nans)\n",
    "    non_nans_list.append(non_nans)\n",
    "    \n",
    "# Compute average results and standard deviations\n",
    "results = {\n",
    "    'avg_mae' : statistics.mean(mae_list),\n",
    "    'stdv_mae' : statistics.stdev(mae_list),\n",
    "    'avg_rmse' : statistics.mean(rmse_list),\n",
    "    'stdv_rmse' : statistics.stdev(rmse_list),\n",
    "    'avg_nans': statistics.mean(nans_list),\n",
    "    'avg_non_nans' : statistics.mean(non_nans_list)\n",
    "}\n",
    "\n",
    "display(results)"
   ]
  },
  {
   "cell_type": "markdown",
   "metadata": {},
   "source": [
    "{'avg_mae': 0.849650260667979,\\\n",
    " 'stdv_mae': 0.005147369534018413,\\\n",
    " 'avg_rmse': 1.139501925417811,\\\n",
    " 'stdv_rmse': 0.013279363421001696,\\\n",
    " 'avg_nans': 0.2,\\\n",
    " 'avg_non_nans': 3674.8}"
   ]
  },
  {
   "cell_type": "markdown",
   "metadata": {},
   "source": [
    "### Build explainable Item-based CF"
   ]
  },
  {
   "cell_type": "code",
   "execution_count": 11,
   "metadata": {},
   "outputs": [],
   "source": [
    "id_to_game = item_info.set_index('BGGId')['Name'].to_dict()"
   ]
  },
  {
   "cell_type": "code",
   "execution_count": 12,
   "metadata": {},
   "outputs": [],
   "source": [
    "# data = {\n",
    "#     'item': [101, 102, 103, 104, 105],  # Repeating items for demonstration\n",
    "#     'rating': [4, 5, 3, 4, 5],  # Repeating ratings for demonstration\n",
    "#     'user': [201, 202, 203, 204, 205]  # Repeating users for demonstration\n",
    "# }\n",
    "\n",
    "# # Create a DataFrame\n",
    "# fake_dataset = pd.DataFrame(data)"
   ]
  },
  {
   "cell_type": "code",
   "execution_count": 13,
   "metadata": {},
   "outputs": [
    {
     "data": {
      "text/html": [
       "<div>\n",
       "<style scoped>\n",
       "    .dataframe tbody tr th:only-of-type {\n",
       "        vertical-align: middle;\n",
       "    }\n",
       "\n",
       "    .dataframe tbody tr th {\n",
       "        vertical-align: top;\n",
       "    }\n",
       "\n",
       "    .dataframe thead th {\n",
       "        text-align: right;\n",
       "    }\n",
       "</style>\n",
       "<table border=\"1\" class=\"dataframe\">\n",
       "  <thead>\n",
       "    <tr style=\"text-align: right;\">\n",
       "      <th></th>\n",
       "      <th>item</th>\n",
       "      <th>rating</th>\n",
       "      <th>user</th>\n",
       "    </tr>\n",
       "  </thead>\n",
       "  <tbody>\n",
       "    <tr>\n",
       "      <th>0</th>\n",
       "      <td>213788</td>\n",
       "      <td>8.0</td>\n",
       "      <td>Tonydorrf</td>\n",
       "    </tr>\n",
       "    <tr>\n",
       "      <th>1</th>\n",
       "      <td>213788</td>\n",
       "      <td>8.0</td>\n",
       "      <td>tachyon14k</td>\n",
       "    </tr>\n",
       "    <tr>\n",
       "      <th>2</th>\n",
       "      <td>213788</td>\n",
       "      <td>8.0</td>\n",
       "      <td>Ungotter</td>\n",
       "    </tr>\n",
       "    <tr>\n",
       "      <th>3</th>\n",
       "      <td>213788</td>\n",
       "      <td>8.0</td>\n",
       "      <td>brainlocki3</td>\n",
       "    </tr>\n",
       "    <tr>\n",
       "      <th>4</th>\n",
       "      <td>213788</td>\n",
       "      <td>8.0</td>\n",
       "      <td>PPMP</td>\n",
       "    </tr>\n",
       "    <tr>\n",
       "      <th>...</th>\n",
       "      <td>...</td>\n",
       "      <td>...</td>\n",
       "      <td>...</td>\n",
       "    </tr>\n",
       "    <tr>\n",
       "      <th>18942210</th>\n",
       "      <td>165521</td>\n",
       "      <td>3.0</td>\n",
       "      <td>rseater</td>\n",
       "    </tr>\n",
       "    <tr>\n",
       "      <th>18942211</th>\n",
       "      <td>165521</td>\n",
       "      <td>3.0</td>\n",
       "      <td>Bluefox86</td>\n",
       "    </tr>\n",
       "    <tr>\n",
       "      <th>18942212</th>\n",
       "      <td>165521</td>\n",
       "      <td>3.0</td>\n",
       "      <td>serginator</td>\n",
       "    </tr>\n",
       "    <tr>\n",
       "      <th>18942213</th>\n",
       "      <td>193488</td>\n",
       "      <td>1.0</td>\n",
       "      <td>CaptainCattan</td>\n",
       "    </tr>\n",
       "    <tr>\n",
       "      <th>18942214</th>\n",
       "      <td>193488</td>\n",
       "      <td>1.0</td>\n",
       "      <td>trodat123</td>\n",
       "    </tr>\n",
       "  </tbody>\n",
       "</table>\n",
       "<p>18340665 rows × 3 columns</p>\n",
       "</div>"
      ],
      "text/plain": [
       "            item  rating           user\n",
       "0         213788     8.0      Tonydorrf\n",
       "1         213788     8.0     tachyon14k\n",
       "2         213788     8.0       Ungotter\n",
       "3         213788     8.0    brainlocki3\n",
       "4         213788     8.0           PPMP\n",
       "...          ...     ...            ...\n",
       "18942210  165521     3.0        rseater\n",
       "18942211  165521     3.0      Bluefox86\n",
       "18942212  165521     3.0     serginator\n",
       "18942213  193488     1.0  CaptainCattan\n",
       "18942214  193488     1.0      trodat123\n",
       "\n",
       "[18340665 rows x 3 columns]"
      ]
     },
     "execution_count": 13,
     "metadata": {},
     "output_type": "execute_result"
    }
   ],
   "source": [
    "item_ratings_df_filtered = item_ratings_df_filtered.drop_duplicates(subset=['user', 'item'], keep=False)\n",
    "item_ratings_df_filtered"
   ]
  },
  {
   "cell_type": "code",
   "execution_count": 14,
   "metadata": {},
   "outputs": [],
   "source": [
    "# item_ratings_df_filtered = item_ratings_df_filtered.sample(frac=0.01)"
   ]
  },
  {
   "cell_type": "code",
   "execution_count": 15,
   "metadata": {},
   "outputs": [],
   "source": [
    "users = item_ratings_df_filtered['user'].unique()"
   ]
  },
  {
   "cell_type": "code",
   "execution_count": 16,
   "metadata": {
    "execution": {
     "iopub.execute_input": "2023-09-30T17:01:44.002542Z",
     "iopub.status.busy": "2023-09-30T17:01:44.002010Z",
     "iopub.status.idle": "2023-09-30T17:01:44.015465Z",
     "shell.execute_reply": "2023-09-30T17:01:44.014276Z",
     "shell.execute_reply.started": "2023-09-30T17:01:44.002501Z"
    }
   },
   "outputs": [],
   "source": [
    "item_item = ItemItem(15, min_nbrs=3)  # Minimum (3) and maximum (15) number of neighbors to consider\n",
    "recsys_itemitem = Recommender.adapt(item_item)"
   ]
  },
  {
   "cell_type": "code",
   "execution_count": 17,
   "metadata": {
    "execution": {
     "iopub.execute_input": "2023-09-30T17:01:44.018928Z",
     "iopub.status.busy": "2023-09-30T17:01:44.018386Z",
     "iopub.status.idle": "2023-09-30T17:10:03.542572Z",
     "shell.execute_reply": "2023-09-30T17:10:03.541305Z",
     "shell.execute_reply.started": "2023-09-30T17:01:44.018885Z"
    }
   },
   "outputs": [
    {
     "name": "stderr",
     "output_type": "stream",
     "text": [
      "could not load LIBBLAS: Could not find module 'libblas' (or one of its dependencies). Try using the full path with constructor syntax.\n"
     ]
    },
    {
     "data": {
      "text/plain": [
       "<lenskit.algorithms.ranking.TopN at 0x27dbf1f8790>"
      ]
     },
     "execution_count": 17,
     "metadata": {},
     "output_type": "execute_result"
    }
   ],
   "source": [
    "recsys_itemitem.fit(item_ratings_df_filtered)"
   ]
  },
  {
   "cell_type": "code",
   "execution_count": 18,
   "metadata": {},
   "outputs": [
    {
     "data": {
      "text/plain": [
       "<CSR 21925x21925 (198881084 nnz) {\n",
       "  rowptrs=[        0     16920     30477 ... 198872138 198880861 198881084]\n",
       "  colinds=[ 8823  8425  2684 ... 17227 15578 13319]\n",
       "  values=[1.16596048e-01 1.10199626e-01 1.08212602e-01 ... 1.27073815e-05\n",
       " 6.38543095e-06 3.86370483e-06]\n",
       "  dtype=float64\n",
       "}>"
      ]
     },
     "execution_count": 18,
     "metadata": {},
     "output_type": "execute_result"
    }
   ],
   "source": [
    "sim_matrix = item_item.sim_matrix_\n",
    "sim_matrix"
   ]
  },
  {
   "cell_type": "code",
   "execution_count": 19,
   "metadata": {},
   "outputs": [],
   "source": [
    "sim_matrix = sim_matrix.to_scipy()"
   ]
  },
  {
   "cell_type": "code",
   "execution_count": 20,
   "metadata": {},
   "outputs": [],
   "source": [
    "sim_matrix = sim_matrix.todense()"
   ]
  },
  {
   "cell_type": "code",
   "execution_count": 21,
   "metadata": {},
   "outputs": [],
   "source": [
    "sim_matrix = np.array(sim_matrix)"
   ]
  },
  {
   "cell_type": "code",
   "execution_count": 22,
   "metadata": {},
   "outputs": [],
   "source": [
    "item_index = item_item.item_index_"
   ]
  },
  {
   "cell_type": "code",
   "execution_count": 23,
   "metadata": {},
   "outputs": [],
   "source": [
    "def get_most_similar_items(matrix, item, k, indexer):\n",
    "    \n",
    "    if np.isin(item, indexer):\n",
    "        location = indexer.get_loc(item)\n",
    "    \n",
    "        arr = matrix[location]\n",
    "        \n",
    "        indices_of_k_largest = np.argsort(arr)[-k:][::-1]\n",
    "        values_of_k_largest = arr[indices_of_k_largest]\n",
    "\n",
    "        return indexer[indices_of_k_largest].tolist(), list(values_of_k_largest)\n",
    "    else:\n",
    "        return None"
   ]
  },
  {
   "cell_type": "code",
   "execution_count": 24,
   "metadata": {},
   "outputs": [
    {
     "data": {
      "text/plain": [
       "([1927, 74], [0.13583230204098787, 0.1280701897274132])"
      ]
     },
     "execution_count": 24,
     "metadata": {},
     "output_type": "execute_result"
    }
   ],
   "source": [
    "a = get_most_similar_items(sim_matrix, 50381, 2, item_index)\n",
    "a"
   ]
  },
  {
   "cell_type": "code",
   "execution_count": 25,
   "metadata": {},
   "outputs": [],
   "source": [
    "def recommend_for_user(user_item_df, matrix, k, indexer, user_id, threshold):\n",
    "    current_df = user_item_df[user_item_df['user'] == user_id]\n",
    "    current_df = current_df.sort_values('rating', ascending = False)\n",
    "    \n",
    "    for i in range(current_df.shape[0]):\n",
    "        current_item = current_df.iloc[i]['item']\n",
    "        rating = current_df.iloc[i]['rating']\n",
    "        if rating >= threshold:\n",
    "            recommendation = get_most_similar_items(matrix, current_item, k, indexer)\n",
    "            return f\"Players Who Liked \\'{id_to_game[current_item]}\\' Also Tried\", current_item, recommendation\n",
    "    \n",
    "    return None"
   ]
  },
  {
   "cell_type": "code",
   "execution_count": 26,
   "metadata": {},
   "outputs": [
    {
     "data": {
      "text/plain": [
       "(\"Players Who Liked 'CATAN 3D Collector's Edition' Also Tried\",\n",
       " 17419,\n",
       " ([3972, 60153, 2338, 1897, 189],\n",
       "  [0.13527547521496658,\n",
       "   0.108278623162513,\n",
       "   0.0884736537493744,\n",
       "   0.0823121737970011,\n",
       "   0.08150283601981548]))"
      ]
     },
     "execution_count": 26,
     "metadata": {},
     "output_type": "execute_result"
    }
   ],
   "source": [
    "user_id = 'PPMP'\n",
    "threshold = 8\n",
    "\n",
    "a = recommend_for_user(item_ratings_df_filtered, sim_matrix, 5, item_index, user_id, threshold)\n",
    "a"
   ]
  },
  {
   "cell_type": "markdown",
   "metadata": {},
   "source": [
    "### Grouped item-based CF"
   ]
  },
  {
   "cell_type": "code",
   "execution_count": 27,
   "metadata": {},
   "outputs": [
    {
     "data": {
      "text/html": [
       "<div>\n",
       "<style scoped>\n",
       "    .dataframe tbody tr th:only-of-type {\n",
       "        vertical-align: middle;\n",
       "    }\n",
       "\n",
       "    .dataframe tbody tr th {\n",
       "        vertical-align: top;\n",
       "    }\n",
       "\n",
       "    .dataframe thead th {\n",
       "        text-align: right;\n",
       "    }\n",
       "</style>\n",
       "<table border=\"1\" class=\"dataframe\">\n",
       "  <thead>\n",
       "    <tr style=\"text-align: right;\">\n",
       "      <th></th>\n",
       "      <th>item</th>\n",
       "      <th>rating</th>\n",
       "      <th>user</th>\n",
       "    </tr>\n",
       "  </thead>\n",
       "  <tbody>\n",
       "    <tr>\n",
       "      <th>0</th>\n",
       "      <td>213788</td>\n",
       "      <td>8.0</td>\n",
       "      <td>Tonydorrf</td>\n",
       "    </tr>\n",
       "    <tr>\n",
       "      <th>1</th>\n",
       "      <td>213788</td>\n",
       "      <td>8.0</td>\n",
       "      <td>tachyon14k</td>\n",
       "    </tr>\n",
       "    <tr>\n",
       "      <th>2</th>\n",
       "      <td>213788</td>\n",
       "      <td>8.0</td>\n",
       "      <td>Ungotter</td>\n",
       "    </tr>\n",
       "    <tr>\n",
       "      <th>3</th>\n",
       "      <td>213788</td>\n",
       "      <td>8.0</td>\n",
       "      <td>brainlocki3</td>\n",
       "    </tr>\n",
       "    <tr>\n",
       "      <th>4</th>\n",
       "      <td>213788</td>\n",
       "      <td>8.0</td>\n",
       "      <td>PPMP</td>\n",
       "    </tr>\n",
       "    <tr>\n",
       "      <th>...</th>\n",
       "      <td>...</td>\n",
       "      <td>...</td>\n",
       "      <td>...</td>\n",
       "    </tr>\n",
       "    <tr>\n",
       "      <th>18942210</th>\n",
       "      <td>165521</td>\n",
       "      <td>3.0</td>\n",
       "      <td>rseater</td>\n",
       "    </tr>\n",
       "    <tr>\n",
       "      <th>18942211</th>\n",
       "      <td>165521</td>\n",
       "      <td>3.0</td>\n",
       "      <td>Bluefox86</td>\n",
       "    </tr>\n",
       "    <tr>\n",
       "      <th>18942212</th>\n",
       "      <td>165521</td>\n",
       "      <td>3.0</td>\n",
       "      <td>serginator</td>\n",
       "    </tr>\n",
       "    <tr>\n",
       "      <th>18942213</th>\n",
       "      <td>193488</td>\n",
       "      <td>1.0</td>\n",
       "      <td>CaptainCattan</td>\n",
       "    </tr>\n",
       "    <tr>\n",
       "      <th>18942214</th>\n",
       "      <td>193488</td>\n",
       "      <td>1.0</td>\n",
       "      <td>trodat123</td>\n",
       "    </tr>\n",
       "  </tbody>\n",
       "</table>\n",
       "<p>18340665 rows × 3 columns</p>\n",
       "</div>"
      ],
      "text/plain": [
       "            item  rating           user\n",
       "0         213788     8.0      Tonydorrf\n",
       "1         213788     8.0     tachyon14k\n",
       "2         213788     8.0       Ungotter\n",
       "3         213788     8.0    brainlocki3\n",
       "4         213788     8.0           PPMP\n",
       "...          ...     ...            ...\n",
       "18942210  165521     3.0        rseater\n",
       "18942211  165521     3.0      Bluefox86\n",
       "18942212  165521     3.0     serginator\n",
       "18942213  193488     1.0  CaptainCattan\n",
       "18942214  193488     1.0      trodat123\n",
       "\n",
       "[18340665 rows x 3 columns]"
      ]
     },
     "execution_count": 27,
     "metadata": {},
     "output_type": "execute_result"
    }
   ],
   "source": [
    "item_ratings_df_filtered"
   ]
  },
  {
   "cell_type": "code",
   "execution_count": 28,
   "metadata": {},
   "outputs": [],
   "source": [
    "filename = 'clusters_ids.npy'\n",
    "clusters_ids = np.load(filename, allow_pickle=True)"
   ]
  },
  {
   "cell_type": "code",
   "execution_count": 36,
   "metadata": {},
   "outputs": [],
   "source": [
    "# filename = 'clusters_rand_ids.npy'\n",
    "# clusters_ids = np.load(filename, allow_pickle=True)"
   ]
  },
  {
   "cell_type": "markdown",
   "metadata": {},
   "source": [
    "\\# of users that liked an item -> predicted item ratings (No misery + Additive) / (No misery + Most Pleasure)"
   ]
  },
  {
   "cell_type": "code",
   "execution_count": 55,
   "metadata": {},
   "outputs": [],
   "source": [
    "from sklearn.metrics import ndcg_score"
   ]
  },
  {
   "cell_type": "code",
   "execution_count": 63,
   "metadata": {},
   "outputs": [],
   "source": [
    "k = 5\n",
    "all_best_recommendations = []\n",
    "all_predicted_ratings = []\n",
    "\n",
    "ndcg_list = []\n",
    "\n",
    "for current_group in clusters_ids:\n",
    "    \n",
    "    items_list = []\n",
    "    best_scores = []\n",
    "\n",
    "    for user in current_group:\n",
    "        recs = recsys_itemitem.recommend(user, 5)\n",
    "        \n",
    "        items = list(recs['item'])\n",
    "        scores = list(recs['score'])\n",
    "        \n",
    "        items_list += items\n",
    "        best_scores.append(scores)\n",
    "    \n",
    "    items_list = list(np.unique(items_list)) \n",
    "    \n",
    "    predicted_ratings = []\n",
    "    \n",
    "    for user in current_group:\n",
    "        predicted_ratings.append(list(recsys_itemitem.predict_for_user(user, items_list).values))\n",
    "    \n",
    "    lower_threshold = 5\n",
    "    transposed_rating = np.transpose(predicted_ratings)\n",
    "    filtered_items_list = []\n",
    "    \n",
    "    for i in range(len(transposed_rating)):\n",
    "        if min(transposed_rating[i]) >= lower_threshold:\n",
    "            filtered_items_list.append(items_list[i])\n",
    "        \n",
    "    new_predicted_ratings = []\n",
    "    for user in current_group:\n",
    "        new_predicted_ratings.append(list(recsys_itemitem.predict_for_user(user, filtered_items_list).values))\n",
    "    \n",
    "    transposed_rating = np.transpose(new_predicted_ratings)\n",
    "    transposed_agg = []\n",
    "    for ratings in transposed_rating:\n",
    "#         transposed_agg.append(np.sum(ratings))\n",
    "        transposed_agg.append(np.max(ratings))\n",
    "    \n",
    "    agg_to_item = dict(zip(transposed_agg, filtered_items_list))\n",
    "    agg_to_item = dict(sorted(agg_to_item.items(), key=lambda x: x[0], reverse=True))\n",
    "    agg_to_item = dict(list(agg_to_item.items())[:5])\n",
    "    \n",
    "    final_items = list(agg_to_item.values())\n",
    "    predicted_ratings_list = []\n",
    "    \n",
    "    for user in current_group:\n",
    "        predicted_ratings_list.append(list(recsys_itemitem.predict_for_user(user, final_items).values))\n",
    "    \n",
    "    \n",
    "    current_ndcg = ndcg_score(best_scores, predicted_ratings_list)\n",
    "    ndcg_list.append(current_ndcg)"
   ]
  },
  {
   "cell_type": "code",
   "execution_count": 64,
   "metadata": {},
   "outputs": [
    {
     "data": {
      "text/plain": [
       "0.9966201795572952"
      ]
     },
     "execution_count": 64,
     "metadata": {},
     "output_type": "execute_result"
    }
   ],
   "source": [
    "np.mean(ndcg_list)"
   ]
  },
  {
   "cell_type": "markdown",
   "metadata": {},
   "source": [
    "Addition\\\n",
    "sim: 0.9968280467337415\\\n",
    "\\\n",
    "MP\\\n",
    "sim: "
   ]
  }
 ],
 "metadata": {
  "kernelspec": {
   "display_name": "Python 3 (ipykernel)",
   "language": "python",
   "name": "python3"
  },
  "language_info": {
   "codemirror_mode": {
    "name": "ipython",
    "version": 3
   },
   "file_extension": ".py",
   "mimetype": "text/x-python",
   "name": "python",
   "nbconvert_exporter": "python",
   "pygments_lexer": "ipython3",
   "version": "3.9.7"
  }
 },
 "nbformat": 4,
 "nbformat_minor": 4
}
