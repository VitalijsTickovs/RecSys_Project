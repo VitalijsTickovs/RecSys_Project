{
 "cells": [
  {
   "cell_type": "code",
   "execution_count": 8,
   "id": "32060231",
   "metadata": {},
   "outputs": [],
   "source": [
    "import pickle\n",
    "import numpy as np\n",
    "import pandas as pd"
   ]
  },
  {
   "cell_type": "code",
   "execution_count": 14,
   "id": "d3315bda",
   "metadata": {},
   "outputs": [],
   "source": [
    "data_folder = '../data/'\n",
    "\n",
    "item_ratings_df = pd.read_csv(data_folder + 'user_ratings.csv')"
   ]
  },
  {
   "cell_type": "code",
   "execution_count": 4,
   "id": "3754d15c",
   "metadata": {},
   "outputs": [],
   "source": [
    "filename = '../group_data/clusters_ids.npy'\n",
    "clusters_ids = np.load(filename, allow_pickle=True)"
   ]
  },
  {
   "cell_type": "code",
   "execution_count": null,
   "id": "54ff1b94",
   "metadata": {},
   "outputs": [],
   "source": []
  },
  {
   "cell_type": "code",
   "execution_count": 78,
   "id": "7dc50e16",
   "metadata": {},
   "outputs": [],
   "source": [
    "mean_std_list = []\n",
    "median_std_list = []\n",
    "fractions = []\n",
    "\n",
    "for current_cluster in clusters_ids:\n",
    "    \n",
    "    current_clister_ratings = item_ratings_df[item_ratings_df['Username'].isin(current_cluster)]\n",
    "    \n",
    "    grouped_current_clister_ratings = current_clister_ratings.groupby(by = ['Username']).agg({\n",
    "        'BGGId' : list\n",
    "    }).reset_index()\n",
    "    \n",
    "    games_list = list(grouped_current_clister_ratings['BGGId'])\n",
    "    \n",
    "    total_games = []\n",
    "    for game in games_list:\n",
    "        total_games = np.union1d(total_games, game)\n",
    "        \n",
    "    current_agg = current_clister_ratings.groupby('BGGId').agg(\n",
    "        count_similar_games = ('BGGId','count'),\n",
    "        stg_ratings = ('Rating','std')\n",
    "    )\n",
    "    \n",
    "    current_agg = current_agg[current_agg['count_similar_games'] > 1]\n",
    "    itersection_items = current_agg.shape[0]\n",
    "    mean_std = np.array(list(current_agg['stg_ratings'])).mean()\n",
    "    median_std = np.median(np.array(list(current_agg['stg_ratings'])))\n",
    "    \n",
    "    mean_std_list.append(mean_std)\n",
    "    median_std_list.append(median_std)\n",
    "    fractions.append(itersection_items/len(total_games))"
   ]
  },
  {
   "cell_type": "code",
   "execution_count": 79,
   "id": "15a5a2c2",
   "metadata": {},
   "outputs": [
    {
     "data": {
      "text/plain": [
       "[1.2262681042881736,\n",
       " 1.1930722053986442,\n",
       " 1.1970343752881047,\n",
       " 1.1477665873097176,\n",
       " 0.9391087345130904,\n",
       " 1.0640931640979137,\n",
       " 1.166000637187707,\n",
       " 1.060544537189612,\n",
       " 1.1253435985805111,\n",
       " 0.9709631730665812,\n",
       " 1.0686447050846688,\n",
       " 1.0993589791533696,\n",
       " 0.8338492838652557,\n",
       " 0.5738948969287886,\n",
       " 0.966767460717018,\n",
       " 0.9723320621537275,\n",
       " 0.619176649248124,\n",
       " 1.139377300840843,\n",
       " 1.2049321420308303,\n",
       " 0.9537594754527736,\n",
       " 1.0201308000160452,\n",
       " 1.156327361963259,\n",
       " 1.0867895628457787,\n",
       " 0.8624988763766549,\n",
       " 1.0499404617346462,\n",
       " 1.2855826677795392,\n",
       " 0.7985174709849451,\n",
       " 0.7841756401714575,\n",
       " 1.27506715723559,\n",
       " 1.4117223910572285,\n",
       " 1.053236774596801,\n",
       " 1.3495055011866712,\n",
       " 0.5340052890576603,\n",
       " 1.0911673582573467,\n",
       " 1.078692366169485,\n",
       " 0.9414269802347237,\n",
       " 0.8981835675182975,\n",
       " 1.0129453311402568,\n",
       " 1.1779137557475976,\n",
       " 0.9532304129045509,\n",
       " 0.8051947042658435,\n",
       " 1.2519357789537842,\n",
       " 0.9666128686031026,\n",
       " 1.155163932467932,\n",
       " 0.7820306307107152,\n",
       " 0.9363332420746068,\n",
       " 0.6697638188551039,\n",
       " 1.105418769398089,\n",
       " 1.0402934273588782,\n",
       " 1.08690078468957,\n",
       " 1.1122364561706986,\n",
       " 0.9550127897723791,\n",
       " 0.8177126484290611,\n",
       " 1.4115044962633485,\n",
       " 1.0111927113543084,\n",
       " 1.2462975934680296,\n",
       " 1.1270187339137991,\n",
       " 1.1606274921571602,\n",
       " 0.8562713605349906,\n",
       " 1.4118454629807544,\n",
       " 1.1681064884992858,\n",
       " 0.8408582751470289,\n",
       " 1.0374394956393533,\n",
       " 1.1448969281144377,\n",
       " 0.8655095460564892,\n",
       " 1.0667820621455184]"
      ]
     },
     "execution_count": 79,
     "metadata": {},
     "output_type": "execute_result"
    }
   ],
   "source": [
    "mean_std_list"
   ]
  },
  {
   "cell_type": "code",
   "execution_count": 80,
   "id": "0c87e717",
   "metadata": {},
   "outputs": [
    {
     "data": {
      "text/plain": [
       "[1.2583057392117916,\n",
       " 1.0606601717798212,\n",
       " 1.1547005383792515,\n",
       " 1.0606601717798212,\n",
       " 0.7637626158259734,\n",
       " 0.8944271909999156,\n",
       " 1.1402632152270809,\n",
       " 0.9616652224137052,\n",
       " 1.0408329997330663,\n",
       " 0.7071067811865476,\n",
       " 0.9574271077563381,\n",
       " 1.0,\n",
       " 0.7071067811865476,\n",
       " 0.49497474683058307,\n",
       " 0.8838834764831844,\n",
       " 0.7071067811865476,\n",
       " 0.7071067811865476,\n",
       " 1.0,\n",
       " 1.0606601717798212,\n",
       " 0.7544313531837513,\n",
       " 0.8539125638299665,\n",
       " 0.9949747468305834,\n",
       " 1.0041549357286073,\n",
       " 0.7071067811865476,\n",
       " 0.9682243187822317,\n",
       " 1.2449899597988732,\n",
       " 0.7071067811865476,\n",
       " 0.7071067811865476,\n",
       " 1.1086778913041726,\n",
       " 1.4142135623730951,\n",
       " 0.9899494936611664,\n",
       " 1.2909944487358056,\n",
       " 0.7071067811865476,\n",
       " 1.0307764064044151,\n",
       " 0.9160548723588942,\n",
       " 0.7637626158259734,\n",
       " 0.7071067811865476,\n",
       " 0.8539125638299666,\n",
       " 0.7071067811865476,\n",
       " 0.7637626158259733,\n",
       " 0.7071067811865476,\n",
       " 1.0606601717798212,\n",
       " 0.721110255092798,\n",
       " 1.0408329997330663,\n",
       " 0.7071067811865476,\n",
       " 0.7637626158259734,\n",
       " 0.5656854249492376,\n",
       " 1.0606601717798212,\n",
       " 0.8660254037844386,\n",
       " 0.8660254037844386,\n",
       " 0.7071067811865476,\n",
       " 0.7071067811865476,\n",
       " 0.7071067811865476,\n",
       " 1.4142135623730951,\n",
       " 0.8779711460710614,\n",
       " 1.1547005383792517,\n",
       " 1.0606601717798212,\n",
       " 1.0,\n",
       " 0.7071067811865476,\n",
       " 1.4142135623730951,\n",
       " 1.202081528017131,\n",
       " 0.7071067811865476,\n",
       " 0.9574271077563381,\n",
       " 1.0606601717798212,\n",
       " 0.7071067811865476,\n",
       " 0.9149207688467007]"
      ]
     },
     "execution_count": 80,
     "metadata": {},
     "output_type": "execute_result"
    }
   ],
   "source": [
    "median_std_list"
   ]
  },
  {
   "cell_type": "code",
   "execution_count": 81,
   "id": "e4b95ec0",
   "metadata": {},
   "outputs": [
    {
     "data": {
      "text/plain": [
       "[0.3787772312016866,\n",
       " 0.34054054054054056,\n",
       " 0.36950314106225013,\n",
       " 0.3835688121402407,\n",
       " 0.4040876631371583,\n",
       " 0.3498567335243553,\n",
       " 0.27789661319073083,\n",
       " 0.3761047463175123,\n",
       " 0.3641278796426892,\n",
       " 0.24936535832845147,\n",
       " 0.3408284023668639,\n",
       " 0.3086662300807684,\n",
       " 0.4514635356375062,\n",
       " 0.13177523620089507,\n",
       " 0.3246268656716418,\n",
       " 0.14164004259850904,\n",
       " 0.20025456088247773,\n",
       " 0.27656929770043504,\n",
       " 0.37604082728982,\n",
       " 0.34973544973544973,\n",
       " 0.3407608695652174,\n",
       " 0.21646942800788954,\n",
       " 0.39366754617414246,\n",
       " 0.2751971954425942,\n",
       " 0.37497048406139316,\n",
       " 0.3560642961519727,\n",
       " 0.3134114955676294,\n",
       " 0.14816310052482842,\n",
       " 0.40988056460369166,\n",
       " 0.41350623929532665,\n",
       " 0.3776390127862028,\n",
       " 0.42075413856529736,\n",
       " 0.3218511701288456,\n",
       " 0.3305592543275632,\n",
       " 0.31431726168568275,\n",
       " 0.384426732066217,\n",
       " 0.33480176211453744,\n",
       " 0.3219675796534377,\n",
       " 0.09850107066381156,\n",
       " 0.3651861821444594,\n",
       " 0.3537723273793655,\n",
       " 0.2702606212067119,\n",
       " 0.3776550552251487,\n",
       " 0.28847435043304465,\n",
       " 0.17988394584139264,\n",
       " 0.31253841425937307,\n",
       " 0.29008620689655173,\n",
       " 0.3616034905917644,\n",
       " 0.37277217092548853,\n",
       " 0.23809523809523808,\n",
       " 0.20782159017453136,\n",
       " 0.16388225934765313,\n",
       " 0.26269315673289184,\n",
       " 0.4037751333606894,\n",
       " 0.2697811447811448,\n",
       " 0.29713059801555375,\n",
       " 0.1906524757056918,\n",
       " 0.29130434782608694,\n",
       " 0.2854192482445271,\n",
       " 0.19206071220081727,\n",
       " 0.181169757489301,\n",
       " 0.3351048951048951,\n",
       " 0.33739950097033544,\n",
       " 0.23876923076923076,\n",
       " 0.3216106014271152,\n",
       " 0.40985955861278306]"
      ]
     },
     "execution_count": 81,
     "metadata": {},
     "output_type": "execute_result"
    }
   ],
   "source": [
    "fractions"
   ]
  },
  {
   "cell_type": "code",
   "execution_count": 82,
   "id": "8c532257",
   "metadata": {},
   "outputs": [],
   "source": [
    "import matplotlib.pyplot as plt"
   ]
  },
  {
   "cell_type": "code",
   "execution_count": 84,
   "id": "15de1418",
   "metadata": {},
   "outputs": [
    {
     "data": {
      "image/png": "[encoded data removed]",
      "text/plain": [
       "<Figure size 640x480 with 1 Axes>"
      ]
     },
     "metadata": {},
     "output_type": "display_data"
    }
   ],
   "source": [
    "plt.hist(mean_std_list)\n",
    "\n",
    "# Adding labels and title\n",
    "plt.xlabel('mean_std')\n",
    "plt.ylabel('frequency')\n",
    "plt.title('Histogram of the mean standard deviations')\n",
    "\n",
    "plt.show()"
   ]
  },
  {
   "cell_type": "code",
   "execution_count": 85,
   "id": "ab13b778",
   "metadata": {},
   "outputs": [
    {
     "data": {
      "image/png": "[encoded data removed]",
      "text/plain": [
       "<Figure size 640x480 with 1 Axes>"
      ]
     },
     "metadata": {},
     "output_type": "display_data"
    }
   ],
   "source": [
    "plt.hist(median_std_list)\n",
    "\n",
    "# Adding labels and title\n",
    "plt.xlabel('median_std')\n",
    "plt.ylabel('frequency')\n",
    "plt.title('Histogram of the median standard deviations')\n",
    "\n",
    "plt.show()"
   ]
  },
  {
   "cell_type": "code",
   "execution_count": 86,
   "id": "1f1d573f",
   "metadata": {},
   "outputs": [
    {
     "data": {
      "image/png": "[encoded data removed]",
      "text/plain": [
       "<Figure size 640x480 with 1 Axes>"
      ]
     },
     "metadata": {},
     "output_type": "display_data"
    }
   ],
   "source": [
    "plt.hist(fractions)\n",
    "\n",
    "# Adding labels and title\n",
    "plt.xlabel('fractions')\n",
    "plt.ylabel('frequency')\n",
    "plt.title('Histogram of the fractions of commonly rated items')\n",
    "\n",
    "plt.show()"
   ]
  }
 ],
 "metadata": {
  "kernelspec": {
   "display_name": "Python 3 (ipykernel)",
   "language": "python",
   "name": "python3"
  },
  "language_info": {
   "codemirror_mode": {
    "name": "ipython",
    "version": 3
   },
   "file_extension": ".py",
   "mimetype": "text/x-python",
   "name": "python",
   "nbconvert_exporter": "python",
   "pygments_lexer": "ipython3",
   "version": "3.9.7"
  }
 },
 "nbformat": 4,
 "nbformat_minor": 5
}
